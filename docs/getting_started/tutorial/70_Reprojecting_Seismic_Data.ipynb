{
 "cells": [
  {
   "cell_type": "markdown",
   "id": "86f44ca3",
   "metadata": {},
   "source": [
    "# 70 Reprojecting Seismic Data and extracting path and CDP points from Seismic Data\n",
    "\n",
    "This notebook illustrates how to reproject 2D seismic data from the original coordinate system to a new coordinate system. In this tutorial, we are making use of the `segysak` package (https://segysak.readthedocs.io/en/latest/) to load the seismic data in combination with `GeoPandas` (https://geopandas.org/en/stable/) to perform the coordinate reprojection. Further, it is shown how to export the path of the seismic data as LineString, as CDP points and as points every n-th meter along the line.\n",
    "\n",
    "<img src=\"../images/tutorial70_cover.png\">"
   ]
  },
  {
   "cell_type": "markdown",
   "id": "e7147456",
   "metadata": {},
   "source": [
    "## Set File Paths and download Tutorial Data\n",
    "\n",
    "If you downloaded the latest `GemGIS` version from the Github repository, append the path so that the package can be imported successfully. Otherwise, it is recommended to install `GemGIS` via `pip install gemgis` and import `GemGIS` using `import gemgis as gg`. In addition, the file path to the folder where the data is being stored is set. The tutorial data is downloaded using Pooch (https://www.fatiando.org/pooch/latest/index.html) and stored in the specified folder. Use `pip install pooch` if Pooch is not installed on your system yet."
   ]
  },
  {
   "cell_type": "code",
   "execution_count": 1,
   "id": "eb8af06a",
   "metadata": {},
   "outputs": [],
   "source": [
    "import warnings\n",
    "warnings.filterwarnings(\"ignore\")\n",
    "\n",
    "# import gemgis as gg\n",
    "import geopandas as gpd\n",
    "import matplotlib.pyplot as plt\n",
    "from typing import Union\n",
    "import pyproj\n",
    "import numpy as np\n",
    "import shapely\n",
    "from shapely.geometry import LineString"
   ]
  },
  {
   "cell_type": "code",
   "execution_count": 2,
   "id": "a4128de8",
   "metadata": {},
   "outputs": [],
   "source": [
    "file_path ='data/70_reprojecting_seismic_data/'\n",
    "# gg.download_gemgis_data.download_tutorial_data(filename=\"70_reprojecting_seismic_data.zip\", dirpath=file_path)"
   ]
  },
  {
   "cell_type": "markdown",
   "id": "fee09444-505a-4834-b669-2cd2a1223f60",
   "metadata": {},
   "source": [
    "## Defining functions\n",
    "\n",
    "As there may be conflicts between the dependencies of GemGIS and the `segysak` package, we define the functions that are needed to reproject the seismic data and for the further contents of the notebook. However, they are also implemented in the GemGIS `utils` module. "
   ]
  },
  {
   "cell_type": "code",
   "execution_count": 3,
   "id": "7bbd5398-7730-40c8-b29b-b5d072ed9642",
   "metadata": {},
   "outputs": [],
   "source": [
    "def convert_crs_seismic_data(path_in: str,\n",
    "                             path_out: str,\n",
    "                             crs_in: Union[str, pyproj.crs.crs.CRS],\n",
    "                             crs_out: Union[str, pyproj.crs.crs.CRS],\n",
    "                             cdpx: int = 181,\n",
    "                             cdpy: int = 185,\n",
    "                             vert_domain: str = 'TWT',\n",
    "                             coord_scalar: int = None):\n",
    "    \"\"\"Convert CDP coordinates of seismic data to a new CRS.\n",
    "\n",
    "    Parameters\n",
    "    __________\n",
    "        path_in : str\n",
    "            Path to the original seismic data, e.g. ``path_in='seismic.sgy'``.\n",
    "        path_out : str\n",
    "            Path to the converted seismic data, e.g. ``path_out='seismic_converted.sgy'``.\n",
    "        crs_in : str, pyproj.crs.crs.CRS\n",
    "            Coordinate reference system of the original seismic data.\n",
    "        crs_out : str, pyproj.crs.crs.CRS\n",
    "            Coordinate reference system of the converted seismic data.\n",
    "        cdpx : int\n",
    "            Byte position for the X coordinates, default is ``cdpx=181``.\n",
    "        cdpy : int\n",
    "            Byte position for the Y coordinates, default is ``cdpx=185``.\n",
    "        vert_domain : str\n",
    "            Vertical sampling domain. Options include ``'TWT'`` and ``'DEPTH'``, default is ``vert_domain='TWT'``.\n",
    "        coord_scalar: int\n",
    "            Coordinate scalar value to set if `NaN` columns are returned, default is `coord_scalar=None`. \n",
    "\n",
    "    .. versionadded:: 1.1.1\n",
    "\n",
    "    \"\"\"\n",
    "    # Trying to import segysak but returning error if segysak is not installed\n",
    "    try:\n",
    "        from segysak.segy import segy_loader, segy_writer\n",
    "    except ModuleNotFoundError:\n",
    "        raise ModuleNotFoundError(\n",
    "            'segysak package is not installed. Use pip install segysak to install the latest version')\n",
    "\n",
    "    # Checking that path_in is of type string\n",
    "    if not isinstance(path_in, str):\n",
    "        raise TypeError('path_in must be provided as string')\n",
    "\n",
    "    # Checking that path_out is of type string\n",
    "    if not isinstance(path_out, str):\n",
    "        raise TypeError('path_out must be provided as string')\n",
    "\n",
    "    # Checking that crs_in is of type string or pyproj CRS\n",
    "    if not isinstance(crs_in, (str, pyproj.crs.crs.CRS)):\n",
    "        raise TypeError('crs_in must be provided as string or pyproj CRS')\n",
    "\n",
    "    # Checking that crs_out is of type string or pyproj CRS\n",
    "    if not isinstance(crs_out, (str, pyproj.crs.crs.CRS)):\n",
    "        raise TypeError('crs_out must be provided as string or pyproj CRS')\n",
    "\n",
    "    # Checking that vert_domain is of type str\n",
    "    if not isinstance(vert_domain, str):\n",
    "        raise TypeError('vert_domain must be provided as string')\n",
    "\n",
    "    # Checking that the coord_scalar is of type int or None\n",
    "    if not isinstance(coord_scalar, (int, type(None))):\n",
    "        raise TypeError('coord_scalar must be provided as int')        \n",
    "\n",
    "    # Loading seismic data\n",
    "    seismic = segy_loader(path_in,\n",
    "                          vert_domain=vert_domain,\n",
    "                          cdpx=cdpx,\n",
    "                          cdpy=cdpy)\n",
    "\n",
    "    # Converting Seismic to DataFrame\n",
    "    df_seismic = seismic.to_dataframe()\n",
    "\n",
    "    # Checking that the CDP coordinates are in the DataFrame\n",
    "    if not {'cdp_x', 'cdp_y'}.issubset(df_seismic.columns):\n",
    "        raise ValueError(\n",
    "            'No coordinates found, please provide the byte positions where the X and Y data of the CDPs is stored')\n",
    "\n",
    "    # Extracting the length of the samples to reduce computing time\n",
    "    samples = len(df_seismic.index.get_level_values(1).unique())\n",
    "\n",
    "    # Resample DataFrame\n",
    "    df_seismic_resampled = df_seismic[::samples]\n",
    "\n",
    "    # Reprojecting Coordinates\n",
    "    df_seismic_reprojected = gpd.GeoDataFrame(geometry=gpd.points_from_xy(x=df_seismic_resampled['cdp_x'].values,\n",
    "                                                                          y=df_seismic_resampled['cdp_y'].values),\n",
    "                                              crs=crs_in).to_crs(crs_out)\n",
    "\n",
    "    # Extracting reprojected coordinates\n",
    "    x = df_seismic_reprojected.geometry.x.values\n",
    "    y = df_seismic_reprojected.geometry.y.values\n",
    "\n",
    "    # Assigning new coordinates\n",
    "    seismic['cdp_x'][:] = x\n",
    "    seismic['cdp_y'][:] = y\n",
    "\n",
    "    # Optionally setting a new coord_scalar\n",
    "    if coord_scalar:\n",
    "        seismic.attrs['coord_scalar'] = coord_scalar\n",
    "\n",
    "    # Saving reprojected seismic data to file\n",
    "    segy_writer(seismic,\n",
    "                path_out,\n",
    "                trace_header_map=dict(cdp_x=181,\n",
    "                                      cdp_y=185))\n",
    "\n",
    "    print('Seismic data was successfully reprojected and saved to file')\n",
    "\n",
    "\n",
    "def get_cdp_linestring_of_seismic_data(path_in: str,\n",
    "                                       crs_in: Union[str, pyproj.crs.crs.CRS],\n",
    "                                       cdpx: int = 181,\n",
    "                                       cdpy: int = 185,\n",
    "                                       vert_domain: str = 'TWT'):\n",
    "    \"\"\"Extracting the path of the seismic data as LineString.\n",
    "\n",
    "    Parameters\n",
    "    __________\n",
    "        path_in : str\n",
    "            Path to the original seismic data, e.g. ``path_in='seismic.sgy'``.\n",
    "        crs_in : str, pyproj.crs.crs.CRS\n",
    "            Coordinate reference system of the original seismic data.\n",
    "        cdpx : int\n",
    "            Byte position for the X coordinates, default is ``cdpx=181``.\n",
    "        cdpy : int\n",
    "            Byte position for the Y coordinates, default is ``cdpx=185``.\n",
    "        vert_domain : str\n",
    "            Vertical sampling domain. Options include ``'TWT'`` and ``'DEPTH'``, default is ``vert_domain='TWT'``.\n",
    "\n",
    "    Returns\n",
    "    _______\n",
    "        gpd.GeoDataFrame\n",
    "            GeoDataFrame containing the surface path of the seismic data as LineString.\n",
    "\n",
    "    .. versionadded:: 1.1.1\n",
    "\n",
    "    \"\"\"\n",
    "    # Trying to import segysak but returning error if segysak is not installed\n",
    "    try:\n",
    "        from segysak.segy import segy_loader, segy_writer\n",
    "    except ModuleNotFoundError:\n",
    "        raise ModuleNotFoundError(\n",
    "            'segysak package is not installed. Use pip install segysak to install the latest version')\n",
    "\n",
    "    # Checking that path_in is of type string\n",
    "    if not isinstance(path_in, str):\n",
    "        raise TypeError('path_in must be provided as string')\n",
    "\n",
    "    # Checking that crs_in is of type string or pyproj CRS\n",
    "    if not isinstance(crs_in, (str, pyproj.crs.crs.CRS)):\n",
    "        raise TypeError('crs_in must be provided as string or pyproj CRS')\n",
    "\n",
    "    # Checking that vert_domain is of type str\n",
    "    if not isinstance(vert_domain, str):\n",
    "        raise TypeError('vert_domain must be provided as string')\n",
    "\n",
    "    # Loading seismic data\n",
    "    seismic = segy_loader(path_in,\n",
    "                          vert_domain=vert_domain,\n",
    "                          cdpx=cdpx,\n",
    "                          cdpy=cdpy)\n",
    "\n",
    "    # Converting Seismic to DataFrame\n",
    "    df_seismic = seismic.to_dataframe()\n",
    "\n",
    "    # Checking that the CDP coordinates are in the DataFrame\n",
    "    if not {'cdp_x', 'cdp_y'}.issubset(df_seismic.columns):\n",
    "        raise ValueError(\n",
    "            'No coordinates found, please provide the byte positions where the X and Y data of the CDPs is stored')\n",
    "\n",
    "    # Extracting the length of the samples to reduce computing time\n",
    "    samples = len(df_seismic.index.get_level_values(1).unique())\n",
    "\n",
    "    # Resample DataFrame\n",
    "    df_seismic_resampled = df_seismic[::samples]\n",
    "\n",
    "    # Creating LineString from coordinates\n",
    "    linestring = LineString(np.c_[(df_seismic_resampled['cdp_x'].values,\n",
    "                                   df_seismic_resampled['cdp_y'].values)])\n",
    "\n",
    "    # Reprojecting Coordinates\n",
    "    gdf_seismic = gpd.GeoDataFrame(geometry=[linestring],\n",
    "                                   crs=crs_in)\n",
    "\n",
    "    return gdf_seismic\n",
    "\n",
    "\n",
    "def get_cdp_points_of_seismic_data(path_in: str,\n",
    "                                   crs_in: Union[str, pyproj.crs.crs.CRS],\n",
    "                                   cdpx: int = 181,\n",
    "                                   cdpy: int = 185,\n",
    "                                   vert_domain: str = 'TWT',\n",
    "                                   filter: int = None,\n",
    "                                   n_meter: Union[int, float] = None):\n",
    "    \"\"\"Extracting the path of the seismic data as LineString.\n",
    "\n",
    "    Parameters\n",
    "    __________\n",
    "        path_in : str\n",
    "            Path to the original seismic data, e.g. ``path_in='seismic.sgy'``.\n",
    "        crs_in : str, pyproj.crs.crs.CRS\n",
    "            Coordinate reference system of the original seismic data.\n",
    "        cdpx : int\n",
    "            Byte position for the X coordinates, default is ``cdpx=181``.\n",
    "        cdpy : int\n",
    "            Byte position for the Y coordinates, default is ``cdpx=185``.\n",
    "        vert_domain : str\n",
    "            Vertical sampling domain. Options include ``'TWT'`` and ``'DEPTH'``, default is ``vert_domain='TWT'``.\n",
    "        filter : int\n",
    "            Filtering the points to only return every n-th point, e.g. ``filter=100`` to return only every 100-th point.\n",
    "        n_meter : int, float\n",
    "            Parameter to select a point along the line every n-th meter.\n",
    "\n",
    "    Returns\n",
    "    _______\n",
    "        gpd.GeoDataFrame\n",
    "            GeoDataFrame containing the CDPs as Points.\n",
    "\n",
    "    .. versionadded:: 1.1.1\n",
    "\n",
    "    \"\"\"\n",
    "    # Trying to import segysak but returning error if segysak is not installed\n",
    "    try:\n",
    "        from segysak.segy import segy_loader, segy_writer\n",
    "    except ModuleNotFoundError:\n",
    "        raise ModuleNotFoundError(\n",
    "            'segysak package is not installed. Use pip install segysak to install the latest version')\n",
    "\n",
    "    # Checking that path_in is of type string\n",
    "    if not isinstance(path_in, str):\n",
    "        raise TypeError('path_in must be provided as string')\n",
    "\n",
    "    # Checking that crs_in is of type string or pyproj CRS\n",
    "    if not isinstance(crs_in, (str, pyproj.crs.crs.CRS)):\n",
    "        raise TypeError('crs_in must be provided as string or pyproj CRS')\n",
    "\n",
    "    # Checking that vert_domain is of type str\n",
    "    if not isinstance(vert_domain, str):\n",
    "        raise TypeError('vert_domain must be provided as string')\n",
    "\n",
    "    # Loading seismic data\n",
    "    seismic = segy_loader(path_in,\n",
    "                          vert_domain=vert_domain,\n",
    "                          cdpx=cdpx,\n",
    "                          cdpy=cdpy)\n",
    "\n",
    "    # Converting Seismic to DataFrame\n",
    "    df_seismic = seismic.to_dataframe()\n",
    "\n",
    "    # Checking that the CDP coordinates are in the DataFrame\n",
    "    if not {'cdp_x', 'cdp_y'}.issubset(df_seismic.columns):\n",
    "        raise ValueError(\n",
    "            'No coordinates found, please provide the byte positions where the X and Y data of the CDPs is stored')\n",
    "\n",
    "    # Extracting the length of the samples to reduce computing time\n",
    "    samples = len(df_seismic.index.get_level_values(1).unique())\n",
    "\n",
    "    # Resample DataFrame\n",
    "    df_seismic_resampled = df_seismic[::samples]\n",
    "\n",
    "    if n_meter:\n",
    "\n",
    "        # Creating LineString from coordinates\n",
    "        linestring = LineString(np.c_[(df_seismic_resampled['cdp_x'].values,\n",
    "                                       df_seismic_resampled['cdp_y'].values)])\n",
    "\n",
    "        # Defining number of samples\n",
    "        samples = np.arange(0, round(linestring.length / n_meter) + 1, 1)\n",
    "\n",
    "        # Getting points every n_meter\n",
    "        points = [shapely.line_interpolate_point(linestring, n_meter * sample) for sample in samples]\n",
    "\n",
    "        # Creating GeoDataFrame from points\n",
    "        gdf_seismic = gpd.GeoDataFrame(geometry=points,\n",
    "                                       crs=crs_in)\n",
    "\n",
    "        # Appending distance\n",
    "        gdf_seismic['distance'] = samples * n_meter\n",
    "\n",
    "    else:\n",
    "        # Creating Points from coordinates\n",
    "        gdf_seismic = gpd.GeoDataFrame(geometry=gpd.points_from_xy(x=df_seismic_resampled['cdp_x'].values,\n",
    "                                                                   y=df_seismic_resampled['cdp_y'].values),\n",
    "                                       data=df_seismic_resampled,\n",
    "                                       crs=crs_in).reset_index().drop(['twt', 'data'], axis=1)\n",
    "\n",
    "        # Returning only every nth point\n",
    "        if filter:\n",
    "            gdf_seismic = gdf_seismic[::filter]\n",
    "\n",
    "    return gdf_seismic"
   ]
  },
  {
   "cell_type": "markdown",
   "id": "0219a63e",
   "metadata": {},
   "source": [
    "## Reprojecting Seismic Data\n",
    "\n",
    "The seismic data used here can be freely downloaded from NLOG.nl and is provided in the Coordinate References System (CRS) with `EPSG:28992`. To reproject the data, we are using the function `convert_crs_seismic_data(...)`. The output path and the output CRS are defined, optionally, the byte positions for the X and Y coordinates of each CDP and the vertical domain can be defined. "
   ]
  },
  {
   "cell_type": "code",
   "execution_count": 4,
   "id": "796e20c6-f719-4608-9603-2332154dc8c7",
   "metadata": {},
   "outputs": [
    {
     "data": {
      "application/vnd.jupyter.widget-view+json": {
       "model_id": "eaf62a249e07494dac0ccdebc1bfbe2e",
       "version_major": 2,
       "version_minor": 0
      },
      "text/plain": [
       "  0%|          | 0.00/2.70k [00:00<?, ? traces/s]"
      ]
     },
     "metadata": {},
     "output_type": "display_data"
    },
    {
     "name": "stdout",
     "output_type": "stream",
     "text": [
      "Loading as 2D\n"
     ]
    },
    {
     "data": {
      "application/vnd.jupyter.widget-view+json": {
       "model_id": "8108c5a50ae44a8aa9ae7568d7181067",
       "version_major": 2,
       "version_minor": 0
      },
      "text/plain": [
       "Converting SEGY:   0%|          | 0.00/2.70k [00:00<?, ? traces/s]"
      ]
     },
     "metadata": {},
     "output_type": "display_data"
    },
    {
     "name": "stdout",
     "output_type": "stream",
     "text": [
      "Seismic data was successfully reprojected and saved to file\n"
     ]
    }
   ],
   "source": [
    "convert_crs_seismic_data(path_in=file_path+'Seismic_EPSG_28992.sgy',\n",
    "                         path_out=file_path+'Seismic_EPSG_25832.sgy',\n",
    "                         crs_in='EPSG:28992',\n",
    "                         crs_out='EPSG:25832',\n",
    "                         cdpx = 181,\n",
    "                         cdpy = 185,\n",
    "                         vert_domain = 'TWT')"
   ]
  },
  {
   "cell_type": "markdown",
   "id": "af08bf20-85ce-4bf9-84db-f6534d1b0409",
   "metadata": {},
   "source": [
    "## Accounting for coordinate scalar errors\n",
    "\n",
    "It may happen that columns are filled with `NaN` values. The problem is not so much the Python side but the SEGY side. For a more detailed description, see https://github.com/trhallam/segysak/issues/109#issuecomment-1717610828. The error can be mitigated by providing a `coord_scalar` value. "
   ]
  },
  {
   "cell_type": "code",
   "execution_count": 5,
   "id": "becbad18-36c9-44ee-b2f0-b7a6854effc9",
   "metadata": {},
   "outputs": [
    {
     "data": {
      "application/vnd.jupyter.widget-view+json": {
       "model_id": "5b266b939dec452ea31b3357c4d1dcad",
       "version_major": 2,
       "version_minor": 0
      },
      "text/plain": [
       "  0%|          | 0.00/2.70k [00:00<?, ? traces/s]"
      ]
     },
     "metadata": {},
     "output_type": "display_data"
    },
    {
     "name": "stdout",
     "output_type": "stream",
     "text": [
      "Loading as 2D\n"
     ]
    },
    {
     "data": {
      "application/vnd.jupyter.widget-view+json": {
       "model_id": "02e898e17bb74867aa546a2392e84d81",
       "version_major": 2,
       "version_minor": 0
      },
      "text/plain": [
       "Converting SEGY:   0%|          | 0.00/2.70k [00:00<?, ? traces/s]"
      ]
     },
     "metadata": {},
     "output_type": "display_data"
    },
    {
     "data": {
      "text/html": [
       "<div>\n",
       "<style scoped>\n",
       "    .dataframe tbody tr th:only-of-type {\n",
       "        vertical-align: middle;\n",
       "    }\n",
       "\n",
       "    .dataframe tbody tr th {\n",
       "        vertical-align: top;\n",
       "    }\n",
       "\n",
       "    .dataframe thead th {\n",
       "        text-align: right;\n",
       "    }\n",
       "</style>\n",
       "<table border=\"1\" class=\"dataframe\">\n",
       "  <thead>\n",
       "    <tr style=\"text-align: right;\">\n",
       "      <th></th>\n",
       "      <th></th>\n",
       "      <th>data</th>\n",
       "      <th>cdp_x</th>\n",
       "      <th>cdp_y</th>\n",
       "    </tr>\n",
       "    <tr>\n",
       "      <th>cdp</th>\n",
       "      <th>twt</th>\n",
       "      <th></th>\n",
       "      <th></th>\n",
       "      <th></th>\n",
       "    </tr>\n",
       "  </thead>\n",
       "  <tbody>\n",
       "    <tr>\n",
       "      <th rowspan=\"5\" valign=\"top\">1</th>\n",
       "      <th>0.0</th>\n",
       "      <td>0.0</td>\n",
       "      <td>287958.90625</td>\n",
       "      <td>NaN</td>\n",
       "    </tr>\n",
       "    <tr>\n",
       "      <th>2.0</th>\n",
       "      <td>0.0</td>\n",
       "      <td>287958.90625</td>\n",
       "      <td>NaN</td>\n",
       "    </tr>\n",
       "    <tr>\n",
       "      <th>4.0</th>\n",
       "      <td>0.0</td>\n",
       "      <td>287958.90625</td>\n",
       "      <td>NaN</td>\n",
       "    </tr>\n",
       "    <tr>\n",
       "      <th>6.0</th>\n",
       "      <td>0.0</td>\n",
       "      <td>287958.90625</td>\n",
       "      <td>NaN</td>\n",
       "    </tr>\n",
       "    <tr>\n",
       "      <th>8.0</th>\n",
       "      <td>0.0</td>\n",
       "      <td>287958.90625</td>\n",
       "      <td>NaN</td>\n",
       "    </tr>\n",
       "    <tr>\n",
       "      <th>...</th>\n",
       "      <th>...</th>\n",
       "      <td>...</td>\n",
       "      <td>...</td>\n",
       "      <td>...</td>\n",
       "    </tr>\n",
       "    <tr>\n",
       "      <th rowspan=\"5\" valign=\"top\">2702</th>\n",
       "      <th>5092.0</th>\n",
       "      <td>0.0</td>\n",
       "      <td>314511.46875</td>\n",
       "      <td>NaN</td>\n",
       "    </tr>\n",
       "    <tr>\n",
       "      <th>5094.0</th>\n",
       "      <td>0.0</td>\n",
       "      <td>314511.46875</td>\n",
       "      <td>NaN</td>\n",
       "    </tr>\n",
       "    <tr>\n",
       "      <th>5096.0</th>\n",
       "      <td>0.0</td>\n",
       "      <td>314511.46875</td>\n",
       "      <td>NaN</td>\n",
       "    </tr>\n",
       "    <tr>\n",
       "      <th>5098.0</th>\n",
       "      <td>0.0</td>\n",
       "      <td>314511.46875</td>\n",
       "      <td>NaN</td>\n",
       "    </tr>\n",
       "    <tr>\n",
       "      <th>5100.0</th>\n",
       "      <td>0.0</td>\n",
       "      <td>314511.46875</td>\n",
       "      <td>NaN</td>\n",
       "    </tr>\n",
       "  </tbody>\n",
       "</table>\n",
       "<p>6892802 rows × 3 columns</p>\n",
       "</div>"
      ],
      "text/plain": [
       "             data         cdp_x  cdp_y\n",
       "cdp  twt                              \n",
       "1    0.0      0.0  287958.90625    NaN\n",
       "     2.0      0.0  287958.90625    NaN\n",
       "     4.0      0.0  287958.90625    NaN\n",
       "     6.0      0.0  287958.90625    NaN\n",
       "     8.0      0.0  287958.90625    NaN\n",
       "...           ...           ...    ...\n",
       "2702 5092.0   0.0  314511.46875    NaN\n",
       "     5094.0   0.0  314511.46875    NaN\n",
       "     5096.0   0.0  314511.46875    NaN\n",
       "     5098.0   0.0  314511.46875    NaN\n",
       "     5100.0   0.0  314511.46875    NaN\n",
       "\n",
       "[6892802 rows x 3 columns]"
      ]
     },
     "execution_count": 5,
     "metadata": {},
     "output_type": "execute_result"
    }
   ],
   "source": [
    "from segysak.segy import segy_loader\n",
    "seismic = segy_loader(file_path+'Seismic_EPSG_25832.sgy',\n",
    "                         cdpx = 181,\n",
    "                         cdpy = 185,\n",
    "                         vert_domain = 'TWT')\n",
    "\n",
    "# Converting Seismic to DataFrame\n",
    "df_seismic = seismic.to_dataframe()\n",
    "df_seismic"
   ]
  },
  {
   "cell_type": "markdown",
   "id": "40823604-8693-454d-a8e1-b10be1bf13a1",
   "metadata": {},
   "source": [
    "## Reprojecting Seismic Data - again\n",
    "\n",
    "As you can see, reprojecting the seismic data again using a `coord_scalar` will add the correct coordinates to the segy file."
   ]
  },
  {
   "cell_type": "code",
   "execution_count": 6,
   "id": "b5e429db-ac79-4cb6-b1ef-a4ab897639c8",
   "metadata": {},
   "outputs": [
    {
     "data": {
      "application/vnd.jupyter.widget-view+json": {
       "model_id": "9525b0bcea8d40e9a1c0ec5b66b5f070",
       "version_major": 2,
       "version_minor": 0
      },
      "text/plain": [
       "  0%|          | 0.00/2.70k [00:00<?, ? traces/s]"
      ]
     },
     "metadata": {},
     "output_type": "display_data"
    },
    {
     "name": "stdout",
     "output_type": "stream",
     "text": [
      "Loading as 2D\n"
     ]
    },
    {
     "data": {
      "application/vnd.jupyter.widget-view+json": {
       "model_id": "9cfb97ff36b04b5db73b9ee469ea5bf9",
       "version_major": 2,
       "version_minor": 0
      },
      "text/plain": [
       "Converting SEGY:   0%|          | 0.00/2.70k [00:00<?, ? traces/s]"
      ]
     },
     "metadata": {},
     "output_type": "display_data"
    },
    {
     "name": "stdout",
     "output_type": "stream",
     "text": [
      "Seismic data was successfully reprojected and saved to file\n"
     ]
    }
   ],
   "source": [
    "convert_crs_seismic_data(path_in=file_path+'Seismic_EPSG_28992.sgy',\n",
    "                         path_out=file_path+'Seismic_EPSG_25832.sgy',\n",
    "                         crs_in='EPSG:28992',\n",
    "                         crs_out='EPSG:25832',\n",
    "                         cdpx = 181,\n",
    "                         cdpy = 185,\n",
    "                         vert_domain = 'TWT',\n",
    "                         coord_scalar=-100)"
   ]
  },
  {
   "cell_type": "code",
   "execution_count": 7,
   "id": "7595b751-657c-4527-8aef-a4dff230c287",
   "metadata": {},
   "outputs": [
    {
     "data": {
      "application/vnd.jupyter.widget-view+json": {
       "model_id": "01dabca94ad04eeba093e75a2f2fb7ce",
       "version_major": 2,
       "version_minor": 0
      },
      "text/plain": [
       "  0%|          | 0.00/2.70k [00:00<?, ? traces/s]"
      ]
     },
     "metadata": {},
     "output_type": "display_data"
    },
    {
     "name": "stdout",
     "output_type": "stream",
     "text": [
      "Loading as 2D\n"
     ]
    },
    {
     "data": {
      "application/vnd.jupyter.widget-view+json": {
       "model_id": "8b8c66a9bee54a4799dcf245676665c7",
       "version_major": 2,
       "version_minor": 0
      },
      "text/plain": [
       "Converting SEGY:   0%|          | 0.00/2.70k [00:00<?, ? traces/s]"
      ]
     },
     "metadata": {},
     "output_type": "display_data"
    },
    {
     "data": {
      "text/html": [
       "<div>\n",
       "<style scoped>\n",
       "    .dataframe tbody tr th:only-of-type {\n",
       "        vertical-align: middle;\n",
       "    }\n",
       "\n",
       "    .dataframe tbody tr th {\n",
       "        vertical-align: top;\n",
       "    }\n",
       "\n",
       "    .dataframe thead th {\n",
       "        text-align: right;\n",
       "    }\n",
       "</style>\n",
       "<table border=\"1\" class=\"dataframe\">\n",
       "  <thead>\n",
       "    <tr style=\"text-align: right;\">\n",
       "      <th></th>\n",
       "      <th></th>\n",
       "      <th>data</th>\n",
       "      <th>cdp_x</th>\n",
       "      <th>cdp_y</th>\n",
       "    </tr>\n",
       "    <tr>\n",
       "      <th>cdp</th>\n",
       "      <th>twt</th>\n",
       "      <th></th>\n",
       "      <th></th>\n",
       "      <th></th>\n",
       "    </tr>\n",
       "  </thead>\n",
       "  <tbody>\n",
       "    <tr>\n",
       "      <th rowspan=\"5\" valign=\"top\">1</th>\n",
       "      <th>0.0</th>\n",
       "      <td>0.0</td>\n",
       "      <td>287958.8750</td>\n",
       "      <td>5702121.5</td>\n",
       "    </tr>\n",
       "    <tr>\n",
       "      <th>2.0</th>\n",
       "      <td>0.0</td>\n",
       "      <td>287958.8750</td>\n",
       "      <td>5702121.5</td>\n",
       "    </tr>\n",
       "    <tr>\n",
       "      <th>4.0</th>\n",
       "      <td>0.0</td>\n",
       "      <td>287958.8750</td>\n",
       "      <td>5702121.5</td>\n",
       "    </tr>\n",
       "    <tr>\n",
       "      <th>6.0</th>\n",
       "      <td>0.0</td>\n",
       "      <td>287958.8750</td>\n",
       "      <td>5702121.5</td>\n",
       "    </tr>\n",
       "    <tr>\n",
       "      <th>8.0</th>\n",
       "      <td>0.0</td>\n",
       "      <td>287958.8750</td>\n",
       "      <td>5702121.5</td>\n",
       "    </tr>\n",
       "    <tr>\n",
       "      <th>...</th>\n",
       "      <th>...</th>\n",
       "      <td>...</td>\n",
       "      <td>...</td>\n",
       "      <td>...</td>\n",
       "    </tr>\n",
       "    <tr>\n",
       "      <th rowspan=\"5\" valign=\"top\">2702</th>\n",
       "      <th>5092.0</th>\n",
       "      <td>0.0</td>\n",
       "      <td>314511.4375</td>\n",
       "      <td>5700494.0</td>\n",
       "    </tr>\n",
       "    <tr>\n",
       "      <th>5094.0</th>\n",
       "      <td>0.0</td>\n",
       "      <td>314511.4375</td>\n",
       "      <td>5700494.0</td>\n",
       "    </tr>\n",
       "    <tr>\n",
       "      <th>5096.0</th>\n",
       "      <td>0.0</td>\n",
       "      <td>314511.4375</td>\n",
       "      <td>5700494.0</td>\n",
       "    </tr>\n",
       "    <tr>\n",
       "      <th>5098.0</th>\n",
       "      <td>0.0</td>\n",
       "      <td>314511.4375</td>\n",
       "      <td>5700494.0</td>\n",
       "    </tr>\n",
       "    <tr>\n",
       "      <th>5100.0</th>\n",
       "      <td>0.0</td>\n",
       "      <td>314511.4375</td>\n",
       "      <td>5700494.0</td>\n",
       "    </tr>\n",
       "  </tbody>\n",
       "</table>\n",
       "<p>6892802 rows × 3 columns</p>\n",
       "</div>"
      ],
      "text/plain": [
       "             data        cdp_x      cdp_y\n",
       "cdp  twt                                 \n",
       "1    0.0      0.0  287958.8750  5702121.5\n",
       "     2.0      0.0  287958.8750  5702121.5\n",
       "     4.0      0.0  287958.8750  5702121.5\n",
       "     6.0      0.0  287958.8750  5702121.5\n",
       "     8.0      0.0  287958.8750  5702121.5\n",
       "...           ...          ...        ...\n",
       "2702 5092.0   0.0  314511.4375  5700494.0\n",
       "     5094.0   0.0  314511.4375  5700494.0\n",
       "     5096.0   0.0  314511.4375  5700494.0\n",
       "     5098.0   0.0  314511.4375  5700494.0\n",
       "     5100.0   0.0  314511.4375  5700494.0\n",
       "\n",
       "[6892802 rows x 3 columns]"
      ]
     },
     "execution_count": 7,
     "metadata": {},
     "output_type": "execute_result"
    }
   ],
   "source": [
    "from segysak.segy import segy_loader\n",
    "seismic = segy_loader(file_path+'Seismic_EPSG_25832.sgy',\n",
    "                         cdpx = 181,\n",
    "                         cdpy = 185,\n",
    "                         vert_domain = 'TWT')\n",
    "\n",
    "# Converting Seismic to DataFrame\n",
    "df_seismic = seismic.to_dataframe()\n",
    "df_seismic"
   ]
  },
  {
   "cell_type": "markdown",
   "id": "b4fd8504-2276-49c9-a2ab-44b1aa80307b",
   "metadata": {},
   "source": [
    "## Extracting the path of the seismic data\n",
    "\n",
    "The path of the seismic data can be extracted using the function `get_cdp_linestring_of_seismic_data`. A GeoDataFrame containing a LineString will be returned. "
   ]
  },
  {
   "cell_type": "code",
   "execution_count": 8,
   "id": "3d5858f1-12f9-4fc6-a6e9-aad58cd139dd",
   "metadata": {},
   "outputs": [
    {
     "data": {
      "application/vnd.jupyter.widget-view+json": {
       "model_id": "87bdfa05e36a41aea7244b733ac11a0a",
       "version_major": 2,
       "version_minor": 0
      },
      "text/plain": [
       "  0%|          | 0.00/2.70k [00:00<?, ? traces/s]"
      ]
     },
     "metadata": {},
     "output_type": "display_data"
    },
    {
     "name": "stdout",
     "output_type": "stream",
     "text": [
      "Loading as 2D\n"
     ]
    },
    {
     "data": {
      "application/vnd.jupyter.widget-view+json": {
       "model_id": "99c73308e4cb4776b9af9f65d5027b97",
       "version_major": 2,
       "version_minor": 0
      },
      "text/plain": [
       "Converting SEGY:   0%|          | 0.00/2.70k [00:00<?, ? traces/s]"
      ]
     },
     "metadata": {},
     "output_type": "display_data"
    },
    {
     "data": {
      "text/html": [
       "<div>\n",
       "<style scoped>\n",
       "    .dataframe tbody tr th:only-of-type {\n",
       "        vertical-align: middle;\n",
       "    }\n",
       "\n",
       "    .dataframe tbody tr th {\n",
       "        vertical-align: top;\n",
       "    }\n",
       "\n",
       "    .dataframe thead th {\n",
       "        text-align: right;\n",
       "    }\n",
       "</style>\n",
       "<table border=\"1\" class=\"dataframe\">\n",
       "  <thead>\n",
       "    <tr style=\"text-align: right;\">\n",
       "      <th></th>\n",
       "      <th>geometry</th>\n",
       "    </tr>\n",
       "  </thead>\n",
       "  <tbody>\n",
       "    <tr>\n",
       "      <th>0</th>\n",
       "      <td>LINESTRING (194105.422 382534.062, 194115.391 ...</td>\n",
       "    </tr>\n",
       "  </tbody>\n",
       "</table>\n",
       "</div>"
      ],
      "text/plain": [
       "                                            geometry\n",
       "0  LINESTRING (194105.422 382534.062, 194115.391 ..."
      ]
     },
     "execution_count": 8,
     "metadata": {},
     "output_type": "execute_result"
    }
   ],
   "source": [
    "gdf_linestring = get_cdp_linestring_of_seismic_data(path_in=file_path+'Seismic_EPSG_28992.sgy',\n",
    "                                                    crs_in='EPSG:28992')\n",
    "gdf_linestring"
   ]
  },
  {
   "cell_type": "code",
   "execution_count": 9,
   "id": "9682d223-8247-461e-baec-d1f973d9a5d2",
   "metadata": {},
   "outputs": [
    {
     "data": {
      "image/png": "[encoded data removed]",
      "text/plain": [
       "<Figure size 1000x1000 with 1 Axes>"
      ]
     },
     "metadata": {},
     "output_type": "display_data"
    }
   ],
   "source": [
    "fig, ax = plt.subplots(1, figsize=(10,10))\n",
    "\n",
    "gdf_linestring.plot(ax=ax)\n",
    "\n",
    "ax.set_ylim(380000,384000)\n",
    "ax.grid()"
   ]
  },
  {
   "cell_type": "markdown",
   "id": "f38397c5-933e-4f0f-9408-876b2421b30f",
   "metadata": {},
   "source": [
    "## Extracting the CDP points of the seismic data\n",
    "\n",
    "The CDP points of the seismic data can be extracted using the function `get_cdp_points_of_seismic_data`. By setting a `filter`, only the n-th point can be selected. A GeoDataFrame containing points will be returned. "
   ]
  },
  {
   "cell_type": "code",
   "execution_count": 10,
   "id": "8e184c39-fe78-494d-99f5-8265263abc9b",
   "metadata": {},
   "outputs": [
    {
     "data": {
      "application/vnd.jupyter.widget-view+json": {
       "model_id": "99c19fb9715c4ccca72db5c01d305166",
       "version_major": 2,
       "version_minor": 0
      },
      "text/plain": [
       "  0%|          | 0.00/2.70k [00:00<?, ? traces/s]"
      ]
     },
     "metadata": {},
     "output_type": "display_data"
    },
    {
     "name": "stdout",
     "output_type": "stream",
     "text": [
      "Loading as 2D\n"
     ]
    },
    {
     "data": {
      "application/vnd.jupyter.widget-view+json": {
       "model_id": "ee840432bbc84eb3a8e26ce960a73a53",
       "version_major": 2,
       "version_minor": 0
      },
      "text/plain": [
       "Converting SEGY:   0%|          | 0.00/2.70k [00:00<?, ? traces/s]"
      ]
     },
     "metadata": {},
     "output_type": "display_data"
    },
    {
     "data": {
      "text/html": [
       "<div>\n",
       "<style scoped>\n",
       "    .dataframe tbody tr th:only-of-type {\n",
       "        vertical-align: middle;\n",
       "    }\n",
       "\n",
       "    .dataframe tbody tr th {\n",
       "        vertical-align: top;\n",
       "    }\n",
       "\n",
       "    .dataframe thead th {\n",
       "        text-align: right;\n",
       "    }\n",
       "</style>\n",
       "<table border=\"1\" class=\"dataframe\">\n",
       "  <thead>\n",
       "    <tr style=\"text-align: right;\">\n",
       "      <th></th>\n",
       "      <th>cdp</th>\n",
       "      <th>cdp_x</th>\n",
       "      <th>cdp_y</th>\n",
       "      <th>geometry</th>\n",
       "    </tr>\n",
       "  </thead>\n",
       "  <tbody>\n",
       "    <tr>\n",
       "      <th>0</th>\n",
       "      <td>1</td>\n",
       "      <td>194105.421875</td>\n",
       "      <td>382534.06250</td>\n",
       "      <td>POINT (194105.422 382534.062)</td>\n",
       "    </tr>\n",
       "    <tr>\n",
       "      <th>250</th>\n",
       "      <td>251</td>\n",
       "      <td>196602.859375</td>\n",
       "      <td>382433.34375</td>\n",
       "      <td>POINT (196602.859 382433.344)</td>\n",
       "    </tr>\n",
       "    <tr>\n",
       "      <th>500</th>\n",
       "      <td>501</td>\n",
       "      <td>199099.406250</td>\n",
       "      <td>382333.03125</td>\n",
       "      <td>POINT (199099.406 382333.031)</td>\n",
       "    </tr>\n",
       "    <tr>\n",
       "      <th>750</th>\n",
       "      <td>751</td>\n",
       "      <td>201554.859375</td>\n",
       "      <td>381880.46875</td>\n",
       "      <td>POINT (201554.859 381880.469)</td>\n",
       "    </tr>\n",
       "    <tr>\n",
       "      <th>1000</th>\n",
       "      <td>1001</td>\n",
       "      <td>204022.796875</td>\n",
       "      <td>381520.40625</td>\n",
       "      <td>POINT (204022.797 381520.406)</td>\n",
       "    </tr>\n",
       "    <tr>\n",
       "      <th>1250</th>\n",
       "      <td>1251</td>\n",
       "      <td>206520.484375</td>\n",
       "      <td>381599.18750</td>\n",
       "      <td>POINT (206520.484 381599.188)</td>\n",
       "    </tr>\n",
       "    <tr>\n",
       "      <th>1500</th>\n",
       "      <td>1501</td>\n",
       "      <td>209018.203125</td>\n",
       "      <td>381503.37500</td>\n",
       "      <td>POINT (209018.203 381503.375)</td>\n",
       "    </tr>\n",
       "    <tr>\n",
       "      <th>1750</th>\n",
       "      <td>1751</td>\n",
       "      <td>211512.828125</td>\n",
       "      <td>381340.65625</td>\n",
       "      <td>POINT (211512.828 381340.656)</td>\n",
       "    </tr>\n",
       "    <tr>\n",
       "      <th>2000</th>\n",
       "      <td>2001</td>\n",
       "      <td>213993.937500</td>\n",
       "      <td>381043.43750</td>\n",
       "      <td>POINT (213993.938 381043.438)</td>\n",
       "    </tr>\n",
       "    <tr>\n",
       "      <th>2250</th>\n",
       "      <td>2251</td>\n",
       "      <td>216479.656250</td>\n",
       "      <td>380814.06250</td>\n",
       "      <td>POINT (216479.656 380814.062)</td>\n",
       "    </tr>\n",
       "    <tr>\n",
       "      <th>2500</th>\n",
       "      <td>2501</td>\n",
       "      <td>218918.343750</td>\n",
       "      <td>381326.12500</td>\n",
       "      <td>POINT (218918.344 381326.125)</td>\n",
       "    </tr>\n",
       "  </tbody>\n",
       "</table>\n",
       "</div>"
      ],
      "text/plain": [
       "       cdp          cdp_x         cdp_y                       geometry\n",
       "0        1  194105.421875  382534.06250  POINT (194105.422 382534.062)\n",
       "250    251  196602.859375  382433.34375  POINT (196602.859 382433.344)\n",
       "500    501  199099.406250  382333.03125  POINT (199099.406 382333.031)\n",
       "750    751  201554.859375  381880.46875  POINT (201554.859 381880.469)\n",
       "1000  1001  204022.796875  381520.40625  POINT (204022.797 381520.406)\n",
       "1250  1251  206520.484375  381599.18750  POINT (206520.484 381599.188)\n",
       "1500  1501  209018.203125  381503.37500  POINT (209018.203 381503.375)\n",
       "1750  1751  211512.828125  381340.65625  POINT (211512.828 381340.656)\n",
       "2000  2001  213993.937500  381043.43750  POINT (213993.938 381043.438)\n",
       "2250  2251  216479.656250  380814.06250  POINT (216479.656 380814.062)\n",
       "2500  2501  218918.343750  381326.12500  POINT (218918.344 381326.125)"
      ]
     },
     "execution_count": 10,
     "metadata": {},
     "output_type": "execute_result"
    }
   ],
   "source": [
    "gdf_points = get_cdp_points_of_seismic_data(path_in=file_path+'Seismic_EPSG_28992.sgy',\n",
    "                                            crs_in='EPSG:28992',\n",
    "                                            filter=250)\n",
    "gdf_points"
   ]
  },
  {
   "cell_type": "code",
   "execution_count": 11,
   "id": "6a061760-4109-4639-8295-450aa32c18cf",
   "metadata": {},
   "outputs": [
    {
     "data": {
      "image/png": "[encoded data removed]",
      "text/plain": [
       "<Figure size 1000x1000 with 1 Axes>"
      ]
     },
     "metadata": {},
     "output_type": "display_data"
    }
   ],
   "source": [
    "fig, ax = plt.subplots(1, figsize=(10,10))\n",
    "\n",
    "for label, x, y in zip(gdf_points['cdp'], gdf_points['cdp_x'], gdf_points['cdp_y']):\n",
    "    plt.text(x+200,y+200,label)\n",
    "    \n",
    "gdf_points.plot(ax=ax)\n",
    "\n",
    "ax.set_ylim(380000,384000)\n",
    "ax.grid()"
   ]
  },
  {
   "cell_type": "markdown",
   "id": "3dac0da3-8a30-4bf6-98fe-8a25d8fce938",
   "metadata": {},
   "source": [
    "## Extracting the CDP Points every n-th meter"
   ]
  },
  {
   "cell_type": "code",
   "execution_count": 12,
   "id": "6f1def53-97e4-4cea-9b11-333f1b1c7bc0",
   "metadata": {},
   "outputs": [
    {
     "data": {
      "application/vnd.jupyter.widget-view+json": {
       "model_id": "7cb57e96f5d241049e0465654f8580f6",
       "version_major": 2,
       "version_minor": 0
      },
      "text/plain": [
       "  0%|          | 0.00/2.70k [00:00<?, ? traces/s]"
      ]
     },
     "metadata": {},
     "output_type": "display_data"
    },
    {
     "name": "stdout",
     "output_type": "stream",
     "text": [
      "Loading as 2D\n"
     ]
    },
    {
     "data": {
      "application/vnd.jupyter.widget-view+json": {
       "model_id": "3a78bb677dc84d098e2423f37e27efd3",
       "version_major": 2,
       "version_minor": 0
      },
      "text/plain": [
       "Converting SEGY:   0%|          | 0.00/2.70k [00:00<?, ? traces/s]"
      ]
     },
     "metadata": {},
     "output_type": "display_data"
    },
    {
     "data": {
      "text/html": [
       "<div>\n",
       "<style scoped>\n",
       "    .dataframe tbody tr th:only-of-type {\n",
       "        vertical-align: middle;\n",
       "    }\n",
       "\n",
       "    .dataframe tbody tr th {\n",
       "        vertical-align: top;\n",
       "    }\n",
       "\n",
       "    .dataframe thead th {\n",
       "        text-align: right;\n",
       "    }\n",
       "</style>\n",
       "<table border=\"1\" class=\"dataframe\">\n",
       "  <thead>\n",
       "    <tr style=\"text-align: right;\">\n",
       "      <th></th>\n",
       "      <th>geometry</th>\n",
       "      <th>distance</th>\n",
       "    </tr>\n",
       "  </thead>\n",
       "  <tbody>\n",
       "    <tr>\n",
       "      <th>0</th>\n",
       "      <td>POINT (194105.422 382534.062)</td>\n",
       "      <td>0</td>\n",
       "    </tr>\n",
       "    <tr>\n",
       "      <th>1</th>\n",
       "      <td>POINT (198102.572 382412.468)</td>\n",
       "      <td>4000</td>\n",
       "    </tr>\n",
       "    <tr>\n",
       "      <th>2</th>\n",
       "      <td>POINT (202044.081 381777.218)</td>\n",
       "      <td>8000</td>\n",
       "    </tr>\n",
       "    <tr>\n",
       "      <th>3</th>\n",
       "      <td>POINT (206020.565 381595.751)</td>\n",
       "      <td>12000</td>\n",
       "    </tr>\n",
       "    <tr>\n",
       "      <th>4</th>\n",
       "      <td>POINT (210016.378 381442.716)</td>\n",
       "      <td>16000</td>\n",
       "    </tr>\n",
       "  </tbody>\n",
       "</table>\n",
       "</div>"
      ],
      "text/plain": [
       "                        geometry  distance\n",
       "0  POINT (194105.422 382534.062)         0\n",
       "1  POINT (198102.572 382412.468)      4000\n",
       "2  POINT (202044.081 381777.218)      8000\n",
       "3  POINT (206020.565 381595.751)     12000\n",
       "4  POINT (210016.378 381442.716)     16000"
      ]
     },
     "execution_count": 12,
     "metadata": {},
     "output_type": "execute_result"
    }
   ],
   "source": [
    "gdf_points = get_cdp_points_of_seismic_data(path_in=file_path+'Seismic_EPSG_28992.sgy',\n",
    "                                            crs_in='EPSG:28992',\n",
    "                                            n_meter=4000)\n",
    "gdf_points.head()"
   ]
  },
  {
   "cell_type": "code",
   "execution_count": 13,
   "id": "a2b2492a-4922-48d7-8c6a-2cd47c0e6a58",
   "metadata": {},
   "outputs": [
    {
     "data": {
      "image/png": "[encoded data removed]",
      "text/plain": [
       "<Figure size 1000x1000 with 1 Axes>"
      ]
     },
     "metadata": {},
     "output_type": "display_data"
    }
   ],
   "source": [
    "fig, ax = plt.subplots(1, figsize=(10,10))\n",
    "\n",
    "for label, x, y in zip(gdf_points['distance'], gdf_points.geometry.x, gdf_points.geometry.y):\n",
    "    plt.text(x+200,y+200,str(label) + ' m')\n",
    "    \n",
    "gdf_points.plot(ax=ax)\n",
    "\n",
    "ax.set_ylim(380000,384000)\n",
    "ax.grid()"
   ]
  }
 ],
 "metadata": {
  "kernelspec": {
   "display_name": "Python 3 (ipykernel)",
   "language": "python",
   "name": "python3"
  },
  "language_info": {
   "codemirror_mode": {
    "name": "ipython",
    "version": 3
   },
   "file_extension": ".py",
   "mimetype": "text/x-python",
   "name": "python",
   "nbconvert_exporter": "python",
   "pygments_lexer": "ipython3",
   "version": "3.10.12"
  }
 },
 "nbformat": 4,
 "nbformat_minor": 5
}
