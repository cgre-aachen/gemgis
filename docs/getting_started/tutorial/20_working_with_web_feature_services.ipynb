{
 "cells": [
  {
   "cell_type": "markdown",
   "metadata": {},
   "source": [
    "# 20 Working with Web Feature Services\n",
    "\n",
    "In computing, the Open Geospatial Consortium Web Feature Service (WFS) Interface Standard provides an interface allowing requests for geographical features across the web using platform-independent calls. One can think of geographical features as the \"source code\" behind a map, whereas the WMS interface or online tiled mapping portals like Google Maps return only an image, which end-users cannot edit or spatially analyze. The XML-based GML furnishes the default payload-encoding for transporting geographic features, but other formats like shapefiles can also serve for transport. \n",
    "\n",
    "Source: https://en.wikipedia.org/wiki/Web_Feature_Service\n",
    "\n",
    "\n",
    "<img src=\"../images/tutorial20_cover.png\">"
   ]
  },
  {
   "cell_type": "markdown",
   "metadata": {},
   "source": [
    "## Set File Paths and download Tutorial Data\n",
    "\n",
    "If you downloaded the latest `GemGIS` version from the Github repository, append the path so that the package can be imported successfully. Otherwise, it is recommended to install `GemGIS` via `pip install gemgis` and import `GemGIS` using `import gemgis as gg`. In addition, the file path to the folder where the data is being stored is set. The tutorial data is downloaded using Pooch (https://www.fatiando.org/pooch/latest/index.html) and stored in the specified folder. Use `pip install pooch` if Pooch is not installed on your system yet."
   ]
  },
  {
   "cell_type": "code",
   "execution_count": 1,
   "metadata": {
    "ExecuteTime": {
     "end_time": "2021-03-17T11:17:36.916455Z",
     "start_time": "2021-03-17T11:17:34.561592Z"
    }
   },
   "outputs": [
    {
     "name": "stderr",
     "output_type": "stream",
     "text": [
      "WARNING (theano.configdefaults): g++ not available, if using conda: `conda install m2w64-toolchain`\n",
      "C:\\Users\\ale93371\\Anaconda3\\envs\\test_gempy\\lib\\site-packages\\theano\\configdefaults.py:560: UserWarning: DeprecationWarning: there is no c++ compiler.This is deprecated and with Theano 0.11 a c++ compiler will be mandatory\n",
      "  warnings.warn(\"DeprecationWarning: there is no c++ compiler.\"\n",
      "WARNING (theano.configdefaults): g++ not detected ! Theano will be unable to execute optimized C-implementations (for both CPU and GPU) and will default to Python implementations. Performance will be severely degraded. To remove this warning, set Theano flags cxx to an empty string.\n",
      "WARNING (theano.tensor.blas): Using NumPy C-API based implementation for BLAS functions.\n"
     ]
    }
   ],
   "source": [
    "import gemgis as gg\n",
    "\n",
    "file_path ='data/20_working_with_web_feature_services/'"
   ]
  },
  {
   "cell_type": "markdown",
   "metadata": {},
   "source": [
    "## Loading the WFS Service\n",
    "\n",
    "For this example, we are downloading a WFS Service provided by the \n",
    "[Landesamt für Bergbau, Energie und Geologie - Niedersachsen](#https://www.lbeg.niedersachsen.de/startseite/). It contains Polygon, Line and Point data about seismic surveys and wells in Northern Germany. "
   ]
  },
  {
   "cell_type": "code",
   "execution_count": 3,
   "metadata": {
    "ExecuteTime": {
     "end_time": "2020-12-30T12:46:35.207875Z",
     "start_time": "2020-12-30T12:46:33.939061Z"
    }
   },
   "outputs": [
    {
     "data": {
      "text/plain": [
       "<owslib.feature.wfs100.WebFeatureService_1_0_0 at 0x19260e21340>"
      ]
     },
     "execution_count": 3,
     "metadata": {},
     "output_type": "execute_result"
    }
   ],
   "source": [
    "wfs = gg.web.load_wfs(\"https://nibis.lbeg.de/net3/public/ogc.ashx?NodeId=476&Service=WFS&\")\n",
    "wfs"
   ]
  },
  {
   "cell_type": "code",
   "execution_count": 3,
   "metadata": {
    "ExecuteTime": {
     "end_time": "2020-12-10T17:20:04.756528Z",
     "start_time": "2020-12-10T17:20:04.745526Z"
    },
    "scrolled": true
   },
   "outputs": [
    {
     "data": {
      "text/plain": [
       "owslib.feature.wfs100.WebFeatureService_1_0_0"
      ]
     },
     "execution_count": 3,
     "metadata": {},
     "output_type": "execute_result"
    }
   ],
   "source": [
    "type(wfs)"
   ]
  },
  {
   "cell_type": "markdown",
   "metadata": {},
   "source": [
    "#### Checking the version of the WFS"
   ]
  },
  {
   "cell_type": "code",
   "execution_count": 4,
   "metadata": {
    "ExecuteTime": {
     "end_time": "2020-12-10T17:20:04.772531Z",
     "start_time": "2020-12-10T17:20:04.760530Z"
    }
   },
   "outputs": [
    {
     "data": {
      "text/plain": [
       "'1.0.0'"
      ]
     },
     "execution_count": 4,
     "metadata": {},
     "output_type": "execute_result"
    }
   ],
   "source": [
    "wfs.version"
   ]
  },
  {
   "cell_type": "markdown",
   "metadata": {},
   "source": [
    "#### Checking the version of the WFS"
   ]
  },
  {
   "cell_type": "code",
   "execution_count": 5,
   "metadata": {
    "ExecuteTime": {
     "end_time": "2020-12-10T17:20:04.788533Z",
     "start_time": "2020-12-10T17:20:04.777533Z"
    }
   },
   "outputs": [
    {
     "data": {
      "text/plain": [
       "'1.0.0'"
      ]
     },
     "execution_count": 5,
     "metadata": {},
     "output_type": "execute_result"
    }
   ],
   "source": [
    "wfs.identification.version"
   ]
  },
  {
   "cell_type": "markdown",
   "metadata": {},
   "source": [
    "#### Checking the identification type of the WFS"
   ]
  },
  {
   "cell_type": "code",
   "execution_count": 6,
   "metadata": {
    "ExecuteTime": {
     "end_time": "2020-12-10T17:20:04.804536Z",
     "start_time": "2020-12-10T17:20:04.792539Z"
    }
   },
   "outputs": [
    {
     "data": {
      "text/plain": [
       "'Geophysik und Tiefohrungen'"
      ]
     },
     "execution_count": 6,
     "metadata": {},
     "output_type": "execute_result"
    }
   ],
   "source": [
    "wfs.identification.type"
   ]
  },
  {
   "cell_type": "markdown",
   "metadata": {},
   "source": [
    "#### Checking the title of the WFS"
   ]
  },
  {
   "cell_type": "code",
   "execution_count": 7,
   "metadata": {
    "ExecuteTime": {
     "end_time": "2020-12-10T17:20:04.820540Z",
     "start_time": "2020-12-10T17:20:04.809539Z"
    }
   },
   "outputs": [
    {
     "data": {
      "text/plain": [
       "'Geophysik und Tiefohrungen'"
      ]
     },
     "execution_count": 7,
     "metadata": {},
     "output_type": "execute_result"
    }
   ],
   "source": [
    "wfs.identification.title"
   ]
  },
  {
   "cell_type": "markdown",
   "metadata": {},
   "source": [
    "#### Checking the abstract of the WFS"
   ]
  },
  {
   "cell_type": "code",
   "execution_count": 8,
   "metadata": {
    "ExecuteTime": {
     "end_time": "2020-12-10T17:20:04.835546Z",
     "start_time": "2020-12-10T17:20:04.824544Z"
    }
   },
   "outputs": [
    {
     "data": {
      "text/plain": [
       "'Geophysik und Tiefohrungen'"
      ]
     },
     "execution_count": 8,
     "metadata": {},
     "output_type": "execute_result"
    }
   ],
   "source": [
    "wfs.identification.abstract"
   ]
  },
  {
   "cell_type": "markdown",
   "metadata": {},
   "source": [
    "#### Checking the contents of the WFS"
   ]
  },
  {
   "cell_type": "code",
   "execution_count": 9,
   "metadata": {
    "ExecuteTime": {
     "end_time": "2020-12-10T17:20:04.851573Z",
     "start_time": "2020-12-10T17:20:04.838546Z"
    }
   },
   "outputs": [
    {
     "data": {
      "text/plain": [
       "['iwan:L383']"
      ]
     },
     "execution_count": 9,
     "metadata": {},
     "output_type": "execute_result"
    }
   ],
   "source": [
    "list(wfs.contents)"
   ]
  },
  {
   "cell_type": "markdown",
   "metadata": {},
   "source": [
    "#### Checking the title of the WFS layer"
   ]
  },
  {
   "cell_type": "code",
   "execution_count": 10,
   "metadata": {
    "ExecuteTime": {
     "end_time": "2020-12-10T17:20:04.867589Z",
     "start_time": "2020-12-10T17:20:04.854578Z"
    }
   },
   "outputs": [
    {
     "data": {
      "text/plain": [
       "'Gravimetrie'"
      ]
     },
     "execution_count": 10,
     "metadata": {},
     "output_type": "execute_result"
    }
   ],
   "source": [
    "wfs['iwan:L383'].title"
   ]
  },
  {
   "cell_type": "markdown",
   "metadata": {},
   "source": [
    "#### Checking the bounding box of the WFS layer"
   ]
  },
  {
   "cell_type": "code",
   "execution_count": 11,
   "metadata": {
    "ExecuteTime": {
     "end_time": "2020-12-10T17:20:04.883573Z",
     "start_time": "2020-12-10T17:20:04.870576Z"
    }
   },
   "outputs": [
    {
     "data": {
      "text/plain": [
       "(5.395175801132899, 47.16510247399335, 17.002272548448747, 54.85398076006902)"
      ]
     },
     "execution_count": 11,
     "metadata": {},
     "output_type": "execute_result"
    }
   ],
   "source": [
    "wfs['iwan:L383'].boundingBoxWGS84"
   ]
  },
  {
   "cell_type": "markdown",
   "metadata": {},
   "source": [
    "#### Checking the operations for the WFS"
   ]
  },
  {
   "cell_type": "code",
   "execution_count": 12,
   "metadata": {
    "ExecuteTime": {
     "end_time": "2020-12-10T17:20:04.898589Z",
     "start_time": "2020-12-10T17:20:04.886578Z"
    }
   },
   "outputs": [
    {
     "data": {
      "text/plain": [
       "['GetCapabilities', 'DescribeFeatureType', 'GetFeature']"
      ]
     },
     "execution_count": 12,
     "metadata": {},
     "output_type": "execute_result"
    }
   ],
   "source": [
    "[op.name for op in wfs.operations]"
   ]
  },
  {
   "cell_type": "markdown",
   "metadata": {},
   "source": [
    "#### Checking the format for getting the feature"
   ]
  },
  {
   "cell_type": "code",
   "execution_count": 13,
   "metadata": {
    "ExecuteTime": {
     "end_time": "2020-12-10T17:20:04.914581Z",
     "start_time": "2020-12-10T17:20:04.901578Z"
    }
   },
   "outputs": [
    {
     "data": {
      "text/plain": [
       "['{http://www.opengis.net/wfs}GML2']"
      ]
     },
     "execution_count": 13,
     "metadata": {},
     "output_type": "execute_result"
    }
   ],
   "source": [
    "wfs.getOperationByName('GetFeature').formatOptions"
   ]
  },
  {
   "cell_type": "markdown",
   "metadata": {},
   "source": [
    "#### Checking the format for describing the feature"
   ]
  },
  {
   "cell_type": "code",
   "execution_count": 14,
   "metadata": {
    "ExecuteTime": {
     "end_time": "2020-12-10T17:20:04.930594Z",
     "start_time": "2020-12-10T17:20:04.917581Z"
    }
   },
   "outputs": [
    {
     "data": {
      "text/plain": [
       "[]"
      ]
     },
     "execution_count": 14,
     "metadata": {},
     "output_type": "execute_result"
    }
   ],
   "source": [
    "wfs.getOperationByName('DescribeFeatureType').formatOptions"
   ]
  },
  {
   "cell_type": "markdown",
   "metadata": {},
   "source": [
    "#### Checking the format for getting the capabilities"
   ]
  },
  {
   "cell_type": "code",
   "execution_count": 15,
   "metadata": {
    "ExecuteTime": {
     "end_time": "2020-12-10T17:20:04.946636Z",
     "start_time": "2020-12-10T17:20:04.933584Z"
    }
   },
   "outputs": [
    {
     "data": {
      "text/plain": [
       "[]"
      ]
     },
     "execution_count": 15,
     "metadata": {},
     "output_type": "execute_result"
    }
   ],
   "source": [
    "wfs.getOperationByName('GetCapabilities').formatOptions"
   ]
  },
  {
   "cell_type": "markdown",
   "metadata": {},
   "source": [
    "#### Requesting data from the WFS\n",
    "\n",
    "The features can be loaded with the function ``load_as_gpd(..)``."
   ]
  },
  {
   "cell_type": "code",
   "execution_count": 16,
   "metadata": {
    "ExecuteTime": {
     "end_time": "2020-12-10T17:20:14.375952Z",
     "start_time": "2020-12-10T17:20:04.949636Z"
    }
   },
   "outputs": [],
   "source": [
    "feature = gg.web.load_as_gpd(\"https://nibis.lbeg.de/net3/public/ogc.ashx?NodeId=476&Service=WFS&\")"
   ]
  },
  {
   "cell_type": "markdown",
   "metadata": {},
   "source": [
    "#### Checking the head of the data"
   ]
  },
  {
   "cell_type": "code",
   "execution_count": 17,
   "metadata": {
    "ExecuteTime": {
     "end_time": "2020-12-10T17:20:14.454768Z",
     "start_time": "2020-12-10T17:20:14.379938Z"
    }
   },
   "outputs": [
    {
     "data": {
      "text/html": [
       "<div>\n",
       "<style scoped>\n",
       "    .dataframe tbody tr th:only-of-type {\n",
       "        vertical-align: middle;\n",
       "    }\n",
       "\n",
       "    .dataframe tbody tr th {\n",
       "        vertical-align: top;\n",
       "    }\n",
       "\n",
       "    .dataframe thead th {\n",
       "        text-align: right;\n",
       "    }\n",
       "</style>\n",
       "<table border=\"1\" class=\"dataframe\">\n",
       "  <thead>\n",
       "    <tr style=\"text-align: right;\">\n",
       "      <th></th>\n",
       "      <th>gml_id</th>\n",
       "      <th>OBJECTID</th>\n",
       "      <th>ID</th>\n",
       "      <th>SURVEYNAME</th>\n",
       "      <th>ARCHIV</th>\n",
       "      <th>MESSJAHR</th>\n",
       "      <th>OPERATOR</th>\n",
       "      <th>OP_NACHFOL</th>\n",
       "      <th>MESSFIRMA</th>\n",
       "      <th>MESSPUNKTE</th>\n",
       "      <th>UP_DATE</th>\n",
       "      <th>geometry</th>\n",
       "    </tr>\n",
       "  </thead>\n",
       "  <tbody>\n",
       "    <tr>\n",
       "      <th>0</th>\n",
       "      <td>1541</td>\n",
       "      <td>1541</td>\n",
       "      <td>112</td>\n",
       "      <td>Jemgum 2007</td>\n",
       "      <td>0127494</td>\n",
       "      <td>2007</td>\n",
       "      <td>GdF Produktion Exploration Deutschland GmbH</td>\n",
       "      <td>Neptune Energy Deutschland GmbH</td>\n",
       "      <td>Geophysik und Geotechnik Leipzig GmbH</td>\n",
       "      <td>1340</td>\n",
       "      <td>2020-01-20T00:00:00+01:00</td>\n",
       "      <td>MULTIPOLYGON (((32395246.839 5907777.660, 3239...</td>\n",
       "    </tr>\n",
       "    <tr>\n",
       "      <th>1</th>\n",
       "      <td>1542</td>\n",
       "      <td>1542</td>\n",
       "      <td>111</td>\n",
       "      <td>Sagermeer 2005</td>\n",
       "      <td>0125831</td>\n",
       "      <td>2005</td>\n",
       "      <td>ExxonMobil Production Deutschland GmbH</td>\n",
       "      <td>ExxonMobil Production Deutschland GmbH</td>\n",
       "      <td>Comp. Generale Geophysique</td>\n",
       "      <td>2803</td>\n",
       "      <td>2020-01-20T00:00:00+01:00</td>\n",
       "      <td>MULTIPOLYGON (((32446717.522 5856710.088, 3244...</td>\n",
       "    </tr>\n",
       "    <tr>\n",
       "      <th>2</th>\n",
       "      <td>1543</td>\n",
       "      <td>1543</td>\n",
       "      <td>120</td>\n",
       "      <td>Hümmling 2013</td>\n",
       "      <td>0131520</td>\n",
       "      <td>2013</td>\n",
       "      <td>GDF SUEZ E&amp;P DEUTSCHLAND GMBH</td>\n",
       "      <td>Neptune Energy Deutschland GmbH</td>\n",
       "      <td>Deutsche Montan Technologie GmbH</td>\n",
       "      <td>342</td>\n",
       "      <td>2020-01-20T00:00:00+01:00</td>\n",
       "      <td>MULTIPOLYGON (((32416592.825 5852885.544, 3241...</td>\n",
       "    </tr>\n",
       "    <tr>\n",
       "      <th>3</th>\n",
       "      <td>1544</td>\n",
       "      <td>1544</td>\n",
       "      <td>49</td>\n",
       "      <td>Rotenburg/Wümme (1984)</td>\n",
       "      <td>0112162</td>\n",
       "      <td>1984</td>\n",
       "      <td>Deutsche Texaco AG Aufschluss und Gew.</td>\n",
       "      <td>Wintershall Dea Deutschland AG</td>\n",
       "      <td>Prakla Seismos</td>\n",
       "      <td>2184</td>\n",
       "      <td>2020-01-20T00:00:00+01:00</td>\n",
       "      <td>POLYGON ((32545955.921 5896473.525, 32544536.2...</td>\n",
       "    </tr>\n",
       "    <tr>\n",
       "      <th>4</th>\n",
       "      <td>1545</td>\n",
       "      <td>1545</td>\n",
       "      <td>102</td>\n",
       "      <td>Odisheim 1989/90</td>\n",
       "      <td>0112092</td>\n",
       "      <td>1989</td>\n",
       "      <td>BEB Erdgas und Erdöl GmbH</td>\n",
       "      <td>BEB Erdgas und Erdöl GmbH &amp; Co. KG</td>\n",
       "      <td>Prakla Seismos</td>\n",
       "      <td>2824</td>\n",
       "      <td>2020-01-20T00:00:00+01:00</td>\n",
       "      <td>POLYGON ((32504255.640 5967591.298, 32503387.8...</td>\n",
       "    </tr>\n",
       "  </tbody>\n",
       "</table>\n",
       "</div>"
      ],
      "text/plain": [
       "  gml_id  OBJECTID   ID              SURVEYNAME   ARCHIV  MESSJAHR  \\\n",
       "0   1541      1541  112             Jemgum 2007  0127494      2007   \n",
       "1   1542      1542  111          Sagermeer 2005  0125831      2005   \n",
       "2   1543      1543  120           Hümmling 2013  0131520      2013   \n",
       "3   1544      1544   49  Rotenburg/Wümme (1984)  0112162      1984   \n",
       "4   1545      1545  102        Odisheim 1989/90  0112092      1989   \n",
       "\n",
       "                                      OPERATOR  \\\n",
       "0  GdF Produktion Exploration Deutschland GmbH   \n",
       "1       ExxonMobil Production Deutschland GmbH   \n",
       "2                GDF SUEZ E&P DEUTSCHLAND GMBH   \n",
       "3       Deutsche Texaco AG Aufschluss und Gew.   \n",
       "4                    BEB Erdgas und Erdöl GmbH   \n",
       "\n",
       "                               OP_NACHFOL  \\\n",
       "0         Neptune Energy Deutschland GmbH   \n",
       "1  ExxonMobil Production Deutschland GmbH   \n",
       "2         Neptune Energy Deutschland GmbH   \n",
       "3          Wintershall Dea Deutschland AG   \n",
       "4      BEB Erdgas und Erdöl GmbH & Co. KG   \n",
       "\n",
       "                               MESSFIRMA  MESSPUNKTE  \\\n",
       "0  Geophysik und Geotechnik Leipzig GmbH        1340   \n",
       "1             Comp. Generale Geophysique        2803   \n",
       "2       Deutsche Montan Technologie GmbH         342   \n",
       "3                         Prakla Seismos        2184   \n",
       "4                         Prakla Seismos        2824   \n",
       "\n",
       "                     UP_DATE  \\\n",
       "0  2020-01-20T00:00:00+01:00   \n",
       "1  2020-01-20T00:00:00+01:00   \n",
       "2  2020-01-20T00:00:00+01:00   \n",
       "3  2020-01-20T00:00:00+01:00   \n",
       "4  2020-01-20T00:00:00+01:00   \n",
       "\n",
       "                                            geometry  \n",
       "0  MULTIPOLYGON (((32395246.839 5907777.660, 3239...  \n",
       "1  MULTIPOLYGON (((32446717.522 5856710.088, 3244...  \n",
       "2  MULTIPOLYGON (((32416592.825 5852885.544, 3241...  \n",
       "3  POLYGON ((32545955.921 5896473.525, 32544536.2...  \n",
       "4  POLYGON ((32504255.640 5967591.298, 32503387.8...  "
      ]
     },
     "execution_count": 17,
     "metadata": {},
     "output_type": "execute_result"
    }
   ],
   "source": [
    "feature.head()"
   ]
  },
  {
   "cell_type": "markdown",
   "metadata": {},
   "source": [
    "#### Plotting the data"
   ]
  },
  {
   "cell_type": "code",
   "execution_count": 18,
   "metadata": {
    "ExecuteTime": {
     "end_time": "2020-12-10T17:20:15.377494Z",
     "start_time": "2020-12-10T17:20:14.459772Z"
    }
   },
   "outputs": [
    {
     "data": {
      "image/png": "[encoded data removed]",
      "text/plain": [
       "<Figure size 748.8x514.8 with 1 Axes>"
      ]
     },
     "metadata": {},
     "output_type": "display_data"
    }
   ],
   "source": [
    "import matplotlib.pyplot as plt\n",
    "\n",
    "feature.plot()\n",
    "plt.grid()"
   ]
  },
  {
   "cell_type": "code",
   "execution_count": null,
   "metadata": {},
   "outputs": [],
   "source": []
  }
 ],
 "metadata": {
  "hide_input": false,
  "kernelspec": {
   "display_name": "Python 3",
   "language": "python",
   "name": "python3"
  },
  "language_info": {
   "codemirror_mode": {
    "name": "ipython",
    "version": 3
   },
   "file_extension": ".py",
   "mimetype": "text/x-python",
   "name": "python",
   "nbconvert_exporter": "python",
   "pygments_lexer": "ipython3",
   "version": "3.7.6"
  },
  "varInspector": {
   "cols": {
    "lenName": 16,
    "lenType": 16,
    "lenVar": 40
   },
   "kernels_config": {
    "python": {
     "delete_cmd_postfix": "",
     "delete_cmd_prefix": "del ",
     "library": "var_list.py",
     "varRefreshCmd": "print(var_dic_list())"
    },
    "r": {
     "delete_cmd_postfix": ") ",
     "delete_cmd_prefix": "rm(",
     "library": "var_list.r",
     "varRefreshCmd": "cat(var_dic_list()) "
    }
   },
   "types_to_exclude": [
    "module",
    "function",
    "builtin_function_or_method",
    "instance",
    "_Feature"
   ],
   "window_display": false
  }
 },
 "nbformat": 4,
 "nbformat_minor": 4
}
