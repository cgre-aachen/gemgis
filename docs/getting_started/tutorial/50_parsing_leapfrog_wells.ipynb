{
 "cells": [
  {
   "cell_type": "markdown",
   "metadata": {},
   "source": [
    "# 50 Parsing Leapfrog Wells\n",
    "\n",
    "Leapfrog provides well data in the form of several CSV files. These include a collar file, a survey file, a litho file and an assay file. With GemGIS it is now possible to read in these wells and visualize them. \n",
    "<img src=\"../images/tutorial50_cover.png\">"
   ]
  },
  {
   "cell_type": "markdown",
   "metadata": {},
   "source": [
    "## Set File Paths and download Tutorial Data\n",
    "\n",
    "If you downloaded the latest `GemGIS` version from the Github repository, append the path so that the package can be imported successfully. Otherwise, it is recommended to install `GemGIS` via `pip install gemgis` and import `GemGIS` using `import gemgis as gg`. In addition, the file path to the folder where the data is being stored is set. The tutorial data is downloaded using Pooch (https://www.fatiando.org/pooch/latest/index.html) and stored in the specified folder. Use `pip install pooch` if Pooch is not installed on your system yet."
   ]
  },
  {
   "cell_type": "code",
   "execution_count": 1,
   "metadata": {
    "ExecuteTime": {
     "end_time": "2021-03-17T12:18:16.181625Z",
     "start_time": "2021-03-17T12:18:13.904416Z"
    }
   },
   "outputs": [
    {
     "name": "stderr",
     "output_type": "stream",
     "text": [
      "WARNING (theano.configdefaults): g++ not available, if using conda: `conda install m2w64-toolchain`\n",
      "C:\\Users\\ale93371\\Anaconda3\\envs\\test_gempy\\lib\\site-packages\\theano\\configdefaults.py:560: UserWarning: DeprecationWarning: there is no c++ compiler.This is deprecated and with Theano 0.11 a c++ compiler will be mandatory\n",
      "  warnings.warn(\"DeprecationWarning: there is no c++ compiler.\"\n",
      "WARNING (theano.configdefaults): g++ not detected ! Theano will be unable to execute optimized C-implementations (for both CPU and GPU) and will default to Python implementations. Performance will be severely degraded. To remove this warning, set Theano flags cxx to an empty string.\n",
      "WARNING (theano.tensor.blas): Using NumPy C-API based implementation for BLAS functions.\n"
     ]
    }
   ],
   "source": [
    "import gemgis as gg\n",
    "\n",
    "file_path ='data/50_parsing_leapfrog_wells/'"
   ]
  },
  {
   "cell_type": "code",
   "execution_count": 2,
   "metadata": {
    "ExecuteTime": {
     "end_time": "2021-03-17T12:18:16.479684Z",
     "start_time": "2021-03-17T12:18:16.214747Z"
    }
   },
   "outputs": [
    {
     "name": "stderr",
     "output_type": "stream",
     "text": [
      "Downloading file '50_parsing_leapfrog_wells.zip' from 'https://rwth-aachen.sciebo.de/s/AfXRsZywYDbUF34/download?path=%2F50_parsing_leapfrog_wells.zip' to 'C:\\Users\\ale93371\\Documents\\gemgis\\docs\\getting_started\\tutorial\\data\\50_parsing_leapfrog_wells'.\n"
     ]
    }
   ],
   "source": [
    "gg.download_gemgis_data.download_tutorial_data(filename=\"50_parsing_leapfrog_wells.zip\", dirpath=file_path)"
   ]
  },
  {
   "cell_type": "markdown",
   "metadata": {},
   "source": [
    "## Loading Data\n",
    "\n",
    "The Leapfrog well data is read in as Pandas DataFrames."
   ]
  },
  {
   "cell_type": "code",
   "execution_count": 2,
   "metadata": {
    "ExecuteTime": {
     "end_time": "2021-01-20T17:15:53.119426Z",
     "start_time": "2021-01-20T17:15:50.338863Z"
    }
   },
   "outputs": [
    {
     "name": "stderr",
     "output_type": "stream",
     "text": [
      "WARNING (theano.configdefaults): g++ not available, if using conda: `conda install m2w64-toolchain`\n",
      "C:\\Users\\ale93371\\Anaconda3\\envs\\test_gempy\\lib\\site-packages\\theano\\configdefaults.py:560: UserWarning: DeprecationWarning: there is no c++ compiler.This is deprecated and with Theano 0.11 a c++ compiler will be mandatory\n",
      "  warnings.warn(\"DeprecationWarning: there is no c++ compiler.\"\n",
      "WARNING (theano.configdefaults): g++ not detected ! Theano will be unable to execute optimized C-implementations (for both CPU and GPU) and will default to Python implementations. Performance will be severely degraded. To remove this warning, set Theano flags cxx to an empty string.\n",
      "WARNING (theano.tensor.blas): Using NumPy C-API based implementation for BLAS functions.\n"
     ]
    },
    {
     "data": {
      "text/html": [
       "<div>\n",
       "<style scoped>\n",
       "    .dataframe tbody tr th:only-of-type {\n",
       "        vertical-align: middle;\n",
       "    }\n",
       "\n",
       "    .dataframe tbody tr th {\n",
       "        vertical-align: top;\n",
       "    }\n",
       "\n",
       "    .dataframe thead th {\n",
       "        text-align: right;\n",
       "    }\n",
       "</style>\n",
       "<table border=\"1\" class=\"dataframe\">\n",
       "  <thead>\n",
       "    <tr style=\"text-align: right;\">\n",
       "      <th></th>\n",
       "      <th>holeid</th>\n",
       "      <th>from</th>\n",
       "      <th>to</th>\n",
       "      <th>Geology</th>\n",
       "    </tr>\n",
       "  </thead>\n",
       "  <tbody>\n",
       "    <tr>\n",
       "      <th>0</th>\n",
       "      <td>UG_034</td>\n",
       "      <td>0.00</td>\n",
       "      <td>24.46</td>\n",
       "      <td>Conglomerate</td>\n",
       "    </tr>\n",
       "    <tr>\n",
       "      <th>1</th>\n",
       "      <td>UG_034</td>\n",
       "      <td>24.46</td>\n",
       "      <td>44.01</td>\n",
       "      <td>Arkoses</td>\n",
       "    </tr>\n",
       "    <tr>\n",
       "      <th>2</th>\n",
       "      <td>UG_034</td>\n",
       "      <td>44.01</td>\n",
       "      <td>122.29</td>\n",
       "      <td>Quartzitic sandstones</td>\n",
       "    </tr>\n",
       "    <tr>\n",
       "      <th>3</th>\n",
       "      <td>UG_034</td>\n",
       "      <td>122.29</td>\n",
       "      <td>140.70</td>\n",
       "      <td>Quartzites</td>\n",
       "    </tr>\n",
       "    <tr>\n",
       "      <th>4</th>\n",
       "      <td>UG_034</td>\n",
       "      <td>140.70</td>\n",
       "      <td>180.00</td>\n",
       "      <td>Lower Black shales</td>\n",
       "    </tr>\n",
       "  </tbody>\n",
       "</table>\n",
       "</div>"
      ],
      "text/plain": [
       "   holeid   from     to                Geology\n",
       "0  UG_034   0.00  24.46           Conglomerate\n",
       "1  UG_034  24.46  44.01                Arkoses\n",
       "2  UG_034  44.01 122.29  Quartzitic sandstones\n",
       "3  UG_034 122.29 140.70             Quartzites\n",
       "4  UG_034 140.70 180.00     Lower Black shales"
      ]
     },
     "execution_count": 2,
     "metadata": {},
     "output_type": "execute_result"
    }
   ],
   "source": [
    "import pandas as pd\n",
    "\n",
    "litho = pd.read_csv(file_path+'litho.csv')\n",
    "litho.head()"
   ]
  },
  {
   "cell_type": "code",
   "execution_count": 3,
   "metadata": {
    "ExecuteTime": {
     "end_time": "2021-01-20T17:15:53.135429Z",
     "start_time": "2021-01-20T17:15:53.121413Z"
    }
   },
   "outputs": [
    {
     "data": {
      "text/html": [
       "<div>\n",
       "<style scoped>\n",
       "    .dataframe tbody tr th:only-of-type {\n",
       "        vertical-align: middle;\n",
       "    }\n",
       "\n",
       "    .dataframe tbody tr th {\n",
       "        vertical-align: top;\n",
       "    }\n",
       "\n",
       "    .dataframe thead th {\n",
       "        text-align: right;\n",
       "    }\n",
       "</style>\n",
       "<table border=\"1\" class=\"dataframe\">\n",
       "  <thead>\n",
       "    <tr style=\"text-align: right;\">\n",
       "      <th></th>\n",
       "      <th>holeid</th>\n",
       "      <th>x</th>\n",
       "      <th>y</th>\n",
       "      <th>z</th>\n",
       "      <th>maxdepth</th>\n",
       "      <th>comment</th>\n",
       "    </tr>\n",
       "  </thead>\n",
       "  <tbody>\n",
       "    <tr>\n",
       "      <th>0</th>\n",
       "      <td>UG_034</td>\n",
       "      <td>12172.83</td>\n",
       "      <td>30799.71</td>\n",
       "      <td>1977.71</td>\n",
       "      <td>180</td>\n",
       "      <td>underground DH, upwards</td>\n",
       "    </tr>\n",
       "    <tr>\n",
       "      <th>1</th>\n",
       "      <td>RWTHO_006</td>\n",
       "      <td>12628.76</td>\n",
       "      <td>30259.13</td>\n",
       "      <td>2259.59</td>\n",
       "      <td>450</td>\n",
       "      <td>inclined</td>\n",
       "    </tr>\n",
       "    <tr>\n",
       "      <th>2</th>\n",
       "      <td>SonicS_006</td>\n",
       "      <td>12012.68</td>\n",
       "      <td>30557.53</td>\n",
       "      <td>2325.53</td>\n",
       "      <td>500</td>\n",
       "      <td>lift</td>\n",
       "    </tr>\n",
       "  </tbody>\n",
       "</table>\n",
       "</div>"
      ],
      "text/plain": [
       "       holeid        x        y       z  maxdepth                  comment\n",
       "0      UG_034 12172.83 30799.71 1977.71       180  underground DH, upwards\n",
       "1   RWTHO_006 12628.76 30259.13 2259.59       450                 inclined\n",
       "2  SonicS_006 12012.68 30557.53 2325.53       500                     lift"
      ]
     },
     "execution_count": 3,
     "metadata": {},
     "output_type": "execute_result"
    }
   ],
   "source": [
    "collar = pd.read_csv(file_path+'collar.csv', delimiter=';')\n",
    "collar"
   ]
  },
  {
   "cell_type": "code",
   "execution_count": 4,
   "metadata": {
    "ExecuteTime": {
     "end_time": "2021-01-20T17:15:53.150426Z",
     "start_time": "2021-01-20T17:15:53.137431Z"
    }
   },
   "outputs": [
    {
     "data": {
      "text/html": [
       "<div>\n",
       "<style scoped>\n",
       "    .dataframe tbody tr th:only-of-type {\n",
       "        vertical-align: middle;\n",
       "    }\n",
       "\n",
       "    .dataframe tbody tr th {\n",
       "        vertical-align: top;\n",
       "    }\n",
       "\n",
       "    .dataframe thead th {\n",
       "        text-align: right;\n",
       "    }\n",
       "</style>\n",
       "<table border=\"1\" class=\"dataframe\">\n",
       "  <thead>\n",
       "    <tr style=\"text-align: right;\">\n",
       "      <th></th>\n",
       "      <th>holeid</th>\n",
       "      <th>depth</th>\n",
       "      <th>dip</th>\n",
       "      <th>azimuth</th>\n",
       "    </tr>\n",
       "  </thead>\n",
       "  <tbody>\n",
       "    <tr>\n",
       "      <th>0</th>\n",
       "      <td>UG_034</td>\n",
       "      <td>0</td>\n",
       "      <td>-65.00</td>\n",
       "      <td>20</td>\n",
       "    </tr>\n",
       "    <tr>\n",
       "      <th>1</th>\n",
       "      <td>UG_034</td>\n",
       "      <td>180</td>\n",
       "      <td>-65.00</td>\n",
       "      <td>20</td>\n",
       "    </tr>\n",
       "    <tr>\n",
       "      <th>2</th>\n",
       "      <td>RWTHO_006</td>\n",
       "      <td>0</td>\n",
       "      <td>55.00</td>\n",
       "      <td>308</td>\n",
       "    </tr>\n",
       "    <tr>\n",
       "      <th>3</th>\n",
       "      <td>RWTHO_006</td>\n",
       "      <td>450</td>\n",
       "      <td>55.00</td>\n",
       "      <td>308</td>\n",
       "    </tr>\n",
       "    <tr>\n",
       "      <th>4</th>\n",
       "      <td>SonicS_006</td>\n",
       "      <td>0</td>\n",
       "      <td>90.00</td>\n",
       "      <td>20</td>\n",
       "    </tr>\n",
       "  </tbody>\n",
       "</table>\n",
       "</div>"
      ],
      "text/plain": [
       "       holeid  depth    dip  azimuth\n",
       "0      UG_034      0 -65.00       20\n",
       "1      UG_034    180 -65.00       20\n",
       "2   RWTHO_006      0  55.00      308\n",
       "3   RWTHO_006    450  55.00      308\n",
       "4  SonicS_006      0  90.00       20"
      ]
     },
     "execution_count": 4,
     "metadata": {},
     "output_type": "execute_result"
    }
   ],
   "source": [
    "survey = pd.read_csv(file_path+'survey.csv')\n",
    "survey.head()"
   ]
  },
  {
   "cell_type": "markdown",
   "metadata": {},
   "source": [
    "## Plotting the first well\n",
    "\n",
    "The first well to be plotted is well ``SonicS_006``. "
   ]
  },
  {
   "cell_type": "code",
   "execution_count": 5,
   "metadata": {
    "ExecuteTime": {
     "end_time": "2021-01-20T17:15:53.165677Z",
     "start_time": "2021-01-20T17:15:53.151427Z"
    }
   },
   "outputs": [
    {
     "data": {
      "text/html": [
       "<div>\n",
       "<style scoped>\n",
       "    .dataframe tbody tr th:only-of-type {\n",
       "        vertical-align: middle;\n",
       "    }\n",
       "\n",
       "    .dataframe tbody tr th {\n",
       "        vertical-align: top;\n",
       "    }\n",
       "\n",
       "    .dataframe thead th {\n",
       "        text-align: right;\n",
       "    }\n",
       "</style>\n",
       "<table border=\"1\" class=\"dataframe\">\n",
       "  <thead>\n",
       "    <tr style=\"text-align: right;\">\n",
       "      <th></th>\n",
       "      <th>holeid</th>\n",
       "      <th>depth</th>\n",
       "      <th>dip</th>\n",
       "      <th>azimuth</th>\n",
       "    </tr>\n",
       "  </thead>\n",
       "  <tbody>\n",
       "    <tr>\n",
       "      <th>0</th>\n",
       "      <td>SonicS_006</td>\n",
       "      <td>0</td>\n",
       "      <td>90.00</td>\n",
       "      <td>20</td>\n",
       "    </tr>\n",
       "    <tr>\n",
       "      <th>1</th>\n",
       "      <td>SonicS_006</td>\n",
       "      <td>10</td>\n",
       "      <td>89.50</td>\n",
       "      <td>20</td>\n",
       "    </tr>\n",
       "    <tr>\n",
       "      <th>2</th>\n",
       "      <td>SonicS_006</td>\n",
       "      <td>20</td>\n",
       "      <td>89.00</td>\n",
       "      <td>20</td>\n",
       "    </tr>\n",
       "    <tr>\n",
       "      <th>3</th>\n",
       "      <td>SonicS_006</td>\n",
       "      <td>30</td>\n",
       "      <td>88.50</td>\n",
       "      <td>20</td>\n",
       "    </tr>\n",
       "    <tr>\n",
       "      <th>4</th>\n",
       "      <td>SonicS_006</td>\n",
       "      <td>40</td>\n",
       "      <td>88.00</td>\n",
       "      <td>20</td>\n",
       "    </tr>\n",
       "  </tbody>\n",
       "</table>\n",
       "</div>"
      ],
      "text/plain": [
       "       holeid  depth   dip  azimuth\n",
       "0  SonicS_006      0 90.00       20\n",
       "1  SonicS_006     10 89.50       20\n",
       "2  SonicS_006     20 89.00       20\n",
       "3  SonicS_006     30 88.50       20\n",
       "4  SonicS_006     40 88.00       20"
      ]
     },
     "execution_count": 5,
     "metadata": {},
     "output_type": "execute_result"
    }
   ],
   "source": [
    "survey006 = survey[survey['holeid']=='SonicS_006']\n",
    "survey006 = survey006.reset_index().drop('index', axis=1)\n",
    "survey006.head()"
   ]
  },
  {
   "cell_type": "markdown",
   "metadata": {},
   "source": [
    "Getting the coordinates of the well at the surface."
   ]
  },
  {
   "cell_type": "code",
   "execution_count": 6,
   "metadata": {
    "ExecuteTime": {
     "end_time": "2021-01-20T17:15:53.181696Z",
     "start_time": "2021-01-20T17:15:53.166678Z"
    }
   },
   "outputs": [
    {
     "data": {
      "text/plain": [
       "array([12012.68053 , 30557.53476 ,  2325.532416])"
      ]
     },
     "execution_count": 6,
     "metadata": {},
     "output_type": "execute_result"
    }
   ],
   "source": [
    "x0 = collar[['x', 'y', 'z']].loc[2].values\n",
    "x0"
   ]
  },
  {
   "cell_type": "markdown",
   "metadata": {},
   "source": [
    "Creating the DataFrame from which the well paths are created."
   ]
  },
  {
   "cell_type": "code",
   "execution_count": 7,
   "metadata": {
    "ExecuteTime": {
     "end_time": "2021-01-20T17:15:53.229750Z",
     "start_time": "2021-01-20T17:15:53.186685Z"
    }
   },
   "outputs": [
    {
     "data": {
      "text/html": [
       "<div>\n",
       "<style scoped>\n",
       "    .dataframe tbody tr th:only-of-type {\n",
       "        vertical-align: middle;\n",
       "    }\n",
       "\n",
       "    .dataframe tbody tr th {\n",
       "        vertical-align: top;\n",
       "    }\n",
       "\n",
       "    .dataframe thead th {\n",
       "        text-align: right;\n",
       "    }\n",
       "</style>\n",
       "<table border=\"1\" class=\"dataframe\">\n",
       "  <thead>\n",
       "    <tr style=\"text-align: right;\">\n",
       "      <th></th>\n",
       "      <th>holeid</th>\n",
       "      <th>depth</th>\n",
       "      <th>dip</th>\n",
       "      <th>azimuth</th>\n",
       "      <th>depth_bottom</th>\n",
       "      <th>vector</th>\n",
       "      <th>segment_length</th>\n",
       "      <th>X</th>\n",
       "      <th>Y</th>\n",
       "      <th>Z</th>\n",
       "      <th>points</th>\n",
       "    </tr>\n",
       "  </thead>\n",
       "  <tbody>\n",
       "    <tr>\n",
       "      <th>0</th>\n",
       "      <td>SonicS_006</td>\n",
       "      <td>0</td>\n",
       "      <td>90.00</td>\n",
       "      <td>20</td>\n",
       "      <td>10.00</td>\n",
       "      <td>[[0.36482400173640905], [-0.18285080511417406]...</td>\n",
       "      <td>-10</td>\n",
       "      <td>12012.68</td>\n",
       "      <td>30557.53</td>\n",
       "      <td>2325.53</td>\n",
       "      <td>[12012.68053, 30557.534760000002, 2325.532416]</td>\n",
       "    </tr>\n",
       "    <tr>\n",
       "      <th>1</th>\n",
       "      <td>SonicS_006</td>\n",
       "      <td>0</td>\n",
       "      <td>90.00</td>\n",
       "      <td>20</td>\n",
       "      <td>10.00</td>\n",
       "      <td>[[0.36482400173640905], [-0.18285080511417406]...</td>\n",
       "      <td>-10</td>\n",
       "      <td>12009.03</td>\n",
       "      <td>30559.36</td>\n",
       "      <td>2316.40</td>\n",
       "      <td>[12009.032289982635, 30559.363268051144, 2316....</td>\n",
       "    </tr>\n",
       "    <tr>\n",
       "      <th>2</th>\n",
       "      <td>SonicS_006</td>\n",
       "      <td>10</td>\n",
       "      <td>89.50</td>\n",
       "      <td>20</td>\n",
       "      <td>20.00</td>\n",
       "      <td>[[0.4078265278090107], [0.014439265532404447],...</td>\n",
       "      <td>-10</td>\n",
       "      <td>12004.95</td>\n",
       "      <td>30559.22</td>\n",
       "      <td>2307.27</td>\n",
       "      <td>[12004.954024704546, 30559.21887539582, 2307.2...</td>\n",
       "    </tr>\n",
       "    <tr>\n",
       "      <th>3</th>\n",
       "      <td>SonicS_006</td>\n",
       "      <td>20</td>\n",
       "      <td>89.00</td>\n",
       "      <td>20</td>\n",
       "      <td>30.00</td>\n",
       "      <td>[[0.3509788964265648], [0.2081941003896598], [...</td>\n",
       "      <td>-10</td>\n",
       "      <td>12001.44</td>\n",
       "      <td>30557.14</td>\n",
       "      <td>2298.14</td>\n",
       "      <td>[12001.44423574028, 30557.136934391925, 2298.1...</td>\n",
       "    </tr>\n",
       "    <tr>\n",
       "      <th>4</th>\n",
       "      <td>SonicS_006</td>\n",
       "      <td>30</td>\n",
       "      <td>88.50</td>\n",
       "      <td>20</td>\n",
       "      <td>40.00</td>\n",
       "      <td>[[0.2081993903819504], [0.3509757584484337], [...</td>\n",
       "      <td>-10</td>\n",
       "      <td>11999.36</td>\n",
       "      <td>30553.63</td>\n",
       "      <td>2289.01</td>\n",
       "      <td>[11999.362241836461, 30553.62717680744, 2289.0...</td>\n",
       "    </tr>\n",
       "  </tbody>\n",
       "</table>\n",
       "</div>"
      ],
      "text/plain": [
       "       holeid depth   dip azimuth depth_bottom  \\\n",
       "0  SonicS_006     0 90.00      20        10.00   \n",
       "1  SonicS_006     0 90.00      20        10.00   \n",
       "2  SonicS_006    10 89.50      20        20.00   \n",
       "3  SonicS_006    20 89.00      20        30.00   \n",
       "4  SonicS_006    30 88.50      20        40.00   \n",
       "\n",
       "                                              vector segment_length        X  \\\n",
       "0  [[0.36482400173640905], [-0.18285080511417406]...            -10 12012.68   \n",
       "1  [[0.36482400173640905], [-0.18285080511417406]...            -10 12009.03   \n",
       "2  [[0.4078265278090107], [0.014439265532404447],...            -10 12004.95   \n",
       "3  [[0.3509788964265648], [0.2081941003896598], [...            -10 12001.44   \n",
       "4  [[0.2081993903819504], [0.3509757584484337], [...            -10 11999.36   \n",
       "\n",
       "         Y       Z                                             points  \n",
       "0 30557.53 2325.53     [12012.68053, 30557.534760000002, 2325.532416]  \n",
       "1 30559.36 2316.40  [12009.032289982635, 30559.363268051144, 2316....  \n",
       "2 30559.22 2307.27  [12004.954024704546, 30559.21887539582, 2307.2...  \n",
       "3 30557.14 2298.14  [12001.44423574028, 30557.136934391925, 2298.1...  \n",
       "4 30553.63 2289.01  [11999.362241836461, 30553.62717680744, 2289.0...  "
      ]
     },
     "execution_count": 7,
     "metadata": {},
     "output_type": "execute_result"
    }
   ],
   "source": [
    "df_survey = gg.visualization.create_deviated_borehole_df(df_survey=survey006, position=x0)\n",
    "df_survey.head()"
   ]
  },
  {
   "cell_type": "markdown",
   "metadata": {},
   "source": [
    "Creating lines from DataFrame."
   ]
  },
  {
   "cell_type": "code",
   "execution_count": 8,
   "metadata": {
    "ExecuteTime": {
     "end_time": "2021-01-20T17:15:53.245754Z",
     "start_time": "2021-01-20T17:15:53.231732Z"
    }
   },
   "outputs": [
    {
     "data": {
      "text/html": [
       "\n",
       "<table>\n",
       "<tr><th>PolyData</th><th>Information</th></tr>\n",
       "<tr><td>N Cells</td><td>52</td></tr>\n",
       "<tr><td>N Points</td><td>51</td></tr>\n",
       "<tr><td>X Bounds</td><td>1.200e+04, 1.202e+04</td></tr>\n",
       "<tr><td>Y Bounds</td><td>3.054e+04, 3.056e+04</td></tr>\n",
       "<tr><td>Z Bounds</td><td>1.869e+03, 2.326e+03</td></tr>\n",
       "<tr><td>N Arrays</td><td>0</td></tr>\n",
       "</table>\n",
       "\n"
      ],
      "text/plain": [
       "PolyData (0x2050be299a0)\n",
       "  N Cells:\t52\n",
       "  N Points:\t51\n",
       "  X Bounds:\t1.200e+04, 1.202e+04\n",
       "  Y Bounds:\t3.054e+04, 3.056e+04\n",
       "  Z Bounds:\t1.869e+03, 2.326e+03\n",
       "  N Arrays:\t0"
      ]
     },
     "execution_count": 8,
     "metadata": {},
     "output_type": "execute_result"
    }
   ],
   "source": [
    "lines = gg.visualization.create_lines_from_points(df=df_survey)\n",
    "lines"
   ]
  },
  {
   "cell_type": "markdown",
   "metadata": {},
   "source": [
    "Creating tubes from lines."
   ]
  },
  {
   "cell_type": "code",
   "execution_count": 9,
   "metadata": {
    "ExecuteTime": {
     "end_time": "2021-01-20T17:15:53.261751Z",
     "start_time": "2021-01-20T17:15:53.247736Z"
    }
   },
   "outputs": [
    {
     "data": {
      "text/html": [
       "<table><tr><th>Header</th><th>Data Arrays</th></tr><tr><td>\n",
       "<table>\n",
       "<tr><th>PolyData</th><th>Information</th></tr>\n",
       "<tr><td>N Cells</td><td>22</td></tr>\n",
       "<tr><td>N Points</td><td>1060</td></tr>\n",
       "<tr><td>X Bounds</td><td>1.199e+04, 1.203e+04</td></tr>\n",
       "<tr><td>Y Bounds</td><td>3.053e+04, 3.057e+04</td></tr>\n",
       "<tr><td>Z Bounds</td><td>1.865e+03, 2.330e+03</td></tr>\n",
       "<tr><td>N Arrays</td><td>3</td></tr>\n",
       "</table>\n",
       "\n",
       "</td><td>\n",
       "<table>\n",
       "<tr><th>Name</th><th>Field</th><th>Type</th><th>N Comp</th><th>Min</th><th>Max</th></tr>\n",
       "<tr><td><b>scalars</b></td><td>Points</td><td>int32</td><td>1</td><td>0.000e+00</td><td>5.000e+01</td></tr>\n",
       "<tr><td>TubeNormals</td><td>Points</td><td>float32</td><td>3</td><td>-9.996e-01</td><td>9.996e-01</td></tr>\n",
       "<tr><td>Depth</td><td>Points</td><td>float64</td><td>1</td><td>1.865e+03</td><td>2.330e+03</td></tr>\n",
       "</table>\n",
       "\n",
       "</td></tr> </table>"
      ],
      "text/plain": [
       "PolyData (0x2050be29e80)\n",
       "  N Cells:\t22\n",
       "  N Points:\t1060\n",
       "  X Bounds:\t1.199e+04, 1.203e+04\n",
       "  Y Bounds:\t3.053e+04, 3.057e+04\n",
       "  Z Bounds:\t1.865e+03, 2.330e+03\n",
       "  N Arrays:\t3"
      ]
     },
     "execution_count": 9,
     "metadata": {},
     "output_type": "execute_result"
    }
   ],
   "source": [
    "tubes = gg.visualization.create_borehole_tube(df=df_survey, line=lines, radius=10)\n",
    "tubes"
   ]
  },
  {
   "cell_type": "markdown",
   "metadata": {},
   "source": [
    "Plotting the well."
   ]
  },
  {
   "cell_type": "code",
   "execution_count": 10,
   "metadata": {
    "ExecuteTime": {
     "end_time": "2021-01-20T17:15:53.606417Z",
     "start_time": "2021-01-20T17:15:53.263748Z"
    }
   },
   "outputs": [
    {
     "data": {
      "image/png": "[encoded data removed]",
      "text/plain": [
       "<PIL.Image.Image image mode=RGB size=1024x768 at 0x2050BDD8100>"
      ]
     },
     "metadata": {},
     "output_type": "display_data"
    }
   ],
   "source": [
    "import pyvista as pv\n",
    "\n",
    "sargs = dict(fmt=\"%.0f\", color='black')\n",
    "\n",
    "p = pv.Plotter(notebook=True)\n",
    "\n",
    "# Adding DEM\n",
    "p.add_mesh(tubes, scalars='Depth', scalar_bar_args=sargs)\n",
    "\n",
    "\n",
    "p.set_background('white')\n",
    "p.show_grid(color='black')\n",
    "p.set_scale(1,1,1)\n",
    "p.show()"
   ]
  },
  {
   "cell_type": "markdown",
   "metadata": {},
   "source": [
    "## Plotting the second well\n",
    "\n",
    "The second well that will be plotted is ``RWTHO_006``."
   ]
  },
  {
   "cell_type": "code",
   "execution_count": 11,
   "metadata": {
    "ExecuteTime": {
     "end_time": "2021-01-20T17:15:53.621682Z",
     "start_time": "2021-01-20T17:15:53.608416Z"
    }
   },
   "outputs": [
    {
     "data": {
      "text/html": [
       "<div>\n",
       "<style scoped>\n",
       "    .dataframe tbody tr th:only-of-type {\n",
       "        vertical-align: middle;\n",
       "    }\n",
       "\n",
       "    .dataframe tbody tr th {\n",
       "        vertical-align: top;\n",
       "    }\n",
       "\n",
       "    .dataframe thead th {\n",
       "        text-align: right;\n",
       "    }\n",
       "</style>\n",
       "<table border=\"1\" class=\"dataframe\">\n",
       "  <thead>\n",
       "    <tr style=\"text-align: right;\">\n",
       "      <th></th>\n",
       "      <th>holeid</th>\n",
       "      <th>depth</th>\n",
       "      <th>dip</th>\n",
       "      <th>azimuth</th>\n",
       "    </tr>\n",
       "  </thead>\n",
       "  <tbody>\n",
       "    <tr>\n",
       "      <th>0</th>\n",
       "      <td>RWTHO_006</td>\n",
       "      <td>0</td>\n",
       "      <td>55.00</td>\n",
       "      <td>308</td>\n",
       "    </tr>\n",
       "    <tr>\n",
       "      <th>1</th>\n",
       "      <td>RWTHO_006</td>\n",
       "      <td>450</td>\n",
       "      <td>55.00</td>\n",
       "      <td>308</td>\n",
       "    </tr>\n",
       "  </tbody>\n",
       "</table>\n",
       "</div>"
      ],
      "text/plain": [
       "      holeid  depth   dip  azimuth\n",
       "0  RWTHO_006      0 55.00      308\n",
       "1  RWTHO_006    450 55.00      308"
      ]
     },
     "execution_count": 11,
     "metadata": {},
     "output_type": "execute_result"
    }
   ],
   "source": [
    "surveyrwth = survey[survey['holeid']=='RWTHO_006']\n",
    "surveyrwth = surveyrwth.reset_index().drop('index', axis=1)\n",
    "surveyrwth.head()"
   ]
  },
  {
   "cell_type": "markdown",
   "metadata": {},
   "source": [
    "Getting the coordinates of the well at the surface."
   ]
  },
  {
   "cell_type": "code",
   "execution_count": 12,
   "metadata": {
    "ExecuteTime": {
     "end_time": "2021-01-20T17:15:53.637706Z",
     "start_time": "2021-01-20T17:15:53.623682Z"
    }
   },
   "outputs": [
    {
     "data": {
      "text/plain": [
       "array([12628.75598, 30259.12988,  2259.59034])"
      ]
     },
     "execution_count": 12,
     "metadata": {},
     "output_type": "execute_result"
    }
   ],
   "source": [
    "x0 = collar[['x', 'y', 'z']].loc[1].values\n",
    "x0"
   ]
  },
  {
   "cell_type": "markdown",
   "metadata": {},
   "source": [
    "Creating the DataFrame from which the well paths are created."
   ]
  },
  {
   "cell_type": "code",
   "execution_count": 13,
   "metadata": {
    "ExecuteTime": {
     "end_time": "2021-01-20T17:15:53.669713Z",
     "start_time": "2021-01-20T17:15:53.639708Z"
    }
   },
   "outputs": [
    {
     "data": {
      "text/html": [
       "<div>\n",
       "<style scoped>\n",
       "    .dataframe tbody tr th:only-of-type {\n",
       "        vertical-align: middle;\n",
       "    }\n",
       "\n",
       "    .dataframe tbody tr th {\n",
       "        vertical-align: top;\n",
       "    }\n",
       "\n",
       "    .dataframe thead th {\n",
       "        text-align: right;\n",
       "    }\n",
       "</style>\n",
       "<table border=\"1\" class=\"dataframe\">\n",
       "  <thead>\n",
       "    <tr style=\"text-align: right;\">\n",
       "      <th></th>\n",
       "      <th>holeid</th>\n",
       "      <th>depth</th>\n",
       "      <th>dip</th>\n",
       "      <th>azimuth</th>\n",
       "      <th>depth_bottom</th>\n",
       "      <th>vector</th>\n",
       "      <th>segment_length</th>\n",
       "      <th>X</th>\n",
       "      <th>Y</th>\n",
       "      <th>Z</th>\n",
       "      <th>points</th>\n",
       "    </tr>\n",
       "  </thead>\n",
       "  <tbody>\n",
       "    <tr>\n",
       "      <th>0</th>\n",
       "      <td>RWTHO_006</td>\n",
       "      <td>0</td>\n",
       "      <td>55.00</td>\n",
       "      <td>308</td>\n",
       "      <td>450.00</td>\n",
       "      <td>[[-0.992088794420255], [0.021957082623147627],...</td>\n",
       "      <td>-450</td>\n",
       "      <td>12628.76</td>\n",
       "      <td>30259.13</td>\n",
       "      <td>2259.59</td>\n",
       "      <td>[12628.75598, 30259.12988, 2259.5903399999997]</td>\n",
       "    </tr>\n",
       "    <tr>\n",
       "      <th>1</th>\n",
       "      <td>RWTHO_006</td>\n",
       "      <td>0</td>\n",
       "      <td>55.00</td>\n",
       "      <td>308</td>\n",
       "      <td>450.00</td>\n",
       "      <td>[[-0.992088794420255], [0.021957082623147627],...</td>\n",
       "      <td>-450</td>\n",
       "      <td>13075.20</td>\n",
       "      <td>30249.25</td>\n",
       "      <td>2203.97</td>\n",
       "      <td>[13075.195937489114, 30249.249192819585, 2203....</td>\n",
       "    </tr>\n",
       "  </tbody>\n",
       "</table>\n",
       "</div>"
      ],
      "text/plain": [
       "      holeid depth   dip azimuth depth_bottom  \\\n",
       "0  RWTHO_006     0 55.00     308       450.00   \n",
       "1  RWTHO_006     0 55.00     308       450.00   \n",
       "\n",
       "                                              vector segment_length        X  \\\n",
       "0  [[-0.992088794420255], [0.021957082623147627],...           -450 12628.76   \n",
       "1  [[-0.992088794420255], [0.021957082623147627],...           -450 13075.20   \n",
       "\n",
       "         Y       Z                                             points  \n",
       "0 30259.13 2259.59     [12628.75598, 30259.12988, 2259.5903399999997]  \n",
       "1 30249.25 2203.97  [13075.195937489114, 30249.249192819585, 2203....  "
      ]
     },
     "execution_count": 13,
     "metadata": {},
     "output_type": "execute_result"
    }
   ],
   "source": [
    "df_survey = gg.visualization.create_deviated_borehole_df(df_survey=surveyrwth, position=x0)\n",
    "df_survey"
   ]
  },
  {
   "cell_type": "markdown",
   "metadata": {},
   "source": [
    "Creating lines from DataFrame."
   ]
  },
  {
   "cell_type": "code",
   "execution_count": 14,
   "metadata": {
    "ExecuteTime": {
     "end_time": "2021-01-20T17:15:53.684716Z",
     "start_time": "2021-01-20T17:15:53.670714Z"
    }
   },
   "outputs": [
    {
     "data": {
      "text/html": [
       "\n",
       "<table>\n",
       "<tr><th>PolyData</th><th>Information</th></tr>\n",
       "<tr><td>N Cells</td><td>3</td></tr>\n",
       "<tr><td>N Points</td><td>2</td></tr>\n",
       "<tr><td>X Bounds</td><td>1.263e+04, 1.308e+04</td></tr>\n",
       "<tr><td>Y Bounds</td><td>3.025e+04, 3.026e+04</td></tr>\n",
       "<tr><td>Z Bounds</td><td>2.204e+03, 2.260e+03</td></tr>\n",
       "<tr><td>N Arrays</td><td>0</td></tr>\n",
       "</table>\n",
       "\n"
      ],
      "text/plain": [
       "PolyData (0x20511019040)\n",
       "  N Cells:\t3\n",
       "  N Points:\t2\n",
       "  X Bounds:\t1.263e+04, 1.308e+04\n",
       "  Y Bounds:\t3.025e+04, 3.026e+04\n",
       "  Z Bounds:\t2.204e+03, 2.260e+03\n",
       "  N Arrays:\t0"
      ]
     },
     "execution_count": 14,
     "metadata": {},
     "output_type": "execute_result"
    }
   ],
   "source": [
    "lines = gg.visualization.create_lines_from_points(df=df_survey)\n",
    "lines"
   ]
  },
  {
   "cell_type": "markdown",
   "metadata": {},
   "source": [
    "Creating tubes from lines."
   ]
  },
  {
   "cell_type": "code",
   "execution_count": 15,
   "metadata": {
    "ExecuteTime": {
     "end_time": "2021-01-20T17:15:53.700722Z",
     "start_time": "2021-01-20T17:15:53.686718Z"
    }
   },
   "outputs": [
    {
     "data": {
      "text/html": [
       "<table><tr><th>Header</th><th>Data Arrays</th></tr><tr><td>\n",
       "<table>\n",
       "<tr><th>PolyData</th><th>Information</th></tr>\n",
       "<tr><td>N Cells</td><td>22</td></tr>\n",
       "<tr><td>N Points</td><td>80</td></tr>\n",
       "<tr><td>X Bounds</td><td>1.263e+04, 1.308e+04</td></tr>\n",
       "<tr><td>Y Bounds</td><td>3.024e+04, 3.027e+04</td></tr>\n",
       "<tr><td>Z Bounds</td><td>2.194e+03, 2.270e+03</td></tr>\n",
       "<tr><td>N Arrays</td><td>3</td></tr>\n",
       "</table>\n",
       "\n",
       "</td><td>\n",
       "<table>\n",
       "<tr><th>Name</th><th>Field</th><th>Type</th><th>N Comp</th><th>Min</th><th>Max</th></tr>\n",
       "<tr><td><b>scalars</b></td><td>Points</td><td>int32</td><td>1</td><td>0.000e+00</td><td>1.000e+00</td></tr>\n",
       "<tr><td>TubeNormals</td><td>Points</td><td>float32</td><td>3</td><td>-9.998e-01</td><td>9.998e-01</td></tr>\n",
       "<tr><td>Depth</td><td>Points</td><td>float64</td><td>1</td><td>2.194e+03</td><td>2.270e+03</td></tr>\n",
       "</table>\n",
       "\n",
       "</td></tr> </table>"
      ],
      "text/plain": [
       "PolyData (0x20511019520)\n",
       "  N Cells:\t22\n",
       "  N Points:\t80\n",
       "  X Bounds:\t1.263e+04, 1.308e+04\n",
       "  Y Bounds:\t3.024e+04, 3.027e+04\n",
       "  Z Bounds:\t2.194e+03, 2.270e+03\n",
       "  N Arrays:\t3"
      ]
     },
     "execution_count": 15,
     "metadata": {},
     "output_type": "execute_result"
    }
   ],
   "source": [
    "tubes = gg.visualization.create_borehole_tube(df=df_survey, line=lines, radius=10)\n",
    "tubes"
   ]
  },
  {
   "cell_type": "markdown",
   "metadata": {},
   "source": [
    "Plotting the well."
   ]
  },
  {
   "cell_type": "code",
   "execution_count": 16,
   "metadata": {
    "ExecuteTime": {
     "end_time": "2021-01-20T17:15:53.952417Z",
     "start_time": "2021-01-20T17:15:53.702230Z"
    }
   },
   "outputs": [
    {
     "data": {
      "image/png": "[encoded data removed]",
      "text/plain": [
       "<PIL.Image.Image image mode=RGB size=1024x768 at 0x2051101E760>"
      ]
     },
     "metadata": {},
     "output_type": "display_data"
    }
   ],
   "source": [
    "import pyvista as pv\n",
    "\n",
    "sargs = dict(fmt=\"%.0f\", color='black')\n",
    "\n",
    "p = pv.Plotter(notebook=True)\n",
    "\n",
    "# Adding DEM\n",
    "p.add_mesh(tubes, scalar_bar_args=sargs)\n",
    "\n",
    "\n",
    "p.set_background('white')\n",
    "p.show_grid(color='black')\n",
    "p.set_scale(1,1,1)\n",
    "p.show()"
   ]
  },
  {
   "cell_type": "markdown",
   "metadata": {},
   "source": [
    "## Creating tubes for all wells\n",
    "\n",
    "All tubes for all wells can be created with the function ``create_deviated_boreholes_3d(..)``."
   ]
  },
  {
   "cell_type": "code",
   "execution_count": 17,
   "metadata": {
    "ExecuteTime": {
     "end_time": "2021-01-20T17:15:54.015655Z",
     "start_time": "2021-01-20T17:15:53.953419Z"
    }
   },
   "outputs": [
    {
     "data": {
      "text/html": [
       "<table><tr><th>Information</th><th>Blocks</th></tr><tr><td>\n",
       "<table>\n",
       "<tr><th>MultiBlock</th><th>Values</th></tr>\n",
       "<tr><td>N Blocks</td><td>3</td></tr>\n",
       "<tr><td>X Bounds</td><td>12003.268, 12641.589</td></tr>\n",
       "<tr><td>Y Bounds</td><td>30234.730, 30809.708</td></tr>\n",
       "<tr><td>Z Bounds</td><td>1799.074, 2329.613</td></tr>\n",
       "</table>\n",
       "\n",
       "</td><td>\n",
       "<table>\n",
       "<tr><th>Index</th><th>Name</th><th>Type</th></tr>\n",
       "<tr><th>0</th><th>Block-00</th><th>PolyData</th></tr>\n",
       "<tr><th>1</th><th>Block-01</th><th>PolyData</th></tr>\n",
       "<tr><th>2</th><th>Block-02</th><th>PolyData</th></tr>\n",
       "</table>\n",
       "\n",
       "</td></tr> </table>"
      ],
      "text/plain": [
       "MultiBlock (0x20511020820)\n",
       "  N Blocks:\t3\n",
       "  X Bounds:\t12003.268, 12641.589\n",
       "  Y Bounds:\t30234.730, 30809.708\n",
       "  Z Bounds:\t1799.074, 2329.613"
      ]
     },
     "execution_count": 17,
     "metadata": {},
     "output_type": "execute_result"
    }
   ],
   "source": [
    "tubes, df_groups = gg.visualization.create_deviated_boreholes_3d(df_collar=collar, \n",
    "                                                                 df_survey=survey, \n",
    "                                                                 min_length=10, \n",
    "                                                                 collar_depth='maxdepth', \n",
    "                                                                 survey_depth='depth', \n",
    "                                                                 index='holeid')\n",
    "tubes"
   ]
  },
  {
   "cell_type": "code",
   "execution_count": 18,
   "metadata": {
    "ExecuteTime": {
     "end_time": "2021-01-20T17:15:54.296156Z",
     "start_time": "2021-01-20T17:15:54.017642Z"
    }
   },
   "outputs": [
    {
     "data": {
      "image/png": "[encoded data removed]",
      "text/plain": [
       "<PIL.Image.Image image mode=RGB size=1024x768 at 0x2051101E7F0>"
      ]
     },
     "metadata": {},
     "output_type": "display_data"
    }
   ],
   "source": [
    "import pyvista as pv\n",
    "\n",
    "sargs = dict(fmt=\"%.0f\", color='black')\n",
    "\n",
    "p = pv.Plotter(notebook=True)\n",
    "\n",
    "# Adding DEM\n",
    "p.add_mesh(tubes, scalars='Depth', scalar_bar_args=sargs)\n",
    "\n",
    "\n",
    "p.set_background('white')\n",
    "p.show_grid(color='black')\n",
    "p.set_scale(1,1,1)\n",
    "p.show()"
   ]
  },
  {
   "cell_type": "code",
   "execution_count": null,
   "metadata": {},
   "outputs": [],
   "source": []
  }
 ],
 "metadata": {
  "hide_input": false,
  "kernelspec": {
   "display_name": "Python 3",
   "language": "python",
   "name": "python3"
  },
  "language_info": {
   "codemirror_mode": {
    "name": "ipython",
    "version": 3
   },
   "file_extension": ".py",
   "mimetype": "text/x-python",
   "name": "python",
   "nbconvert_exporter": "python",
   "pygments_lexer": "ipython3",
   "version": "3.7.6"
  },
  "varInspector": {
   "cols": {
    "lenName": 16,
    "lenType": 16,
    "lenVar": 40
   },
   "kernels_config": {
    "python": {
     "delete_cmd_postfix": "",
     "delete_cmd_prefix": "del ",
     "library": "var_list.py",
     "varRefreshCmd": "print(var_dic_list())"
    },
    "r": {
     "delete_cmd_postfix": ") ",
     "delete_cmd_prefix": "rm(",
     "library": "var_list.r",
     "varRefreshCmd": "cat(var_dic_list()) "
    }
   },
   "types_to_exclude": [
    "module",
    "function",
    "builtin_function_or_method",
    "instance",
    "_Feature"
   ],
   "window_display": false
  }
 },
 "nbformat": 4,
 "nbformat_minor": 4
}
