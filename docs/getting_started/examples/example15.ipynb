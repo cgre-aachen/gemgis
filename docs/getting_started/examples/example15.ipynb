{
 "cells": [
  {
   "cell_type": "markdown",
   "id": "arranged-tenant",
   "metadata": {},
   "source": [
    "# Example 15 - Three Point Problem\n",
    "\n",
    "This example will show how to convert the geological map below using ``GemGIS`` to a `GemPy` model. This example is based on digitized data. The area is 1187 m wide (W-E extent) and 1479 m high (N-S extent). This example represents a classic \"three-point-problem\" of a planar dipping layer. The interface points were not recorded at the surface but rather in boreholes at depth. The fault has an offset of 20 m but no further interface points are located beyond the fault. This will be dealt with in a two model approach.\n",
    "\n",
    "The map has been georeferenced with QGIS. The outcrops of the layers were digitized in QGIS. The contour lines were also digitized and will be interpolated with `GemGIS` to create a topography for the model. \n",
    "\n",
    "<img src=\"../images/cover_example15.png\" width=\"800\">\n",
    "\n",
    "Map Source: An Introduction to Geological Structures and Maps by G.M. Bennison"
   ]
  },
  {
   "cell_type": "markdown",
   "id": "allied-vessel",
   "metadata": {},
   "source": [
    "## Import GemGIS\n",
    "\n",
    "If you have installed ``GemGIS`` via pip, you can import ``GemGIS`` like any other package. If you have downloaded the repository, append the path to the directory where the ``GemGIS`` repository is stored and then import ``GemGIS``. "
   ]
  },
  {
   "cell_type": "code",
   "execution_count": 1,
   "id": "neither-funeral",
   "metadata": {
    "ExecuteTime": {
     "end_time": "2021-04-03T13:54:15.620907Z",
     "start_time": "2021-04-03T13:54:14.482225Z"
    }
   },
   "outputs": [],
   "source": [
    "import warnings\n",
    "warnings.filterwarnings(\"ignore\")\n",
    "import gemgis as gg"
   ]
  },
  {
   "cell_type": "markdown",
   "id": "bottom-pendant",
   "metadata": {},
   "source": [
    "## Importing Libraries and loading Data\n",
    "\n",
    "All remaining packages can be loaded in order to prepare the data and to construct the model. The example data is downloaded from an external server using `pooch`. It will be stored in a data folder in the same directory where this notebook is stored.  "
   ]
  },
  {
   "cell_type": "code",
   "execution_count": 2,
   "id": "polar-appliance",
   "metadata": {
    "ExecuteTime": {
     "end_time": "2021-04-03T13:54:15.636449Z",
     "start_time": "2021-04-03T13:54:15.623918Z"
    }
   },
   "outputs": [],
   "source": [
    "import geopandas as gpd\n",
    "import rasterio "
   ]
  },
  {
   "cell_type": "code",
   "execution_count": 3,
   "id": "healthy-queens",
   "metadata": {
    "ExecuteTime": {
     "end_time": "2021-04-03T13:54:16.457563Z",
     "start_time": "2021-04-03T13:54:15.638448Z"
    }
   },
   "outputs": [
    {
     "name": "stderr",
     "output_type": "stream",
     "text": [
      "Downloading file 'example15_three_point_problem.zip' from 'https://rwth-aachen.sciebo.de/s/AfXRsZywYDbUF34/download?path=%2Fexample15_three_point_problem.zip' to 'C:\\Users\\ale93371\\Documents\\gemgis\\docs\\getting_started\\examples\\data\\example15'.\n"
     ]
    }
   ],
   "source": [
    "file_path = 'data/example15/'\n",
    "gg.download_gemgis_data.download_tutorial_data(filename=\"example15_three_point_problem.zip\", dirpath=file_path)"
   ]
  },
  {
   "cell_type": "markdown",
   "id": "impressed-database",
   "metadata": {},
   "source": [
    "## Creating Digital Elevation Model from Contour Lines\n",
    "\n",
    "The digital elevation model (DEM) will be created by interpolating contour lines digitized from the georeferenced map using the `SciPy` Radial Basis Function interpolation wrapped in `GemGIS`. The respective function used for that is `gg.vector.interpolate_raster()`. \n",
    "\n",
    "<img src=\"../images/dem_example15.png\" width=\"800\">"
   ]
  },
  {
   "cell_type": "code",
   "execution_count": 4,
   "id": "informed-tomorrow",
   "metadata": {
    "ExecuteTime": {
     "end_time": "2021-04-03T13:54:16.537664Z",
     "start_time": "2021-04-03T13:54:16.459549Z"
    }
   },
   "outputs": [
    {
     "data": {
      "text/html": [
       "<div>\n",
       "<style scoped>\n",
       "    .dataframe tbody tr th:only-of-type {\n",
       "        vertical-align: middle;\n",
       "    }\n",
       "\n",
       "    .dataframe tbody tr th {\n",
       "        vertical-align: top;\n",
       "    }\n",
       "\n",
       "    .dataframe thead th {\n",
       "        text-align: right;\n",
       "    }\n",
       "</style>\n",
       "<table border=\"1\" class=\"dataframe\">\n",
       "  <thead>\n",
       "    <tr style=\"text-align: right;\">\n",
       "      <th></th>\n",
       "      <th>id</th>\n",
       "      <th>Z</th>\n",
       "      <th>geometry</th>\n",
       "    </tr>\n",
       "  </thead>\n",
       "  <tbody>\n",
       "    <tr>\n",
       "      <th>0</th>\n",
       "      <td>None</td>\n",
       "      <td>180</td>\n",
       "      <td>LINESTRING (608.177 -0.021, 598.911 22.516, 58...</td>\n",
       "    </tr>\n",
       "    <tr>\n",
       "      <th>1</th>\n",
       "      <td>None</td>\n",
       "      <td>190</td>\n",
       "      <td>LINESTRING (323.662 216.425, 321.832 254.178, ...</td>\n",
       "    </tr>\n",
       "    <tr>\n",
       "      <th>2</th>\n",
       "      <td>None</td>\n",
       "      <td>200</td>\n",
       "      <td>LINESTRING (142.794 190.113, 153.433 227.980, ...</td>\n",
       "    </tr>\n",
       "    <tr>\n",
       "      <th>3</th>\n",
       "      <td>None</td>\n",
       "      <td>250</td>\n",
       "      <td>LINESTRING (1.395 1193.695, 20.385 1232.592, 3...</td>\n",
       "    </tr>\n",
       "    <tr>\n",
       "      <th>4</th>\n",
       "      <td>None</td>\n",
       "      <td>240</td>\n",
       "      <td>LINESTRING (1.623 925.311, 8.487 939.039, 13.7...</td>\n",
       "    </tr>\n",
       "  </tbody>\n",
       "</table>\n",
       "</div>"
      ],
      "text/plain": [
       "     id    Z                                           geometry\n",
       "0  None  180  LINESTRING (608.177 -0.021, 598.911 22.516, 58...\n",
       "1  None  190  LINESTRING (323.662 216.425, 321.832 254.178, ...\n",
       "2  None  200  LINESTRING (142.794 190.113, 153.433 227.980, ...\n",
       "3  None  250  LINESTRING (1.395 1193.695, 20.385 1232.592, 3...\n",
       "4  None  240  LINESTRING (1.623 925.311, 8.487 939.039, 13.7..."
      ]
     },
     "execution_count": 4,
     "metadata": {},
     "output_type": "execute_result"
    }
   ],
   "source": [
    "topo = gpd.read_file(file_path + 'topo15.shp')\n",
    "topo.head()"
   ]
  },
  {
   "cell_type": "markdown",
   "id": "inclusive-florence",
   "metadata": {},
   "source": [
    "### Interpolating the contour lines"
   ]
  },
  {
   "cell_type": "code",
   "execution_count": 5,
   "id": "revolutionary-calibration",
   "metadata": {
    "ExecuteTime": {
     "end_time": "2021-04-03T13:54:17.504023Z",
     "start_time": "2021-04-03T13:54:16.539645Z"
    }
   },
   "outputs": [],
   "source": [
    "topo_raster = gg.vector.interpolate_raster(gdf=topo, value='Z', method='rbf', res=5)"
   ]
  },
  {
   "cell_type": "markdown",
   "id": "experimental-press",
   "metadata": {},
   "source": [
    "### Plotting the raster"
   ]
  },
  {
   "cell_type": "code",
   "execution_count": 6,
   "id": "frozen-gazette",
   "metadata": {
    "ExecuteTime": {
     "end_time": "2021-04-03T13:54:18.107651Z",
     "start_time": "2021-04-03T13:54:17.506026Z"
    }
   },
   "outputs": [
    {
     "data": {
      "text/plain": [
       "Text(114.71511083600905, 0.5, 'Y [m]')"
      ]
     },
     "execution_count": 6,
     "metadata": {},
     "output_type": "execute_result"
    },
    {
     "data": {
      "image/png": "[encoded data removed]",
      "text/plain": [
       "<Figure size 720x720 with 2 Axes>"
      ]
     },
     "metadata": {
      "needs_background": "light"
     },
     "output_type": "display_data"
    }
   ],
   "source": [
    "import matplotlib.pyplot as plt\n",
    "\n",
    "fix, ax = plt.subplots(1, figsize=(10,10))\n",
    "topo.plot(ax=ax, aspect='equal', column='Z', cmap='gist_earth')\n",
    "im = plt.imshow(topo_raster, origin='lower', extent=[0,1187,0,1479], cmap='gist_earth')\n",
    "cbar = plt.colorbar(im)\n",
    "cbar.set_label('Altitude [m]')\n",
    "plt.xlabel('X [m]')\n",
    "plt.ylabel('Y [m]')"
   ]
  },
  {
   "cell_type": "markdown",
   "id": "continued-biology",
   "metadata": {},
   "source": [
    "### Saving the raster to disc\n",
    "\n",
    "After the interpolation of the contour lines, the raster is saved to disc using `gg.raster.save_as_tiff()`. The function will not be executed as a raster is already provided with the example data. "
   ]
  },
  {
   "cell_type": "raw",
   "id": "proved-tourist",
   "metadata": {
    "ExecuteTime": {
     "end_time": "2021-04-03T12:17:31.197855Z",
     "start_time": "2021-04-03T12:17:31.146715Z"
    }
   },
   "source": [
    "gg.raster.save_as_tiff(raster=topo_raster, path=file_path + 'raster15.tif', extent=[0,1187,0,1479], crs='EPSG:4326', overwrite_file=True)"
   ]
  },
  {
   "cell_type": "markdown",
   "id": "under-pursuit",
   "metadata": {},
   "source": [
    "### Opening Raster\n",
    "\n",
    "The previously computed and saved raster can now be opened using rasterio. "
   ]
  },
  {
   "cell_type": "code",
   "execution_count": 7,
   "id": "silver-defendant",
   "metadata": {
    "ExecuteTime": {
     "end_time": "2021-04-03T13:54:18.153669Z",
     "start_time": "2021-04-03T13:54:18.110651Z"
    }
   },
   "outputs": [],
   "source": [
    "topo_raster = rasterio.open(file_path + 'raster15.tif')"
   ]
  },
  {
   "cell_type": "markdown",
   "id": "central-option",
   "metadata": {
    "ExecuteTime": {
     "end_time": "2021-03-28T12:43:27.113805Z",
     "start_time": "2021-03-28T12:43:27.067793Z"
    }
   },
   "source": [
    "## Interface Points of stratigraphic boundaries\n",
    "\n",
    "The interface points for this three point example will be digitized as points with the respective height value as given by the contour lines and the respective formation.  \n",
    "\n",
    "<img src=\"../images/interfaces_example15.png\" width=\"800\">"
   ]
  },
  {
   "cell_type": "code",
   "execution_count": 8,
   "id": "activated-namibia",
   "metadata": {
    "ExecuteTime": {
     "end_time": "2021-04-03T13:54:18.200683Z",
     "start_time": "2021-04-03T13:54:18.156678Z"
    }
   },
   "outputs": [
    {
     "data": {
      "text/html": [
       "<div>\n",
       "<style scoped>\n",
       "    .dataframe tbody tr th:only-of-type {\n",
       "        vertical-align: middle;\n",
       "    }\n",
       "\n",
       "    .dataframe tbody tr th {\n",
       "        vertical-align: top;\n",
       "    }\n",
       "\n",
       "    .dataframe thead th {\n",
       "        text-align: right;\n",
       "    }\n",
       "</style>\n",
       "<table border=\"1\" class=\"dataframe\">\n",
       "  <thead>\n",
       "    <tr style=\"text-align: right;\">\n",
       "      <th></th>\n",
       "      <th>id</th>\n",
       "      <th>formation</th>\n",
       "      <th>Z</th>\n",
       "      <th>geometry</th>\n",
       "    </tr>\n",
       "  </thead>\n",
       "  <tbody>\n",
       "    <tr>\n",
       "      <th>0</th>\n",
       "      <td>None</td>\n",
       "      <td>Shale</td>\n",
       "      <td>190</td>\n",
       "      <td>POINT (69.806 954.941)</td>\n",
       "    </tr>\n",
       "    <tr>\n",
       "      <th>1</th>\n",
       "      <td>None</td>\n",
       "      <td>Ironstone</td>\n",
       "      <td>170</td>\n",
       "      <td>POINT (69.806 954.941)</td>\n",
       "    </tr>\n",
       "    <tr>\n",
       "      <th>2</th>\n",
       "      <td>None</td>\n",
       "      <td>Ironstone</td>\n",
       "      <td>190</td>\n",
       "      <td>POINT (145.769 562.774)</td>\n",
       "    </tr>\n",
       "    <tr>\n",
       "      <th>3</th>\n",
       "      <td>None</td>\n",
       "      <td>Ironstone</td>\n",
       "      <td>185</td>\n",
       "      <td>POINT (264.746 660.701)</td>\n",
       "    </tr>\n",
       "    <tr>\n",
       "      <th>4</th>\n",
       "      <td>None</td>\n",
       "      <td>Shale</td>\n",
       "      <td>210</td>\n",
       "      <td>POINT (146.226 563.346)</td>\n",
       "    </tr>\n",
       "  </tbody>\n",
       "</table>\n",
       "</div>"
      ],
      "text/plain": [
       "     id  formation    Z                 geometry\n",
       "0  None      Shale  190   POINT (69.806 954.941)\n",
       "1  None  Ironstone  170   POINT (69.806 954.941)\n",
       "2  None  Ironstone  190  POINT (145.769 562.774)\n",
       "3  None  Ironstone  185  POINT (264.746 660.701)\n",
       "4  None      Shale  210  POINT (146.226 563.346)"
      ]
     },
     "execution_count": 8,
     "metadata": {},
     "output_type": "execute_result"
    }
   ],
   "source": [
    "interfaces = gpd.read_file(file_path + 'interfaces15.shp')\n",
    "interfaces.head()"
   ]
  },
  {
   "cell_type": "markdown",
   "id": "happy-fireplace",
   "metadata": {},
   "source": [
    "### Extracting Z coordinate from Digital Elevation Model"
   ]
  },
  {
   "cell_type": "code",
   "execution_count": 9,
   "id": "stopped-saint",
   "metadata": {
    "ExecuteTime": {
     "end_time": "2021-04-03T13:54:18.231697Z",
     "start_time": "2021-04-03T13:54:18.202690Z"
    }
   },
   "outputs": [
    {
     "data": {
      "text/html": [
       "<div>\n",
       "<style scoped>\n",
       "    .dataframe tbody tr th:only-of-type {\n",
       "        vertical-align: middle;\n",
       "    }\n",
       "\n",
       "    .dataframe tbody tr th {\n",
       "        vertical-align: top;\n",
       "    }\n",
       "\n",
       "    .dataframe thead th {\n",
       "        text-align: right;\n",
       "    }\n",
       "</style>\n",
       "<table border=\"1\" class=\"dataframe\">\n",
       "  <thead>\n",
       "    <tr style=\"text-align: right;\">\n",
       "      <th></th>\n",
       "      <th>formation</th>\n",
       "      <th>Z</th>\n",
       "      <th>geometry</th>\n",
       "      <th>X</th>\n",
       "      <th>Y</th>\n",
       "    </tr>\n",
       "  </thead>\n",
       "  <tbody>\n",
       "    <tr>\n",
       "      <th>0</th>\n",
       "      <td>Shale</td>\n",
       "      <td>190.00</td>\n",
       "      <td>POINT (69.806 954.941)</td>\n",
       "      <td>69.81</td>\n",
       "      <td>954.94</td>\n",
       "    </tr>\n",
       "    <tr>\n",
       "      <th>1</th>\n",
       "      <td>Ironstone</td>\n",
       "      <td>170.00</td>\n",
       "      <td>POINT (69.806 954.941)</td>\n",
       "      <td>69.81</td>\n",
       "      <td>954.94</td>\n",
       "    </tr>\n",
       "    <tr>\n",
       "      <th>2</th>\n",
       "      <td>Ironstone</td>\n",
       "      <td>190.00</td>\n",
       "      <td>POINT (145.769 562.774)</td>\n",
       "      <td>145.77</td>\n",
       "      <td>562.77</td>\n",
       "    </tr>\n",
       "    <tr>\n",
       "      <th>3</th>\n",
       "      <td>Ironstone</td>\n",
       "      <td>185.00</td>\n",
       "      <td>POINT (264.746 660.701)</td>\n",
       "      <td>264.75</td>\n",
       "      <td>660.70</td>\n",
       "    </tr>\n",
       "    <tr>\n",
       "      <th>4</th>\n",
       "      <td>Shale</td>\n",
       "      <td>210.00</td>\n",
       "      <td>POINT (146.226 563.346)</td>\n",
       "      <td>146.23</td>\n",
       "      <td>563.35</td>\n",
       "    </tr>\n",
       "    <tr>\n",
       "      <th>5</th>\n",
       "      <td>Shale</td>\n",
       "      <td>205.00</td>\n",
       "      <td>POINT (264.746 660.701)</td>\n",
       "      <td>264.75</td>\n",
       "      <td>660.70</td>\n",
       "    </tr>\n",
       "  </tbody>\n",
       "</table>\n",
       "</div>"
      ],
      "text/plain": [
       "   formation      Z                 geometry      X      Y\n",
       "0      Shale 190.00   POINT (69.806 954.941)  69.81 954.94\n",
       "1  Ironstone 170.00   POINT (69.806 954.941)  69.81 954.94\n",
       "2  Ironstone 190.00  POINT (145.769 562.774) 145.77 562.77\n",
       "3  Ironstone 185.00  POINT (264.746 660.701) 264.75 660.70\n",
       "4      Shale 210.00  POINT (146.226 563.346) 146.23 563.35\n",
       "5      Shale 205.00  POINT (264.746 660.701) 264.75 660.70"
      ]
     },
     "execution_count": 9,
     "metadata": {},
     "output_type": "execute_result"
    }
   ],
   "source": [
    "interfaces_coords = gg.vector.extract_xyz(gdf=interfaces, dem=None)\n",
    "interfaces_coords"
   ]
  },
  {
   "cell_type": "code",
   "execution_count": 10,
   "id": "cultural-senior",
   "metadata": {
    "ExecuteTime": {
     "end_time": "2021-04-03T13:54:18.326727Z",
     "start_time": "2021-04-03T13:54:18.233696Z"
    }
   },
   "outputs": [
    {
     "data": {
      "text/html": [
       "<div>\n",
       "<style scoped>\n",
       "    .dataframe tbody tr th:only-of-type {\n",
       "        vertical-align: middle;\n",
       "    }\n",
       "\n",
       "    .dataframe tbody tr th {\n",
       "        vertical-align: top;\n",
       "    }\n",
       "\n",
       "    .dataframe thead th {\n",
       "        text-align: right;\n",
       "    }\n",
       "</style>\n",
       "<table border=\"1\" class=\"dataframe\">\n",
       "  <thead>\n",
       "    <tr style=\"text-align: right;\">\n",
       "      <th></th>\n",
       "      <th>formation</th>\n",
       "      <th>geometry</th>\n",
       "      <th>X</th>\n",
       "      <th>Y</th>\n",
       "      <th>Z</th>\n",
       "    </tr>\n",
       "  </thead>\n",
       "  <tbody>\n",
       "    <tr>\n",
       "      <th>0</th>\n",
       "      <td>Fault</td>\n",
       "      <td>POINT (683.911 0.608)</td>\n",
       "      <td>683.91</td>\n",
       "      <td>0.61</td>\n",
       "      <td>178.76</td>\n",
       "    </tr>\n",
       "    <tr>\n",
       "      <th>1</th>\n",
       "      <td>Fault</td>\n",
       "      <td>POINT (899.671 1477.524)</td>\n",
       "      <td>899.67</td>\n",
       "      <td>1477.52</td>\n",
       "      <td>254.62</td>\n",
       "    </tr>\n",
       "  </tbody>\n",
       "</table>\n",
       "</div>"
      ],
      "text/plain": [
       "  formation                  geometry      X       Y      Z\n",
       "0     Fault     POINT (683.911 0.608) 683.91    0.61 178.76\n",
       "1     Fault  POINT (899.671 1477.524) 899.67 1477.52 254.62"
      ]
     },
     "execution_count": 10,
     "metadata": {},
     "output_type": "execute_result"
    }
   ],
   "source": [
    "fault = gpd.read_file(file_path + 'fault15.shp')\n",
    "fault = gg.vector.extract_xyz(gdf=fault, dem=topo_raster)\n",
    "fault"
   ]
  },
  {
   "cell_type": "code",
   "execution_count": 11,
   "id": "approximate-attention",
   "metadata": {
    "ExecuteTime": {
     "end_time": "2021-04-03T13:54:18.342712Z",
     "start_time": "2021-04-03T13:54:18.328719Z"
    }
   },
   "outputs": [
    {
     "data": {
      "text/html": [
       "<div>\n",
       "<style scoped>\n",
       "    .dataframe tbody tr th:only-of-type {\n",
       "        vertical-align: middle;\n",
       "    }\n",
       "\n",
       "    .dataframe tbody tr th {\n",
       "        vertical-align: top;\n",
       "    }\n",
       "\n",
       "    .dataframe thead th {\n",
       "        text-align: right;\n",
       "    }\n",
       "</style>\n",
       "<table border=\"1\" class=\"dataframe\">\n",
       "  <thead>\n",
       "    <tr style=\"text-align: right;\">\n",
       "      <th></th>\n",
       "      <th>index</th>\n",
       "      <th>formation</th>\n",
       "      <th>Z</th>\n",
       "      <th>geometry</th>\n",
       "      <th>X</th>\n",
       "      <th>Y</th>\n",
       "    </tr>\n",
       "  </thead>\n",
       "  <tbody>\n",
       "    <tr>\n",
       "      <th>0</th>\n",
       "      <td>0</td>\n",
       "      <td>Shale</td>\n",
       "      <td>190.00</td>\n",
       "      <td>POINT (69.806 954.941)</td>\n",
       "      <td>69.81</td>\n",
       "      <td>954.94</td>\n",
       "    </tr>\n",
       "    <tr>\n",
       "      <th>1</th>\n",
       "      <td>1</td>\n",
       "      <td>Ironstone</td>\n",
       "      <td>170.00</td>\n",
       "      <td>POINT (69.806 954.941)</td>\n",
       "      <td>69.81</td>\n",
       "      <td>954.94</td>\n",
       "    </tr>\n",
       "    <tr>\n",
       "      <th>2</th>\n",
       "      <td>2</td>\n",
       "      <td>Ironstone</td>\n",
       "      <td>190.00</td>\n",
       "      <td>POINT (145.769 562.774)</td>\n",
       "      <td>145.77</td>\n",
       "      <td>562.77</td>\n",
       "    </tr>\n",
       "    <tr>\n",
       "      <th>3</th>\n",
       "      <td>3</td>\n",
       "      <td>Ironstone</td>\n",
       "      <td>185.00</td>\n",
       "      <td>POINT (264.746 660.701)</td>\n",
       "      <td>264.75</td>\n",
       "      <td>660.70</td>\n",
       "    </tr>\n",
       "    <tr>\n",
       "      <th>4</th>\n",
       "      <td>4</td>\n",
       "      <td>Shale</td>\n",
       "      <td>210.00</td>\n",
       "      <td>POINT (146.226 563.346)</td>\n",
       "      <td>146.23</td>\n",
       "      <td>563.35</td>\n",
       "    </tr>\n",
       "    <tr>\n",
       "      <th>5</th>\n",
       "      <td>5</td>\n",
       "      <td>Shale</td>\n",
       "      <td>205.00</td>\n",
       "      <td>POINT (264.746 660.701)</td>\n",
       "      <td>264.75</td>\n",
       "      <td>660.70</td>\n",
       "    </tr>\n",
       "    <tr>\n",
       "      <th>6</th>\n",
       "      <td>0</td>\n",
       "      <td>Fault</td>\n",
       "      <td>178.76</td>\n",
       "      <td>POINT (683.911 0.608)</td>\n",
       "      <td>683.91</td>\n",
       "      <td>0.61</td>\n",
       "    </tr>\n",
       "    <tr>\n",
       "      <th>7</th>\n",
       "      <td>1</td>\n",
       "      <td>Fault</td>\n",
       "      <td>254.62</td>\n",
       "      <td>POINT (899.671 1477.524)</td>\n",
       "      <td>899.67</td>\n",
       "      <td>1477.52</td>\n",
       "    </tr>\n",
       "  </tbody>\n",
       "</table>\n",
       "</div>"
      ],
      "text/plain": [
       "   index  formation      Z                  geometry      X       Y\n",
       "0      0      Shale 190.00    POINT (69.806 954.941)  69.81  954.94\n",
       "1      1  Ironstone 170.00    POINT (69.806 954.941)  69.81  954.94\n",
       "2      2  Ironstone 190.00   POINT (145.769 562.774) 145.77  562.77\n",
       "3      3  Ironstone 185.00   POINT (264.746 660.701) 264.75  660.70\n",
       "4      4      Shale 210.00   POINT (146.226 563.346) 146.23  563.35\n",
       "5      5      Shale 205.00   POINT (264.746 660.701) 264.75  660.70\n",
       "6      0      Fault 178.76     POINT (683.911 0.608) 683.91    0.61\n",
       "7      1      Fault 254.62  POINT (899.671 1477.524) 899.67 1477.52"
      ]
     },
     "execution_count": 11,
     "metadata": {},
     "output_type": "execute_result"
    }
   ],
   "source": [
    "import pandas as pd\n",
    "\n",
    "interfaces_coords = pd.concat([interfaces_coords, fault]).reset_index()\n",
    "interfaces_coords"
   ]
  },
  {
   "cell_type": "markdown",
   "id": "valued-coast",
   "metadata": {},
   "source": [
    "### Plotting the Interface Points"
   ]
  },
  {
   "cell_type": "code",
   "execution_count": 12,
   "id": "involved-association",
   "metadata": {
    "ExecuteTime": {
     "end_time": "2021-04-03T13:54:18.594445Z",
     "start_time": "2021-04-03T13:54:18.343714Z"
    }
   },
   "outputs": [
    {
     "data": {
      "text/plain": [
       "Text(179.77829589465532, 0.5, 'Y [m]')"
      ]
     },
     "execution_count": 12,
     "metadata": {},
     "output_type": "execute_result"
    },
    {
     "data": {
      "image/png": "[encoded data removed]",
      "text/plain": [
       "<Figure size 720x720 with 1 Axes>"
      ]
     },
     "metadata": {
      "needs_background": "light"
     },
     "output_type": "display_data"
    }
   ],
   "source": [
    "fig, ax = plt.subplots(1, figsize=(10,10))\n",
    "\n",
    "interfaces.plot(ax=ax, column='formation', legend=True, aspect='equal')\n",
    "interfaces_coords.plot(ax=ax, column='formation', legend=True, aspect='equal')\n",
    "plt.grid()\n",
    "plt.xlim(0,1187)\n",
    "plt.ylim(0,1479)\n",
    "plt.xlabel('X [m]')\n",
    "plt.ylabel('Y [m]')"
   ]
  },
  {
   "cell_type": "markdown",
   "id": "inner-mathematics",
   "metadata": {},
   "source": [
    "## Orientations from Strike Lines\n",
    "\n",
    "For this three point example, an orientation is calculated using `gg.vector.calculate_orientation_for_three_point_problem()`. \n",
    "\n",
    "<img src=\"../images/orientations_example15.png\" width=\"800\">"
   ]
  },
  {
   "cell_type": "code",
   "execution_count": 13,
   "id": "bulgarian-turtle",
   "metadata": {
    "ExecuteTime": {
     "end_time": "2021-04-03T13:54:18.625796Z",
     "start_time": "2021-04-03T13:54:18.596445Z"
    }
   },
   "outputs": [
    {
     "data": {
      "text/html": [
       "<div>\n",
       "<style scoped>\n",
       "    .dataframe tbody tr th:only-of-type {\n",
       "        vertical-align: middle;\n",
       "    }\n",
       "\n",
       "    .dataframe tbody tr th {\n",
       "        vertical-align: top;\n",
       "    }\n",
       "\n",
       "    .dataframe thead th {\n",
       "        text-align: right;\n",
       "    }\n",
       "</style>\n",
       "<table border=\"1\" class=\"dataframe\">\n",
       "  <thead>\n",
       "    <tr style=\"text-align: right;\">\n",
       "      <th></th>\n",
       "      <th>id</th>\n",
       "      <th>formation</th>\n",
       "      <th>Z</th>\n",
       "      <th>geometry</th>\n",
       "    </tr>\n",
       "  </thead>\n",
       "  <tbody>\n",
       "    <tr>\n",
       "      <th>1</th>\n",
       "      <td>None</td>\n",
       "      <td>Ironstone</td>\n",
       "      <td>170</td>\n",
       "      <td>POINT (69.806 954.941)</td>\n",
       "    </tr>\n",
       "    <tr>\n",
       "      <th>2</th>\n",
       "      <td>None</td>\n",
       "      <td>Ironstone</td>\n",
       "      <td>190</td>\n",
       "      <td>POINT (145.769 562.774)</td>\n",
       "    </tr>\n",
       "    <tr>\n",
       "      <th>3</th>\n",
       "      <td>None</td>\n",
       "      <td>Ironstone</td>\n",
       "      <td>185</td>\n",
       "      <td>POINT (264.746 660.701)</td>\n",
       "    </tr>\n",
       "  </tbody>\n",
       "</table>\n",
       "</div>"
      ],
      "text/plain": [
       "     id  formation    Z                 geometry\n",
       "1  None  Ironstone  170   POINT (69.806 954.941)\n",
       "2  None  Ironstone  190  POINT (145.769 562.774)\n",
       "3  None  Ironstone  185  POINT (264.746 660.701)"
      ]
     },
     "execution_count": 13,
     "metadata": {},
     "output_type": "execute_result"
    }
   ],
   "source": [
    "orientations1 = gpd.read_file(file_path + 'interfaces15.shp')\n",
    "orientations1 = orientations1[orientations1['formation']=='Ironstone']\n",
    "orientations1"
   ]
  },
  {
   "cell_type": "code",
   "execution_count": 14,
   "id": "configured-evaluation",
   "metadata": {
    "ExecuteTime": {
     "end_time": "2021-04-03T13:54:18.657273Z",
     "start_time": "2021-04-03T13:54:18.626749Z"
    }
   },
   "outputs": [
    {
     "data": {
      "text/html": [
       "<div>\n",
       "<style scoped>\n",
       "    .dataframe tbody tr th:only-of-type {\n",
       "        vertical-align: middle;\n",
       "    }\n",
       "\n",
       "    .dataframe tbody tr th {\n",
       "        vertical-align: top;\n",
       "    }\n",
       "\n",
       "    .dataframe thead th {\n",
       "        text-align: right;\n",
       "    }\n",
       "</style>\n",
       "<table border=\"1\" class=\"dataframe\">\n",
       "  <thead>\n",
       "    <tr style=\"text-align: right;\">\n",
       "      <th></th>\n",
       "      <th>Z</th>\n",
       "      <th>formation</th>\n",
       "      <th>azimuth</th>\n",
       "      <th>dip</th>\n",
       "      <th>polarity</th>\n",
       "      <th>X</th>\n",
       "      <th>Y</th>\n",
       "      <th>geometry</th>\n",
       "    </tr>\n",
       "  </thead>\n",
       "  <tbody>\n",
       "    <tr>\n",
       "      <th>0</th>\n",
       "      <td>181.67</td>\n",
       "      <td>Ironstone</td>\n",
       "      <td>-179.95</td>\n",
       "      <td>177.08</td>\n",
       "      <td>1</td>\n",
       "      <td>160.11</td>\n",
       "      <td>726.14</td>\n",
       "      <td>POINT (160.107 726.139)</td>\n",
       "    </tr>\n",
       "  </tbody>\n",
       "</table>\n",
       "</div>"
      ],
      "text/plain": [
       "       Z  formation azimuth    dip polarity      X      Y  \\\n",
       "0 181.67  Ironstone -179.95 177.08        1 160.11 726.14   \n",
       "\n",
       "                  geometry  \n",
       "0  POINT (160.107 726.139)  "
      ]
     },
     "execution_count": 14,
     "metadata": {},
     "output_type": "execute_result"
    }
   ],
   "source": [
    "orientations1 = gg.vector.calculate_orientation_for_three_point_problem(gdf=orientations1)\n",
    "orientations1"
   ]
  },
  {
   "cell_type": "code",
   "execution_count": 15,
   "id": "rolled-manhattan",
   "metadata": {
    "ExecuteTime": {
     "end_time": "2021-04-03T13:54:18.689270Z",
     "start_time": "2021-04-03T13:54:18.659263Z"
    }
   },
   "outputs": [
    {
     "name": "stdout",
     "output_type": "stream",
     "text": [
      "<class 'geopandas.geodataframe.GeoDataFrame'>\n",
      "RangeIndex: 1 entries, 0 to 0\n",
      "Data columns (total 8 columns):\n",
      " #   Column     Non-Null Count  Dtype   \n",
      "---  ------     --------------  -----   \n",
      " 0   Z          1 non-null      float64 \n",
      " 1   formation  1 non-null      object  \n",
      " 2   azimuth    1 non-null      float64 \n",
      " 3   dip        1 non-null      float64 \n",
      " 4   polarity   1 non-null      float64 \n",
      " 5   X          1 non-null      float64 \n",
      " 6   Y          1 non-null      float64 \n",
      " 7   geometry   1 non-null      geometry\n",
      "dtypes: float64(6), geometry(1), object(1)\n",
      "memory usage: 192.0+ bytes\n"
     ]
    }
   ],
   "source": [
    "orientations1['Z'] = orientations1['Z'].astype(float)\n",
    "orientations1['azimuth'] = orientations1['azimuth'].astype(float)\n",
    "orientations1['dip'] = orientations1['dip'].astype(float)\n",
    "orientations1['dip'] = 180 - orientations1['dip']\n",
    "orientations1['azimuth'] = 180 - orientations1['azimuth']\n",
    "orientations1['polarity'] = orientations1['polarity'].astype(float)\n",
    "orientations1['X'] = orientations1['X'].astype(float)\n",
    "orientations1['Y'] = orientations1['Y'].astype(float)\n",
    "orientations1.info()"
   ]
  },
  {
   "cell_type": "code",
   "execution_count": 16,
   "id": "super-isaac",
   "metadata": {
    "ExecuteTime": {
     "end_time": "2021-04-03T13:54:18.721278Z",
     "start_time": "2021-04-03T13:54:18.691271Z"
    }
   },
   "outputs": [
    {
     "data": {
      "text/html": [
       "<div>\n",
       "<style scoped>\n",
       "    .dataframe tbody tr th:only-of-type {\n",
       "        vertical-align: middle;\n",
       "    }\n",
       "\n",
       "    .dataframe tbody tr th {\n",
       "        vertical-align: top;\n",
       "    }\n",
       "\n",
       "    .dataframe thead th {\n",
       "        text-align: right;\n",
       "    }\n",
       "</style>\n",
       "<table border=\"1\" class=\"dataframe\">\n",
       "  <thead>\n",
       "    <tr style=\"text-align: right;\">\n",
       "      <th></th>\n",
       "      <th>id</th>\n",
       "      <th>formation</th>\n",
       "      <th>Z</th>\n",
       "      <th>geometry</th>\n",
       "    </tr>\n",
       "  </thead>\n",
       "  <tbody>\n",
       "    <tr>\n",
       "      <th>0</th>\n",
       "      <td>None</td>\n",
       "      <td>Shale</td>\n",
       "      <td>190</td>\n",
       "      <td>POINT (69.806 954.941)</td>\n",
       "    </tr>\n",
       "    <tr>\n",
       "      <th>4</th>\n",
       "      <td>None</td>\n",
       "      <td>Shale</td>\n",
       "      <td>210</td>\n",
       "      <td>POINT (146.226 563.346)</td>\n",
       "    </tr>\n",
       "    <tr>\n",
       "      <th>5</th>\n",
       "      <td>None</td>\n",
       "      <td>Shale</td>\n",
       "      <td>205</td>\n",
       "      <td>POINT (264.746 660.701)</td>\n",
       "    </tr>\n",
       "  </tbody>\n",
       "</table>\n",
       "</div>"
      ],
      "text/plain": [
       "     id formation    Z                 geometry\n",
       "0  None     Shale  190   POINT (69.806 954.941)\n",
       "4  None     Shale  210  POINT (146.226 563.346)\n",
       "5  None     Shale  205  POINT (264.746 660.701)"
      ]
     },
     "execution_count": 16,
     "metadata": {},
     "output_type": "execute_result"
    }
   ],
   "source": [
    "orientations2 = gpd.read_file(file_path + 'interfaces15.shp')\n",
    "orientations2 = orientations2[orientations2['formation']=='Shale']\n",
    "orientations2"
   ]
  },
  {
   "cell_type": "code",
   "execution_count": 17,
   "id": "stone-bangkok",
   "metadata": {
    "ExecuteTime": {
     "end_time": "2021-04-03T13:54:18.753286Z",
     "start_time": "2021-04-03T13:54:18.722278Z"
    }
   },
   "outputs": [
    {
     "data": {
      "text/html": [
       "<div>\n",
       "<style scoped>\n",
       "    .dataframe tbody tr th:only-of-type {\n",
       "        vertical-align: middle;\n",
       "    }\n",
       "\n",
       "    .dataframe tbody tr th {\n",
       "        vertical-align: top;\n",
       "    }\n",
       "\n",
       "    .dataframe thead th {\n",
       "        text-align: right;\n",
       "    }\n",
       "</style>\n",
       "<table border=\"1\" class=\"dataframe\">\n",
       "  <thead>\n",
       "    <tr style=\"text-align: right;\">\n",
       "      <th></th>\n",
       "      <th>Z</th>\n",
       "      <th>formation</th>\n",
       "      <th>azimuth</th>\n",
       "      <th>dip</th>\n",
       "      <th>polarity</th>\n",
       "      <th>X</th>\n",
       "      <th>Y</th>\n",
       "      <th>geometry</th>\n",
       "    </tr>\n",
       "  </thead>\n",
       "  <tbody>\n",
       "    <tr>\n",
       "      <th>0</th>\n",
       "      <td>201.67</td>\n",
       "      <td>Shale</td>\n",
       "      <td>-179.77</td>\n",
       "      <td>177.07</td>\n",
       "      <td>1</td>\n",
       "      <td>160.26</td>\n",
       "      <td>726.33</td>\n",
       "      <td>POINT (160.259 726.329)</td>\n",
       "    </tr>\n",
       "  </tbody>\n",
       "</table>\n",
       "</div>"
      ],
      "text/plain": [
       "       Z formation azimuth    dip polarity      X      Y  \\\n",
       "0 201.67     Shale -179.77 177.07        1 160.26 726.33   \n",
       "\n",
       "                  geometry  \n",
       "0  POINT (160.259 726.329)  "
      ]
     },
     "execution_count": 17,
     "metadata": {},
     "output_type": "execute_result"
    }
   ],
   "source": [
    "orientations2 = gg.vector.calculate_orientation_for_three_point_problem(gdf=orientations2)\n",
    "orientations2"
   ]
  },
  {
   "cell_type": "code",
   "execution_count": 18,
   "id": "danish-jumping",
   "metadata": {
    "ExecuteTime": {
     "end_time": "2021-04-03T13:54:18.769290Z",
     "start_time": "2021-04-03T13:54:18.755285Z"
    }
   },
   "outputs": [
    {
     "name": "stdout",
     "output_type": "stream",
     "text": [
      "<class 'geopandas.geodataframe.GeoDataFrame'>\n",
      "RangeIndex: 1 entries, 0 to 0\n",
      "Data columns (total 8 columns):\n",
      " #   Column     Non-Null Count  Dtype   \n",
      "---  ------     --------------  -----   \n",
      " 0   Z          1 non-null      float64 \n",
      " 1   formation  1 non-null      object  \n",
      " 2   azimuth    1 non-null      float64 \n",
      " 3   dip        1 non-null      float64 \n",
      " 4   polarity   1 non-null      float64 \n",
      " 5   X          1 non-null      float64 \n",
      " 6   Y          1 non-null      float64 \n",
      " 7   geometry   1 non-null      geometry\n",
      "dtypes: float64(6), geometry(1), object(1)\n",
      "memory usage: 192.0+ bytes\n"
     ]
    }
   ],
   "source": [
    "orientations2['Z'] = orientations2['Z'].astype(float)\n",
    "orientations2['azimuth'] = orientations2['azimuth'].astype(float)\n",
    "orientations2['dip'] = orientations2['dip'].astype(float)\n",
    "orientations2['dip'] = 180 - orientations2['dip']\n",
    "orientations2['azimuth'] = 180 - orientations2['azimuth']\n",
    "orientations2['polarity'] = orientations2['polarity'].astype(float)\n",
    "orientations2['X'] = orientations2['X'].astype(float)\n",
    "orientations2['Y'] = orientations2['Y'].astype(float)\n",
    "orientations2.info()"
   ]
  },
  {
   "cell_type": "code",
   "execution_count": 19,
   "id": "australian-pipeline",
   "metadata": {
    "ExecuteTime": {
     "end_time": "2021-04-03T13:54:18.848206Z",
     "start_time": "2021-04-03T13:54:18.771290Z"
    }
   },
   "outputs": [
    {
     "data": {
      "text/html": [
       "<div>\n",
       "<style scoped>\n",
       "    .dataframe tbody tr th:only-of-type {\n",
       "        vertical-align: middle;\n",
       "    }\n",
       "\n",
       "    .dataframe tbody tr th {\n",
       "        vertical-align: top;\n",
       "    }\n",
       "\n",
       "    .dataframe thead th {\n",
       "        text-align: right;\n",
       "    }\n",
       "</style>\n",
       "<table border=\"1\" class=\"dataframe\">\n",
       "  <thead>\n",
       "    <tr style=\"text-align: right;\">\n",
       "      <th></th>\n",
       "      <th>formation</th>\n",
       "      <th>dip</th>\n",
       "      <th>azimuth</th>\n",
       "      <th>polarity</th>\n",
       "      <th>geometry</th>\n",
       "      <th>X</th>\n",
       "      <th>Y</th>\n",
       "      <th>Z</th>\n",
       "    </tr>\n",
       "  </thead>\n",
       "  <tbody>\n",
       "    <tr>\n",
       "      <th>0</th>\n",
       "      <td>Fault</td>\n",
       "      <td>90.00</td>\n",
       "      <td>280.00</td>\n",
       "      <td>1.00</td>\n",
       "      <td>POINT (792.591 727.511)</td>\n",
       "      <td>792.59</td>\n",
       "      <td>727.51</td>\n",
       "      <td>215.87</td>\n",
       "    </tr>\n",
       "  </tbody>\n",
       "</table>\n",
       "</div>"
      ],
      "text/plain": [
       "  formation   dip  azimuth  polarity                 geometry      X      Y  \\\n",
       "0     Fault 90.00   280.00      1.00  POINT (792.591 727.511) 792.59 727.51   \n",
       "\n",
       "       Z  \n",
       "0 215.87  "
      ]
     },
     "execution_count": 19,
     "metadata": {},
     "output_type": "execute_result"
    }
   ],
   "source": [
    "orientations_fault = gpd.read_file(file_path + 'orientations15_fault.shp')\n",
    "orientations_fault = gg.vector.extract_xyz(gdf=orientations_fault, dem=topo_raster)\n",
    "orientations_fault"
   ]
  },
  {
   "cell_type": "code",
   "execution_count": 20,
   "id": "velvet-toyota",
   "metadata": {
    "ExecuteTime": {
     "end_time": "2021-04-03T13:54:18.864210Z",
     "start_time": "2021-04-03T13:54:18.849207Z"
    }
   },
   "outputs": [
    {
     "data": {
      "text/html": [
       "<div>\n",
       "<style scoped>\n",
       "    .dataframe tbody tr th:only-of-type {\n",
       "        vertical-align: middle;\n",
       "    }\n",
       "\n",
       "    .dataframe tbody tr th {\n",
       "        vertical-align: top;\n",
       "    }\n",
       "\n",
       "    .dataframe thead th {\n",
       "        text-align: right;\n",
       "    }\n",
       "</style>\n",
       "<table border=\"1\" class=\"dataframe\">\n",
       "  <thead>\n",
       "    <tr style=\"text-align: right;\">\n",
       "      <th></th>\n",
       "      <th>index</th>\n",
       "      <th>Z</th>\n",
       "      <th>formation</th>\n",
       "      <th>azimuth</th>\n",
       "      <th>dip</th>\n",
       "      <th>polarity</th>\n",
       "      <th>X</th>\n",
       "      <th>Y</th>\n",
       "      <th>geometry</th>\n",
       "    </tr>\n",
       "  </thead>\n",
       "  <tbody>\n",
       "    <tr>\n",
       "      <th>0</th>\n",
       "      <td>0</td>\n",
       "      <td>181.67</td>\n",
       "      <td>Ironstone</td>\n",
       "      <td>359.95</td>\n",
       "      <td>2.92</td>\n",
       "      <td>1.00</td>\n",
       "      <td>160.11</td>\n",
       "      <td>726.14</td>\n",
       "      <td>POINT (160.107 726.139)</td>\n",
       "    </tr>\n",
       "    <tr>\n",
       "      <th>1</th>\n",
       "      <td>0</td>\n",
       "      <td>201.67</td>\n",
       "      <td>Shale</td>\n",
       "      <td>359.77</td>\n",
       "      <td>2.93</td>\n",
       "      <td>1.00</td>\n",
       "      <td>160.26</td>\n",
       "      <td>726.33</td>\n",
       "      <td>POINT (160.259 726.329)</td>\n",
       "    </tr>\n",
       "    <tr>\n",
       "      <th>2</th>\n",
       "      <td>0</td>\n",
       "      <td>215.87</td>\n",
       "      <td>Fault</td>\n",
       "      <td>280.00</td>\n",
       "      <td>90.00</td>\n",
       "      <td>1.00</td>\n",
       "      <td>792.59</td>\n",
       "      <td>727.51</td>\n",
       "      <td>POINT (792.591 727.511)</td>\n",
       "    </tr>\n",
       "  </tbody>\n",
       "</table>\n",
       "</div>"
      ],
      "text/plain": [
       "   index      Z  formation  azimuth   dip  polarity      X      Y  \\\n",
       "0      0 181.67  Ironstone   359.95  2.92      1.00 160.11 726.14   \n",
       "1      0 201.67      Shale   359.77  2.93      1.00 160.26 726.33   \n",
       "2      0 215.87      Fault   280.00 90.00      1.00 792.59 727.51   \n",
       "\n",
       "                  geometry  \n",
       "0  POINT (160.107 726.139)  \n",
       "1  POINT (160.259 726.329)  \n",
       "2  POINT (792.591 727.511)  "
      ]
     },
     "execution_count": 20,
     "metadata": {},
     "output_type": "execute_result"
    }
   ],
   "source": [
    "orientations = pd.concat([orientations1, orientations2, orientations_fault]).reset_index()\n",
    "orientations"
   ]
  },
  {
   "cell_type": "markdown",
   "id": "textile-christianity",
   "metadata": {},
   "source": [
    "### Plotting the Orientations"
   ]
  },
  {
   "cell_type": "code",
   "execution_count": 21,
   "id": "detected-certificate",
   "metadata": {
    "ExecuteTime": {
     "end_time": "2021-04-03T13:54:19.152302Z",
     "start_time": "2021-04-03T13:54:18.865210Z"
    }
   },
   "outputs": [
    {
     "data": {
      "text/plain": [
       "Text(179.77829589465532, 0.5, 'Y [m]')"
      ]
     },
     "execution_count": 21,
     "metadata": {},
     "output_type": "execute_result"
    },
    {
     "data": {
      "image/png": "[encoded data removed]",
      "text/plain": [
       "<Figure size 720x720 with 1 Axes>"
      ]
     },
     "metadata": {
      "needs_background": "light"
     },
     "output_type": "display_data"
    }
   ],
   "source": [
    "fig, ax = plt.subplots(1, figsize=(10,10))\n",
    "\n",
    "interfaces.plot(ax=ax, column='formation', legend=True, aspect='equal')\n",
    "interfaces_coords.plot(ax=ax, column='formation', legend=True, aspect='equal')\n",
    "orientations.plot(ax=ax, color='red', aspect='equal')\n",
    "plt.grid()\n",
    "plt.xlim(0,1187)\n",
    "plt.ylim(0,1479)\n",
    "plt.xlabel('X [m]')\n",
    "plt.ylabel('Y [m]')"
   ]
  },
  {
   "cell_type": "markdown",
   "id": "wired-vietnamese",
   "metadata": {},
   "source": [
    "## GemPy Model Construction (Part A)\n",
    "\n",
    "The structural geological model will be constructed using the `GemPy` package. The first model is calculated without the fault. "
   ]
  },
  {
   "cell_type": "code",
   "execution_count": 22,
   "id": "governing-brazilian",
   "metadata": {
    "ExecuteTime": {
     "end_time": "2021-04-03T13:54:19.815525Z",
     "start_time": "2021-04-03T13:54:19.156303Z"
    }
   },
   "outputs": [
    {
     "name": "stderr",
     "output_type": "stream",
     "text": [
      "WARNING (theano.configdefaults): g++ not available, if using conda: `conda install m2w64-toolchain`\n",
      "WARNING (theano.configdefaults): g++ not detected ! Theano will be unable to execute optimized C-implementations (for both CPU and GPU) and will default to Python implementations. Performance will be severely degraded. To remove this warning, set Theano flags cxx to an empty string.\n",
      "WARNING (theano.tensor.blas): Using NumPy C-API based implementation for BLAS functions.\n"
     ]
    }
   ],
   "source": [
    "import gempy as gp"
   ]
  },
  {
   "cell_type": "markdown",
   "id": "associate-visitor",
   "metadata": {},
   "source": [
    "### Creating New Model"
   ]
  },
  {
   "cell_type": "code",
   "execution_count": null,
   "id": "recorded-delicious",
   "metadata": {},
   "outputs": [],
   "source": [
    "geo_model = gp.create_model('Model15a')\n",
    "geo_model"
   ]
  },
  {
   "cell_type": "markdown",
   "id": "fitted-female",
   "metadata": {},
   "source": [
    "### Initiate Data\n",
    "\n",
    "The fault interfaces and orientations will be removed from the first model to model the layers also beyond the fault. As the information is provided that the fault has an offset of 20 m, the layers will be exported, the boundaries will be digitized and the elevation will be reduced by 20 m. "
   ]
  },
  {
   "cell_type": "code",
   "execution_count": 24,
   "id": "complete-birth",
   "metadata": {
    "ExecuteTime": {
     "end_time": "2021-04-03T13:54:20.301849Z",
     "start_time": "2021-04-03T13:54:20.287845Z"
    }
   },
   "outputs": [
    {
     "data": {
      "text/html": [
       "<div>\n",
       "<style scoped>\n",
       "    .dataframe tbody tr th:only-of-type {\n",
       "        vertical-align: middle;\n",
       "    }\n",
       "\n",
       "    .dataframe tbody tr th {\n",
       "        vertical-align: top;\n",
       "    }\n",
       "\n",
       "    .dataframe thead th {\n",
       "        text-align: right;\n",
       "    }\n",
       "</style>\n",
       "<table border=\"1\" class=\"dataframe\">\n",
       "  <thead>\n",
       "    <tr style=\"text-align: right;\">\n",
       "      <th></th>\n",
       "      <th>index</th>\n",
       "      <th>formation</th>\n",
       "      <th>Z</th>\n",
       "      <th>geometry</th>\n",
       "      <th>X</th>\n",
       "      <th>Y</th>\n",
       "    </tr>\n",
       "  </thead>\n",
       "  <tbody>\n",
       "    <tr>\n",
       "      <th>0</th>\n",
       "      <td>0</td>\n",
       "      <td>Shale</td>\n",
       "      <td>190.00</td>\n",
       "      <td>POINT (69.806 954.941)</td>\n",
       "      <td>69.81</td>\n",
       "      <td>954.94</td>\n",
       "    </tr>\n",
       "    <tr>\n",
       "      <th>1</th>\n",
       "      <td>1</td>\n",
       "      <td>Ironstone</td>\n",
       "      <td>170.00</td>\n",
       "      <td>POINT (69.806 954.941)</td>\n",
       "      <td>69.81</td>\n",
       "      <td>954.94</td>\n",
       "    </tr>\n",
       "    <tr>\n",
       "      <th>2</th>\n",
       "      <td>2</td>\n",
       "      <td>Ironstone</td>\n",
       "      <td>190.00</td>\n",
       "      <td>POINT (145.769 562.774)</td>\n",
       "      <td>145.77</td>\n",
       "      <td>562.77</td>\n",
       "    </tr>\n",
       "    <tr>\n",
       "      <th>3</th>\n",
       "      <td>3</td>\n",
       "      <td>Ironstone</td>\n",
       "      <td>185.00</td>\n",
       "      <td>POINT (264.746 660.701)</td>\n",
       "      <td>264.75</td>\n",
       "      <td>660.70</td>\n",
       "    </tr>\n",
       "    <tr>\n",
       "      <th>4</th>\n",
       "      <td>4</td>\n",
       "      <td>Shale</td>\n",
       "      <td>210.00</td>\n",
       "      <td>POINT (146.226 563.346)</td>\n",
       "      <td>146.23</td>\n",
       "      <td>563.35</td>\n",
       "    </tr>\n",
       "    <tr>\n",
       "      <th>5</th>\n",
       "      <td>5</td>\n",
       "      <td>Shale</td>\n",
       "      <td>205.00</td>\n",
       "      <td>POINT (264.746 660.701)</td>\n",
       "      <td>264.75</td>\n",
       "      <td>660.70</td>\n",
       "    </tr>\n",
       "  </tbody>\n",
       "</table>\n",
       "</div>"
      ],
      "text/plain": [
       "   index  formation      Z                 geometry      X      Y\n",
       "0      0      Shale 190.00   POINT (69.806 954.941)  69.81 954.94\n",
       "1      1  Ironstone 170.00   POINT (69.806 954.941)  69.81 954.94\n",
       "2      2  Ironstone 190.00  POINT (145.769 562.774) 145.77 562.77\n",
       "3      3  Ironstone 185.00  POINT (264.746 660.701) 264.75 660.70\n",
       "4      4      Shale 210.00  POINT (146.226 563.346) 146.23 563.35\n",
       "5      5      Shale 205.00  POINT (264.746 660.701) 264.75 660.70"
      ]
     },
     "execution_count": 24,
     "metadata": {},
     "output_type": "execute_result"
    }
   ],
   "source": [
    "interfaces_coords_new = interfaces_coords[interfaces_coords['formation']!='Fault']\n",
    "interfaces_coords_new"
   ]
  },
  {
   "cell_type": "code",
   "execution_count": 25,
   "id": "clean-layout",
   "metadata": {
    "ExecuteTime": {
     "end_time": "2021-04-03T13:54:20.317852Z",
     "start_time": "2021-04-03T13:54:20.302849Z"
    }
   },
   "outputs": [
    {
     "data": {
      "text/html": [
       "<div>\n",
       "<style scoped>\n",
       "    .dataframe tbody tr th:only-of-type {\n",
       "        vertical-align: middle;\n",
       "    }\n",
       "\n",
       "    .dataframe tbody tr th {\n",
       "        vertical-align: top;\n",
       "    }\n",
       "\n",
       "    .dataframe thead th {\n",
       "        text-align: right;\n",
       "    }\n",
       "</style>\n",
       "<table border=\"1\" class=\"dataframe\">\n",
       "  <thead>\n",
       "    <tr style=\"text-align: right;\">\n",
       "      <th></th>\n",
       "      <th>index</th>\n",
       "      <th>Z</th>\n",
       "      <th>formation</th>\n",
       "      <th>azimuth</th>\n",
       "      <th>dip</th>\n",
       "      <th>polarity</th>\n",
       "      <th>X</th>\n",
       "      <th>Y</th>\n",
       "      <th>geometry</th>\n",
       "    </tr>\n",
       "  </thead>\n",
       "  <tbody>\n",
       "    <tr>\n",
       "      <th>0</th>\n",
       "      <td>0</td>\n",
       "      <td>181.67</td>\n",
       "      <td>Ironstone</td>\n",
       "      <td>359.95</td>\n",
       "      <td>2.92</td>\n",
       "      <td>1.00</td>\n",
       "      <td>160.11</td>\n",
       "      <td>726.14</td>\n",
       "      <td>POINT (160.107 726.139)</td>\n",
       "    </tr>\n",
       "    <tr>\n",
       "      <th>1</th>\n",
       "      <td>0</td>\n",
       "      <td>201.67</td>\n",
       "      <td>Shale</td>\n",
       "      <td>359.77</td>\n",
       "      <td>2.93</td>\n",
       "      <td>1.00</td>\n",
       "      <td>160.26</td>\n",
       "      <td>726.33</td>\n",
       "      <td>POINT (160.259 726.329)</td>\n",
       "    </tr>\n",
       "  </tbody>\n",
       "</table>\n",
       "</div>"
      ],
      "text/plain": [
       "   index      Z  formation  azimuth  dip  polarity      X      Y  \\\n",
       "0      0 181.67  Ironstone   359.95 2.92      1.00 160.11 726.14   \n",
       "1      0 201.67      Shale   359.77 2.93      1.00 160.26 726.33   \n",
       "\n",
       "                  geometry  \n",
       "0  POINT (160.107 726.139)  \n",
       "1  POINT (160.259 726.329)  "
      ]
     },
     "execution_count": 25,
     "metadata": {},
     "output_type": "execute_result"
    }
   ],
   "source": [
    "orientations_new = orientations[orientations['formation']!='Fault']\n",
    "orientations_new"
   ]
  },
  {
   "cell_type": "code",
   "execution_count": 26,
   "id": "assisted-nothing",
   "metadata": {
    "ExecuteTime": {
     "end_time": "2021-04-03T13:54:20.525414Z",
     "start_time": "2021-04-03T13:54:20.319852Z"
    }
   },
   "outputs": [
    {
     "name": "stdout",
     "output_type": "stream",
     "text": [
      "Active grids: ['regular']\n"
     ]
    },
    {
     "data": {
      "text/plain": [
       "Model15a  2021-04-03 15:54"
      ]
     },
     "execution_count": 26,
     "metadata": {},
     "output_type": "execute_result"
    }
   ],
   "source": [
    "gp.init_data(geo_model, [0,1187,0,1479,100,300], [100,100,100],\n",
    "             surface_points_df = interfaces_coords_new[interfaces_coords_new['Z']!=0],\n",
    "             orientations_df = orientations_new,\n",
    "             default_values=True)"
   ]
  },
  {
   "cell_type": "markdown",
   "id": "integrated-pension",
   "metadata": {},
   "source": [
    "### Model Surfaces"
   ]
  },
  {
   "cell_type": "code",
   "execution_count": 27,
   "id": "cutting-energy",
   "metadata": {
    "ExecuteTime": {
     "end_time": "2021-04-03T13:54:20.588426Z",
     "start_time": "2021-04-03T13:54:20.526407Z"
    }
   },
   "outputs": [
    {
     "data": {
      "text/html": [
       "<style  type=\"text/css\" >\n",
       "#T_2d996_row0_col3{\n",
       "            background-color:  #015482;\n",
       "        }#T_2d996_row1_col3{\n",
       "            background-color:  #9f0052;\n",
       "        }</style><table id=\"T_2d996_\" ><thead>    <tr>        <th class=\"blank level0\" ></th>        <th class=\"col_heading level0 col0\" >surface</th>        <th class=\"col_heading level0 col1\" >series</th>        <th class=\"col_heading level0 col2\" >order_surfaces</th>        <th class=\"col_heading level0 col3\" >color</th>        <th class=\"col_heading level0 col4\" >id</th>    </tr></thead><tbody>\n",
       "                <tr>\n",
       "                        <th id=\"T_2d996_level0_row0\" class=\"row_heading level0 row0\" >0</th>\n",
       "                        <td id=\"T_2d996_row0_col0\" class=\"data row0 col0\" >Shale</td>\n",
       "                        <td id=\"T_2d996_row0_col1\" class=\"data row0 col1\" >Default series</td>\n",
       "                        <td id=\"T_2d996_row0_col2\" class=\"data row0 col2\" >1</td>\n",
       "                        <td id=\"T_2d996_row0_col3\" class=\"data row0 col3\" >#015482</td>\n",
       "                        <td id=\"T_2d996_row0_col4\" class=\"data row0 col4\" >1</td>\n",
       "            </tr>\n",
       "            <tr>\n",
       "                        <th id=\"T_2d996_level0_row1\" class=\"row_heading level0 row1\" >1</th>\n",
       "                        <td id=\"T_2d996_row1_col0\" class=\"data row1 col0\" >Ironstone</td>\n",
       "                        <td id=\"T_2d996_row1_col1\" class=\"data row1 col1\" >Default series</td>\n",
       "                        <td id=\"T_2d996_row1_col2\" class=\"data row1 col2\" >2</td>\n",
       "                        <td id=\"T_2d996_row1_col3\" class=\"data row1 col3\" >#9f0052</td>\n",
       "                        <td id=\"T_2d996_row1_col4\" class=\"data row1 col4\" >2</td>\n",
       "            </tr>\n",
       "    </tbody></table>"
      ],
      "text/plain": [
       "     surface          series  order_surfaces    color  id\n",
       "0      Shale  Default series               1  #015482   1\n",
       "1  Ironstone  Default series               2  #9f0052   2"
      ]
     },
     "execution_count": 27,
     "metadata": {},
     "output_type": "execute_result"
    }
   ],
   "source": [
    "geo_model.surfaces"
   ]
  },
  {
   "cell_type": "markdown",
   "id": "younger-young",
   "metadata": {},
   "source": [
    "### Mapping the Stack to Surfaces"
   ]
  },
  {
   "cell_type": "code",
   "execution_count": 28,
   "id": "formed-thought",
   "metadata": {
    "ExecuteTime": {
     "end_time": "2021-04-03T13:54:20.684439Z",
     "start_time": "2021-04-03T13:54:20.589426Z"
    }
   },
   "outputs": [
    {
     "data": {
      "text/html": [
       "<style  type=\"text/css\" >\n",
       "#T_542d1_row0_col3{\n",
       "            background-color:  #015482;\n",
       "        }#T_542d1_row1_col3{\n",
       "            background-color:  #9f0052;\n",
       "        }#T_542d1_row2_col3{\n",
       "            background-color:  #ffbe00;\n",
       "        }</style><table id=\"T_542d1_\" ><thead>    <tr>        <th class=\"blank level0\" ></th>        <th class=\"col_heading level0 col0\" >surface</th>        <th class=\"col_heading level0 col1\" >series</th>        <th class=\"col_heading level0 col2\" >order_surfaces</th>        <th class=\"col_heading level0 col3\" >color</th>        <th class=\"col_heading level0 col4\" >id</th>    </tr></thead><tbody>\n",
       "                <tr>\n",
       "                        <th id=\"T_542d1_level0_row0\" class=\"row_heading level0 row0\" >0</th>\n",
       "                        <td id=\"T_542d1_row0_col0\" class=\"data row0 col0\" >Shale</td>\n",
       "                        <td id=\"T_542d1_row0_col1\" class=\"data row0 col1\" >Strata1</td>\n",
       "                        <td id=\"T_542d1_row0_col2\" class=\"data row0 col2\" >1</td>\n",
       "                        <td id=\"T_542d1_row0_col3\" class=\"data row0 col3\" >#015482</td>\n",
       "                        <td id=\"T_542d1_row0_col4\" class=\"data row0 col4\" >1</td>\n",
       "            </tr>\n",
       "            <tr>\n",
       "                        <th id=\"T_542d1_level0_row1\" class=\"row_heading level0 row1\" >1</th>\n",
       "                        <td id=\"T_542d1_row1_col0\" class=\"data row1 col0\" >Ironstone</td>\n",
       "                        <td id=\"T_542d1_row1_col1\" class=\"data row1 col1\" >Strata1</td>\n",
       "                        <td id=\"T_542d1_row1_col2\" class=\"data row1 col2\" >2</td>\n",
       "                        <td id=\"T_542d1_row1_col3\" class=\"data row1 col3\" >#9f0052</td>\n",
       "                        <td id=\"T_542d1_row1_col4\" class=\"data row1 col4\" >2</td>\n",
       "            </tr>\n",
       "            <tr>\n",
       "                        <th id=\"T_542d1_level0_row2\" class=\"row_heading level0 row2\" >2</th>\n",
       "                        <td id=\"T_542d1_row2_col0\" class=\"data row2 col0\" >Basement</td>\n",
       "                        <td id=\"T_542d1_row2_col1\" class=\"data row2 col1\" >Strata1</td>\n",
       "                        <td id=\"T_542d1_row2_col2\" class=\"data row2 col2\" >3</td>\n",
       "                        <td id=\"T_542d1_row2_col3\" class=\"data row2 col3\" >#ffbe00</td>\n",
       "                        <td id=\"T_542d1_row2_col4\" class=\"data row2 col4\" >3</td>\n",
       "            </tr>\n",
       "    </tbody></table>"
      ],
      "text/plain": [
       "     surface   series  order_surfaces    color  id\n",
       "0      Shale  Strata1               1  #015482   1\n",
       "1  Ironstone  Strata1               2  #9f0052   2\n",
       "2   Basement  Strata1               3  #ffbe00   3"
      ]
     },
     "execution_count": 28,
     "metadata": {},
     "output_type": "execute_result"
    }
   ],
   "source": [
    "gp.map_stack_to_surfaces(geo_model,\n",
    "                         {\n",
    "                          'Strata1': ('Shale', 'Ironstone'),\n",
    "                         },\n",
    "                         remove_unused_series=True)\n",
    "geo_model.add_surfaces('Basement')"
   ]
  },
  {
   "cell_type": "markdown",
   "id": "subtle-techno",
   "metadata": {},
   "source": [
    "### Showing the Number of Data Points"
   ]
  },
  {
   "cell_type": "code",
   "execution_count": 29,
   "id": "forty-treaty",
   "metadata": {
    "ExecuteTime": {
     "end_time": "2021-04-03T13:54:20.731456Z",
     "start_time": "2021-04-03T13:54:20.685442Z"
    }
   },
   "outputs": [
    {
     "data": {
      "text/html": [
       "<style  type=\"text/css\" >\n",
       "#T_886dd_row0_col3{\n",
       "            background-color:  #015482;\n",
       "        }#T_886dd_row1_col3{\n",
       "            background-color:  #9f0052;\n",
       "        }#T_886dd_row2_col3{\n",
       "            background-color:  #ffbe00;\n",
       "        }</style><table id=\"T_886dd_\" ><thead>    <tr>        <th class=\"blank level0\" ></th>        <th class=\"col_heading level0 col0\" >surface</th>        <th class=\"col_heading level0 col1\" >series</th>        <th class=\"col_heading level0 col2\" >order_surfaces</th>        <th class=\"col_heading level0 col3\" >color</th>        <th class=\"col_heading level0 col4\" >id</th>        <th class=\"col_heading level0 col5\" >No. of Interfaces</th>        <th class=\"col_heading level0 col6\" >No. of Orientations</th>    </tr></thead><tbody>\n",
       "                <tr>\n",
       "                        <th id=\"T_886dd_level0_row0\" class=\"row_heading level0 row0\" >0</th>\n",
       "                        <td id=\"T_886dd_row0_col0\" class=\"data row0 col0\" >Shale</td>\n",
       "                        <td id=\"T_886dd_row0_col1\" class=\"data row0 col1\" >Strata1</td>\n",
       "                        <td id=\"T_886dd_row0_col2\" class=\"data row0 col2\" >1</td>\n",
       "                        <td id=\"T_886dd_row0_col3\" class=\"data row0 col3\" >#015482</td>\n",
       "                        <td id=\"T_886dd_row0_col4\" class=\"data row0 col4\" >1</td>\n",
       "                        <td id=\"T_886dd_row0_col5\" class=\"data row0 col5\" >3</td>\n",
       "                        <td id=\"T_886dd_row0_col6\" class=\"data row0 col6\" >1</td>\n",
       "            </tr>\n",
       "            <tr>\n",
       "                        <th id=\"T_886dd_level0_row1\" class=\"row_heading level0 row1\" >1</th>\n",
       "                        <td id=\"T_886dd_row1_col0\" class=\"data row1 col0\" >Ironstone</td>\n",
       "                        <td id=\"T_886dd_row1_col1\" class=\"data row1 col1\" >Strata1</td>\n",
       "                        <td id=\"T_886dd_row1_col2\" class=\"data row1 col2\" >2</td>\n",
       "                        <td id=\"T_886dd_row1_col3\" class=\"data row1 col3\" >#9f0052</td>\n",
       "                        <td id=\"T_886dd_row1_col4\" class=\"data row1 col4\" >2</td>\n",
       "                        <td id=\"T_886dd_row1_col5\" class=\"data row1 col5\" >3</td>\n",
       "                        <td id=\"T_886dd_row1_col6\" class=\"data row1 col6\" >1</td>\n",
       "            </tr>\n",
       "            <tr>\n",
       "                        <th id=\"T_886dd_level0_row2\" class=\"row_heading level0 row2\" >2</th>\n",
       "                        <td id=\"T_886dd_row2_col0\" class=\"data row2 col0\" >Basement</td>\n",
       "                        <td id=\"T_886dd_row2_col1\" class=\"data row2 col1\" >Strata1</td>\n",
       "                        <td id=\"T_886dd_row2_col2\" class=\"data row2 col2\" >3</td>\n",
       "                        <td id=\"T_886dd_row2_col3\" class=\"data row2 col3\" >#ffbe00</td>\n",
       "                        <td id=\"T_886dd_row2_col4\" class=\"data row2 col4\" >3</td>\n",
       "                        <td id=\"T_886dd_row2_col5\" class=\"data row2 col5\" >0</td>\n",
       "                        <td id=\"T_886dd_row2_col6\" class=\"data row2 col6\" >0</td>\n",
       "            </tr>\n",
       "    </tbody></table>"
      ],
      "text/plain": [
       "     surface   series  order_surfaces    color  id  No. of Interfaces  No. of Orientations\n",
       "0      Shale  Strata1               1  #015482   1                  3                    1\n",
       "1  Ironstone  Strata1               2  #9f0052   2                  3                    1\n",
       "2   Basement  Strata1               3  #ffbe00   3                  0                    0"
      ]
     },
     "execution_count": 29,
     "metadata": {},
     "output_type": "execute_result"
    }
   ],
   "source": [
    "gg.utils.show_number_of_data_points(geo_model=geo_model)"
   ]
  },
  {
   "cell_type": "markdown",
   "id": "medieval-deployment",
   "metadata": {},
   "source": [
    "### Loading Digital Elevation Model"
   ]
  },
  {
   "cell_type": "code",
   "execution_count": 30,
   "id": "subsequent-technique",
   "metadata": {
    "ExecuteTime": {
     "end_time": "2021-04-03T13:54:21.015284Z",
     "start_time": "2021-04-03T13:54:20.733455Z"
    }
   },
   "outputs": [
    {
     "name": "stdout",
     "output_type": "stream",
     "text": [
      "Cropped raster to geo_model.grid.extent.\n",
      "depending on the size of the raster, this can take a while...\n",
      "storing converted file...\n",
      "Active grids: ['regular' 'topography']\n"
     ]
    },
    {
     "data": {
      "text/plain": [
       "Grid Object. Values: \n",
       "array([[   5.935     ,    7.395     ,  101.        ],\n",
       "       [   5.935     ,    7.395     ,  103.        ],\n",
       "       [   5.935     ,    7.395     ,  105.        ],\n",
       "       ...,\n",
       "       [1184.49578059, 1466.50844595,  275.3008728 ],\n",
       "       [1184.49578059, 1471.50506757,  275.80532837],\n",
       "       [1184.49578059, 1476.50168919,  276.31124878]])"
      ]
     },
     "execution_count": 30,
     "metadata": {},
     "output_type": "execute_result"
    }
   ],
   "source": [
    "geo_model.set_topography(\n",
    "    source='gdal', filepath=file_path + 'raster15.tif')"
   ]
  },
  {
   "cell_type": "markdown",
   "id": "extreme-drink",
   "metadata": {},
   "source": [
    "### Plotting Input Data"
   ]
  },
  {
   "cell_type": "code",
   "execution_count": 31,
   "id": "conservative-philip",
   "metadata": {
    "ExecuteTime": {
     "end_time": "2021-04-03T13:54:21.237401Z",
     "start_time": "2021-04-03T13:54:21.017284Z"
    }
   },
   "outputs": [
    {
     "data": {
      "image/png": "[encoded data removed]",
      "text/plain": [
       "<Figure size 748.8x514.8 with 1 Axes>"
      ]
     },
     "metadata": {},
     "output_type": "display_data"
    }
   ],
   "source": [
    "gp.plot_2d(geo_model, direction='z', show_lith=False, show_boundaries=False)\n",
    "plt.grid()"
   ]
  },
  {
   "cell_type": "code",
   "execution_count": 32,
   "id": "vocational-intranet",
   "metadata": {
    "ExecuteTime": {
     "end_time": "2021-04-03T13:54:21.646688Z",
     "start_time": "2021-04-03T13:54:21.239391Z"
    }
   },
   "outputs": [
    {
     "data": {
      "image/png": "[encoded data removed]",
      "text/plain": [
       "<PIL.Image.Image image mode=RGB size=1024x768 at 0x12D36B108B0>"
      ]
     },
     "metadata": {},
     "output_type": "display_data"
    },
    {
     "data": {
      "text/plain": [
       "<gempy.plot.vista.GemPyToVista at 0x12d3727fd30>"
      ]
     },
     "execution_count": 32,
     "metadata": {},
     "output_type": "execute_result"
    }
   ],
   "source": [
    "gp.plot_3d(geo_model, image=False, plotter_type='basic', notebook=True)"
   ]
  },
  {
   "cell_type": "markdown",
   "id": "geological-triple",
   "metadata": {},
   "source": [
    "### Setting the Interpolator"
   ]
  },
  {
   "cell_type": "code",
   "execution_count": 33,
   "id": "external-clerk",
   "metadata": {
    "ExecuteTime": {
     "end_time": "2021-04-03T13:54:24.314980Z",
     "start_time": "2021-04-03T13:54:21.648697Z"
    }
   },
   "outputs": [
    {
     "name": "stdout",
     "output_type": "stream",
     "text": [
      "Compiling theano function...\n",
      "Level of Optimization:  fast_compile\n",
      "Device:  cpu\n",
      "Precision:  float64\n",
      "Number of faults:  0\n",
      "Compilation Done!\n",
      "Kriging values: \n",
      "                   values\n",
      "range            1906.94\n",
      "$C_o$           86581.19\n",
      "drift equations      [3]\n"
     ]
    },
    {
     "data": {
      "text/plain": [
       "<gempy.core.interpolator.InterpolatorModel at 0x12d350ea6a0>"
      ]
     },
     "execution_count": 33,
     "metadata": {},
     "output_type": "execute_result"
    }
   ],
   "source": [
    "gp.set_interpolator(geo_model,\n",
    "                    compile_theano=True,\n",
    "                    theano_optimizer='fast_compile',\n",
    "                    verbose=[],\n",
    "                    update_kriging = False\n",
    "                    )"
   ]
  },
  {
   "cell_type": "markdown",
   "id": "above-lending",
   "metadata": {},
   "source": [
    "### Computing Model"
   ]
  },
  {
   "cell_type": "code",
   "execution_count": 34,
   "id": "impressed-adams",
   "metadata": {
    "ExecuteTime": {
     "end_time": "2021-04-03T13:54:29.047884Z",
     "start_time": "2021-04-03T13:54:24.316982Z"
    }
   },
   "outputs": [],
   "source": [
    "sol = gp.compute_model(geo_model, compute_mesh=True)"
   ]
  },
  {
   "cell_type": "markdown",
   "id": "developing-wallet",
   "metadata": {},
   "source": [
    "### Plotting Cross Sections"
   ]
  },
  {
   "cell_type": "code",
   "execution_count": 35,
   "id": "champion-collectible",
   "metadata": {
    "ExecuteTime": {
     "end_time": "2021-04-03T13:54:29.647888Z",
     "start_time": "2021-04-03T13:54:29.049870Z"
    }
   },
   "outputs": [
    {
     "data": {
      "text/plain": [
       "<gempy.plot.visualization_2d.Plot2D at 0x12d396cd3a0>"
      ]
     },
     "execution_count": 35,
     "metadata": {},
     "output_type": "execute_result"
    },
    {
     "data": {
      "image/png": "[encoded data removed]",
      "text/plain": [
       "<Figure size 1797.12x1235.52 with 4 Axes>"
      ]
     },
     "metadata": {},
     "output_type": "display_data"
    }
   ],
   "source": [
    "gp.plot_2d(geo_model, direction=['x', 'x', 'y', 'y'], cell_number=[25,75,25,75], show_topography=True, show_data=False)"
   ]
  },
  {
   "cell_type": "markdown",
   "id": "intimate-connectivity",
   "metadata": {},
   "source": [
    "### Plotting 3D Model"
   ]
  },
  {
   "cell_type": "code",
   "execution_count": 36,
   "id": "developing-comparison",
   "metadata": {
    "ExecuteTime": {
     "end_time": "2021-04-03T13:54:31.753341Z",
     "start_time": "2021-04-03T13:54:29.649910Z"
    }
   },
   "outputs": [
    {
     "data": {
      "image/png": "[encoded data removed]",
      "text/plain": [
       "<PIL.Image.Image image mode=RGB size=1024x768 at 0x12D37F96DF0>"
      ]
     },
     "metadata": {},
     "output_type": "display_data"
    }
   ],
   "source": [
    "gpv = gp.plot_3d(geo_model, image=False, show_topography=True,\n",
    "                 plotter_type='basic', notebook=True, show_lith=True)"
   ]
  },
  {
   "cell_type": "markdown",
   "id": "three-nutrition",
   "metadata": {},
   "source": [
    "### Creating Polygons from GemPy Model\n",
    "\n",
    "A GeoDataFrame containing polygons representing the geological map can be created using `gg.post.extract_lithologies()`. This data is now being saved and the constructed layer boundaries beyond the fault in the east are being digitized. Their elevation values will be reduced by 20 m to simulate the offset of the fault. The model will then be recalculated again."
   ]
  },
  {
   "cell_type": "code",
   "execution_count": 37,
   "id": "annual-clarity",
   "metadata": {
    "ExecuteTime": {
     "end_time": "2021-04-03T13:54:31.815345Z",
     "start_time": "2021-04-03T13:54:31.755342Z"
    }
   },
   "outputs": [
    {
     "data": {
      "text/html": [
       "<div>\n",
       "<style scoped>\n",
       "    .dataframe tbody tr th:only-of-type {\n",
       "        vertical-align: middle;\n",
       "    }\n",
       "\n",
       "    .dataframe tbody tr th {\n",
       "        vertical-align: top;\n",
       "    }\n",
       "\n",
       "    .dataframe thead th {\n",
       "        text-align: right;\n",
       "    }\n",
       "</style>\n",
       "<table border=\"1\" class=\"dataframe\">\n",
       "  <thead>\n",
       "    <tr style=\"text-align: right;\">\n",
       "      <th></th>\n",
       "      <th>formation</th>\n",
       "      <th>geometry</th>\n",
       "    </tr>\n",
       "  </thead>\n",
       "  <tbody>\n",
       "    <tr>\n",
       "      <th>0</th>\n",
       "      <td>Basement</td>\n",
       "      <td>POLYGON ((22.538 3.254, 22.804 2.498, 27.546 2...</td>\n",
       "    </tr>\n",
       "    <tr>\n",
       "      <th>1</th>\n",
       "      <td>Ironstone</td>\n",
       "      <td>POLYGON ((7.513 2.498, 12.521 2.498, 17.530 2....</td>\n",
       "    </tr>\n",
       "    <tr>\n",
       "      <th>2</th>\n",
       "      <td>Ironstone</td>\n",
       "      <td>POLYGON ((5.851 192.370, 7.513 194.147, 10.887...</td>\n",
       "    </tr>\n",
       "    <tr>\n",
       "      <th>3</th>\n",
       "      <td>Shale</td>\n",
       "      <td>POLYGON ((4.134 362.255, 7.513 365.081, 10.021...</td>\n",
       "    </tr>\n",
       "  </tbody>\n",
       "</table>\n",
       "</div>"
      ],
      "text/plain": [
       "   formation                                           geometry\n",
       "0   Basement  POLYGON ((22.538 3.254, 22.804 2.498, 27.546 2...\n",
       "1  Ironstone  POLYGON ((7.513 2.498, 12.521 2.498, 17.530 2....\n",
       "2  Ironstone  POLYGON ((5.851 192.370, 7.513 194.147, 10.887...\n",
       "3      Shale  POLYGON ((4.134 362.255, 7.513 365.081, 10.021..."
      ]
     },
     "execution_count": 37,
     "metadata": {},
     "output_type": "execute_result"
    }
   ],
   "source": [
    "gdf = gg.post.extract_lithologies(geo_model, [0,1187,0,1479], 'EPSG:4326')\n",
    "gdf"
   ]
  },
  {
   "cell_type": "code",
   "execution_count": 38,
   "id": "structural-malawi",
   "metadata": {
    "ExecuteTime": {
     "end_time": "2021-04-03T13:54:31.879358Z",
     "start_time": "2021-04-03T13:54:31.817345Z"
    }
   },
   "outputs": [
    {
     "data": {
      "text/html": [
       "<div>\n",
       "<style scoped>\n",
       "    .dataframe tbody tr th:only-of-type {\n",
       "        vertical-align: middle;\n",
       "    }\n",
       "\n",
       "    .dataframe tbody tr th {\n",
       "        vertical-align: top;\n",
       "    }\n",
       "\n",
       "    .dataframe thead th {\n",
       "        text-align: right;\n",
       "    }\n",
       "</style>\n",
       "<table border=\"1\" class=\"dataframe\">\n",
       "  <thead>\n",
       "    <tr style=\"text-align: right;\">\n",
       "      <th></th>\n",
       "      <th>formation</th>\n",
       "      <th>geometry</th>\n",
       "    </tr>\n",
       "  </thead>\n",
       "  <tbody>\n",
       "    <tr>\n",
       "      <th>0</th>\n",
       "      <td>Conglomerate</td>\n",
       "      <td>POLYGON ((22.538 3.254, 21.064 7.495, 19.356 1...</td>\n",
       "    </tr>\n",
       "    <tr>\n",
       "      <th>1</th>\n",
       "      <td>Ironstone</td>\n",
       "      <td>POLYGON ((7.513 2.498, 2.504 2.498, 2.504 7.49...</td>\n",
       "    </tr>\n",
       "    <tr>\n",
       "      <th>2</th>\n",
       "      <td>Ironstone</td>\n",
       "      <td>POLYGON ((5.851 192.370, 2.504 188.069, 2.504 ...</td>\n",
       "    </tr>\n",
       "    <tr>\n",
       "      <th>3</th>\n",
       "      <td>Shale</td>\n",
       "      <td>POLYGON ((4.134 362.255, 2.504 360.939, 2.504 ...</td>\n",
       "    </tr>\n",
       "  </tbody>\n",
       "</table>\n",
       "</div>"
      ],
      "text/plain": [
       "      formation                                           geometry\n",
       "0  Conglomerate  POLYGON ((22.538 3.254, 21.064 7.495, 19.356 1...\n",
       "1     Ironstone  POLYGON ((7.513 2.498, 2.504 2.498, 2.504 7.49...\n",
       "2     Ironstone  POLYGON ((5.851 192.370, 2.504 188.069, 2.504 ...\n",
       "3         Shale  POLYGON ((4.134 362.255, 2.504 360.939, 2.504 ..."
      ]
     },
     "execution_count": 38,
     "metadata": {},
     "output_type": "execute_result"
    }
   ],
   "source": [
    "gdf = gpd.read_file(file_path + 'geolmap.shp')\n",
    "gdf"
   ]
  },
  {
   "cell_type": "code",
   "execution_count": 39,
   "id": "insured-psychiatry",
   "metadata": {
    "ExecuteTime": {
     "end_time": "2021-04-03T13:54:32.053572Z",
     "start_time": "2021-04-03T13:54:31.881360Z"
    }
   },
   "outputs": [
    {
     "data": {
      "image/png": "[encoded data removed]",
      "text/plain": [
       "<Figure size 748.8x514.8 with 1 Axes>"
      ]
     },
     "metadata": {},
     "output_type": "display_data"
    }
   ],
   "source": [
    "gdf.plot(column='formation',  alpha=0.9, aspect='equal')\n",
    "plt.grid()"
   ]
  },
  {
   "cell_type": "markdown",
   "id": "superior-fundamentals",
   "metadata": {},
   "source": [
    "### Preparing Interfaces beyond the fault"
   ]
  },
  {
   "cell_type": "code",
   "execution_count": 40,
   "id": "special-integer",
   "metadata": {
    "ExecuteTime": {
     "end_time": "2021-04-03T13:54:32.180608Z",
     "start_time": "2021-04-03T13:54:32.055574Z"
    }
   },
   "outputs": [
    {
     "data": {
      "text/html": [
       "<div>\n",
       "<style scoped>\n",
       "    .dataframe tbody tr th:only-of-type {\n",
       "        vertical-align: middle;\n",
       "    }\n",
       "\n",
       "    .dataframe tbody tr th {\n",
       "        vertical-align: top;\n",
       "    }\n",
       "\n",
       "    .dataframe thead th {\n",
       "        text-align: right;\n",
       "    }\n",
       "</style>\n",
       "<table border=\"1\" class=\"dataframe\">\n",
       "  <thead>\n",
       "    <tr style=\"text-align: right;\">\n",
       "      <th></th>\n",
       "      <th>formation</th>\n",
       "      <th>geometry</th>\n",
       "      <th>X</th>\n",
       "      <th>Y</th>\n",
       "      <th>Z</th>\n",
       "    </tr>\n",
       "  </thead>\n",
       "  <tbody>\n",
       "    <tr>\n",
       "      <th>0</th>\n",
       "      <td>Shale</td>\n",
       "      <td>POINT (778.812 601.522)</td>\n",
       "      <td>778.81</td>\n",
       "      <td>601.52</td>\n",
       "      <td>208.06</td>\n",
       "    </tr>\n",
       "    <tr>\n",
       "      <th>1</th>\n",
       "      <td>Shale</td>\n",
       "      <td>POINT (783.821 597.991)</td>\n",
       "      <td>783.82</td>\n",
       "      <td>597.99</td>\n",
       "      <td>208.15</td>\n",
       "    </tr>\n",
       "    <tr>\n",
       "      <th>2</th>\n",
       "      <td>Shale</td>\n",
       "      <td>POINT (788.829 594.245)</td>\n",
       "      <td>788.83</td>\n",
       "      <td>594.25</td>\n",
       "      <td>208.26</td>\n",
       "    </tr>\n",
       "    <tr>\n",
       "      <th>3</th>\n",
       "      <td>Shale</td>\n",
       "      <td>POINT (791.557 592.100)</td>\n",
       "      <td>791.56</td>\n",
       "      <td>592.10</td>\n",
       "      <td>208.71</td>\n",
       "    </tr>\n",
       "    <tr>\n",
       "      <th>4</th>\n",
       "      <td>Shale</td>\n",
       "      <td>POINT (797.430 587.103)</td>\n",
       "      <td>797.43</td>\n",
       "      <td>587.10</td>\n",
       "      <td>208.89</td>\n",
       "    </tr>\n",
       "    <tr>\n",
       "      <th>...</th>\n",
       "      <td>...</td>\n",
       "      <td>...</td>\n",
       "      <td>...</td>\n",
       "      <td>...</td>\n",
       "      <td>...</td>\n",
       "    </tr>\n",
       "    <tr>\n",
       "      <th>250</th>\n",
       "      <td>Ironstone</td>\n",
       "      <td>POINT (1169.470 270.001)</td>\n",
       "      <td>1169.47</td>\n",
       "      <td>270.00</td>\n",
       "      <td>205.13</td>\n",
       "    </tr>\n",
       "    <tr>\n",
       "      <th>251</th>\n",
       "      <td>Ironstone</td>\n",
       "      <td>POINT (1172.985 267.319)</td>\n",
       "      <td>1172.99</td>\n",
       "      <td>267.32</td>\n",
       "      <td>205.24</td>\n",
       "    </tr>\n",
       "    <tr>\n",
       "      <th>252</th>\n",
       "      <td>Ironstone</td>\n",
       "      <td>POINT (1174.479 266.187)</td>\n",
       "      <td>1174.48</td>\n",
       "      <td>266.19</td>\n",
       "      <td>205.24</td>\n",
       "    </tr>\n",
       "    <tr>\n",
       "      <th>253</th>\n",
       "      <td>Ironstone</td>\n",
       "      <td>POINT (1179.487 262.439)</td>\n",
       "      <td>1179.49</td>\n",
       "      <td>262.44</td>\n",
       "      <td>205.33</td>\n",
       "    </tr>\n",
       "    <tr>\n",
       "      <th>254</th>\n",
       "      <td>Ironstone</td>\n",
       "      <td>POINT (1184.496 258.751)</td>\n",
       "      <td>1184.50</td>\n",
       "      <td>258.75</td>\n",
       "      <td>205.42</td>\n",
       "    </tr>\n",
       "  </tbody>\n",
       "</table>\n",
       "<p>255 rows × 5 columns</p>\n",
       "</div>"
      ],
      "text/plain": [
       "     formation                  geometry       X      Y      Z\n",
       "0        Shale   POINT (778.812 601.522)  778.81 601.52 208.06\n",
       "1        Shale   POINT (783.821 597.991)  783.82 597.99 208.15\n",
       "2        Shale   POINT (788.829 594.245)  788.83 594.25 208.26\n",
       "3        Shale   POINT (791.557 592.100)  791.56 592.10 208.71\n",
       "4        Shale   POINT (797.430 587.103)  797.43 587.10 208.89\n",
       "..         ...                       ...     ...    ...    ...\n",
       "250  Ironstone  POINT (1169.470 270.001) 1169.47 270.00 205.13\n",
       "251  Ironstone  POINT (1172.985 267.319) 1172.99 267.32 205.24\n",
       "252  Ironstone  POINT (1174.479 266.187) 1174.48 266.19 205.24\n",
       "253  Ironstone  POINT (1179.487 262.439) 1179.49 262.44 205.33\n",
       "254  Ironstone  POINT (1184.496 258.751) 1184.50 258.75 205.42\n",
       "\n",
       "[255 rows x 5 columns]"
      ]
     },
     "execution_count": 40,
     "metadata": {},
     "output_type": "execute_result"
    }
   ],
   "source": [
    "interfaces_beyond_fault =  gpd.read_file(file_path + 'interfaces15_beyond_fault.shp')\n",
    "interfaces_beyond_fault = gg.vector.extract_xyz(gdf=interfaces_beyond_fault, dem=topo_raster)\n",
    "interfaces_beyond_fault"
   ]
  },
  {
   "cell_type": "markdown",
   "id": "accomplished-sample",
   "metadata": {},
   "source": [
    "### Substracting the fault offset"
   ]
  },
  {
   "cell_type": "code",
   "execution_count": 41,
   "id": "ultimate-process",
   "metadata": {
    "ExecuteTime": {
     "end_time": "2021-04-03T13:54:32.212615Z",
     "start_time": "2021-04-03T13:54:32.182614Z"
    }
   },
   "outputs": [
    {
     "data": {
      "text/html": [
       "<div>\n",
       "<style scoped>\n",
       "    .dataframe tbody tr th:only-of-type {\n",
       "        vertical-align: middle;\n",
       "    }\n",
       "\n",
       "    .dataframe tbody tr th {\n",
       "        vertical-align: top;\n",
       "    }\n",
       "\n",
       "    .dataframe thead th {\n",
       "        text-align: right;\n",
       "    }\n",
       "</style>\n",
       "<table border=\"1\" class=\"dataframe\">\n",
       "  <thead>\n",
       "    <tr style=\"text-align: right;\">\n",
       "      <th></th>\n",
       "      <th>formation</th>\n",
       "      <th>geometry</th>\n",
       "      <th>X</th>\n",
       "      <th>Y</th>\n",
       "      <th>Z</th>\n",
       "    </tr>\n",
       "  </thead>\n",
       "  <tbody>\n",
       "    <tr>\n",
       "      <th>0</th>\n",
       "      <td>Shale</td>\n",
       "      <td>POINT (778.812 601.522)</td>\n",
       "      <td>778.81</td>\n",
       "      <td>601.52</td>\n",
       "      <td>188.06</td>\n",
       "    </tr>\n",
       "    <tr>\n",
       "      <th>1</th>\n",
       "      <td>Shale</td>\n",
       "      <td>POINT (783.821 597.991)</td>\n",
       "      <td>783.82</td>\n",
       "      <td>597.99</td>\n",
       "      <td>188.15</td>\n",
       "    </tr>\n",
       "    <tr>\n",
       "      <th>2</th>\n",
       "      <td>Shale</td>\n",
       "      <td>POINT (788.829 594.245)</td>\n",
       "      <td>788.83</td>\n",
       "      <td>594.25</td>\n",
       "      <td>188.26</td>\n",
       "    </tr>\n",
       "    <tr>\n",
       "      <th>3</th>\n",
       "      <td>Shale</td>\n",
       "      <td>POINT (791.557 592.100)</td>\n",
       "      <td>791.56</td>\n",
       "      <td>592.10</td>\n",
       "      <td>188.71</td>\n",
       "    </tr>\n",
       "    <tr>\n",
       "      <th>4</th>\n",
       "      <td>Shale</td>\n",
       "      <td>POINT (797.430 587.103)</td>\n",
       "      <td>797.43</td>\n",
       "      <td>587.10</td>\n",
       "      <td>188.89</td>\n",
       "    </tr>\n",
       "    <tr>\n",
       "      <th>...</th>\n",
       "      <td>...</td>\n",
       "      <td>...</td>\n",
       "      <td>...</td>\n",
       "      <td>...</td>\n",
       "      <td>...</td>\n",
       "    </tr>\n",
       "    <tr>\n",
       "      <th>250</th>\n",
       "      <td>Ironstone</td>\n",
       "      <td>POINT (1169.470 270.001)</td>\n",
       "      <td>1169.47</td>\n",
       "      <td>270.00</td>\n",
       "      <td>185.13</td>\n",
       "    </tr>\n",
       "    <tr>\n",
       "      <th>251</th>\n",
       "      <td>Ironstone</td>\n",
       "      <td>POINT (1172.985 267.319)</td>\n",
       "      <td>1172.99</td>\n",
       "      <td>267.32</td>\n",
       "      <td>185.24</td>\n",
       "    </tr>\n",
       "    <tr>\n",
       "      <th>252</th>\n",
       "      <td>Ironstone</td>\n",
       "      <td>POINT (1174.479 266.187)</td>\n",
       "      <td>1174.48</td>\n",
       "      <td>266.19</td>\n",
       "      <td>185.24</td>\n",
       "    </tr>\n",
       "    <tr>\n",
       "      <th>253</th>\n",
       "      <td>Ironstone</td>\n",
       "      <td>POINT (1179.487 262.439)</td>\n",
       "      <td>1179.49</td>\n",
       "      <td>262.44</td>\n",
       "      <td>185.33</td>\n",
       "    </tr>\n",
       "    <tr>\n",
       "      <th>254</th>\n",
       "      <td>Ironstone</td>\n",
       "      <td>POINT (1184.496 258.751)</td>\n",
       "      <td>1184.50</td>\n",
       "      <td>258.75</td>\n",
       "      <td>185.42</td>\n",
       "    </tr>\n",
       "  </tbody>\n",
       "</table>\n",
       "<p>255 rows × 5 columns</p>\n",
       "</div>"
      ],
      "text/plain": [
       "     formation                  geometry       X      Y      Z\n",
       "0        Shale   POINT (778.812 601.522)  778.81 601.52 188.06\n",
       "1        Shale   POINT (783.821 597.991)  783.82 597.99 188.15\n",
       "2        Shale   POINT (788.829 594.245)  788.83 594.25 188.26\n",
       "3        Shale   POINT (791.557 592.100)  791.56 592.10 188.71\n",
       "4        Shale   POINT (797.430 587.103)  797.43 587.10 188.89\n",
       "..         ...                       ...     ...    ...    ...\n",
       "250  Ironstone  POINT (1169.470 270.001) 1169.47 270.00 185.13\n",
       "251  Ironstone  POINT (1172.985 267.319) 1172.99 267.32 185.24\n",
       "252  Ironstone  POINT (1174.479 266.187) 1174.48 266.19 185.24\n",
       "253  Ironstone  POINT (1179.487 262.439) 1179.49 262.44 185.33\n",
       "254  Ironstone  POINT (1184.496 258.751) 1184.50 258.75 185.42\n",
       "\n",
       "[255 rows x 5 columns]"
      ]
     },
     "execution_count": 41,
     "metadata": {},
     "output_type": "execute_result"
    }
   ],
   "source": [
    "interfaces_beyond_fault['Z'] = interfaces_beyond_fault['Z']-20\n",
    "interfaces_beyond_fault"
   ]
  },
  {
   "cell_type": "markdown",
   "id": "whole-amplifier",
   "metadata": {},
   "source": [
    "### Mergin old and new interfaces"
   ]
  },
  {
   "cell_type": "code",
   "execution_count": 42,
   "id": "eight-omega",
   "metadata": {
    "ExecuteTime": {
     "end_time": "2021-04-03T13:54:32.243623Z",
     "start_time": "2021-04-03T13:54:32.214618Z"
    }
   },
   "outputs": [
    {
     "data": {
      "text/html": [
       "<div>\n",
       "<style scoped>\n",
       "    .dataframe tbody tr th:only-of-type {\n",
       "        vertical-align: middle;\n",
       "    }\n",
       "\n",
       "    .dataframe tbody tr th {\n",
       "        vertical-align: top;\n",
       "    }\n",
       "\n",
       "    .dataframe thead th {\n",
       "        text-align: right;\n",
       "    }\n",
       "</style>\n",
       "<table border=\"1\" class=\"dataframe\">\n",
       "  <thead>\n",
       "    <tr style=\"text-align: right;\">\n",
       "      <th></th>\n",
       "      <th>level_0</th>\n",
       "      <th>index</th>\n",
       "      <th>formation</th>\n",
       "      <th>Z</th>\n",
       "      <th>geometry</th>\n",
       "      <th>X</th>\n",
       "      <th>Y</th>\n",
       "    </tr>\n",
       "  </thead>\n",
       "  <tbody>\n",
       "    <tr>\n",
       "      <th>0</th>\n",
       "      <td>0</td>\n",
       "      <td>0.00</td>\n",
       "      <td>Shale</td>\n",
       "      <td>190.00</td>\n",
       "      <td>POINT (69.806 954.941)</td>\n",
       "      <td>69.81</td>\n",
       "      <td>954.94</td>\n",
       "    </tr>\n",
       "    <tr>\n",
       "      <th>1</th>\n",
       "      <td>1</td>\n",
       "      <td>1.00</td>\n",
       "      <td>Ironstone</td>\n",
       "      <td>170.00</td>\n",
       "      <td>POINT (69.806 954.941)</td>\n",
       "      <td>69.81</td>\n",
       "      <td>954.94</td>\n",
       "    </tr>\n",
       "    <tr>\n",
       "      <th>2</th>\n",
       "      <td>2</td>\n",
       "      <td>2.00</td>\n",
       "      <td>Ironstone</td>\n",
       "      <td>190.00</td>\n",
       "      <td>POINT (145.769 562.774)</td>\n",
       "      <td>145.77</td>\n",
       "      <td>562.77</td>\n",
       "    </tr>\n",
       "    <tr>\n",
       "      <th>3</th>\n",
       "      <td>3</td>\n",
       "      <td>3.00</td>\n",
       "      <td>Ironstone</td>\n",
       "      <td>185.00</td>\n",
       "      <td>POINT (264.746 660.701)</td>\n",
       "      <td>264.75</td>\n",
       "      <td>660.70</td>\n",
       "    </tr>\n",
       "    <tr>\n",
       "      <th>4</th>\n",
       "      <td>4</td>\n",
       "      <td>4.00</td>\n",
       "      <td>Shale</td>\n",
       "      <td>210.00</td>\n",
       "      <td>POINT (146.226 563.346)</td>\n",
       "      <td>146.23</td>\n",
       "      <td>563.35</td>\n",
       "    </tr>\n",
       "    <tr>\n",
       "      <th>5</th>\n",
       "      <td>5</td>\n",
       "      <td>5.00</td>\n",
       "      <td>Shale</td>\n",
       "      <td>205.00</td>\n",
       "      <td>POINT (264.746 660.701)</td>\n",
       "      <td>264.75</td>\n",
       "      <td>660.70</td>\n",
       "    </tr>\n",
       "    <tr>\n",
       "      <th>6</th>\n",
       "      <td>6</td>\n",
       "      <td>0.00</td>\n",
       "      <td>Fault</td>\n",
       "      <td>178.76</td>\n",
       "      <td>POINT (683.911 0.608)</td>\n",
       "      <td>683.91</td>\n",
       "      <td>0.61</td>\n",
       "    </tr>\n",
       "    <tr>\n",
       "      <th>7</th>\n",
       "      <td>7</td>\n",
       "      <td>1.00</td>\n",
       "      <td>Fault</td>\n",
       "      <td>254.62</td>\n",
       "      <td>POINT (899.671 1477.524)</td>\n",
       "      <td>899.67</td>\n",
       "      <td>1477.52</td>\n",
       "    </tr>\n",
       "    <tr>\n",
       "      <th>8</th>\n",
       "      <td>60</td>\n",
       "      <td>NaN</td>\n",
       "      <td>Shale</td>\n",
       "      <td>188.16</td>\n",
       "      <td>POINT (984.158 597.853)</td>\n",
       "      <td>984.16</td>\n",
       "      <td>597.85</td>\n",
       "    </tr>\n",
       "    <tr>\n",
       "      <th>9</th>\n",
       "      <td>4</td>\n",
       "      <td>NaN</td>\n",
       "      <td>Shale</td>\n",
       "      <td>188.89</td>\n",
       "      <td>POINT (797.430 587.103)</td>\n",
       "      <td>797.43</td>\n",
       "      <td>587.10</td>\n",
       "    </tr>\n",
       "    <tr>\n",
       "      <th>10</th>\n",
       "      <td>156</td>\n",
       "      <td>NaN</td>\n",
       "      <td>Ironstone</td>\n",
       "      <td>176.90</td>\n",
       "      <td>POINT (853.939 427.352)</td>\n",
       "      <td>853.94</td>\n",
       "      <td>427.35</td>\n",
       "    </tr>\n",
       "    <tr>\n",
       "      <th>11</th>\n",
       "      <td>32</td>\n",
       "      <td>NaN</td>\n",
       "      <td>Shale</td>\n",
       "      <td>191.13</td>\n",
       "      <td>POINT (894.006 538.443)</td>\n",
       "      <td>894.01</td>\n",
       "      <td>538.44</td>\n",
       "    </tr>\n",
       "    <tr>\n",
       "      <th>12</th>\n",
       "      <td>24</td>\n",
       "      <td>NaN</td>\n",
       "      <td>Shale</td>\n",
       "      <td>191.30</td>\n",
       "      <td>POINT (853.939 539.879)</td>\n",
       "      <td>853.94</td>\n",
       "      <td>539.88</td>\n",
       "    </tr>\n",
       "    <tr>\n",
       "      <th>13</th>\n",
       "      <td>242</td>\n",
       "      <td>NaN</td>\n",
       "      <td>Ironstone</td>\n",
       "      <td>184.02</td>\n",
       "      <td>POINT (1144.428 290.559)</td>\n",
       "      <td>1144.43</td>\n",
       "      <td>290.56</td>\n",
       "    </tr>\n",
       "    <tr>\n",
       "      <th>14</th>\n",
       "      <td>241</td>\n",
       "      <td>NaN</td>\n",
       "      <td>Ironstone</td>\n",
       "      <td>184.02</td>\n",
       "      <td>POINT (1142.482 292.302)</td>\n",
       "      <td>1142.48</td>\n",
       "      <td>292.30</td>\n",
       "    </tr>\n",
       "    <tr>\n",
       "      <th>15</th>\n",
       "      <td>13</td>\n",
       "      <td>NaN</td>\n",
       "      <td>Shale</td>\n",
       "      <td>190.00</td>\n",
       "      <td>POINT (818.880 564.740)</td>\n",
       "      <td>818.88</td>\n",
       "      <td>564.74</td>\n",
       "    </tr>\n",
       "    <tr>\n",
       "      <th>16</th>\n",
       "      <td>131</td>\n",
       "      <td>NaN</td>\n",
       "      <td>Shale</td>\n",
       "      <td>195.11</td>\n",
       "      <td>POINT (1179.983 462.188)</td>\n",
       "      <td>1179.98</td>\n",
       "      <td>462.19</td>\n",
       "    </tr>\n",
       "    <tr>\n",
       "      <th>17</th>\n",
       "      <td>35</td>\n",
       "      <td>NaN</td>\n",
       "      <td>Shale</td>\n",
       "      <td>191.07</td>\n",
       "      <td>POINT (909.032 542.065)</td>\n",
       "      <td>909.03</td>\n",
       "      <td>542.06</td>\n",
       "    </tr>\n",
       "    <tr>\n",
       "      <th>18</th>\n",
       "      <td>117</td>\n",
       "      <td>NaN</td>\n",
       "      <td>Shale</td>\n",
       "      <td>192.95</td>\n",
       "      <td>POINT (1139.420 505.671)</td>\n",
       "      <td>1139.42</td>\n",
       "      <td>505.67</td>\n",
       "    </tr>\n",
       "    <tr>\n",
       "      <th>19</th>\n",
       "      <td>219</td>\n",
       "      <td>NaN</td>\n",
       "      <td>Ironstone</td>\n",
       "      <td>181.04</td>\n",
       "      <td>POINT (1087.114 352.262)</td>\n",
       "      <td>1087.11</td>\n",
       "      <td>352.26</td>\n",
       "    </tr>\n",
       "    <tr>\n",
       "      <th>20</th>\n",
       "      <td>232</td>\n",
       "      <td>NaN</td>\n",
       "      <td>Ironstone</td>\n",
       "      <td>182.76</td>\n",
       "      <td>POINT (1119.386 315.222)</td>\n",
       "      <td>1119.39</td>\n",
       "      <td>315.22</td>\n",
       "    </tr>\n",
       "    <tr>\n",
       "      <th>21</th>\n",
       "      <td>248</td>\n",
       "      <td>NaN</td>\n",
       "      <td>Ironstone</td>\n",
       "      <td>184.64</td>\n",
       "      <td>POINT (1164.462 273.892)</td>\n",
       "      <td>1164.46</td>\n",
       "      <td>273.89</td>\n",
       "    </tr>\n",
       "    <tr>\n",
       "      <th>22</th>\n",
       "      <td>170</td>\n",
       "      <td>NaN</td>\n",
       "      <td>Ironstone</td>\n",
       "      <td>176.54</td>\n",
       "      <td>POINT (919.049 428.858)</td>\n",
       "      <td>919.05</td>\n",
       "      <td>428.86</td>\n",
       "    </tr>\n",
       "    <tr>\n",
       "      <th>23</th>\n",
       "      <td>17</td>\n",
       "      <td>NaN</td>\n",
       "      <td>Shale</td>\n",
       "      <td>190.51</td>\n",
       "      <td>POINT (828.897 554.905)</td>\n",
       "      <td>828.90</td>\n",
       "      <td>554.90</td>\n",
       "    </tr>\n",
       "    <tr>\n",
       "      <th>24</th>\n",
       "      <td>121</td>\n",
       "      <td>NaN</td>\n",
       "      <td>Shale</td>\n",
       "      <td>193.50</td>\n",
       "      <td>POINT (1149.437 493.655)</td>\n",
       "      <td>1149.44</td>\n",
       "      <td>493.66</td>\n",
       "    </tr>\n",
       "    <tr>\n",
       "      <th>25</th>\n",
       "      <td>122</td>\n",
       "      <td>NaN</td>\n",
       "      <td>Shale</td>\n",
       "      <td>193.50</td>\n",
       "      <td>POINT (1150.768 492.167)</td>\n",
       "      <td>1150.77</td>\n",
       "      <td>492.17</td>\n",
       "    </tr>\n",
       "    <tr>\n",
       "      <th>26</th>\n",
       "      <td>196</td>\n",
       "      <td>NaN</td>\n",
       "      <td>Ironstone</td>\n",
       "      <td>177.05</td>\n",
       "      <td>POINT (1034.243 423.251)</td>\n",
       "      <td>1034.24</td>\n",
       "      <td>423.25</td>\n",
       "    </tr>\n",
       "    <tr>\n",
       "      <th>27</th>\n",
       "      <td>78</td>\n",
       "      <td>NaN</td>\n",
       "      <td>Shale</td>\n",
       "      <td>187.32</td>\n",
       "      <td>POINT (1049.268 613.959)</td>\n",
       "      <td>1049.27</td>\n",
       "      <td>613.96</td>\n",
       "    </tr>\n",
       "    <tr>\n",
       "      <th>28</th>\n",
       "      <td>214</td>\n",
       "      <td>NaN</td>\n",
       "      <td>Ironstone</td>\n",
       "      <td>179.70</td>\n",
       "      <td>POINT (1076.351 367.252)</td>\n",
       "      <td>1076.35</td>\n",
       "      <td>367.25</td>\n",
       "    </tr>\n",
       "    <tr>\n",
       "      <th>29</th>\n",
       "      <td>25</td>\n",
       "      <td>NaN</td>\n",
       "      <td>Shale</td>\n",
       "      <td>191.14</td>\n",
       "      <td>POINT (858.947 538.710)</td>\n",
       "      <td>858.95</td>\n",
       "      <td>538.71</td>\n",
       "    </tr>\n",
       "    <tr>\n",
       "      <th>30</th>\n",
       "      <td>217</td>\n",
       "      <td>NaN</td>\n",
       "      <td>Ironstone</td>\n",
       "      <td>180.62</td>\n",
       "      <td>POINT (1083.408 357.258)</td>\n",
       "      <td>1083.41</td>\n",
       "      <td>357.26</td>\n",
       "    </tr>\n",
       "    <tr>\n",
       "      <th>31</th>\n",
       "      <td>141</td>\n",
       "      <td>NaN</td>\n",
       "      <td>Ironstone</td>\n",
       "      <td>175.88</td>\n",
       "      <td>POINT (793.838 444.350)</td>\n",
       "      <td>793.84</td>\n",
       "      <td>444.35</td>\n",
       "    </tr>\n",
       "    <tr>\n",
       "      <th>32</th>\n",
       "      <td>89</td>\n",
       "      <td>NaN</td>\n",
       "      <td>Shale</td>\n",
       "      <td>188.71</td>\n",
       "      <td>POINT (1079.319 589.649)</td>\n",
       "      <td>1079.32</td>\n",
       "      <td>589.65</td>\n",
       "    </tr>\n",
       "    <tr>\n",
       "      <th>33</th>\n",
       "      <td>2</td>\n",
       "      <td>NaN</td>\n",
       "      <td>Shale</td>\n",
       "      <td>188.26</td>\n",
       "      <td>POINT (788.829 594.245)</td>\n",
       "      <td>788.83</td>\n",
       "      <td>594.25</td>\n",
       "    </tr>\n",
       "    <tr>\n",
       "      <th>34</th>\n",
       "      <td>34</td>\n",
       "      <td>NaN</td>\n",
       "      <td>Shale</td>\n",
       "      <td>191.28</td>\n",
       "      <td>POINT (904.023 540.628)</td>\n",
       "      <td>904.02</td>\n",
       "      <td>540.63</td>\n",
       "    </tr>\n",
       "    <tr>\n",
       "      <th>35</th>\n",
       "      <td>56</td>\n",
       "      <td>NaN</td>\n",
       "      <td>Shale</td>\n",
       "      <td>188.83</td>\n",
       "      <td>POINT (974.141 589.742)</td>\n",
       "      <td>974.14</td>\n",
       "      <td>589.74</td>\n",
       "    </tr>\n",
       "    <tr>\n",
       "      <th>36</th>\n",
       "      <td>197</td>\n",
       "      <td>NaN</td>\n",
       "      <td>Ironstone</td>\n",
       "      <td>177.05</td>\n",
       "      <td>POINT (1035.230 422.215)</td>\n",
       "      <td>1035.23</td>\n",
       "      <td>422.21</td>\n",
       "    </tr>\n",
       "    <tr>\n",
       "      <th>37</th>\n",
       "      <td>86</td>\n",
       "      <td>NaN</td>\n",
       "      <td>Shale</td>\n",
       "      <td>188.43</td>\n",
       "      <td>POINT (1072.237 597.096)</td>\n",
       "      <td>1072.24</td>\n",
       "      <td>597.10</td>\n",
       "    </tr>\n",
       "    <tr>\n",
       "      <th>38</th>\n",
       "      <td>45</td>\n",
       "      <td>NaN</td>\n",
       "      <td>Shale</td>\n",
       "      <td>190.13</td>\n",
       "      <td>POINT (944.091 561.543)</td>\n",
       "      <td>944.09</td>\n",
       "      <td>561.54</td>\n",
       "    </tr>\n",
       "    <tr>\n",
       "      <th>39</th>\n",
       "      <td>80</td>\n",
       "      <td>NaN</td>\n",
       "      <td>Shale</td>\n",
       "      <td>187.56</td>\n",
       "      <td>POINT (1054.276 611.285)</td>\n",
       "      <td>1054.28</td>\n",
       "      <td>611.29</td>\n",
       "    </tr>\n",
       "    <tr>\n",
       "      <th>40</th>\n",
       "      <td>20</td>\n",
       "      <td>NaN</td>\n",
       "      <td>Shale</td>\n",
       "      <td>190.81</td>\n",
       "      <td>POINT (838.823 547.130)</td>\n",
       "      <td>838.82</td>\n",
       "      <td>547.13</td>\n",
       "    </tr>\n",
       "    <tr>\n",
       "      <th>41</th>\n",
       "      <td>160</td>\n",
       "      <td>NaN</td>\n",
       "      <td>Ironstone</td>\n",
       "      <td>177.25</td>\n",
       "      <td>POINT (868.964 425.396)</td>\n",
       "      <td>868.96</td>\n",
       "      <td>425.40</td>\n",
       "    </tr>\n",
       "    <tr>\n",
       "      <th>42</th>\n",
       "      <td>224</td>\n",
       "      <td>NaN</td>\n",
       "      <td>Ironstone</td>\n",
       "      <td>181.52</td>\n",
       "      <td>POINT (1099.333 337.272)</td>\n",
       "      <td>1099.33</td>\n",
       "      <td>337.27</td>\n",
       "    </tr>\n",
       "    <tr>\n",
       "      <th>43</th>\n",
       "      <td>71</td>\n",
       "      <td>NaN</td>\n",
       "      <td>Shale</td>\n",
       "      <td>187.25</td>\n",
       "      <td>POINT (1020.180 617.083)</td>\n",
       "      <td>1020.18</td>\n",
       "      <td>617.08</td>\n",
       "    </tr>\n",
       "    <tr>\n",
       "      <th>44</th>\n",
       "      <td>154</td>\n",
       "      <td>NaN</td>\n",
       "      <td>Ironstone</td>\n",
       "      <td>176.62</td>\n",
       "      <td>POINT (843.922 429.090)</td>\n",
       "      <td>843.92</td>\n",
       "      <td>429.09</td>\n",
       "    </tr>\n",
       "    <tr>\n",
       "      <th>45</th>\n",
       "      <td>46</td>\n",
       "      <td>NaN</td>\n",
       "      <td>Shale</td>\n",
       "      <td>190.13</td>\n",
       "      <td>POINT (944.754 562.120)</td>\n",
       "      <td>944.75</td>\n",
       "      <td>562.12</td>\n",
       "    </tr>\n",
       "    <tr>\n",
       "      <th>46</th>\n",
       "      <td>53</td>\n",
       "      <td>NaN</td>\n",
       "      <td>Shale</td>\n",
       "      <td>189.23</td>\n",
       "      <td>POINT (965.782 582.106)</td>\n",
       "      <td>965.78</td>\n",
       "      <td>582.11</td>\n",
       "    </tr>\n",
       "    <tr>\n",
       "      <th>47</th>\n",
       "      <td>92</td>\n",
       "      <td>NaN</td>\n",
       "      <td>Shale</td>\n",
       "      <td>188.89</td>\n",
       "      <td>POINT (1085.673 582.106)</td>\n",
       "      <td>1085.67</td>\n",
       "      <td>582.11</td>\n",
       "    </tr>\n",
       "    <tr>\n",
       "      <th>48</th>\n",
       "      <td>198</td>\n",
       "      <td>NaN</td>\n",
       "      <td>Ironstone</td>\n",
       "      <td>177.36</td>\n",
       "      <td>POINT (1039.251 417.829)</td>\n",
       "      <td>1039.25</td>\n",
       "      <td>417.83</td>\n",
       "    </tr>\n",
       "    <tr>\n",
       "      <th>49</th>\n",
       "      <td>115</td>\n",
       "      <td>NaN</td>\n",
       "      <td>Shale</td>\n",
       "      <td>192.58</td>\n",
       "      <td>POINT (1134.411 512.376)</td>\n",
       "      <td>1134.41</td>\n",
       "      <td>512.38</td>\n",
       "    </tr>\n",
       "    <tr>\n",
       "      <th>50</th>\n",
       "      <td>95</td>\n",
       "      <td>NaN</td>\n",
       "      <td>Shale</td>\n",
       "      <td>189.62</td>\n",
       "      <td>POINT (1093.496 572.113)</td>\n",
       "      <td>1093.50</td>\n",
       "      <td>572.11</td>\n",
       "    </tr>\n",
       "    <tr>\n",
       "      <th>51</th>\n",
       "      <td>177</td>\n",
       "      <td>NaN</td>\n",
       "      <td>Ironstone</td>\n",
       "      <td>176.27</td>\n",
       "      <td>POINT (949.099 437.906)</td>\n",
       "      <td>949.10</td>\n",
       "      <td>437.91</td>\n",
       "    </tr>\n",
       "    <tr>\n",
       "      <th>52</th>\n",
       "      <td>12</td>\n",
       "      <td>NaN</td>\n",
       "      <td>Shale</td>\n",
       "      <td>190.00</td>\n",
       "      <td>POINT (816.690 567.117)</td>\n",
       "      <td>816.69</td>\n",
       "      <td>567.12</td>\n",
       "    </tr>\n",
       "    <tr>\n",
       "      <th>53</th>\n",
       "      <td>243</td>\n",
       "      <td>NaN</td>\n",
       "      <td>Ironstone</td>\n",
       "      <td>184.21</td>\n",
       "      <td>POINT (1148.132 287.306)</td>\n",
       "      <td>1148.13</td>\n",
       "      <td>287.31</td>\n",
       "    </tr>\n",
       "    <tr>\n",
       "      <th>54</th>\n",
       "      <td>183</td>\n",
       "      <td>NaN</td>\n",
       "      <td>Ironstone</td>\n",
       "      <td>175.88</td>\n",
       "      <td>POINT (974.141 447.345)</td>\n",
       "      <td>974.14</td>\n",
       "      <td>447.34</td>\n",
       "    </tr>\n",
       "    <tr>\n",
       "      <th>55</th>\n",
       "      <td>41</td>\n",
       "      <td>NaN</td>\n",
       "      <td>Shale</td>\n",
       "      <td>190.77</td>\n",
       "      <td>POINT (929.065 550.718)</td>\n",
       "      <td>929.07</td>\n",
       "      <td>550.72</td>\n",
       "    </tr>\n",
       "    <tr>\n",
       "      <th>56</th>\n",
       "      <td>10</td>\n",
       "      <td>NaN</td>\n",
       "      <td>Shale</td>\n",
       "      <td>189.70</td>\n",
       "      <td>POINT (812.154 572.113)</td>\n",
       "      <td>812.15</td>\n",
       "      <td>572.11</td>\n",
       "    </tr>\n",
       "    <tr>\n",
       "      <th>57</th>\n",
       "      <td>195</td>\n",
       "      <td>NaN</td>\n",
       "      <td>Ironstone</td>\n",
       "      <td>176.79</td>\n",
       "      <td>POINT (1029.234 428.225)</td>\n",
       "      <td>1029.23</td>\n",
       "      <td>428.22</td>\n",
       "    </tr>\n",
       "  </tbody>\n",
       "</table>\n",
       "</div>"
      ],
      "text/plain": [
       "    level_0  index  formation      Z                  geometry       X       Y\n",
       "0         0   0.00      Shale 190.00    POINT (69.806 954.941)   69.81  954.94\n",
       "1         1   1.00  Ironstone 170.00    POINT (69.806 954.941)   69.81  954.94\n",
       "2         2   2.00  Ironstone 190.00   POINT (145.769 562.774)  145.77  562.77\n",
       "3         3   3.00  Ironstone 185.00   POINT (264.746 660.701)  264.75  660.70\n",
       "4         4   4.00      Shale 210.00   POINT (146.226 563.346)  146.23  563.35\n",
       "5         5   5.00      Shale 205.00   POINT (264.746 660.701)  264.75  660.70\n",
       "6         6   0.00      Fault 178.76     POINT (683.911 0.608)  683.91    0.61\n",
       "7         7   1.00      Fault 254.62  POINT (899.671 1477.524)  899.67 1477.52\n",
       "8        60    NaN      Shale 188.16   POINT (984.158 597.853)  984.16  597.85\n",
       "9         4    NaN      Shale 188.89   POINT (797.430 587.103)  797.43  587.10\n",
       "10      156    NaN  Ironstone 176.90   POINT (853.939 427.352)  853.94  427.35\n",
       "11       32    NaN      Shale 191.13   POINT (894.006 538.443)  894.01  538.44\n",
       "12       24    NaN      Shale 191.30   POINT (853.939 539.879)  853.94  539.88\n",
       "13      242    NaN  Ironstone 184.02  POINT (1144.428 290.559) 1144.43  290.56\n",
       "14      241    NaN  Ironstone 184.02  POINT (1142.482 292.302) 1142.48  292.30\n",
       "15       13    NaN      Shale 190.00   POINT (818.880 564.740)  818.88  564.74\n",
       "16      131    NaN      Shale 195.11  POINT (1179.983 462.188) 1179.98  462.19\n",
       "17       35    NaN      Shale 191.07   POINT (909.032 542.065)  909.03  542.06\n",
       "18      117    NaN      Shale 192.95  POINT (1139.420 505.671) 1139.42  505.67\n",
       "19      219    NaN  Ironstone 181.04  POINT (1087.114 352.262) 1087.11  352.26\n",
       "20      232    NaN  Ironstone 182.76  POINT (1119.386 315.222) 1119.39  315.22\n",
       "21      248    NaN  Ironstone 184.64  POINT (1164.462 273.892) 1164.46  273.89\n",
       "22      170    NaN  Ironstone 176.54   POINT (919.049 428.858)  919.05  428.86\n",
       "23       17    NaN      Shale 190.51   POINT (828.897 554.905)  828.90  554.90\n",
       "24      121    NaN      Shale 193.50  POINT (1149.437 493.655) 1149.44  493.66\n",
       "25      122    NaN      Shale 193.50  POINT (1150.768 492.167) 1150.77  492.17\n",
       "26      196    NaN  Ironstone 177.05  POINT (1034.243 423.251) 1034.24  423.25\n",
       "27       78    NaN      Shale 187.32  POINT (1049.268 613.959) 1049.27  613.96\n",
       "28      214    NaN  Ironstone 179.70  POINT (1076.351 367.252) 1076.35  367.25\n",
       "29       25    NaN      Shale 191.14   POINT (858.947 538.710)  858.95  538.71\n",
       "30      217    NaN  Ironstone 180.62  POINT (1083.408 357.258) 1083.41  357.26\n",
       "31      141    NaN  Ironstone 175.88   POINT (793.838 444.350)  793.84  444.35\n",
       "32       89    NaN      Shale 188.71  POINT (1079.319 589.649) 1079.32  589.65\n",
       "33        2    NaN      Shale 188.26   POINT (788.829 594.245)  788.83  594.25\n",
       "34       34    NaN      Shale 191.28   POINT (904.023 540.628)  904.02  540.63\n",
       "35       56    NaN      Shale 188.83   POINT (974.141 589.742)  974.14  589.74\n",
       "36      197    NaN  Ironstone 177.05  POINT (1035.230 422.215) 1035.23  422.21\n",
       "37       86    NaN      Shale 188.43  POINT (1072.237 597.096) 1072.24  597.10\n",
       "38       45    NaN      Shale 190.13   POINT (944.091 561.543)  944.09  561.54\n",
       "39       80    NaN      Shale 187.56  POINT (1054.276 611.285) 1054.28  611.29\n",
       "40       20    NaN      Shale 190.81   POINT (838.823 547.130)  838.82  547.13\n",
       "41      160    NaN  Ironstone 177.25   POINT (868.964 425.396)  868.96  425.40\n",
       "42      224    NaN  Ironstone 181.52  POINT (1099.333 337.272) 1099.33  337.27\n",
       "43       71    NaN      Shale 187.25  POINT (1020.180 617.083) 1020.18  617.08\n",
       "44      154    NaN  Ironstone 176.62   POINT (843.922 429.090)  843.92  429.09\n",
       "45       46    NaN      Shale 190.13   POINT (944.754 562.120)  944.75  562.12\n",
       "46       53    NaN      Shale 189.23   POINT (965.782 582.106)  965.78  582.11\n",
       "47       92    NaN      Shale 188.89  POINT (1085.673 582.106) 1085.67  582.11\n",
       "48      198    NaN  Ironstone 177.36  POINT (1039.251 417.829) 1039.25  417.83\n",
       "49      115    NaN      Shale 192.58  POINT (1134.411 512.376) 1134.41  512.38\n",
       "50       95    NaN      Shale 189.62  POINT (1093.496 572.113) 1093.50  572.11\n",
       "51      177    NaN  Ironstone 176.27   POINT (949.099 437.906)  949.10  437.91\n",
       "52       12    NaN      Shale 190.00   POINT (816.690 567.117)  816.69  567.12\n",
       "53      243    NaN  Ironstone 184.21  POINT (1148.132 287.306) 1148.13  287.31\n",
       "54      183    NaN  Ironstone 175.88   POINT (974.141 447.345)  974.14  447.34\n",
       "55       41    NaN      Shale 190.77   POINT (929.065 550.718)  929.07  550.72\n",
       "56       10    NaN      Shale 189.70   POINT (812.154 572.113)  812.15  572.11\n",
       "57      195    NaN  Ironstone 176.79  POINT (1029.234 428.225) 1029.23  428.22"
      ]
     },
     "execution_count": 42,
     "metadata": {},
     "output_type": "execute_result"
    }
   ],
   "source": [
    "interfaces_coords = pd.concat([interfaces_coords, interfaces_beyond_fault.sample(n=50)]).reset_index()\n",
    "interfaces_coords"
   ]
  },
  {
   "cell_type": "markdown",
   "id": "hybrid-productivity",
   "metadata": {},
   "source": [
    "## GemPy Model Construction (Part B)\n",
    "\n",
    "The structural geological model will be constructed using the `GemPy` package. "
   ]
  },
  {
   "cell_type": "code",
   "execution_count": 43,
   "id": "changing-repeat",
   "metadata": {
    "ExecuteTime": {
     "end_time": "2021-04-03T13:54:32.259628Z",
     "start_time": "2021-04-03T13:54:32.245624Z"
    }
   },
   "outputs": [],
   "source": [
    "import gempy as gp"
   ]
  },
  {
   "cell_type": "markdown",
   "id": "protecting-selection",
   "metadata": {},
   "source": [
    "### Creating new Model"
   ]
  },
  {
   "cell_type": "code",
   "execution_count": 44,
   "id": "separate-florida",
   "metadata": {
    "ExecuteTime": {
     "end_time": "2021-04-03T13:54:32.353655Z",
     "start_time": "2021-04-03T13:54:32.261627Z"
    }
   },
   "outputs": [
    {
     "data": {
      "text/plain": [
       "Model15b  2021-04-03 15:54"
      ]
     },
     "execution_count": 44,
     "metadata": {},
     "output_type": "execute_result"
    }
   ],
   "source": [
    "geo_model = gp.create_model('Model15b')\n",
    "geo_model"
   ]
  },
  {
   "cell_type": "markdown",
   "id": "inclusive-complement",
   "metadata": {},
   "source": [
    "### Initiate Data\n"
   ]
  },
  {
   "cell_type": "code",
   "execution_count": 45,
   "id": "varied-tender",
   "metadata": {
    "ExecuteTime": {
     "end_time": "2021-04-03T13:54:32.574706Z",
     "start_time": "2021-04-03T13:54:32.355656Z"
    }
   },
   "outputs": [
    {
     "name": "stdout",
     "output_type": "stream",
     "text": [
      "Active grids: ['regular']\n"
     ]
    },
    {
     "data": {
      "text/plain": [
       "Model15b  2021-04-03 15:54"
      ]
     },
     "execution_count": 45,
     "metadata": {},
     "output_type": "execute_result"
    }
   ],
   "source": [
    "gp.init_data(geo_model, [0,1187,0,1479,100,300], [100,100,100],\n",
    "             surface_points_df = interfaces_coords[interfaces_coords['Z']!=0],\n",
    "             orientations_df = orientations,\n",
    "             default_values=True)"
   ]
  },
  {
   "cell_type": "markdown",
   "id": "compatible-james",
   "metadata": {},
   "source": [
    "### Model Surfaces"
   ]
  },
  {
   "cell_type": "code",
   "execution_count": 46,
   "id": "round-morning",
   "metadata": {
    "ExecuteTime": {
     "end_time": "2021-04-03T13:54:32.590708Z",
     "start_time": "2021-04-03T13:54:32.576707Z"
    }
   },
   "outputs": [
    {
     "data": {
      "text/html": [
       "<style  type=\"text/css\" >\n",
       "#T_7ce8c_row0_col3{\n",
       "            background-color:  #015482;\n",
       "        }#T_7ce8c_row1_col3{\n",
       "            background-color:  #9f0052;\n",
       "        }#T_7ce8c_row2_col3{\n",
       "            background-color:  #ffbe00;\n",
       "        }</style><table id=\"T_7ce8c_\" ><thead>    <tr>        <th class=\"blank level0\" ></th>        <th class=\"col_heading level0 col0\" >surface</th>        <th class=\"col_heading level0 col1\" >series</th>        <th class=\"col_heading level0 col2\" >order_surfaces</th>        <th class=\"col_heading level0 col3\" >color</th>        <th class=\"col_heading level0 col4\" >id</th>    </tr></thead><tbody>\n",
       "                <tr>\n",
       "                        <th id=\"T_7ce8c_level0_row0\" class=\"row_heading level0 row0\" >0</th>\n",
       "                        <td id=\"T_7ce8c_row0_col0\" class=\"data row0 col0\" >Shale</td>\n",
       "                        <td id=\"T_7ce8c_row0_col1\" class=\"data row0 col1\" >Default series</td>\n",
       "                        <td id=\"T_7ce8c_row0_col2\" class=\"data row0 col2\" >1</td>\n",
       "                        <td id=\"T_7ce8c_row0_col3\" class=\"data row0 col3\" >#015482</td>\n",
       "                        <td id=\"T_7ce8c_row0_col4\" class=\"data row0 col4\" >1</td>\n",
       "            </tr>\n",
       "            <tr>\n",
       "                        <th id=\"T_7ce8c_level0_row1\" class=\"row_heading level0 row1\" >1</th>\n",
       "                        <td id=\"T_7ce8c_row1_col0\" class=\"data row1 col0\" >Ironstone</td>\n",
       "                        <td id=\"T_7ce8c_row1_col1\" class=\"data row1 col1\" >Default series</td>\n",
       "                        <td id=\"T_7ce8c_row1_col2\" class=\"data row1 col2\" >2</td>\n",
       "                        <td id=\"T_7ce8c_row1_col3\" class=\"data row1 col3\" >#9f0052</td>\n",
       "                        <td id=\"T_7ce8c_row1_col4\" class=\"data row1 col4\" >2</td>\n",
       "            </tr>\n",
       "            <tr>\n",
       "                        <th id=\"T_7ce8c_level0_row2\" class=\"row_heading level0 row2\" >2</th>\n",
       "                        <td id=\"T_7ce8c_row2_col0\" class=\"data row2 col0\" >Fault</td>\n",
       "                        <td id=\"T_7ce8c_row2_col1\" class=\"data row2 col1\" >Default series</td>\n",
       "                        <td id=\"T_7ce8c_row2_col2\" class=\"data row2 col2\" >3</td>\n",
       "                        <td id=\"T_7ce8c_row2_col3\" class=\"data row2 col3\" >#ffbe00</td>\n",
       "                        <td id=\"T_7ce8c_row2_col4\" class=\"data row2 col4\" >3</td>\n",
       "            </tr>\n",
       "    </tbody></table>"
      ],
      "text/plain": [
       "     surface          series  order_surfaces    color  id\n",
       "0      Shale  Default series               1  #015482   1\n",
       "1  Ironstone  Default series               2  #9f0052   2\n",
       "2      Fault  Default series               3  #ffbe00   3"
      ]
     },
     "execution_count": 46,
     "metadata": {},
     "output_type": "execute_result"
    }
   ],
   "source": [
    "geo_model.surfaces"
   ]
  },
  {
   "cell_type": "markdown",
   "id": "above-brake",
   "metadata": {},
   "source": [
    "### Mapping the Stack to Surfaces"
   ]
  },
  {
   "cell_type": "code",
   "execution_count": 47,
   "id": "solar-wayne",
   "metadata": {
    "ExecuteTime": {
     "end_time": "2021-04-03T13:54:32.748746Z",
     "start_time": "2021-04-03T13:54:32.591711Z"
    }
   },
   "outputs": [
    {
     "name": "stdout",
     "output_type": "stream",
     "text": [
      "Fault colors changed. If you do not like this behavior, set change_color to False.\n"
     ]
    },
    {
     "data": {
      "text/html": [
       "<table border=\"1\" class=\"dataframe\">\n",
       "  <thead>\n",
       "    <tr style=\"text-align: right;\">\n",
       "      <th></th>\n",
       "      <th>order_series</th>\n",
       "      <th>BottomRelation</th>\n",
       "      <th>isActive</th>\n",
       "      <th>isFault</th>\n",
       "      <th>isFinite</th>\n",
       "    </tr>\n",
       "  </thead>\n",
       "  <tbody>\n",
       "    <tr>\n",
       "      <th>Fault1</th>\n",
       "      <td>1</td>\n",
       "      <td>Fault</td>\n",
       "      <td>True</td>\n",
       "      <td>True</td>\n",
       "      <td>False</td>\n",
       "    </tr>\n",
       "    <tr>\n",
       "      <th>Strata1</th>\n",
       "      <td>2</td>\n",
       "      <td>Erosion</td>\n",
       "      <td>True</td>\n",
       "      <td>False</td>\n",
       "      <td>False</td>\n",
       "    </tr>\n",
       "  </tbody>\n",
       "</table>"
      ],
      "text/plain": [
       "         order_series BottomRelation  isActive  isFault  isFinite\n",
       "Fault1              1          Fault      True     True     False\n",
       "Strata1             2        Erosion      True    False     False"
      ]
     },
     "execution_count": 47,
     "metadata": {},
     "output_type": "execute_result"
    }
   ],
   "source": [
    "gp.map_stack_to_surfaces(geo_model,\n",
    "                         {\n",
    "                          'Fault1' : ('Fault'),\n",
    "                          'Strata1': ('Shale', 'Ironstone'),\n",
    "                         },\n",
    "                         remove_unused_series=True)\n",
    "geo_model.add_surfaces('Basement')\n",
    "geo_model.set_is_fault(['Fault1'])"
   ]
  },
  {
   "cell_type": "markdown",
   "id": "august-gentleman",
   "metadata": {},
   "source": [
    "### Showing the Number of Data Points"
   ]
  },
  {
   "cell_type": "code",
   "execution_count": 48,
   "id": "forty-treaty",
   "metadata": {
    "ExecuteTime": {
     "end_time": "2021-04-03T13:54:32.811761Z",
     "start_time": "2021-04-03T13:54:32.750746Z"
    }
   },
   "outputs": [
    {
     "data": {
      "text/html": [
       "<style  type=\"text/css\" >\n",
       "#T_93378_row0_col3{\n",
       "            background-color:  #527682;\n",
       "        }#T_93378_row1_col3{\n",
       "            background-color:  #9f0052;\n",
       "        }#T_93378_row2_col3{\n",
       "            background-color:  #ffbe00;\n",
       "        }#T_93378_row3_col3{\n",
       "            background-color:  #728f02;\n",
       "        }</style><table id=\"T_93378_\" ><thead>    <tr>        <th class=\"blank level0\" ></th>        <th class=\"col_heading level0 col0\" >surface</th>        <th class=\"col_heading level0 col1\" >series</th>        <th class=\"col_heading level0 col2\" >order_surfaces</th>        <th class=\"col_heading level0 col3\" >color</th>        <th class=\"col_heading level0 col4\" >id</th>        <th class=\"col_heading level0 col5\" >No. of Interfaces</th>        <th class=\"col_heading level0 col6\" >No. of Orientations</th>    </tr></thead><tbody>\n",
       "                <tr>\n",
       "                        <th id=\"T_93378_level0_row0\" class=\"row_heading level0 row0\" >2</th>\n",
       "                        <td id=\"T_93378_row0_col0\" class=\"data row0 col0\" >Fault</td>\n",
       "                        <td id=\"T_93378_row0_col1\" class=\"data row0 col1\" >Fault1</td>\n",
       "                        <td id=\"T_93378_row0_col2\" class=\"data row0 col2\" >1</td>\n",
       "                        <td id=\"T_93378_row0_col3\" class=\"data row0 col3\" >#527682</td>\n",
       "                        <td id=\"T_93378_row0_col4\" class=\"data row0 col4\" >1</td>\n",
       "                        <td id=\"T_93378_row0_col5\" class=\"data row0 col5\" >2</td>\n",
       "                        <td id=\"T_93378_row0_col6\" class=\"data row0 col6\" >1</td>\n",
       "            </tr>\n",
       "            <tr>\n",
       "                        <th id=\"T_93378_level0_row1\" class=\"row_heading level0 row1\" >0</th>\n",
       "                        <td id=\"T_93378_row1_col0\" class=\"data row1 col0\" >Shale</td>\n",
       "                        <td id=\"T_93378_row1_col1\" class=\"data row1 col1\" >Strata1</td>\n",
       "                        <td id=\"T_93378_row1_col2\" class=\"data row1 col2\" >1</td>\n",
       "                        <td id=\"T_93378_row1_col3\" class=\"data row1 col3\" >#9f0052</td>\n",
       "                        <td id=\"T_93378_row1_col4\" class=\"data row1 col4\" >2</td>\n",
       "                        <td id=\"T_93378_row1_col5\" class=\"data row1 col5\" >33</td>\n",
       "                        <td id=\"T_93378_row1_col6\" class=\"data row1 col6\" >1</td>\n",
       "            </tr>\n",
       "            <tr>\n",
       "                        <th id=\"T_93378_level0_row2\" class=\"row_heading level0 row2\" >1</th>\n",
       "                        <td id=\"T_93378_row2_col0\" class=\"data row2 col0\" >Ironstone</td>\n",
       "                        <td id=\"T_93378_row2_col1\" class=\"data row2 col1\" >Strata1</td>\n",
       "                        <td id=\"T_93378_row2_col2\" class=\"data row2 col2\" >2</td>\n",
       "                        <td id=\"T_93378_row2_col3\" class=\"data row2 col3\" >#ffbe00</td>\n",
       "                        <td id=\"T_93378_row2_col4\" class=\"data row2 col4\" >3</td>\n",
       "                        <td id=\"T_93378_row2_col5\" class=\"data row2 col5\" >23</td>\n",
       "                        <td id=\"T_93378_row2_col6\" class=\"data row2 col6\" >1</td>\n",
       "            </tr>\n",
       "            <tr>\n",
       "                        <th id=\"T_93378_level0_row3\" class=\"row_heading level0 row3\" >3</th>\n",
       "                        <td id=\"T_93378_row3_col0\" class=\"data row3 col0\" >Basement</td>\n",
       "                        <td id=\"T_93378_row3_col1\" class=\"data row3 col1\" >Strata1</td>\n",
       "                        <td id=\"T_93378_row3_col2\" class=\"data row3 col2\" >3</td>\n",
       "                        <td id=\"T_93378_row3_col3\" class=\"data row3 col3\" >#728f02</td>\n",
       "                        <td id=\"T_93378_row3_col4\" class=\"data row3 col4\" >4</td>\n",
       "                        <td id=\"T_93378_row3_col5\" class=\"data row3 col5\" >0</td>\n",
       "                        <td id=\"T_93378_row3_col6\" class=\"data row3 col6\" >0</td>\n",
       "            </tr>\n",
       "    </tbody></table>"
      ],
      "text/plain": [
       "     surface   series  order_surfaces    color  id  No. of Interfaces  No. of Orientations\n",
       "2      Fault   Fault1               1  #527682   1                  2                    1\n",
       "0      Shale  Strata1               1  #9f0052   2                 33                    1\n",
       "1  Ironstone  Strata1               2  #ffbe00   3                 23                    1\n",
       "3   Basement  Strata1               3  #728f02   4                  0                    0"
      ]
     },
     "execution_count": 48,
     "metadata": {},
     "output_type": "execute_result"
    }
   ],
   "source": [
    "gg.utils.show_number_of_data_points(geo_model=geo_model)"
   ]
  },
  {
   "cell_type": "markdown",
   "id": "medieval-deployment",
   "metadata": {},
   "source": [
    "### Loading Digital Elevation Model"
   ]
  },
  {
   "cell_type": "code",
   "execution_count": 49,
   "id": "subsequent-technique",
   "metadata": {
    "ExecuteTime": {
     "end_time": "2021-04-03T13:54:33.112873Z",
     "start_time": "2021-04-03T13:54:32.812763Z"
    }
   },
   "outputs": [
    {
     "name": "stdout",
     "output_type": "stream",
     "text": [
      "Cropped raster to geo_model.grid.extent.\n",
      "depending on the size of the raster, this can take a while...\n",
      "storing converted file...\n",
      "Active grids: ['regular' 'topography']\n"
     ]
    },
    {
     "data": {
      "text/plain": [
       "Grid Object. Values: \n",
       "array([[   5.935     ,    7.395     ,  101.        ],\n",
       "       [   5.935     ,    7.395     ,  103.        ],\n",
       "       [   5.935     ,    7.395     ,  105.        ],\n",
       "       ...,\n",
       "       [1184.49578059, 1466.50844595,  275.3008728 ],\n",
       "       [1184.49578059, 1471.50506757,  275.80532837],\n",
       "       [1184.49578059, 1476.50168919,  276.31124878]])"
      ]
     },
     "execution_count": 49,
     "metadata": {},
     "output_type": "execute_result"
    }
   ],
   "source": [
    "geo_model.set_topography(\n",
    "    source='gdal', filepath=file_path + 'raster15.tif')"
   ]
  },
  {
   "cell_type": "markdown",
   "id": "extreme-drink",
   "metadata": {},
   "source": [
    "### Plotting Input Data"
   ]
  },
  {
   "cell_type": "code",
   "execution_count": 50,
   "id": "conservative-philip",
   "metadata": {
    "ExecuteTime": {
     "end_time": "2021-04-03T13:54:33.334793Z",
     "start_time": "2021-04-03T13:54:33.114866Z"
    }
   },
   "outputs": [
    {
     "data": {
      "image/png": "[encoded data removed]",
      "text/plain": [
       "<Figure size 748.8x514.8 with 1 Axes>"
      ]
     },
     "metadata": {},
     "output_type": "display_data"
    }
   ],
   "source": [
    "gp.plot_2d(geo_model, direction='z', show_lith=False, show_boundaries=False)\n",
    "plt.grid()"
   ]
  },
  {
   "cell_type": "code",
   "execution_count": 51,
   "id": "vocational-intranet",
   "metadata": {
    "ExecuteTime": {
     "end_time": "2021-04-03T13:54:33.635326Z",
     "start_time": "2021-04-03T13:54:33.335800Z"
    }
   },
   "outputs": [
    {
     "data": {
      "image/png": "[encoded data removed]",
      "text/plain": [
       "<PIL.Image.Image image mode=RGB size=1024x768 at 0x12D3D42BB50>"
      ]
     },
     "metadata": {},
     "output_type": "display_data"
    },
    {
     "data": {
      "text/plain": [
       "<gempy.plot.vista.GemPyToVista at 0x12d3d404ee0>"
      ]
     },
     "execution_count": 51,
     "metadata": {},
     "output_type": "execute_result"
    }
   ],
   "source": [
    "gp.plot_3d(geo_model, image=False, plotter_type='basic', notebook=True)"
   ]
  },
  {
   "cell_type": "markdown",
   "id": "geological-triple",
   "metadata": {},
   "source": [
    "### Setting the Interpolator"
   ]
  },
  {
   "cell_type": "code",
   "execution_count": 52,
   "id": "external-clerk",
   "metadata": {
    "ExecuteTime": {
     "end_time": "2021-04-03T13:54:36.554391Z",
     "start_time": "2021-04-03T13:54:33.637327Z"
    }
   },
   "outputs": [
    {
     "name": "stdout",
     "output_type": "stream",
     "text": [
      "Compiling theano function...\n",
      "Level of Optimization:  fast_compile\n",
      "Device:  cpu\n",
      "Precision:  float64\n",
      "Number of faults:  1\n",
      "Compilation Done!\n",
      "Kriging values: \n",
      "                   values\n",
      "range            1906.94\n",
      "$C_o$           86581.19\n",
      "drift equations   [3, 3]\n"
     ]
    },
    {
     "data": {
      "text/plain": [
       "<gempy.core.interpolator.InterpolatorModel at 0x12d3ea0c790>"
      ]
     },
     "execution_count": 52,
     "metadata": {},
     "output_type": "execute_result"
    }
   ],
   "source": [
    "gp.set_interpolator(geo_model,\n",
    "                    compile_theano=True,\n",
    "                    theano_optimizer='fast_compile',\n",
    "                    verbose=[],\n",
    "                    update_kriging = False\n",
    "                    )"
   ]
  },
  {
   "cell_type": "markdown",
   "id": "above-lending",
   "metadata": {},
   "source": [
    "### Computing Model"
   ]
  },
  {
   "cell_type": "code",
   "execution_count": 53,
   "id": "impressed-adams",
   "metadata": {
    "ExecuteTime": {
     "end_time": "2021-04-03T13:55:03.283580Z",
     "start_time": "2021-04-03T13:54:36.556393Z"
    }
   },
   "outputs": [],
   "source": [
    "sol = gp.compute_model(geo_model, compute_mesh=True)"
   ]
  },
  {
   "cell_type": "markdown",
   "id": "developing-wallet",
   "metadata": {},
   "source": [
    "### Plotting Cross Sections"
   ]
  },
  {
   "cell_type": "code",
   "execution_count": 54,
   "id": "champion-collectible",
   "metadata": {
    "ExecuteTime": {
     "end_time": "2021-04-03T13:55:03.902392Z",
     "start_time": "2021-04-03T13:55:03.284576Z"
    }
   },
   "outputs": [
    {
     "data": {
      "text/plain": [
       "<gempy.plot.visualization_2d.Plot2D at 0x12d395b54c0>"
      ]
     },
     "execution_count": 54,
     "metadata": {},
     "output_type": "execute_result"
    },
    {
     "data": {
      "image/png": "[encoded data removed]",
      "text/plain": [
       "<Figure size 1797.12x1235.52 with 4 Axes>"
      ]
     },
     "metadata": {},
     "output_type": "display_data"
    }
   ],
   "source": [
    "gp.plot_2d(geo_model, direction=['x', 'x', 'y', 'y'], cell_number=[25,75,25,75], show_topography=True, show_data=False)"
   ]
  },
  {
   "cell_type": "markdown",
   "id": "intimate-connectivity",
   "metadata": {},
   "source": [
    "### Plotting 3D Model"
   ]
  },
  {
   "cell_type": "code",
   "execution_count": 55,
   "id": "developing-comparison",
   "metadata": {
    "ExecuteTime": {
     "end_time": "2021-04-03T13:55:06.078478Z",
     "start_time": "2021-04-03T13:55:03.904393Z"
    }
   },
   "outputs": [
    {
     "data": {
      "image/png": "[encoded data removed]",
      "text/plain": [
       "<PIL.Image.Image image mode=RGB size=1024x768 at 0x12D42B39B50>"
      ]
     },
     "metadata": {},
     "output_type": "display_data"
    }
   ],
   "source": [
    "gpv = gp.plot_3d(geo_model, image=False, show_topography=True,\n",
    "                 plotter_type='basic', notebook=True, show_lith=True)"
   ]
  },
  {
   "cell_type": "code",
   "execution_count": null,
   "id": "known-timing",
   "metadata": {},
   "outputs": [],
   "source": []
  }
 ],
 "metadata": {
  "hide_input": false,
  "kernelspec": {
   "display_name": "Python 3",
   "language": "python",
   "name": "python3"
  },
  "language_info": {
   "codemirror_mode": {
    "name": "ipython",
    "version": 3
   },
   "file_extension": ".py",
   "mimetype": "text/x-python",
   "name": "python",
   "nbconvert_exporter": "python",
   "pygments_lexer": "ipython3",
   "version": "3.8.0"
  },
  "varInspector": {
   "cols": {
    "lenName": 16,
    "lenType": 16,
    "lenVar": 40
   },
   "kernels_config": {
    "python": {
     "delete_cmd_postfix": "",
     "delete_cmd_prefix": "del ",
     "library": "var_list.py",
     "varRefreshCmd": "print(var_dic_list())"
    },
    "r": {
     "delete_cmd_postfix": ") ",
     "delete_cmd_prefix": "rm(",
     "library": "var_list.r",
     "varRefreshCmd": "cat(var_dic_list()) "
    }
   },
   "types_to_exclude": [
    "module",
    "function",
    "builtin_function_or_method",
    "instance",
    "_Feature"
   ],
   "window_display": false
  }
 },
 "nbformat": 4,
 "nbformat_minor": 5
}
