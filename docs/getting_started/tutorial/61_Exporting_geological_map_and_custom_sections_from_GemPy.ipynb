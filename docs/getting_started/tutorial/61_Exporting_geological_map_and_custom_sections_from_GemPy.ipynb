{
 "cells": [
  {
   "cell_type": "markdown",
   "id": "f94284f8",
   "metadata": {},
   "source": [
    "# 61 Exporting Geological Maps and Custom sections from GemPy"
   ]
  },
  {
   "cell_type": "markdown",
   "id": "ed5d4c44",
   "metadata": {},
   "source": [
    "## Set File Paths and download Tutorial Data\n",
    "\n",
    "If you downloaded the latest `GemGIS` version from the Github repository, append the path so that the package can be imported successfully. Otherwise, it is recommended to install `GemGIS` via `pip install gemgis` and import `GemGIS` using `import gemgis as gg`. In addition, the file path to the folder where the data is being stored is set. The tutorial data is downloaded using Pooch (https://www.fatiando.org/pooch/latest/index.html) and stored in the specified folder. Use `pip install pooch` if Pooch is not installed on your system yet.\n",
    "\n",
    "<img src=\"../images/tutorial61_cover.png\"> "
   ]
  },
  {
   "cell_type": "code",
   "execution_count": 22,
   "id": "861c199a",
   "metadata": {
    "ExecuteTime": {
     "end_time": "2023-05-08T10:52:39.679476Z",
     "start_time": "2023-05-08T10:52:39.629969Z"
    },
    "scrolled": true
   },
   "outputs": [],
   "source": [
    "import gemgis as gg\n",
    "\n",
    "file_path ='data/61_Exporting_geological_map_and_custom_sections_from_GemPy/'\n",
    "gg.download_gemgis_data.download_tutorial_data(filename=\"61_Exporting_geological_map_and_custom_sections_from_GemPy.zip\", dirpath=file_path)"
   ]
  },
  {
   "cell_type": "markdown",
   "id": "0222c1d0",
   "metadata": {},
   "source": [
    "## Loading the data"
   ]
  },
  {
   "cell_type": "code",
   "execution_count": 23,
   "id": "777c9015",
   "metadata": {
    "ExecuteTime": {
     "end_time": "2023-05-08T10:52:39.972906Z",
     "start_time": "2023-05-08T10:52:39.938285Z"
    }
   },
   "outputs": [],
   "source": [
    "import geopandas as gpd\n",
    "import rasterio\n",
    "\n",
    "interfaces = gpd.read_file(file_path + 'interfaces.shp')\n",
    "orientations = gpd.read_file(file_path + 'orientations.shp')\n",
    "extent = [0,972,0,1069, 300, 800]\n",
    "resolution = [50, 50, 50]"
   ]
  },
  {
   "cell_type": "code",
   "execution_count": 24,
   "id": "b3311332",
   "metadata": {
    "ExecuteTime": {
     "end_time": "2023-05-08T10:52:40.111692Z",
     "start_time": "2023-05-08T10:52:40.088132Z"
    }
   },
   "outputs": [
    {
     "data": {
      "text/html": [
       "<div>\n",
       "<style scoped>\n",
       "    .dataframe tbody tr th:only-of-type {\n",
       "        vertical-align: middle;\n",
       "    }\n",
       "\n",
       "    .dataframe tbody tr th {\n",
       "        vertical-align: top;\n",
       "    }\n",
       "\n",
       "    .dataframe thead th {\n",
       "        text-align: right;\n",
       "    }\n",
       "</style>\n",
       "<table border=\"1\" class=\"dataframe\">\n",
       "  <thead>\n",
       "    <tr style=\"text-align: right;\">\n",
       "      <th></th>\n",
       "      <th>level_0</th>\n",
       "      <th>level_1</th>\n",
       "      <th>formation</th>\n",
       "      <th>X</th>\n",
       "      <th>Y</th>\n",
       "      <th>Z</th>\n",
       "      <th>geometry</th>\n",
       "    </tr>\n",
       "  </thead>\n",
       "  <tbody>\n",
       "    <tr>\n",
       "      <th>0</th>\n",
       "      <td>0</td>\n",
       "      <td>0</td>\n",
       "      <td>Sand1</td>\n",
       "      <td>0.26</td>\n",
       "      <td>264.86</td>\n",
       "      <td>353.97</td>\n",
       "      <td>POINT (0.25633 264.86215)</td>\n",
       "    </tr>\n",
       "    <tr>\n",
       "      <th>1</th>\n",
       "      <td>0</td>\n",
       "      <td>0</td>\n",
       "      <td>Sand1</td>\n",
       "      <td>10.59</td>\n",
       "      <td>276.73</td>\n",
       "      <td>359.04</td>\n",
       "      <td>POINT (10.59347 276.73371)</td>\n",
       "    </tr>\n",
       "    <tr>\n",
       "      <th>2</th>\n",
       "      <td>0</td>\n",
       "      <td>0</td>\n",
       "      <td>Sand1</td>\n",
       "      <td>17.13</td>\n",
       "      <td>289.09</td>\n",
       "      <td>364.28</td>\n",
       "      <td>POINT (17.13494 289.08982)</td>\n",
       "    </tr>\n",
       "    <tr>\n",
       "      <th>3</th>\n",
       "      <td>0</td>\n",
       "      <td>0</td>\n",
       "      <td>Sand1</td>\n",
       "      <td>19.15</td>\n",
       "      <td>293.31</td>\n",
       "      <td>364.99</td>\n",
       "      <td>POINT (19.15013 293.31349)</td>\n",
       "    </tr>\n",
       "    <tr>\n",
       "      <th>4</th>\n",
       "      <td>0</td>\n",
       "      <td>0</td>\n",
       "      <td>Sand1</td>\n",
       "      <td>27.80</td>\n",
       "      <td>310.57</td>\n",
       "      <td>372.81</td>\n",
       "      <td>POINT (27.79512 310.57169)</td>\n",
       "    </tr>\n",
       "  </tbody>\n",
       "</table>\n",
       "</div>"
      ],
      "text/plain": [
       "   level_0  level_1 formation     X      Y      Z                    geometry\n",
       "0        0        0     Sand1  0.26 264.86 353.97   POINT (0.25633 264.86215)\n",
       "1        0        0     Sand1 10.59 276.73 359.04  POINT (10.59347 276.73371)\n",
       "2        0        0     Sand1 17.13 289.09 364.28  POINT (17.13494 289.08982)\n",
       "3        0        0     Sand1 19.15 293.31 364.99  POINT (19.15013 293.31349)\n",
       "4        0        0     Sand1 27.80 310.57 372.81  POINT (27.79512 310.57169)"
      ]
     },
     "execution_count": 24,
     "metadata": {},
     "output_type": "execute_result"
    }
   ],
   "source": [
    "interfaces.head()"
   ]
  },
  {
   "cell_type": "code",
   "execution_count": 25,
   "id": "74462e52",
   "metadata": {
    "ExecuteTime": {
     "end_time": "2023-05-08T10:52:40.250053Z",
     "start_time": "2023-05-08T10:52:40.218003Z"
    }
   },
   "outputs": [
    {
     "data": {
      "text/html": [
       "<div>\n",
       "<style scoped>\n",
       "    .dataframe tbody tr th:only-of-type {\n",
       "        vertical-align: middle;\n",
       "    }\n",
       "\n",
       "    .dataframe tbody tr th {\n",
       "        vertical-align: top;\n",
       "    }\n",
       "\n",
       "    .dataframe thead th {\n",
       "        text-align: right;\n",
       "    }\n",
       "</style>\n",
       "<table border=\"1\" class=\"dataframe\">\n",
       "  <thead>\n",
       "    <tr style=\"text-align: right;\">\n",
       "      <th></th>\n",
       "      <th>formation</th>\n",
       "      <th>dip</th>\n",
       "      <th>azimuth</th>\n",
       "      <th>X</th>\n",
       "      <th>Y</th>\n",
       "      <th>Z</th>\n",
       "      <th>geometry</th>\n",
       "      <th>polarity</th>\n",
       "    </tr>\n",
       "  </thead>\n",
       "  <tbody>\n",
       "    <tr>\n",
       "      <th>0</th>\n",
       "      <td>Ton</td>\n",
       "      <td>30.50</td>\n",
       "      <td>180.00</td>\n",
       "      <td>96.47</td>\n",
       "      <td>451.56</td>\n",
       "      <td>477.73</td>\n",
       "      <td>POINT (96.47104 451.56362)</td>\n",
       "      <td>1</td>\n",
       "    </tr>\n",
       "    <tr>\n",
       "      <th>1</th>\n",
       "      <td>Ton</td>\n",
       "      <td>30.50</td>\n",
       "      <td>180.00</td>\n",
       "      <td>172.76</td>\n",
       "      <td>661.88</td>\n",
       "      <td>481.73</td>\n",
       "      <td>POINT (172.76101 661.87650)</td>\n",
       "      <td>1</td>\n",
       "    </tr>\n",
       "    <tr>\n",
       "      <th>2</th>\n",
       "      <td>Ton</td>\n",
       "      <td>30.50</td>\n",
       "      <td>180.00</td>\n",
       "      <td>383.07</td>\n",
       "      <td>957.76</td>\n",
       "      <td>444.45</td>\n",
       "      <td>POINT (383.07389 957.75787)</td>\n",
       "      <td>1</td>\n",
       "    </tr>\n",
       "    <tr>\n",
       "      <th>3</th>\n",
       "      <td>Ton</td>\n",
       "      <td>30.50</td>\n",
       "      <td>180.00</td>\n",
       "      <td>592.36</td>\n",
       "      <td>722.70</td>\n",
       "      <td>480.57</td>\n",
       "      <td>POINT (592.35583 722.70229)</td>\n",
       "      <td>1</td>\n",
       "    </tr>\n",
       "    <tr>\n",
       "      <th>4</th>\n",
       "      <td>Ton</td>\n",
       "      <td>30.50</td>\n",
       "      <td>180.00</td>\n",
       "      <td>766.59</td>\n",
       "      <td>348.47</td>\n",
       "      <td>498.96</td>\n",
       "      <td>POINT (766.58562 348.46907)</td>\n",
       "      <td>1</td>\n",
       "    </tr>\n",
       "  </tbody>\n",
       "</table>\n",
       "</div>"
      ],
      "text/plain": [
       "  formation   dip  azimuth      X      Y      Z                     geometry  \\\n",
       "0       Ton 30.50   180.00  96.47 451.56 477.73   POINT (96.47104 451.56362)   \n",
       "1       Ton 30.50   180.00 172.76 661.88 481.73  POINT (172.76101 661.87650)   \n",
       "2       Ton 30.50   180.00 383.07 957.76 444.45  POINT (383.07389 957.75787)   \n",
       "3       Ton 30.50   180.00 592.36 722.70 480.57  POINT (592.35583 722.70229)   \n",
       "4       Ton 30.50   180.00 766.59 348.47 498.96  POINT (766.58562 348.46907)   \n",
       "\n",
       "   polarity  \n",
       "0         1  \n",
       "1         1  \n",
       "2         1  \n",
       "3         1  \n",
       "4         1  "
      ]
     },
     "execution_count": 25,
     "metadata": {},
     "output_type": "execute_result"
    }
   ],
   "source": [
    "orientations['polarity'] = 1\n",
    "orientations.head()"
   ]
  },
  {
   "cell_type": "markdown",
   "id": "b0a32686",
   "metadata": {},
   "source": [
    "## Creating the GemPy Model"
   ]
  },
  {
   "cell_type": "code",
   "execution_count": 26,
   "id": "461a6d52",
   "metadata": {
    "ExecuteTime": {
     "end_time": "2023-05-08T10:52:40.452072Z",
     "start_time": "2023-05-08T10:52:40.433038Z"
    }
   },
   "outputs": [],
   "source": [
    "import sys\n",
    "sys.path.append('../../../../gempy-master')\n",
    "import gempy as gp"
   ]
  },
  {
   "cell_type": "code",
   "execution_count": 27,
   "id": "e5228ecd",
   "metadata": {
    "ExecuteTime": {
     "end_time": "2023-05-08T10:52:40.636918Z",
     "start_time": "2023-05-08T10:52:40.540514Z"
    }
   },
   "outputs": [
    {
     "data": {
      "text/plain": [
       "Model1  2023-05-08 12:52"
      ]
     },
     "execution_count": 27,
     "metadata": {},
     "output_type": "execute_result"
    }
   ],
   "source": [
    "geo_model = gp.create_model('Model1')\n",
    "geo_model"
   ]
  },
  {
   "cell_type": "markdown",
   "id": "11e94b6b",
   "metadata": {},
   "source": [
    "### Initiating the Model"
   ]
  },
  {
   "cell_type": "code",
   "execution_count": 28,
   "id": "76102008",
   "metadata": {
    "ExecuteTime": {
     "end_time": "2023-05-08T10:52:40.903128Z",
     "start_time": "2023-05-08T10:52:40.784307Z"
    }
   },
   "outputs": [
    {
     "name": "stdout",
     "output_type": "stream",
     "text": [
      "Active grids: ['regular']\n"
     ]
    },
    {
     "data": {
      "text/html": [
       "<style type=\"text/css\">\n",
       "#T_11009_row0_col3 {\n",
       "  background-color: #015482;\n",
       "}\n",
       "#T_11009_row1_col3 {\n",
       "  background-color: #9f0052;\n",
       "}\n",
       "</style>\n",
       "<table id=\"T_11009_\">\n",
       "  <thead>\n",
       "    <tr>\n",
       "      <th class=\"blank level0\" >&nbsp;</th>\n",
       "      <th class=\"col_heading level0 col0\" >surface</th>\n",
       "      <th class=\"col_heading level0 col1\" >series</th>\n",
       "      <th class=\"col_heading level0 col2\" >order_surfaces</th>\n",
       "      <th class=\"col_heading level0 col3\" >color</th>\n",
       "      <th class=\"col_heading level0 col4\" >id</th>\n",
       "    </tr>\n",
       "  </thead>\n",
       "  <tbody>\n",
       "    <tr>\n",
       "      <th id=\"T_11009_level0_row0\" class=\"row_heading level0 row0\" >0</th>\n",
       "      <td id=\"T_11009_row0_col0\" class=\"data row0 col0\" >Sand1</td>\n",
       "      <td id=\"T_11009_row0_col1\" class=\"data row0 col1\" >Default series</td>\n",
       "      <td id=\"T_11009_row0_col2\" class=\"data row0 col2\" >1</td>\n",
       "      <td id=\"T_11009_row0_col3\" class=\"data row0 col3\" >#015482</td>\n",
       "      <td id=\"T_11009_row0_col4\" class=\"data row0 col4\" >1</td>\n",
       "    </tr>\n",
       "    <tr>\n",
       "      <th id=\"T_11009_level0_row1\" class=\"row_heading level0 row1\" >1</th>\n",
       "      <td id=\"T_11009_row1_col0\" class=\"data row1 col0\" >Ton</td>\n",
       "      <td id=\"T_11009_row1_col1\" class=\"data row1 col1\" >Default series</td>\n",
       "      <td id=\"T_11009_row1_col2\" class=\"data row1 col2\" >2</td>\n",
       "      <td id=\"T_11009_row1_col3\" class=\"data row1 col3\" >#9f0052</td>\n",
       "      <td id=\"T_11009_row1_col4\" class=\"data row1 col4\" >2</td>\n",
       "    </tr>\n",
       "  </tbody>\n",
       "</table>\n"
      ],
      "text/plain": [
       "  surface          series  order_surfaces    color  id\n",
       "0   Sand1  Default series               1  #015482   1\n",
       "1     Ton  Default series               2  #9f0052   2"
      ]
     },
     "execution_count": 28,
     "metadata": {},
     "output_type": "execute_result"
    }
   ],
   "source": [
    "import pandas as pd\n",
    "\n",
    "gp.init_data(geo_model, extent, resolution,\n",
    "             surface_points_df = interfaces,\n",
    "             orientations_df = orientations,\n",
    "             default_values=True)\n",
    "geo_model.surfaces"
   ]
  },
  {
   "cell_type": "markdown",
   "id": "f15e1fdd",
   "metadata": {},
   "source": [
    "The vertices and edges are currently NaN values, so no model has been computed so far."
   ]
  },
  {
   "cell_type": "code",
   "execution_count": 29,
   "id": "e0bb59a3",
   "metadata": {
    "ExecuteTime": {
     "end_time": "2023-05-08T10:52:41.290053Z",
     "start_time": "2023-05-08T10:52:41.264429Z"
    }
   },
   "outputs": [
    {
     "data": {
      "text/html": [
       "<div>\n",
       "<style scoped>\n",
       "    .dataframe tbody tr th:only-of-type {\n",
       "        vertical-align: middle;\n",
       "    }\n",
       "\n",
       "    .dataframe tbody tr th {\n",
       "        vertical-align: top;\n",
       "    }\n",
       "\n",
       "    .dataframe thead th {\n",
       "        text-align: right;\n",
       "    }\n",
       "</style>\n",
       "<table border=\"1\" class=\"dataframe\">\n",
       "  <thead>\n",
       "    <tr style=\"text-align: right;\">\n",
       "      <th></th>\n",
       "      <th>surface</th>\n",
       "      <th>series</th>\n",
       "      <th>order_surfaces</th>\n",
       "      <th>isBasement</th>\n",
       "      <th>isFault</th>\n",
       "      <th>isActive</th>\n",
       "      <th>hasData</th>\n",
       "      <th>color</th>\n",
       "      <th>vertices</th>\n",
       "      <th>edges</th>\n",
       "      <th>sfai</th>\n",
       "      <th>id</th>\n",
       "    </tr>\n",
       "  </thead>\n",
       "  <tbody>\n",
       "    <tr>\n",
       "      <th>0</th>\n",
       "      <td>Sand1</td>\n",
       "      <td>Default series</td>\n",
       "      <td>1</td>\n",
       "      <td>False</td>\n",
       "      <td>False</td>\n",
       "      <td>True</td>\n",
       "      <td>True</td>\n",
       "      <td>#015482</td>\n",
       "      <td>NaN</td>\n",
       "      <td>NaN</td>\n",
       "      <td>NaN</td>\n",
       "      <td>1</td>\n",
       "    </tr>\n",
       "    <tr>\n",
       "      <th>1</th>\n",
       "      <td>Ton</td>\n",
       "      <td>Default series</td>\n",
       "      <td>2</td>\n",
       "      <td>True</td>\n",
       "      <td>False</td>\n",
       "      <td>True</td>\n",
       "      <td>True</td>\n",
       "      <td>#9f0052</td>\n",
       "      <td>NaN</td>\n",
       "      <td>NaN</td>\n",
       "      <td>NaN</td>\n",
       "      <td>2</td>\n",
       "    </tr>\n",
       "  </tbody>\n",
       "</table>\n",
       "</div>"
      ],
      "text/plain": [
       "  surface          series  order_surfaces  isBasement isFault  isActive  \\\n",
       "0   Sand1  Default series               1       False   False      True   \n",
       "1     Ton  Default series               2        True   False      True   \n",
       "\n",
       "   hasData    color vertices edges sfai  id  \n",
       "0     True  #015482      NaN   NaN  NaN   1  \n",
       "1     True  #9f0052      NaN   NaN  NaN   2  "
      ]
     },
     "execution_count": 29,
     "metadata": {},
     "output_type": "execute_result"
    }
   ],
   "source": [
    "geo_model.surfaces.df"
   ]
  },
  {
   "cell_type": "markdown",
   "id": "6d83e0fa",
   "metadata": {
    "ExecuteTime": {
     "end_time": "2023-03-01T12:58:53.064490Z",
     "start_time": "2023-03-01T12:58:53.059434Z"
    }
   },
   "source": [
    "### Mapping Stack to Surfaces"
   ]
  },
  {
   "cell_type": "code",
   "execution_count": 30,
   "id": "37e07a9d",
   "metadata": {
    "ExecuteTime": {
     "end_time": "2023-05-08T10:52:41.752012Z",
     "start_time": "2023-05-08T10:52:41.627481Z"
    }
   },
   "outputs": [
    {
     "data": {
      "text/html": [
       "<style type=\"text/css\">\n",
       "#T_ff119_row0_col3 {\n",
       "  background-color: #015482;\n",
       "}\n",
       "#T_ff119_row1_col3 {\n",
       "  background-color: #9f0052;\n",
       "}\n",
       "#T_ff119_row2_col3 {\n",
       "  background-color: #ffbe00;\n",
       "}\n",
       "</style>\n",
       "<table id=\"T_ff119_\">\n",
       "  <thead>\n",
       "    <tr>\n",
       "      <th class=\"blank level0\" >&nbsp;</th>\n",
       "      <th class=\"col_heading level0 col0\" >surface</th>\n",
       "      <th class=\"col_heading level0 col1\" >series</th>\n",
       "      <th class=\"col_heading level0 col2\" >order_surfaces</th>\n",
       "      <th class=\"col_heading level0 col3\" >color</th>\n",
       "      <th class=\"col_heading level0 col4\" >id</th>\n",
       "    </tr>\n",
       "  </thead>\n",
       "  <tbody>\n",
       "    <tr>\n",
       "      <th id=\"T_ff119_level0_row0\" class=\"row_heading level0 row0\" >0</th>\n",
       "      <td id=\"T_ff119_row0_col0\" class=\"data row0 col0\" >Sand1</td>\n",
       "      <td id=\"T_ff119_row0_col1\" class=\"data row0 col1\" >Strat_Series</td>\n",
       "      <td id=\"T_ff119_row0_col2\" class=\"data row0 col2\" >1</td>\n",
       "      <td id=\"T_ff119_row0_col3\" class=\"data row0 col3\" >#015482</td>\n",
       "      <td id=\"T_ff119_row0_col4\" class=\"data row0 col4\" >1</td>\n",
       "    </tr>\n",
       "    <tr>\n",
       "      <th id=\"T_ff119_level0_row1\" class=\"row_heading level0 row1\" >1</th>\n",
       "      <td id=\"T_ff119_row1_col0\" class=\"data row1 col0\" >Ton</td>\n",
       "      <td id=\"T_ff119_row1_col1\" class=\"data row1 col1\" >Strat_Series</td>\n",
       "      <td id=\"T_ff119_row1_col2\" class=\"data row1 col2\" >2</td>\n",
       "      <td id=\"T_ff119_row1_col3\" class=\"data row1 col3\" >#9f0052</td>\n",
       "      <td id=\"T_ff119_row1_col4\" class=\"data row1 col4\" >2</td>\n",
       "    </tr>\n",
       "    <tr>\n",
       "      <th id=\"T_ff119_level0_row2\" class=\"row_heading level0 row2\" >2</th>\n",
       "      <td id=\"T_ff119_row2_col0\" class=\"data row2 col0\" >basement</td>\n",
       "      <td id=\"T_ff119_row2_col1\" class=\"data row2 col1\" >Strat_Series</td>\n",
       "      <td id=\"T_ff119_row2_col2\" class=\"data row2 col2\" >3</td>\n",
       "      <td id=\"T_ff119_row2_col3\" class=\"data row2 col3\" >#ffbe00</td>\n",
       "      <td id=\"T_ff119_row2_col4\" class=\"data row2 col4\" >3</td>\n",
       "    </tr>\n",
       "  </tbody>\n",
       "</table>\n"
      ],
      "text/plain": [
       "    surface        series  order_surfaces    color  id\n",
       "0     Sand1  Strat_Series               1  #015482   1\n",
       "1       Ton  Strat_Series               2  #9f0052   2\n",
       "2  basement  Strat_Series               3  #ffbe00   3"
      ]
     },
     "execution_count": 30,
     "metadata": {},
     "output_type": "execute_result"
    }
   ],
   "source": [
    "gp.map_stack_to_surfaces(geo_model,\n",
    "                         {\"Strat_Series\": ('Sand1', 'Ton')},\n",
    "                         remove_unused_series=True)\n",
    "geo_model.add_surfaces('basement')"
   ]
  },
  {
   "cell_type": "markdown",
   "id": "f8810b9b",
   "metadata": {},
   "source": [
    "### Loading the Topography"
   ]
  },
  {
   "cell_type": "code",
   "execution_count": 31,
   "id": "30278aea",
   "metadata": {
    "ExecuteTime": {
     "end_time": "2023-05-08T10:52:42.093005Z",
     "start_time": "2023-05-08T10:52:41.861764Z"
    }
   },
   "outputs": [
    {
     "name": "stdout",
     "output_type": "stream",
     "text": [
      "Cropped raster to geo_model.grid.extent.\n",
      "depending on the size of the raster, this can take a while...\n",
      "storing converted file...\n",
      "Active grids: ['regular' 'topography']\n"
     ]
    },
    {
     "data": {
      "text/plain": [
       "Grid Object. Values: \n",
       "array([[   9.72      ,   10.69      ,  305.        ],\n",
       "       [   9.72      ,   10.69      ,  315.        ],\n",
       "       [   9.72      ,   10.69      ,  325.        ],\n",
       "       ...,\n",
       "       [ 970.056     , 1059.28181818,  622.0892334 ],\n",
       "       [ 970.056     , 1063.16909091,  622.06713867],\n",
       "       [ 970.056     , 1067.05636364,  622.05786133]])"
      ]
     },
     "execution_count": 31,
     "metadata": {},
     "output_type": "execute_result"
    }
   ],
   "source": [
    "geo_model.set_topography(\n",
    "    source='gdal', filepath='data/61_Exporting_geological_map_and_custom_sections_from_GemPy/raster1.tif')"
   ]
  },
  {
   "cell_type": "markdown",
   "id": "47a7e983",
   "metadata": {},
   "source": [
    "### Defining Custom Section"
   ]
  },
  {
   "cell_type": "code",
   "execution_count": 32,
   "id": "65c8d9fc",
   "metadata": {
    "ExecuteTime": {
     "end_time": "2023-05-08T10:52:42.203166Z",
     "start_time": "2023-05-08T10:52:42.107768Z"
    }
   },
   "outputs": [
    {
     "name": "stdout",
     "output_type": "stream",
     "text": [
      "Active grids: ['regular' 'topography' 'sections']\n"
     ]
    },
    {
     "data": {
      "text/html": [
       "<table border=\"1\" class=\"dataframe\">\n",
       "  <thead>\n",
       "    <tr style=\"text-align: right;\">\n",
       "      <th></th>\n",
       "      <th>start</th>\n",
       "      <th>stop</th>\n",
       "      <th>resolution</th>\n",
       "      <th>dist</th>\n",
       "    </tr>\n",
       "  </thead>\n",
       "  <tbody>\n",
       "    <tr>\n",
       "      <th>Section1</th>\n",
       "      <td>[1.372395262185787, 383.9794474025771]</td>\n",
       "      <td>[970.9954955186289, 383.8831909730347]</td>\n",
       "      <td>[100, 80]</td>\n",
       "      <td>969.62</td>\n",
       "    </tr>\n",
       "  </tbody>\n",
       "</table>"
      ],
      "text/plain": [
       "                                           start                                    stop resolution   dist\n",
       "Section1  [1.372395262185787, 383.9794474025771]  [970.9954955186289, 383.8831909730347]  [100, 80] 969.62"
      ]
     },
     "execution_count": 32,
     "metadata": {},
     "output_type": "execute_result"
    }
   ],
   "source": [
    "custom_section = gpd.read_file(file_path + 'customsections1.shp')\n",
    "custom_section_dict = gg.utils.to_section_dict(custom_section, section_column='section')\n",
    "geo_model.set_section_grid(custom_section_dict)"
   ]
  },
  {
   "cell_type": "code",
   "execution_count": 33,
   "id": "a2f906b3",
   "metadata": {
    "ExecuteTime": {
     "end_time": "2023-05-08T10:52:42.468240Z",
     "start_time": "2023-05-08T10:52:42.283003Z"
    }
   },
   "outputs": [
    {
     "data": {
      "text/plain": [
       "<gempy.plot.visualization_2d.Plot2D at 0x2b0f5226bb0>"
      ]
     },
     "execution_count": 33,
     "metadata": {},
     "output_type": "execute_result"
    },
    {
     "data": {
      "image/png": "[encoded data removed]",
      "text/plain": [
       "<Figure size 1040x715 with 1 Axes>"
      ]
     },
     "metadata": {},
     "output_type": "display_data"
    }
   ],
   "source": [
    "gp.plot.plot_section_traces(geo_model)"
   ]
  },
  {
   "cell_type": "markdown",
   "id": "3279a7dd",
   "metadata": {},
   "source": [
    "### Setting Interpolator"
   ]
  },
  {
   "cell_type": "code",
   "execution_count": 34,
   "id": "7e5a79d9",
   "metadata": {
    "ExecuteTime": {
     "end_time": "2023-05-08T10:52:45.549020Z",
     "start_time": "2023-05-08T10:52:42.855531Z"
    }
   },
   "outputs": [
    {
     "name": "stdout",
     "output_type": "stream",
     "text": [
      "Compiling theano function...\n",
      "Level of Optimization:  fast_compile\n",
      "Device:  cpu\n",
      "Precision:  float64\n",
      "Number of faults:  0\n",
      "Compilation Done!\n",
      "Kriging values: \n",
      "                   values\n",
      "range            1528.90\n",
      "$C_o$           55655.83\n",
      "drift equations      [3]\n"
     ]
    },
    {
     "data": {
      "text/plain": [
       "<gempy.core.interpolator.InterpolatorModel at 0x2b0f52261c0>"
      ]
     },
     "execution_count": 34,
     "metadata": {},
     "output_type": "execute_result"
    }
   ],
   "source": [
    "gp.set_interpolator(geo_model,\n",
    "                    compile_theano=True,\n",
    "                    theano_optimizer='fast_compile',\n",
    "                    verbose=[],\n",
    "                    update_kriging = False\n",
    "                    )"
   ]
  },
  {
   "cell_type": "markdown",
   "id": "cabe0461",
   "metadata": {},
   "source": [
    "### Computing Model"
   ]
  },
  {
   "cell_type": "code",
   "execution_count": 35,
   "id": "da761100",
   "metadata": {
    "ExecuteTime": {
     "end_time": "2023-05-08T10:52:56.395399Z",
     "start_time": "2023-05-08T10:52:45.552739Z"
    }
   },
   "outputs": [],
   "source": [
    "sol = gp.compute_model(geo_model, compute_mesh=True)"
   ]
  },
  {
   "cell_type": "markdown",
   "id": "f60f2086",
   "metadata": {},
   "source": [
    "The surfaces DataFrame now contains values for vertices and edges."
   ]
  },
  {
   "cell_type": "code",
   "execution_count": 36,
   "id": "75db7b7e",
   "metadata": {
    "ExecuteTime": {
     "end_time": "2023-05-08T10:52:56.504631Z",
     "start_time": "2023-05-08T10:52:56.398312Z"
    }
   },
   "outputs": [
    {
     "data": {
      "text/html": [
       "<div>\n",
       "<style scoped>\n",
       "    .dataframe tbody tr th:only-of-type {\n",
       "        vertical-align: middle;\n",
       "    }\n",
       "\n",
       "    .dataframe tbody tr th {\n",
       "        vertical-align: top;\n",
       "    }\n",
       "\n",
       "    .dataframe thead th {\n",
       "        text-align: right;\n",
       "    }\n",
       "</style>\n",
       "<table border=\"1\" class=\"dataframe\">\n",
       "  <thead>\n",
       "    <tr style=\"text-align: right;\">\n",
       "      <th></th>\n",
       "      <th>surface</th>\n",
       "      <th>series</th>\n",
       "      <th>order_surfaces</th>\n",
       "      <th>isBasement</th>\n",
       "      <th>isFault</th>\n",
       "      <th>isActive</th>\n",
       "      <th>hasData</th>\n",
       "      <th>color</th>\n",
       "      <th>vertices</th>\n",
       "      <th>edges</th>\n",
       "      <th>sfai</th>\n",
       "      <th>id</th>\n",
       "    </tr>\n",
       "  </thead>\n",
       "  <tbody>\n",
       "    <tr>\n",
       "      <th>0</th>\n",
       "      <td>Sand1</td>\n",
       "      <td>Strat_Series</td>\n",
       "      <td>1</td>\n",
       "      <td>False</td>\n",
       "      <td>False</td>\n",
       "      <td>True</td>\n",
       "      <td>True</td>\n",
       "      <td>#015482</td>\n",
       "      <td>[[29.160000000000004, 194.27877317428587, 305....</td>\n",
       "      <td>[[2, 1, 0], [2, 0, 3], [3, 4, 2], [2, 4, 5], [...</td>\n",
       "      <td>0.26</td>\n",
       "      <td>1</td>\n",
       "    </tr>\n",
       "    <tr>\n",
       "      <th>1</th>\n",
       "      <td>Ton</td>\n",
       "      <td>Strat_Series</td>\n",
       "      <td>2</td>\n",
       "      <td>False</td>\n",
       "      <td>False</td>\n",
       "      <td>True</td>\n",
       "      <td>True</td>\n",
       "      <td>#9f0052</td>\n",
       "      <td>[[29.160000000000004, 365.78652999877926, 305....</td>\n",
       "      <td>[[2, 1, 0], [2, 0, 3], [3, 4, 2], [2, 4, 5], [...</td>\n",
       "      <td>0.21</td>\n",
       "      <td>2</td>\n",
       "    </tr>\n",
       "    <tr>\n",
       "      <th>2</th>\n",
       "      <td>basement</td>\n",
       "      <td>Strat_Series</td>\n",
       "      <td>3</td>\n",
       "      <td>True</td>\n",
       "      <td>False</td>\n",
       "      <td>True</td>\n",
       "      <td>True</td>\n",
       "      <td>#ffbe00</td>\n",
       "      <td>NaN</td>\n",
       "      <td>NaN</td>\n",
       "      <td>NaN</td>\n",
       "      <td>3</td>\n",
       "    </tr>\n",
       "  </tbody>\n",
       "</table>\n",
       "</div>"
      ],
      "text/plain": [
       "    surface        series  order_surfaces  isBasement isFault  isActive  \\\n",
       "0     Sand1  Strat_Series               1       False   False      True   \n",
       "1       Ton  Strat_Series               2       False   False      True   \n",
       "2  basement  Strat_Series               3        True   False      True   \n",
       "\n",
       "   hasData    color                                           vertices  \\\n",
       "0     True  #015482  [[29.160000000000004, 194.27877317428587, 305....   \n",
       "1     True  #9f0052  [[29.160000000000004, 365.78652999877926, 305....   \n",
       "2     True  #ffbe00                                                NaN   \n",
       "\n",
       "                                               edges sfai  id  \n",
       "0  [[2, 1, 0], [2, 0, 3], [3, 4, 2], [2, 4, 5], [... 0.26   1  \n",
       "1  [[2, 1, 0], [2, 0, 3], [3, 4, 2], [2, 4, 5], [... 0.21   2  \n",
       "2                                                NaN  NaN   3  "
      ]
     },
     "execution_count": 36,
     "metadata": {},
     "output_type": "execute_result"
    }
   ],
   "source": [
    "geo_model.surfaces.df"
   ]
  },
  {
   "cell_type": "markdown",
   "id": "6ab15b6e",
   "metadata": {},
   "source": [
    "## Plotting the 3D Model"
   ]
  },
  {
   "cell_type": "code",
   "execution_count": 37,
   "id": "21511fa9",
   "metadata": {
    "ExecuteTime": {
     "end_time": "2023-05-08T10:52:58.391215Z",
     "start_time": "2023-05-08T10:52:56.510055Z"
    }
   },
   "outputs": [
    {
     "name": "stderr",
     "output_type": "stream",
     "text": [
      "C:\\Users\\jan13846\\.conda\\envs\\gemgis\\lib\\site-packages\\pyvista\\plotting\\tools.py:571: PyvistaDeprecationWarning: The usage of `parse_color` is deprecated in favor of the new `Color` class.\n",
      "  warnings.warn(\n",
      "C:\\Users\\jan13846\\.conda\\envs\\gemgis\\lib\\site-packages\\pyvista\\jupyter\\notebook.py:60: UserWarning: Failed to use notebook backend: \n",
      "\n",
      "Please install `ipyvtklink` to use this feature: https://github.com/Kitware/ipyvtklink\n",
      "\n",
      "Falling back to a static output.\n",
      "  warnings.warn(\n"
     ]
    },
    {
     "data": {
      "image/png": "[encoded data removed]",
      "text/plain": [
       "<PIL.Image.Image image mode=RGB size=1024x768>"
      ]
     },
     "metadata": {},
     "output_type": "display_data"
    }
   ],
   "source": [
    "gpv = gp.plot_3d(geo_model, image=False, show_topography=True,\n",
    "                 plotter_type='basic', notebook=True, show_lith=True)"
   ]
  },
  {
   "cell_type": "markdown",
   "id": "efaeaf82",
   "metadata": {},
   "source": [
    "## Extracting Shapefiles from Gempy model"
   ]
  },
  {
   "cell_type": "markdown",
   "id": "ca5c39b8",
   "metadata": {
    "ExecuteTime": {
     "end_time": "2023-03-01T13:18:18.668043Z",
     "start_time": "2023-03-01T13:18:18.591590Z"
    }
   },
   "source": [
    "Using the following code we are able to download the custom sections and the geological map as shapefiles"
   ]
  },
  {
   "cell_type": "markdown",
   "id": "2a73a3d4",
   "metadata": {},
   "source": [
    "### Extracting GemPy Section Lines as Shapefiles"
   ]
  },
  {
   "cell_type": "code",
   "execution_count": 38,
   "id": "e6134e15",
   "metadata": {
    "ExecuteTime": {
     "end_time": "2023-05-08T10:52:58.437814Z",
     "start_time": "2023-05-08T10:52:58.396498Z"
    }
   },
   "outputs": [],
   "source": [
    "from shapely.geometry import LineString\n",
    "gdf_sections = geo_model.grid.sections.df.copy(deep=True)\n",
    "gdf_sections.reset_index()\n",
    "linestrings = [LineString((gdf_sections.iloc[i]['start'],gdf_sections.iloc[i]['stop'] )) for i in range(len(gdf_sections))]\n",
    "gdf_sections_new = gpd.GeoDataFrame(geometry=linestrings, data= gdf_sections.reset_index()[['index']], crs='EPSG:32632')\n",
    "gdf_sections_new.to_file(file_path + 'test_sections.shp')"
   ]
  },
  {
   "cell_type": "markdown",
   "id": "707ff910",
   "metadata": {
    "ExecuteTime": {
     "end_time": "2023-03-01T13:16:07.509289Z",
     "start_time": "2023-03-01T13:16:07.492633Z"
    }
   },
   "source": [
    "### Extracting GemPy Geological Map Polygons as Shapefiles"
   ]
  },
  {
   "cell_type": "code",
   "execution_count": 39,
   "id": "b1986438",
   "metadata": {
    "ExecuteTime": {
     "end_time": "2023-05-08T10:52:58.532352Z",
     "start_time": "2023-05-08T10:52:58.441722Z"
    }
   },
   "outputs": [],
   "source": [
    "gdf = gg.postprocessing.extract_lithologies(geo_model, geo_model.grid.regular_grid.extent[:4], crs='EPSG:32632')\n",
    "gdf.to_file(file_path + 'test.shp')"
   ]
  },
  {
   "cell_type": "markdown",
   "id": "764549bb",
   "metadata": {},
   "source": [
    "<img src=\"../images/Extracted_Files_QGIS.png\" width=700>"
   ]
  }
 ],
 "metadata": {
  "kernelspec": {
   "display_name": "Python 3 (ipykernel)",
   "language": "python",
   "name": "python3"
  },
  "language_info": {
   "codemirror_mode": {
    "name": "ipython",
    "version": 3
   },
   "file_extension": ".py",
   "mimetype": "text/x-python",
   "name": "python",
   "nbconvert_exporter": "python",
   "pygments_lexer": "ipython3",
   "version": "3.10.11"
  }
 },
 "nbformat": 4,
 "nbformat_minor": 5
}
