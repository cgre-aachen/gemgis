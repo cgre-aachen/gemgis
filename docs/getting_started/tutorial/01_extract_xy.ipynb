{
 "cells": [
  {
   "cell_type": "markdown",
   "metadata": {},
   "source": [
    "# 01 Extract XY Coordinates\n",
    "\n",
    "Vector data is commonly provided as ``shape`` files. These files can be loaded with ``GeoPandas`` as ``GeoDataFrames``. Each geometry object is stored as ``shapely`` object within the ``GeoSeries`` ``geometry`` of the ``GeoDataFrames``. The basic ``shapely`` objects used here are:\n",
    "\n",
    "* Points/Multi-Points\n",
    "* Lines/Multi-Lines\n",
    "* Polygons/Multi-Polygons\n",
    "\n",
    "The first step is to load the data using ``GeoPandas``. We can inspect the different columns of the GeoDataFrame by looking at its head. In the following examples for point, line and polygon data, we have an ``id`` column which was created during the digitalizing of the data in QGIS, a formation column containing the name of a geological unit (this becomes important later for the actual modeling) and most importantly the geometry column consisting of the ``shapely`` geometry objects. The X and Y coordinates of the different geometry objects can then be extracted using ``extract_xy()`` of the GemGIS vector module.\n",
    "\n",
    "<img src=\"../images/tutorial01_cover.png\">\n"
   ]
  },
  {
   "cell_type": "markdown",
   "metadata": {},
   "source": [
    "## Set File Paths\n",
    "\n",
    "If you downloaded the latest `GemGIS` from the Github repository, append the path so that the package can be imported successfully. In addition, the file path to the files within the `gemgis_data` folder is set. You can download the data [here](https://github.com/cgre-aachen/gemgis_data/archive/master.zip) if you have not done so."
   ]
  },
  {
   "cell_type": "code",
   "execution_count": 1,
   "metadata": {
    "ExecuteTime": {
     "end_time": "2020-11-28T09:25:39.583039Z",
     "start_time": "2020-11-28T09:25:39.574613Z"
    }
   },
   "outputs": [],
   "source": [
    "import sys\n",
    "sys.path.append('../../../../gemgis')\n",
    "file_path ='../../../../gemgis_data/data/01_extract_xy/'"
   ]
  },
  {
   "cell_type": "markdown",
   "metadata": {},
   "source": [
    "## Point Data\n",
    "\n",
    "The point data stored as shape file will be loaded as GeoDataFrame. "
   ]
  },
  {
   "cell_type": "code",
   "execution_count": 2,
   "metadata": {
    "ExecuteTime": {
     "end_time": "2020-11-28T09:25:44.946958Z",
     "start_time": "2020-11-28T09:25:40.026602Z"
    }
   },
   "outputs": [
    {
     "name": "stderr",
     "output_type": "stream",
     "text": [
      "WARNING (theano.configdefaults): g++ not available, if using conda: `conda install m2w64-toolchain`\n",
      "C:\\Users\\ale93371\\Anaconda3\\envs\\test_gempy\\lib\\site-packages\\theano\\configdefaults.py:560: UserWarning: DeprecationWarning: there is no c++ compiler.This is deprecated and with Theano 0.11 a c++ compiler will be mandatory\n",
      "  warnings.warn(\"DeprecationWarning: there is no c++ compiler.\"\n",
      "WARNING (theano.configdefaults): g++ not detected ! Theano will be unable to execute optimized C-implementations (for both CPU and GPU) and will default to Python implementations. Performance will be severely degraded. To remove this warning, set Theano flags cxx to an empty string.\n",
      "WARNING (theano.tensor.blas): Using NumPy C-API based implementation for BLAS functions.\n"
     ]
    },
    {
     "data": {
      "text/html": [
       "<div>\n",
       "<style scoped>\n",
       "    .dataframe tbody tr th:only-of-type {\n",
       "        vertical-align: middle;\n",
       "    }\n",
       "\n",
       "    .dataframe tbody tr th {\n",
       "        vertical-align: top;\n",
       "    }\n",
       "\n",
       "    .dataframe thead th {\n",
       "        text-align: right;\n",
       "    }\n",
       "</style>\n",
       "<table border=\"1\" class=\"dataframe\">\n",
       "  <thead>\n",
       "    <tr style=\"text-align: right;\">\n",
       "      <th></th>\n",
       "      <th>id</th>\n",
       "      <th>formation</th>\n",
       "      <th>geometry</th>\n",
       "    </tr>\n",
       "  </thead>\n",
       "  <tbody>\n",
       "    <tr>\n",
       "      <th>0</th>\n",
       "      <td>None</td>\n",
       "      <td>Ton</td>\n",
       "      <td>POINT (19.150 293.313)</td>\n",
       "    </tr>\n",
       "    <tr>\n",
       "      <th>1</th>\n",
       "      <td>None</td>\n",
       "      <td>Ton</td>\n",
       "      <td>POINT (61.934 381.459)</td>\n",
       "    </tr>\n",
       "    <tr>\n",
       "      <th>2</th>\n",
       "      <td>None</td>\n",
       "      <td>Ton</td>\n",
       "      <td>POINT (109.358 480.946)</td>\n",
       "    </tr>\n",
       "    <tr>\n",
       "      <th>3</th>\n",
       "      <td>None</td>\n",
       "      <td>Ton</td>\n",
       "      <td>POINT (157.812 615.999)</td>\n",
       "    </tr>\n",
       "    <tr>\n",
       "      <th>4</th>\n",
       "      <td>None</td>\n",
       "      <td>Ton</td>\n",
       "      <td>POINT (191.318 719.094)</td>\n",
       "    </tr>\n",
       "  </tbody>\n",
       "</table>\n",
       "</div>"
      ],
      "text/plain": [
       "     id formation                 geometry\n",
       "0  None       Ton   POINT (19.150 293.313)\n",
       "1  None       Ton   POINT (61.934 381.459)\n",
       "2  None       Ton  POINT (109.358 480.946)\n",
       "3  None       Ton  POINT (157.812 615.999)\n",
       "4  None       Ton  POINT (191.318 719.094)"
      ]
     },
     "execution_count": 2,
     "metadata": {},
     "output_type": "execute_result"
    }
   ],
   "source": [
    "import geopandas as gpd\n",
    "import gemgis as gg\n",
    "\n",
    "gdf = gpd.read_file(file_path + 'interfaces_points.shp')\n",
    "\n",
    "gdf.head()"
   ]
  },
  {
   "cell_type": "markdown",
   "metadata": {},
   "source": [
    "The resulting GeoDataFrame has now an additional ``X`` and ``Y`` column containing the coordinates of the point objects. These can now be easily used for further processing. The geometry types of the shapely objects remained unchanged. The ``id`` column was dropped by default.\n"
   ]
  },
  {
   "cell_type": "code",
   "execution_count": 3,
   "metadata": {
    "ExecuteTime": {
     "end_time": "2020-11-28T09:25:45.105327Z",
     "start_time": "2020-11-28T09:25:45.028958Z"
    }
   },
   "outputs": [
    {
     "data": {
      "text/html": [
       "<div>\n",
       "<style scoped>\n",
       "    .dataframe tbody tr th:only-of-type {\n",
       "        vertical-align: middle;\n",
       "    }\n",
       "\n",
       "    .dataframe tbody tr th {\n",
       "        vertical-align: top;\n",
       "    }\n",
       "\n",
       "    .dataframe thead th {\n",
       "        text-align: right;\n",
       "    }\n",
       "</style>\n",
       "<table border=\"1\" class=\"dataframe\">\n",
       "  <thead>\n",
       "    <tr style=\"text-align: right;\">\n",
       "      <th></th>\n",
       "      <th>formation</th>\n",
       "      <th>geometry</th>\n",
       "      <th>X</th>\n",
       "      <th>Y</th>\n",
       "    </tr>\n",
       "  </thead>\n",
       "  <tbody>\n",
       "    <tr>\n",
       "      <th>0</th>\n",
       "      <td>Ton</td>\n",
       "      <td>POINT (19.150 293.313)</td>\n",
       "      <td>19.15</td>\n",
       "      <td>293.31</td>\n",
       "    </tr>\n",
       "    <tr>\n",
       "      <th>1</th>\n",
       "      <td>Ton</td>\n",
       "      <td>POINT (61.934 381.459)</td>\n",
       "      <td>61.93</td>\n",
       "      <td>381.46</td>\n",
       "    </tr>\n",
       "    <tr>\n",
       "      <th>2</th>\n",
       "      <td>Ton</td>\n",
       "      <td>POINT (109.358 480.946)</td>\n",
       "      <td>109.36</td>\n",
       "      <td>480.95</td>\n",
       "    </tr>\n",
       "    <tr>\n",
       "      <th>3</th>\n",
       "      <td>Ton</td>\n",
       "      <td>POINT (157.812 615.999)</td>\n",
       "      <td>157.81</td>\n",
       "      <td>616.00</td>\n",
       "    </tr>\n",
       "    <tr>\n",
       "      <th>4</th>\n",
       "      <td>Ton</td>\n",
       "      <td>POINT (191.318 719.094)</td>\n",
       "      <td>191.32</td>\n",
       "      <td>719.09</td>\n",
       "    </tr>\n",
       "  </tbody>\n",
       "</table>\n",
       "</div>"
      ],
      "text/plain": [
       "  formation                 geometry      X      Y\n",
       "0       Ton   POINT (19.150 293.313)  19.15 293.31\n",
       "1       Ton   POINT (61.934 381.459)  61.93 381.46\n",
       "2       Ton  POINT (109.358 480.946) 109.36 480.95\n",
       "3       Ton  POINT (157.812 615.999) 157.81 616.00\n",
       "4       Ton  POINT (191.318 719.094) 191.32 719.09"
      ]
     },
     "execution_count": 3,
     "metadata": {},
     "output_type": "execute_result"
    }
   ],
   "source": [
    "gdf_xy = gg.vector.extract_xy(gdf=gdf)\n",
    "\n",
    "gdf_xy.head()"
   ]
  },
  {
   "cell_type": "markdown",
   "metadata": {},
   "source": [
    "The figures below show the original point data and the extracted X and Y data."
   ]
  },
  {
   "cell_type": "code",
   "execution_count": 4,
   "metadata": {
    "ExecuteTime": {
     "end_time": "2020-11-28T09:25:45.787295Z",
     "start_time": "2020-11-28T09:25:45.297050Z"
    }
   },
   "outputs": [
    {
     "data": {
      "image/png": "[encoded data removed]",
      "text/plain": [
       "<Figure size 748.8x514.8 with 2 Axes>"
      ]
     },
     "metadata": {},
     "output_type": "display_data"
    }
   ],
   "source": [
    "import matplotlib.pyplot as plt\n",
    "\n",
    "fig, (ax1,ax2) = plt.subplots(1,2)\n",
    "\n",
    "gdf.plot(ax=ax1, aspect='equal')\n",
    "ax1.grid()\n",
    "\n",
    "gdf_xy.plot(ax=ax2, aspect='equal')\n",
    "ax2.grid()"
   ]
  },
  {
   "cell_type": "markdown",
   "metadata": {},
   "source": [
    "## Line Data\n",
    "\n",
    "The line data stored as shape file will be loaded as GeoDataFrame. "
   ]
  },
  {
   "cell_type": "code",
   "execution_count": 5,
   "metadata": {
    "ExecuteTime": {
     "end_time": "2020-11-28T09:25:46.087896Z",
     "start_time": "2020-11-28T09:25:45.965254Z"
    }
   },
   "outputs": [
    {
     "data": {
      "text/html": [
       "<div>\n",
       "<style scoped>\n",
       "    .dataframe tbody tr th:only-of-type {\n",
       "        vertical-align: middle;\n",
       "    }\n",
       "\n",
       "    .dataframe tbody tr th {\n",
       "        vertical-align: top;\n",
       "    }\n",
       "\n",
       "    .dataframe thead th {\n",
       "        text-align: right;\n",
       "    }\n",
       "</style>\n",
       "<table border=\"1\" class=\"dataframe\">\n",
       "  <thead>\n",
       "    <tr style=\"text-align: right;\">\n",
       "      <th></th>\n",
       "      <th>id</th>\n",
       "      <th>formation</th>\n",
       "      <th>geometry</th>\n",
       "    </tr>\n",
       "  </thead>\n",
       "  <tbody>\n",
       "    <tr>\n",
       "      <th>0</th>\n",
       "      <td>None</td>\n",
       "      <td>Sand1</td>\n",
       "      <td>LINESTRING (0.256 264.862, 10.593 276.734, 17....</td>\n",
       "    </tr>\n",
       "    <tr>\n",
       "      <th>1</th>\n",
       "      <td>None</td>\n",
       "      <td>Ton</td>\n",
       "      <td>LINESTRING (0.188 495.787, 8.841 504.142, 41.0...</td>\n",
       "    </tr>\n",
       "    <tr>\n",
       "      <th>2</th>\n",
       "      <td>None</td>\n",
       "      <td>Ton</td>\n",
       "      <td>LINESTRING (970.677 833.053, 959.372 800.023, ...</td>\n",
       "    </tr>\n",
       "  </tbody>\n",
       "</table>\n",
       "</div>"
      ],
      "text/plain": [
       "     id formation                                           geometry\n",
       "0  None     Sand1  LINESTRING (0.256 264.862, 10.593 276.734, 17....\n",
       "1  None       Ton  LINESTRING (0.188 495.787, 8.841 504.142, 41.0...\n",
       "2  None       Ton  LINESTRING (970.677 833.053, 959.372 800.023, ..."
      ]
     },
     "execution_count": 5,
     "metadata": {},
     "output_type": "execute_result"
    }
   ],
   "source": [
    "import geopandas as gpd\n",
    "import gemgis as gg\n",
    "\n",
    "gdf = gpd.read_file(file_path + 'interfaces_lines.shp')\n",
    "\n",
    "gdf.head()"
   ]
  },
  {
   "cell_type": "markdown",
   "metadata": {},
   "source": [
    "The resulting GeoDataFrame has now an additional ``X`` and ``Y`` column. These values represent the single vertices of each LineString. The geometry types of the shapely objects in the GeoDataFrame were converted from LineStrings to Points to match the X and Y column data. The ``id`` column was dropped by default. The index of the new GeoDataFrame was reset.\n"
   ]
  },
  {
   "cell_type": "code",
   "execution_count": 6,
   "metadata": {
    "ExecuteTime": {
     "end_time": "2020-11-28T09:25:46.405296Z",
     "start_time": "2020-11-28T09:25:46.266418Z"
    }
   },
   "outputs": [
    {
     "data": {
      "text/html": [
       "<div>\n",
       "<style scoped>\n",
       "    .dataframe tbody tr th:only-of-type {\n",
       "        vertical-align: middle;\n",
       "    }\n",
       "\n",
       "    .dataframe tbody tr th {\n",
       "        vertical-align: top;\n",
       "    }\n",
       "\n",
       "    .dataframe thead th {\n",
       "        text-align: right;\n",
       "    }\n",
       "</style>\n",
       "<table border=\"1\" class=\"dataframe\">\n",
       "  <thead>\n",
       "    <tr style=\"text-align: right;\">\n",
       "      <th></th>\n",
       "      <th>formation</th>\n",
       "      <th>geometry</th>\n",
       "      <th>X</th>\n",
       "      <th>Y</th>\n",
       "    </tr>\n",
       "  </thead>\n",
       "  <tbody>\n",
       "    <tr>\n",
       "      <th>0</th>\n",
       "      <td>Sand1</td>\n",
       "      <td>POINT (0.256 264.862)</td>\n",
       "      <td>0.26</td>\n",
       "      <td>264.86</td>\n",
       "    </tr>\n",
       "    <tr>\n",
       "      <th>1</th>\n",
       "      <td>Sand1</td>\n",
       "      <td>POINT (10.593 276.734)</td>\n",
       "      <td>10.59</td>\n",
       "      <td>276.73</td>\n",
       "    </tr>\n",
       "    <tr>\n",
       "      <th>2</th>\n",
       "      <td>Sand1</td>\n",
       "      <td>POINT (17.135 289.090)</td>\n",
       "      <td>17.13</td>\n",
       "      <td>289.09</td>\n",
       "    </tr>\n",
       "    <tr>\n",
       "      <th>3</th>\n",
       "      <td>Sand1</td>\n",
       "      <td>POINT (19.150 293.313)</td>\n",
       "      <td>19.15</td>\n",
       "      <td>293.31</td>\n",
       "    </tr>\n",
       "    <tr>\n",
       "      <th>4</th>\n",
       "      <td>Sand1</td>\n",
       "      <td>POINT (27.795 310.572)</td>\n",
       "      <td>27.80</td>\n",
       "      <td>310.57</td>\n",
       "    </tr>\n",
       "  </tbody>\n",
       "</table>\n",
       "</div>"
      ],
      "text/plain": [
       "  formation                geometry     X      Y\n",
       "0     Sand1   POINT (0.256 264.862)  0.26 264.86\n",
       "1     Sand1  POINT (10.593 276.734) 10.59 276.73\n",
       "2     Sand1  POINT (17.135 289.090) 17.13 289.09\n",
       "3     Sand1  POINT (19.150 293.313) 19.15 293.31\n",
       "4     Sand1  POINT (27.795 310.572) 27.80 310.57"
      ]
     },
     "execution_count": 6,
     "metadata": {},
     "output_type": "execute_result"
    }
   ],
   "source": [
    "gdf_xy = gg.vector.extract_xy(gdf=gdf)\n",
    "\n",
    "gdf_xy.head()"
   ]
  },
  {
   "cell_type": "markdown",
   "metadata": {},
   "source": [
    "The figures below show the original line data and the extracted point data with the respective X and Y data.\n"
   ]
  },
  {
   "cell_type": "code",
   "execution_count": 7,
   "metadata": {
    "ExecuteTime": {
     "end_time": "2020-11-28T09:25:47.024968Z",
     "start_time": "2020-11-28T09:25:46.582250Z"
    }
   },
   "outputs": [
    {
     "data": {
      "image/png": "[encoded data removed]",
      "text/plain": [
       "<Figure size 748.8x514.8 with 2 Axes>"
      ]
     },
     "metadata": {},
     "output_type": "display_data"
    }
   ],
   "source": [
    "import matplotlib.pyplot as plt\n",
    "\n",
    "fig, (ax1,ax2) = plt.subplots(1,2)\n",
    "\n",
    "gdf.plot(ax=ax1, aspect='equal')\n",
    "ax1.grid()\n",
    "\n",
    "gdf_xy.plot(ax=ax2, aspect='equal')\n",
    "ax2.grid()"
   ]
  },
  {
   "cell_type": "markdown",
   "metadata": {},
   "source": [
    "## Polygon Data\n",
    "\n",
    "The polygon data stored as shape file will be loaded as GeoDataFrame. "
   ]
  },
  {
   "cell_type": "code",
   "execution_count": 8,
   "metadata": {
    "ExecuteTime": {
     "end_time": "2020-11-28T09:25:47.325313Z",
     "start_time": "2020-11-28T09:25:47.187103Z"
    }
   },
   "outputs": [
    {
     "data": {
      "text/html": [
       "<div>\n",
       "<style scoped>\n",
       "    .dataframe tbody tr th:only-of-type {\n",
       "        vertical-align: middle;\n",
       "    }\n",
       "\n",
       "    .dataframe tbody tr th {\n",
       "        vertical-align: top;\n",
       "    }\n",
       "\n",
       "    .dataframe thead th {\n",
       "        text-align: right;\n",
       "    }\n",
       "</style>\n",
       "<table border=\"1\" class=\"dataframe\">\n",
       "  <thead>\n",
       "    <tr style=\"text-align: right;\">\n",
       "      <th></th>\n",
       "      <th>id</th>\n",
       "      <th>formation</th>\n",
       "      <th>geometry</th>\n",
       "    </tr>\n",
       "  </thead>\n",
       "  <tbody>\n",
       "    <tr>\n",
       "      <th>0</th>\n",
       "      <td>None</td>\n",
       "      <td>Sand1</td>\n",
       "      <td>POLYGON ((0.256 264.862, 10.593 276.734, 17.13...</td>\n",
       "    </tr>\n",
       "    <tr>\n",
       "      <th>1</th>\n",
       "      <td>None</td>\n",
       "      <td>Ton</td>\n",
       "      <td>POLYGON ((0.256 264.862, 0.188 495.787, 8.841 ...</td>\n",
       "    </tr>\n",
       "    <tr>\n",
       "      <th>2</th>\n",
       "      <td>None</td>\n",
       "      <td>Sand2</td>\n",
       "      <td>POLYGON ((0.188 495.787, 0.249 1068.760, 278.5...</td>\n",
       "    </tr>\n",
       "    <tr>\n",
       "      <th>3</th>\n",
       "      <td>None</td>\n",
       "      <td>Sand2</td>\n",
       "      <td>POLYGON ((511.675 1068.852, 971.698 1068.800, ...</td>\n",
       "    </tr>\n",
       "  </tbody>\n",
       "</table>\n",
       "</div>"
      ],
      "text/plain": [
       "     id formation                                           geometry\n",
       "0  None     Sand1  POLYGON ((0.256 264.862, 10.593 276.734, 17.13...\n",
       "1  None       Ton  POLYGON ((0.256 264.862, 0.188 495.787, 8.841 ...\n",
       "2  None     Sand2  POLYGON ((0.188 495.787, 0.249 1068.760, 278.5...\n",
       "3  None     Sand2  POLYGON ((511.675 1068.852, 971.698 1068.800, ..."
      ]
     },
     "execution_count": 8,
     "metadata": {},
     "output_type": "execute_result"
    }
   ],
   "source": [
    "import geopandas as gpd\n",
    "import gemgis as gg\n",
    "\n",
    "gdf = gpd.read_file(file_path + 'interfaces_polygons.shp')\n",
    "\n",
    "gdf.head()"
   ]
  },
  {
   "cell_type": "markdown",
   "metadata": {},
   "source": [
    "The resulting GeoDataFrame has now an additional ``X`` and ``Y`` column. These values represent the single vertices of each Polygon. The geometry types of the shapely objects in the GeoDataFrame were converted from Polygons to Points to match the X and Y column data. The ``id`` column was dropped by default. The index of the new GeoDataFrame was reset.\n"
   ]
  },
  {
   "cell_type": "code",
   "execution_count": 9,
   "metadata": {
    "ExecuteTime": {
     "end_time": "2020-11-28T09:25:47.623836Z",
     "start_time": "2020-11-28T09:25:47.501329Z"
    }
   },
   "outputs": [
    {
     "data": {
      "text/html": [
       "<div>\n",
       "<style scoped>\n",
       "    .dataframe tbody tr th:only-of-type {\n",
       "        vertical-align: middle;\n",
       "    }\n",
       "\n",
       "    .dataframe tbody tr th {\n",
       "        vertical-align: top;\n",
       "    }\n",
       "\n",
       "    .dataframe thead th {\n",
       "        text-align: right;\n",
       "    }\n",
       "</style>\n",
       "<table border=\"1\" class=\"dataframe\">\n",
       "  <thead>\n",
       "    <tr style=\"text-align: right;\">\n",
       "      <th></th>\n",
       "      <th>formation</th>\n",
       "      <th>geometry</th>\n",
       "      <th>X</th>\n",
       "      <th>Y</th>\n",
       "    </tr>\n",
       "  </thead>\n",
       "  <tbody>\n",
       "    <tr>\n",
       "      <th>0</th>\n",
       "      <td>Sand1</td>\n",
       "      <td>POINT (0.256 264.862)</td>\n",
       "      <td>0.26</td>\n",
       "      <td>264.86</td>\n",
       "    </tr>\n",
       "    <tr>\n",
       "      <th>1</th>\n",
       "      <td>Sand1</td>\n",
       "      <td>POINT (10.593 276.734)</td>\n",
       "      <td>10.59</td>\n",
       "      <td>276.73</td>\n",
       "    </tr>\n",
       "    <tr>\n",
       "      <th>2</th>\n",
       "      <td>Sand1</td>\n",
       "      <td>POINT (17.135 289.090)</td>\n",
       "      <td>17.13</td>\n",
       "      <td>289.09</td>\n",
       "    </tr>\n",
       "    <tr>\n",
       "      <th>3</th>\n",
       "      <td>Sand1</td>\n",
       "      <td>POINT (19.150 293.313)</td>\n",
       "      <td>19.15</td>\n",
       "      <td>293.31</td>\n",
       "    </tr>\n",
       "    <tr>\n",
       "      <th>4</th>\n",
       "      <td>Sand1</td>\n",
       "      <td>POINT (27.795 310.572)</td>\n",
       "      <td>27.80</td>\n",
       "      <td>310.57</td>\n",
       "    </tr>\n",
       "  </tbody>\n",
       "</table>\n",
       "</div>"
      ],
      "text/plain": [
       "  formation                geometry     X      Y\n",
       "0     Sand1   POINT (0.256 264.862)  0.26 264.86\n",
       "1     Sand1  POINT (10.593 276.734) 10.59 276.73\n",
       "2     Sand1  POINT (17.135 289.090) 17.13 289.09\n",
       "3     Sand1  POINT (19.150 293.313) 19.15 293.31\n",
       "4     Sand1  POINT (27.795 310.572) 27.80 310.57"
      ]
     },
     "execution_count": 9,
     "metadata": {},
     "output_type": "execute_result"
    }
   ],
   "source": [
    "gdf_xy = gg.vector.extract_xy(gdf=gdf)\n",
    "\n",
    "gdf_xy.head()"
   ]
  },
  {
   "cell_type": "markdown",
   "metadata": {},
   "source": [
    "The figures below show the original polygon data and the extracted point data with the respective X and Y data.\n"
   ]
  },
  {
   "cell_type": "code",
   "execution_count": 10,
   "metadata": {
    "ExecuteTime": {
     "end_time": "2020-11-28T09:25:48.291135Z",
     "start_time": "2020-11-28T09:25:47.832247Z"
    }
   },
   "outputs": [
    {
     "data": {
      "image/png": "[encoded data removed]",
      "text/plain": [
       "<Figure size 748.8x514.8 with 2 Axes>"
      ]
     },
     "metadata": {},
     "output_type": "display_data"
    }
   ],
   "source": [
    "import matplotlib.pyplot as plt\n",
    "\n",
    "fig, (ax1,ax2) = plt.subplots(1,2)\n",
    "\n",
    "gdf.plot(ax=ax1, column='formation', aspect='equal')\n",
    "ax1.grid()\n",
    "\n",
    "gdf_xy.plot(ax=ax2, aspect='equal')\n",
    "ax2.grid()"
   ]
  },
  {
   "cell_type": "markdown",
   "metadata": {},
   "source": [
    "## Additional Arguments\n",
    "\n",
    "Several additional arguments can be passed to adapt the functionality of the function. For further reference, see the [API Reference for extract_xy](https://gemgis.readthedocs.io/en/latest/api_reference/vector_data.html).\n",
    "\n",
    "* reset_index (bool)\n",
    "* drop_id (bool)\n",
    "* drop_level0 (bool)\n",
    "* drop_level1 (bool)\n",
    "* drop_index (bool)\n",
    "* drop_points (bool)\n",
    "* overwrite_xy (bool)\n",
    "* target_crs(str, pyproj.crs.crs.CRS)\n",
    "* bbox (list)\n",
    "\n",
    "Original function with default values of arguments."
   ]
  },
  {
   "cell_type": "code",
   "execution_count": 11,
   "metadata": {
    "ExecuteTime": {
     "end_time": "2020-11-28T09:25:48.543067Z",
     "start_time": "2020-11-28T09:25:48.452582Z"
    }
   },
   "outputs": [
    {
     "data": {
      "text/html": [
       "<div>\n",
       "<style scoped>\n",
       "    .dataframe tbody tr th:only-of-type {\n",
       "        vertical-align: middle;\n",
       "    }\n",
       "\n",
       "    .dataframe tbody tr th {\n",
       "        vertical-align: top;\n",
       "    }\n",
       "\n",
       "    .dataframe thead th {\n",
       "        text-align: right;\n",
       "    }\n",
       "</style>\n",
       "<table border=\"1\" class=\"dataframe\">\n",
       "  <thead>\n",
       "    <tr style=\"text-align: right;\">\n",
       "      <th></th>\n",
       "      <th>formation</th>\n",
       "      <th>geometry</th>\n",
       "      <th>X</th>\n",
       "      <th>Y</th>\n",
       "    </tr>\n",
       "  </thead>\n",
       "  <tbody>\n",
       "    <tr>\n",
       "      <th>0</th>\n",
       "      <td>Sand1</td>\n",
       "      <td>POINT (0.256 264.862)</td>\n",
       "      <td>0.26</td>\n",
       "      <td>264.86</td>\n",
       "    </tr>\n",
       "    <tr>\n",
       "      <th>1</th>\n",
       "      <td>Sand1</td>\n",
       "      <td>POINT (10.593 276.734)</td>\n",
       "      <td>10.59</td>\n",
       "      <td>276.73</td>\n",
       "    </tr>\n",
       "    <tr>\n",
       "      <th>2</th>\n",
       "      <td>Sand1</td>\n",
       "      <td>POINT (17.135 289.090)</td>\n",
       "      <td>17.13</td>\n",
       "      <td>289.09</td>\n",
       "    </tr>\n",
       "    <tr>\n",
       "      <th>3</th>\n",
       "      <td>Sand1</td>\n",
       "      <td>POINT (19.150 293.313)</td>\n",
       "      <td>19.15</td>\n",
       "      <td>293.31</td>\n",
       "    </tr>\n",
       "    <tr>\n",
       "      <th>4</th>\n",
       "      <td>Sand1</td>\n",
       "      <td>POINT (27.795 310.572)</td>\n",
       "      <td>27.80</td>\n",
       "      <td>310.57</td>\n",
       "    </tr>\n",
       "  </tbody>\n",
       "</table>\n",
       "</div>"
      ],
      "text/plain": [
       "  formation                geometry     X      Y\n",
       "0     Sand1   POINT (0.256 264.862)  0.26 264.86\n",
       "1     Sand1  POINT (10.593 276.734) 10.59 276.73\n",
       "2     Sand1  POINT (17.135 289.090) 17.13 289.09\n",
       "3     Sand1  POINT (19.150 293.313) 19.15 293.31\n",
       "4     Sand1  POINT (27.795 310.572) 27.80 310.57"
      ]
     },
     "execution_count": 11,
     "metadata": {},
     "output_type": "execute_result"
    }
   ],
   "source": [
    "gdf_xy = gg.vector.extract_xy(gdf=gdf,\n",
    "                              reset_index=True,\n",
    "                              drop_id=True,\n",
    "                              drop_level0=True,\n",
    "                              drop_level1=True, \n",
    "                              drop_index=True, \n",
    "                              drop_points=True,\n",
    "                              overwrite_xy=True, \n",
    "                              target_crs=gdf.crs,\n",
    "                              bbox = None)\n",
    "\n",
    "gdf_xy.head()"
   ]
  },
  {
   "cell_type": "markdown",
   "metadata": {},
   "source": [
    "This time, the index is not reset and the id column is not dropped. "
   ]
  },
  {
   "cell_type": "code",
   "execution_count": 12,
   "metadata": {
    "ExecuteTime": {
     "end_time": "2020-11-28T09:25:48.855711Z",
     "start_time": "2020-11-28T09:25:48.797359Z"
    }
   },
   "outputs": [
    {
     "data": {
      "text/html": [
       "<div>\n",
       "<style scoped>\n",
       "    .dataframe tbody tr th:only-of-type {\n",
       "        vertical-align: middle;\n",
       "    }\n",
       "\n",
       "    .dataframe tbody tr th {\n",
       "        vertical-align: top;\n",
       "    }\n",
       "\n",
       "    .dataframe thead th {\n",
       "        text-align: right;\n",
       "    }\n",
       "</style>\n",
       "<table border=\"1\" class=\"dataframe\">\n",
       "  <thead>\n",
       "    <tr style=\"text-align: right;\">\n",
       "      <th></th>\n",
       "      <th></th>\n",
       "      <th>id</th>\n",
       "      <th>formation</th>\n",
       "      <th>geometry</th>\n",
       "      <th>points</th>\n",
       "      <th>X</th>\n",
       "      <th>Y</th>\n",
       "    </tr>\n",
       "  </thead>\n",
       "  <tbody>\n",
       "    <tr>\n",
       "      <th rowspan=\"5\" valign=\"top\">0</th>\n",
       "      <th>0</th>\n",
       "      <td>None</td>\n",
       "      <td>Sand1</td>\n",
       "      <td>POINT (0.256 264.862)</td>\n",
       "      <td>(0.256327195431048, 264.86214748436396)</td>\n",
       "      <td>0.26</td>\n",
       "      <td>264.86</td>\n",
       "    </tr>\n",
       "    <tr>\n",
       "      <th>0</th>\n",
       "      <td>None</td>\n",
       "      <td>Sand1</td>\n",
       "      <td>POINT (10.593 276.734)</td>\n",
       "      <td>(10.59346813871597, 276.73370778641777)</td>\n",
       "      <td>10.59</td>\n",
       "      <td>276.73</td>\n",
       "    </tr>\n",
       "    <tr>\n",
       "      <th>0</th>\n",
       "      <td>None</td>\n",
       "      <td>Sand1</td>\n",
       "      <td>POINT (17.135 289.090)</td>\n",
       "      <td>(17.134940141888464, 289.089821570188)</td>\n",
       "      <td>17.13</td>\n",
       "      <td>289.09</td>\n",
       "    </tr>\n",
       "    <tr>\n",
       "      <th>0</th>\n",
       "      <td>None</td>\n",
       "      <td>Sand1</td>\n",
       "      <td>POINT (19.150 293.313)</td>\n",
       "      <td>(19.150128045807676, 293.313485355882)</td>\n",
       "      <td>19.15</td>\n",
       "      <td>293.31</td>\n",
       "    </tr>\n",
       "    <tr>\n",
       "      <th>0</th>\n",
       "      <td>None</td>\n",
       "      <td>Sand1</td>\n",
       "      <td>POINT (27.795 310.572)</td>\n",
       "      <td>(27.79511673965105, 310.571692592952)</td>\n",
       "      <td>27.80</td>\n",
       "      <td>310.57</td>\n",
       "    </tr>\n",
       "  </tbody>\n",
       "</table>\n",
       "</div>"
      ],
      "text/plain": [
       "       id formation                geometry  \\\n",
       "0 0  None     Sand1   POINT (0.256 264.862)   \n",
       "  0  None     Sand1  POINT (10.593 276.734)   \n",
       "  0  None     Sand1  POINT (17.135 289.090)   \n",
       "  0  None     Sand1  POINT (19.150 293.313)   \n",
       "  0  None     Sand1  POINT (27.795 310.572)   \n",
       "\n",
       "                                      points     X      Y  \n",
       "0 0  (0.256327195431048, 264.86214748436396)  0.26 264.86  \n",
       "  0  (10.59346813871597, 276.73370778641777) 10.59 276.73  \n",
       "  0   (17.134940141888464, 289.089821570188) 17.13 289.09  \n",
       "  0   (19.150128045807676, 293.313485355882) 19.15 293.31  \n",
       "  0    (27.79511673965105, 310.571692592952) 27.80 310.57  "
      ]
     },
     "execution_count": 12,
     "metadata": {},
     "output_type": "execute_result"
    }
   ],
   "source": [
    "gdf_xy = gg.vector.extract_xy(gdf=gdf,\n",
    "                              reset_index=False,\n",
    "                              drop_id=False,\n",
    "                              drop_level0=True,\n",
    "                              drop_level1=True, \n",
    "                              drop_index=False, \n",
    "                              drop_points=False,\n",
    "                              overwrite_xy=True, \n",
    "                              target_crs=gdf.crs,\n",
    "                              bbox = None)\n",
    "\n",
    "gdf_xy.head()"
   ]
  },
  {
   "cell_type": "markdown",
   "metadata": {},
   "source": [
    "The index is reset but the previous index columns ``level_0`` and ``level_1`` are kept."
   ]
  },
  {
   "cell_type": "code",
   "execution_count": 13,
   "metadata": {
    "ExecuteTime": {
     "end_time": "2020-11-28T09:25:49.202432Z",
     "start_time": "2020-11-28T09:25:49.112429Z"
    }
   },
   "outputs": [
    {
     "data": {
      "text/html": [
       "<div>\n",
       "<style scoped>\n",
       "    .dataframe tbody tr th:only-of-type {\n",
       "        vertical-align: middle;\n",
       "    }\n",
       "\n",
       "    .dataframe tbody tr th {\n",
       "        vertical-align: top;\n",
       "    }\n",
       "\n",
       "    .dataframe thead th {\n",
       "        text-align: right;\n",
       "    }\n",
       "</style>\n",
       "<table border=\"1\" class=\"dataframe\">\n",
       "  <thead>\n",
       "    <tr style=\"text-align: right;\">\n",
       "      <th></th>\n",
       "      <th>level_0</th>\n",
       "      <th>level_1</th>\n",
       "      <th>id</th>\n",
       "      <th>formation</th>\n",
       "      <th>geometry</th>\n",
       "      <th>points</th>\n",
       "      <th>X</th>\n",
       "      <th>Y</th>\n",
       "    </tr>\n",
       "  </thead>\n",
       "  <tbody>\n",
       "    <tr>\n",
       "      <th>0</th>\n",
       "      <td>0</td>\n",
       "      <td>0</td>\n",
       "      <td>None</td>\n",
       "      <td>Sand1</td>\n",
       "      <td>POINT (0.256 264.862)</td>\n",
       "      <td>(0.256327195431048, 264.86214748436396)</td>\n",
       "      <td>0.26</td>\n",
       "      <td>264.86</td>\n",
       "    </tr>\n",
       "    <tr>\n",
       "      <th>1</th>\n",
       "      <td>0</td>\n",
       "      <td>0</td>\n",
       "      <td>None</td>\n",
       "      <td>Sand1</td>\n",
       "      <td>POINT (10.593 276.734)</td>\n",
       "      <td>(10.59346813871597, 276.73370778641777)</td>\n",
       "      <td>10.59</td>\n",
       "      <td>276.73</td>\n",
       "    </tr>\n",
       "    <tr>\n",
       "      <th>2</th>\n",
       "      <td>0</td>\n",
       "      <td>0</td>\n",
       "      <td>None</td>\n",
       "      <td>Sand1</td>\n",
       "      <td>POINT (17.135 289.090)</td>\n",
       "      <td>(17.134940141888464, 289.089821570188)</td>\n",
       "      <td>17.13</td>\n",
       "      <td>289.09</td>\n",
       "    </tr>\n",
       "    <tr>\n",
       "      <th>3</th>\n",
       "      <td>0</td>\n",
       "      <td>0</td>\n",
       "      <td>None</td>\n",
       "      <td>Sand1</td>\n",
       "      <td>POINT (19.150 293.313)</td>\n",
       "      <td>(19.150128045807676, 293.313485355882)</td>\n",
       "      <td>19.15</td>\n",
       "      <td>293.31</td>\n",
       "    </tr>\n",
       "    <tr>\n",
       "      <th>4</th>\n",
       "      <td>0</td>\n",
       "      <td>0</td>\n",
       "      <td>None</td>\n",
       "      <td>Sand1</td>\n",
       "      <td>POINT (27.795 310.572)</td>\n",
       "      <td>(27.79511673965105, 310.571692592952)</td>\n",
       "      <td>27.80</td>\n",
       "      <td>310.57</td>\n",
       "    </tr>\n",
       "  </tbody>\n",
       "</table>\n",
       "</div>"
      ],
      "text/plain": [
       "   level_0  level_1    id formation                geometry  \\\n",
       "0        0        0  None     Sand1   POINT (0.256 264.862)   \n",
       "1        0        0  None     Sand1  POINT (10.593 276.734)   \n",
       "2        0        0  None     Sand1  POINT (17.135 289.090)   \n",
       "3        0        0  None     Sand1  POINT (19.150 293.313)   \n",
       "4        0        0  None     Sand1  POINT (27.795 310.572)   \n",
       "\n",
       "                                    points     X      Y  \n",
       "0  (0.256327195431048, 264.86214748436396)  0.26 264.86  \n",
       "1  (10.59346813871597, 276.73370778641777) 10.59 276.73  \n",
       "2   (17.134940141888464, 289.089821570188) 17.13 289.09  \n",
       "3   (19.150128045807676, 293.313485355882) 19.15 293.31  \n",
       "4    (27.79511673965105, 310.571692592952) 27.80 310.57  "
      ]
     },
     "execution_count": 13,
     "metadata": {},
     "output_type": "execute_result"
    }
   ],
   "source": [
    "gdf_xy = gg.vector.extract_xy(gdf=gdf,\n",
    "                              reset_index=True,\n",
    "                              drop_id=False,\n",
    "                              drop_level0=False,\n",
    "                              drop_level1=False, \n",
    "                              drop_index=False, \n",
    "                              drop_points=False,\n",
    "                              overwrite_xy=True, \n",
    "                              target_crs=gdf.crs,\n",
    "                              bbox = None)\n",
    "\n",
    "gdf_xy.head()"
   ]
  },
  {
   "cell_type": "markdown",
   "metadata": {},
   "source": [
    "## Background Functions\n",
    "\n",
    "The function `extract_xy` is a combination of the following functions:\n",
    "\n",
    "- `extract_xy_points`\n",
    "- `extract_xy_linestrings`\n",
    "- `explode_multilinestrings`\n",
    "- `explode_polygons`\n",
    "- `set_dtype`\n",
    "\n",
    "For more information of these functions see the [API Reference](https://gemgis.readthedocs.io/en/latest/api_reference/vector_data.html)."
   ]
  }
 ],
 "metadata": {
  "hide_input": false,
  "kernelspec": {
   "display_name": "Python 3",
   "language": "python",
   "name": "python3"
  },
  "language_info": {
   "codemirror_mode": {
    "name": "ipython",
    "version": 3
   },
   "file_extension": ".py",
   "mimetype": "text/x-python",
   "name": "python",
   "nbconvert_exporter": "python",
   "pygments_lexer": "ipython3",
   "version": "3.8.5"
  },
  "varInspector": {
   "cols": {
    "lenName": 16,
    "lenType": 16,
    "lenVar": 40
   },
   "kernels_config": {
    "python": {
     "delete_cmd_postfix": "",
     "delete_cmd_prefix": "del ",
     "library": "var_list.py",
     "varRefreshCmd": "print(var_dic_list())"
    },
    "r": {
     "delete_cmd_postfix": ") ",
     "delete_cmd_prefix": "rm(",
     "library": "var_list.r",
     "varRefreshCmd": "cat(var_dic_list()) "
    }
   },
   "types_to_exclude": [
    "module",
    "function",
    "builtin_function_or_method",
    "instance",
    "_Feature"
   ],
   "window_display": false
  }
 },
 "nbformat": 4,
 "nbformat_minor": 4
}
