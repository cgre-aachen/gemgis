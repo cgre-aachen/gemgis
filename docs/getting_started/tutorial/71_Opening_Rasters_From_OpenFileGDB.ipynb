{
 "cells": [
  {
   "cell_type": "markdown",
   "id": "86f44ca3",
   "metadata": {},
   "source": [
    "# 71 Opening Rasters from OpenFileGDB\n",
    "\n",
    "This notebook illustrates how to open rasters that are stored in OpenFileGDBs. Currently, QGIS can open rasters from OpenFileGDBs since version 3.32. GeoPandas and the underlying fiona package are capable of opening vector files from OpenFileGDBs. It is not planned to support raster files (https://github.com/geopandas/geopandas/issues/2793). It is not planned to implement that feature into rasterio either (https://github.com/rasterio/rasterio/discussions/2914). Therefore, the decision was made to implement the functionality to open rasters from OpenFileGDBs directly using the `gdal` package. "
   ]
  },
  {
   "cell_type": "markdown",
   "id": "e7147456",
   "metadata": {},
   "source": [
    "## Set File Paths and download Tutorial Data\n",
    "\n",
    "If you downloaded the latest `GemGIS` version from the Github repository, append the path so that the package can be imported successfully. Otherwise, it is recommended to install `GemGIS` via `pip install gemgis` and import `GemGIS` using `import gemgis as gg`. In addition, the file path to the folder where the data is being stored is set. The tutorial data is downloaded using Pooch (https://www.fatiando.org/pooch/latest/index.html) and stored in the specified folder. Use `pip install pooch` if Pooch is not installed on your system yet."
   ]
  },
  {
   "cell_type": "code",
   "execution_count": 1,
   "id": "eb8af06a",
   "metadata": {},
   "outputs": [],
   "source": [
    "import warnings\n",
    "warnings.filterwarnings(\"ignore\")\n",
    "\n",
    "import gemgis as gg"
   ]
  },
  {
   "cell_type": "code",
   "execution_count": 4,
   "id": "a4128de8",
   "metadata": {},
   "outputs": [],
   "source": [
    "file_path ='data/71_Opening_Rasters_From_OpenFileGDB/'"
   ]
  },
  {
   "cell_type": "markdown",
   "id": "fb73e2b2-98ab-472d-bb33-e12d82240790",
   "metadata": {},
   "source": [
    "## Opening OpenFileGDB\n",
    "\n",
    "The OpenFileGDB can be opened using the GemGIS function `gg.raster.read_raster_gdb(...)`. It will automatically save all included rasters to file. If there is no projection included in the OpenFileGDB, a `crs` must be provided manually."
   ]
  },
  {
   "cell_type": "code",
   "execution_count": 5,
   "id": "fdbd8040-ba16-4047-881d-59358d2289c8",
   "metadata": {},
   "outputs": [
    {
     "name": "stdout",
     "output_type": "stream",
     "text": [
      "RasterCenoman_Turon_top.tif successfully saved to file\n",
      "RasterCenoman_Turon_m.tif successfully saved to file\n",
      "RasterDevon_MK_m.tif successfully saved to file\n",
      "RasterDevon_MK_top.tif successfully saved to file\n",
      "RasterUKarb_m.tif successfully saved to file\n",
      "RasterUKarb_top.tif successfully saved to file\n",
      "RasterDGM.tif successfully saved to file\n"
     ]
    }
   ],
   "source": [
    "gg.raster.read_raster_gdb(file_path + 'OpenFileGDB.gdb', \n",
    "                          crs='EPSG:25832')"
   ]
  },
  {
   "cell_type": "markdown",
   "id": "1d9f4836-6af6-40e6-a882-c6f63d0321e0",
   "metadata": {},
   "source": [
    "## Opening Rasters using Rasterio\n",
    "\n",
    "The downloaded rasters can be opened using the rasterio package as any other raster. "
   ]
  }
 ],
 "metadata": {
  "kernelspec": {
   "display_name": "Python 3 (ipykernel)",
   "language": "python",
   "name": "python3"
  },
  "language_info": {
   "codemirror_mode": {
    "name": "ipython",
    "version": 3
   },
   "file_extension": ".py",
   "mimetype": "text/x-python",
   "name": "python",
   "nbconvert_exporter": "python",
   "pygments_lexer": "ipython3",
   "version": "3.10.12"
  }
 },
 "nbformat": 4,
 "nbformat_minor": 5
}
