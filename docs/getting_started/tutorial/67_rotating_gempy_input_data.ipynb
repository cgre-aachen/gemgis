{
 "cells": [
  {
   "cell_type": "markdown",
   "id": "86f44ca3",
   "metadata": {},
   "source": [
    "# 67 Rotating GemPy Input Data\n",
    "\n",
    "This notebook illustrates how to rotate GemPy Input data. Input data may be rotated because subsurface structures do not trend West-East or North-South but rather oblique. As GemPy only takes extents that are oriented N-S and W-E, there would be a large area that would be discarded after the modeling process and does not need to be modeled in the first place. Rotating the data will therefore reduce the area that needs to be calculated and therefore computing times which may allow for a higher resolution or the integration of more input data. The rotation implemented in GemGIS is performed around the center point of the extent of the model. This does not only allow for rotating the data at its place (instead of rotating it around (0,0) which may cause a translation of the model to extreme coordinates, but also for rotating the resulting meshes back to their original orientation. \n",
    "\n",
    "<img src=\"../images/tutorial67_cover.png\">"
   ]
  },
  {
   "cell_type": "markdown",
   "id": "e7147456",
   "metadata": {},
   "source": [
    "## Set File Paths and download Tutorial Data\n",
    "\n",
    "If you downloaded the latest `GemGIS` version from the Github repository, append the path so that the package can be imported successfully. Otherwise, it is recommended to install `GemGIS` via `pip install gemgis` and import `GemGIS` using `import gemgis as gg`. In addition, the file path to the folder where the data is being stored is set. The tutorial data is downloaded using Pooch (https://www.fatiando.org/pooch/latest/index.html) and stored in the specified folder. Use `pip install pooch` if Pooch is not installed on your system yet."
   ]
  },
  {
   "cell_type": "code",
   "execution_count": 1,
   "id": "eb8af06a",
   "metadata": {},
   "outputs": [
    {
     "name": "stdout",
     "output_type": "stream",
     "text": [
      "No module named 'osgeo'\n"
     ]
    },
    {
     "name": "stderr",
     "output_type": "stream",
     "text": [
      "WARNING (aesara.configdefaults): g++ not available, if using conda: `conda install m2w64-toolchain`\n",
      "WARNING (aesara.configdefaults): g++ not detected!  Aesara will be unable to compile C-implementations and will default to Python. Performance may be severely degraded. To remove this warning, set Aesara flags cxx to an empty string.\n",
      "WARNING (aesara.tensor.blas): Using NumPy C-API based implementation for BLAS functions.\n"
     ]
    }
   ],
   "source": [
    "import warnings\n",
    "warnings.filterwarnings(\"ignore\")\n",
    "\n",
    "import gempy as gp\n",
    "import gemgis as gg\n",
    "import pandas as pd\n",
    "from shapely.geometry import Polygon\n",
    "import matplotlib.pyplot as plt\n",
    "\n",
    "import pyvista as pv\n",
    "pv.set_jupyter_backend('client')"
   ]
  },
  {
   "cell_type": "code",
   "execution_count": 2,
   "id": "a4128de8",
   "metadata": {},
   "outputs": [],
   "source": [
    "file_path ='data/67_rotating_gempy_input_data/'\n",
    "gg.download_gemgis_data.download_tutorial_data(filename=\"67_rotation_gempy_input_data.zip\", dirpath=file_path)"
   ]
  },
  {
   "cell_type": "markdown",
   "id": "0219a63e",
   "metadata": {},
   "source": [
    "## Loading Input Data"
   ]
  },
  {
   "cell_type": "code",
   "execution_count": 3,
   "id": "9c8c178c",
   "metadata": {
    "ExecuteTime": {
     "end_time": "2022-07-07T08:52:05.255549Z",
     "start_time": "2022-07-07T08:52:05.241536Z"
    }
   },
   "outputs": [
    {
     "data": {
      "text/html": [
       "<div>\n",
       "<style scoped>\n",
       "    .dataframe tbody tr th:only-of-type {\n",
       "        vertical-align: middle;\n",
       "    }\n",
       "\n",
       "    .dataframe tbody tr th {\n",
       "        vertical-align: top;\n",
       "    }\n",
       "\n",
       "    .dataframe thead th {\n",
       "        text-align: right;\n",
       "    }\n",
       "</style>\n",
       "<table border=\"1\" class=\"dataframe\">\n",
       "  <thead>\n",
       "    <tr style=\"text-align: right;\">\n",
       "      <th></th>\n",
       "      <th>X</th>\n",
       "      <th>Y</th>\n",
       "      <th>Z</th>\n",
       "      <th>formation</th>\n",
       "    </tr>\n",
       "  </thead>\n",
       "  <tbody>\n",
       "    <tr>\n",
       "      <th>0</th>\n",
       "      <td>200</td>\n",
       "      <td>250</td>\n",
       "      <td>-100</td>\n",
       "      <td>Layer1</td>\n",
       "    </tr>\n",
       "    <tr>\n",
       "      <th>1</th>\n",
       "      <td>200</td>\n",
       "      <td>500</td>\n",
       "      <td>-100</td>\n",
       "      <td>Layer1</td>\n",
       "    </tr>\n",
       "    <tr>\n",
       "      <th>2</th>\n",
       "      <td>200</td>\n",
       "      <td>750</td>\n",
       "      <td>-100</td>\n",
       "      <td>Layer1</td>\n",
       "    </tr>\n",
       "    <tr>\n",
       "      <th>3</th>\n",
       "      <td>200</td>\n",
       "      <td>250</td>\n",
       "      <td>-200</td>\n",
       "      <td>Layer2</td>\n",
       "    </tr>\n",
       "    <tr>\n",
       "      <th>4</th>\n",
       "      <td>200</td>\n",
       "      <td>500</td>\n",
       "      <td>-200</td>\n",
       "      <td>Layer2</td>\n",
       "    </tr>\n",
       "  </tbody>\n",
       "</table>\n",
       "</div>"
      ],
      "text/plain": [
       "     X    Y    Z formation\n",
       "0  200  250 -100    Layer1\n",
       "1  200  500 -100    Layer1\n",
       "2  200  750 -100    Layer1\n",
       "3  200  250 -200    Layer2\n",
       "4  200  500 -200    Layer2"
      ]
     },
     "execution_count": 3,
     "metadata": {},
     "output_type": "execute_result"
    }
   ],
   "source": [
    "interfaces = pd.read_csv(file_path + 'interfaces.csv', delimiter=';')\n",
    "interfaces.head()"
   ]
  },
  {
   "cell_type": "code",
   "execution_count": 4,
   "id": "bd8aa29b",
   "metadata": {
    "ExecuteTime": {
     "end_time": "2022-07-07T08:52:05.302560Z",
     "start_time": "2022-07-07T08:52:05.289548Z"
    }
   },
   "outputs": [
    {
     "data": {
      "text/html": [
       "<div>\n",
       "<style scoped>\n",
       "    .dataframe tbody tr th:only-of-type {\n",
       "        vertical-align: middle;\n",
       "    }\n",
       "\n",
       "    .dataframe tbody tr th {\n",
       "        vertical-align: top;\n",
       "    }\n",
       "\n",
       "    .dataframe thead th {\n",
       "        text-align: right;\n",
       "    }\n",
       "</style>\n",
       "<table border=\"1\" class=\"dataframe\">\n",
       "  <thead>\n",
       "    <tr style=\"text-align: right;\">\n",
       "      <th></th>\n",
       "      <th>X</th>\n",
       "      <th>Y</th>\n",
       "      <th>Z</th>\n",
       "      <th>formation</th>\n",
       "      <th>dip</th>\n",
       "      <th>azimuth</th>\n",
       "      <th>polarity</th>\n",
       "    </tr>\n",
       "  </thead>\n",
       "  <tbody>\n",
       "    <tr>\n",
       "      <th>0</th>\n",
       "      <td>200</td>\n",
       "      <td>500</td>\n",
       "      <td>-100</td>\n",
       "      <td>Layer1</td>\n",
       "      <td>0</td>\n",
       "      <td>0</td>\n",
       "      <td>1</td>\n",
       "    </tr>\n",
       "    <tr>\n",
       "      <th>1</th>\n",
       "      <td>800</td>\n",
       "      <td>500</td>\n",
       "      <td>-100</td>\n",
       "      <td>Layer1</td>\n",
       "      <td>0</td>\n",
       "      <td>0</td>\n",
       "      <td>1</td>\n",
       "    </tr>\n",
       "    <tr>\n",
       "      <th>2</th>\n",
       "      <td>500</td>\n",
       "      <td>500</td>\n",
       "      <td>-300</td>\n",
       "      <td>Layer1</td>\n",
       "      <td>0</td>\n",
       "      <td>0</td>\n",
       "      <td>1</td>\n",
       "    </tr>\n",
       "    <tr>\n",
       "      <th>3</th>\n",
       "      <td>250</td>\n",
       "      <td>500</td>\n",
       "      <td>-100</td>\n",
       "      <td>Fault1</td>\n",
       "      <td>60</td>\n",
       "      <td>90</td>\n",
       "      <td>1</td>\n",
       "    </tr>\n",
       "    <tr>\n",
       "      <th>4</th>\n",
       "      <td>750</td>\n",
       "      <td>500</td>\n",
       "      <td>-100</td>\n",
       "      <td>Fault2</td>\n",
       "      <td>60</td>\n",
       "      <td>270</td>\n",
       "      <td>1</td>\n",
       "    </tr>\n",
       "  </tbody>\n",
       "</table>\n",
       "</div>"
      ],
      "text/plain": [
       "     X    Y    Z formation  dip  azimuth  polarity\n",
       "0  200  500 -100    Layer1    0        0         1\n",
       "1  800  500 -100    Layer1    0        0         1\n",
       "2  500  500 -300    Layer1    0        0         1\n",
       "3  250  500 -100    Fault1   60       90         1\n",
       "4  750  500 -100    Fault2   60      270         1"
      ]
     },
     "execution_count": 4,
     "metadata": {},
     "output_type": "execute_result"
    }
   ],
   "source": [
    "orientations = pd.read_csv(file_path + 'orientations.csv', delimiter=';')\n",
    "orientations.head()"
   ]
  },
  {
   "cell_type": "markdown",
   "id": "e0412059",
   "metadata": {},
   "source": [
    "## Creating Polygon Extent\n",
    "\n",
    "The original extent of the model will be translated into a Shapely Polygon."
   ]
  },
  {
   "cell_type": "code",
   "execution_count": 5,
   "id": "bc6acd98",
   "metadata": {},
   "outputs": [
    {
     "data": {
      "image/svg+xml": [
       "<svg xmlns=\"http://www.w3.org/2000/svg\" xmlns:xlink=\"http://www.w3.org/1999/xlink\" width=\"300\" height=\"300\" viewBox=\"-40.0 -40.0 1080.0 1080.0\" preserveAspectRatio=\"xMinYMin meet\"><g transform=\"matrix(1,0,0,-1,0,1000.0)\"><path fill-rule=\"evenodd\" fill=\"#66cc99\" stroke=\"#555555\" stroke-width=\"7.2\" opacity=\"0.6\" d=\"M 0.0,0.0 L 0.0,1000.0 L 1000.0,1000.0 L 1000.0,0.0 L 0.0,0.0 z\" /></g></svg>"
      ],
      "text/plain": [
       "<POLYGON ((0 0, 0 1000, 1000 1000, 1000 0, 0 0))>"
      ]
     },
     "execution_count": 5,
     "metadata": {},
     "output_type": "execute_result"
    }
   ],
   "source": [
    "extent = Polygon([(0,0), (0,1000), (1000, 1000), (1000,0)])\n",
    "extent"
   ]
  },
  {
   "cell_type": "markdown",
   "id": "8a15f37a",
   "metadata": {},
   "source": [
    "## Performing initial rotation for Tutorial\n",
    "\n",
    "The input data will be rotated a first time to create a non-N-S-W-E oriented dataset. "
   ]
  },
  {
   "cell_type": "code",
   "execution_count": 6,
   "id": "6df1289c",
   "metadata": {},
   "outputs": [
    {
     "data": {
      "text/plain": [
       "([-191.65480148022556,\n",
       "  1191.6548014802256,\n",
       "  -191.65480148022556,\n",
       "  1191.6548014802256,\n",
       "  -600,\n",
       "  0],\n",
       "        X      Y       Z formation                 geometry\n",
       " 0 112.24 453.72 -100.00    Layer1  POINT (112.239 453.724)\n",
       " 1 248.40 663.39 -100.00    Layer1  POINT (248.399 663.392)\n",
       " 2 384.56 873.06 -100.00    Layer1  POINT (384.559 873.059)\n",
       " 3 112.24 453.72 -200.00    Layer2  POINT (112.239 453.724)\n",
       " 4 248.40 663.39 -200.00    Layer2  POINT (248.399 663.392),\n",
       "        X      Y       Z formation   dip  azimuth  polarity   \n",
       " 0 248.40 663.39 -100.00    Layer1  0.00     0.00      1.00  \\\n",
       " 1 751.60 336.61 -100.00    Layer1  0.00     0.00      1.00   \n",
       " 2 500.00 500.00 -300.00    Layer1  0.00     0.00      1.00   \n",
       " 3 290.33 636.16 -100.00    Fault1 60.00    90.00      1.00   \n",
       " 4 709.67 363.84 -100.00    Fault2 60.00   270.00      1.00   \n",
       " \n",
       "                   geometry  \n",
       " 0  POINT (248.399 663.392)  \n",
       " 1  POINT (751.601 336.608)  \n",
       " 2  POINT (500.000 500.000)  \n",
       " 3  POINT (290.332 636.160)  \n",
       " 4  POINT (709.668 363.840)  ,\n",
       "                                             geometry\n",
       " 0  POLYGON ((-191.655 352.984, 352.984 1191.655, ...)"
      ]
     },
     "execution_count": 6,
     "metadata": {},
     "output_type": "execute_result"
    }
   ],
   "source": [
    "extent_rotated, interfaces_rotated, orientations_rotated, extent_gdf = gg.utils.rotate_gempy_input_data(extent=extent,\n",
    "                                                                                                        interfaces=interfaces,\n",
    "                                                                                                        orientations=orientations,\n",
    "                                                                                                        zmin=-600, \n",
    "                                                                                                        zmax=0, \n",
    "                                                                                                        return_extent_gdf=True,\n",
    "                                                                                                        manual_rotation_angle=33)\n",
    "extent_rotated, interfaces_rotated.head(), orientations_rotated.head(), extent_gdf"
   ]
  },
  {
   "cell_type": "markdown",
   "id": "d9183e74",
   "metadata": {},
   "source": [
    "## Plotting the non-N-S-W-E Model Data\n",
    "\n",
    "Plotting the input data shows that the graben structure is striking NW-SE. This is not ideal for modeling in GemPy. In order to model the entire black extent that is desired, the red extent would have to be modeled which results in a much larger model than necessary. "
   ]
  },
  {
   "cell_type": "code",
   "execution_count": 7,
   "id": "7794f5ac",
   "metadata": {},
   "outputs": [
    {
     "data": {
      "image/png": "[encoded data removed]",
      "text/plain": [
       "<Figure size 700x700 with 1 Axes>"
      ]
     },
     "metadata": {},
     "output_type": "display_data"
    }
   ],
   "source": [
    "fig, ax = plt.subplots(1, figsize=(7,7))\n",
    "\n",
    "extent_gdf.boundary.plot(ax=ax, color='black')\n",
    "interfaces_rotated.plot(ax=ax)\n",
    "orientations_rotated.plot(ax=ax)\n",
    "gpd.GeoDataFrame(geometry=[box(*extent_gdf.total_bounds)]).boundary.plot(ax=ax, color='red')\n",
    "plt.grid()"
   ]
  },
  {
   "cell_type": "markdown",
   "id": "c8e3a96b",
   "metadata": {},
   "source": [
    "## Rotating the Model back to a N-S-W-E-oriented model\n",
    "\n",
    "The non-N-S-W-E-oriented model can be rotated to a N-S-W-E-oriented model using the GemGIS function ```gg.utils.rotate_gempy_input_data(...)```. The rotation angle is either calculated automatically or can be set manually. "
   ]
  },
  {
   "cell_type": "code",
   "execution_count": 8,
   "id": "2990b718",
   "metadata": {},
   "outputs": [
    {
     "data": {
      "text/plain": [
       "([-1.1368683772161603e-13, 1000.0, -2.842170943040401e-14, 1000.0, -600, 0],\n",
       "        X      Y       Z formation                 geometry\n",
       " 0 200.00 250.00 -100.00    Layer1  POINT (200.000 250.000)\n",
       " 1 200.00 500.00 -100.00    Layer1  POINT (200.000 500.000)\n",
       " 2 200.00 750.00 -100.00    Layer1  POINT (200.000 750.000)\n",
       " 3 200.00 250.00 -200.00    Layer2  POINT (200.000 250.000)\n",
       " 4 200.00 500.00 -200.00    Layer2  POINT (200.000 500.000),\n",
       "        X      Y       Z formation   dip  azimuth  polarity   \n",
       " 0 200.00 500.00 -100.00    Layer1  0.00     0.00      1.00  \\\n",
       " 1 800.00 500.00 -100.00    Layer1  0.00     0.00      1.00   \n",
       " 2 500.00 500.00 -300.00    Layer1  0.00     0.00      1.00   \n",
       " 3 250.00 500.00 -100.00    Fault1 60.00    90.00      1.00   \n",
       " 4 750.00 500.00 -100.00    Fault2 60.00   270.00      1.00   \n",
       " \n",
       "                   geometry  \n",
       " 0  POINT (200.000 500.000)  \n",
       " 1  POINT (800.000 500.000)  \n",
       " 2  POINT (500.000 500.000)  \n",
       " 3  POINT (250.000 500.000)  \n",
       " 4  POINT (750.000 500.000)  ,\n",
       "                                             geometry\n",
       " 0  POLYGON ((-0.000 -0.000, -0.000 1000.000, 1000...)"
      ]
     },
     "execution_count": 8,
     "metadata": {},
     "output_type": "execute_result"
    }
   ],
   "source": [
    "extent_straight, interfaces_straight, orientations_straight, extent_gdf_straight = gg.utils.rotate_gempy_input_data(extent=extent_gdf,\n",
    "                                                                                                                    interfaces=interfaces_rotated,\n",
    "                                                                                                                    orientations=orientations_rotated,\n",
    "                                                                                                                    zmin=-600, \n",
    "                                                                                                                    zmax=0, \n",
    "                                                                                                                    rotate_reverse_direction=True,                            \n",
    "                                                                                                                    return_extent_gdf=True)\n",
    "extent_straight, interfaces_straight.head(), orientations_straight.head(), extent_gdf_straight"
   ]
  },
  {
   "cell_type": "markdown",
   "id": "3e6b3adc",
   "metadata": {},
   "source": [
    "## Plotting the N-S-W-E Model Data\n",
    "\n",
    "The rotated data can be plotted as before. We can see that the data was rotated around the center of the extent and that the size of the red frame is now equal to the size of the black frame as desired. Now, the modeling can be performed."
   ]
  },
  {
   "cell_type": "code",
   "execution_count": 9,
   "id": "954e284c",
   "metadata": {},
   "outputs": [
    {
     "data": {
      "text/plain": [
       "(-300.0, 1300.0)"
      ]
     },
     "execution_count": 9,
     "metadata": {},
     "output_type": "execute_result"
    },
    {
     "data": {
      "image/png": "[encoded data removed]",
      "text/plain": [
       "<Figure size 1000x700 with 2 Axes>"
      ]
     },
     "metadata": {},
     "output_type": "display_data"
    }
   ],
   "source": [
    "fig, (ax1, ax) = plt.subplots(1,2, figsize=(10,7))\n",
    "\n",
    "extent_gdf_straight.boundary.plot(ax=ax, color='black')\n",
    "interfaces_straight.plot(ax=ax)\n",
    "orientations_straight.plot(ax=ax)\n",
    "gpd.GeoDataFrame(geometry=[box(*extent_gdf_straight.total_bounds)]).boundary.plot(ax=ax, color='red')\n",
    "ax.grid()\n",
    "ax.set_ylim(-300,1300)\n",
    "ax.set_xlim(-300,1300)\n",
    "\n",
    "\n",
    "extent_gdf.boundary.plot(ax=ax1, color='black')\n",
    "interfaces_rotated.plot(ax=ax1)\n",
    "orientations_rotated.plot(ax=ax1)\n",
    "gpd.GeoDataFrame(geometry=[box(*extent_gdf.total_bounds)]).boundary.plot(ax=ax1, color='red')\n",
    "ax1.grid()\n",
    "ax1.set_ylim(-300,1300)\n",
    "ax1.set_xlim(-300,1300)"
   ]
  },
  {
   "cell_type": "markdown",
   "id": "aad5d629",
   "metadata": {},
   "source": [
    "## Creating the GemPy Model"
   ]
  },
  {
   "cell_type": "code",
   "execution_count": 10,
   "id": "eb3ec438",
   "metadata": {
    "ExecuteTime": {
     "end_time": "2022-07-10T16:23:35.919153Z",
     "start_time": "2022-07-10T16:23:35.665279Z"
    }
   },
   "outputs": [
    {
     "data": {
      "text/plain": [
       "Graben_Model  2023-08-01 14:29"
      ]
     },
     "execution_count": 10,
     "metadata": {},
     "output_type": "execute_result"
    }
   ],
   "source": [
    "geo_model = gp.create_model('Graben_Model')\n",
    "geo_model"
   ]
  },
  {
   "cell_type": "code",
   "execution_count": 11,
   "id": "ae4bb825",
   "metadata": {
    "ExecuteTime": {
     "end_time": "2022-07-10T16:23:36.455831Z",
     "start_time": "2022-07-10T16:23:36.064742Z"
    }
   },
   "outputs": [
    {
     "name": "stdout",
     "output_type": "stream",
     "text": [
      "Active grids: ['regular']\n"
     ]
    },
    {
     "data": {
      "text/plain": [
       "Graben_Model  2023-08-01 14:29"
      ]
     },
     "execution_count": 11,
     "metadata": {},
     "output_type": "execute_result"
    }
   ],
   "source": [
    "gp.init_data(geo_model, [0, 1000, 0, 1000, -600, 0], [50,50,50],\n",
    "             surface_points_df=interfaces_straight,\n",
    "             orientations_df=orientations_straight,\n",
    "             default_values=True)"
   ]
  },
  {
   "cell_type": "code",
   "execution_count": 12,
   "id": "9e8519ea",
   "metadata": {
    "ExecuteTime": {
     "end_time": "2022-07-10T16:23:36.582473Z",
     "start_time": "2022-07-10T16:23:36.554848Z"
    }
   },
   "outputs": [
    {
     "data": {
      "text/html": [
       "<style type=\"text/css\">\n",
       "#T_d7848_row0_col3 {\n",
       "  background-color: #015482;\n",
       "}\n",
       "#T_d7848_row1_col3 {\n",
       "  background-color: #9f0052;\n",
       "}\n",
       "#T_d7848_row2_col3 {\n",
       "  background-color: #ffbe00;\n",
       "}\n",
       "#T_d7848_row3_col3 {\n",
       "  background-color: #728f02;\n",
       "}\n",
       "#T_d7848_row4_col3 {\n",
       "  background-color: #443988;\n",
       "}\n",
       "</style>\n",
       "<table id=\"T_d7848\">\n",
       "  <thead>\n",
       "    <tr>\n",
       "      <th class=\"blank level0\" >&nbsp;</th>\n",
       "      <th id=\"T_d7848_level0_col0\" class=\"col_heading level0 col0\" >surface</th>\n",
       "      <th id=\"T_d7848_level0_col1\" class=\"col_heading level0 col1\" >series</th>\n",
       "      <th id=\"T_d7848_level0_col2\" class=\"col_heading level0 col2\" >order_surfaces</th>\n",
       "      <th id=\"T_d7848_level0_col3\" class=\"col_heading level0 col3\" >color</th>\n",
       "      <th id=\"T_d7848_level0_col4\" class=\"col_heading level0 col4\" >id</th>\n",
       "    </tr>\n",
       "  </thead>\n",
       "  <tbody>\n",
       "    <tr>\n",
       "      <th id=\"T_d7848_level0_row0\" class=\"row_heading level0 row0\" >0</th>\n",
       "      <td id=\"T_d7848_row0_col0\" class=\"data row0 col0\" >Layer1</td>\n",
       "      <td id=\"T_d7848_row0_col1\" class=\"data row0 col1\" >Default series</td>\n",
       "      <td id=\"T_d7848_row0_col2\" class=\"data row0 col2\" >1</td>\n",
       "      <td id=\"T_d7848_row0_col3\" class=\"data row0 col3\" >#015482</td>\n",
       "      <td id=\"T_d7848_row0_col4\" class=\"data row0 col4\" >1</td>\n",
       "    </tr>\n",
       "    <tr>\n",
       "      <th id=\"T_d7848_level0_row1\" class=\"row_heading level0 row1\" >1</th>\n",
       "      <td id=\"T_d7848_row1_col0\" class=\"data row1 col0\" >Layer2</td>\n",
       "      <td id=\"T_d7848_row1_col1\" class=\"data row1 col1\" >Default series</td>\n",
       "      <td id=\"T_d7848_row1_col2\" class=\"data row1 col2\" >2</td>\n",
       "      <td id=\"T_d7848_row1_col3\" class=\"data row1 col3\" >#9f0052</td>\n",
       "      <td id=\"T_d7848_row1_col4\" class=\"data row1 col4\" >2</td>\n",
       "    </tr>\n",
       "    <tr>\n",
       "      <th id=\"T_d7848_level0_row2\" class=\"row_heading level0 row2\" >2</th>\n",
       "      <td id=\"T_d7848_row2_col0\" class=\"data row2 col0\" >Layer3</td>\n",
       "      <td id=\"T_d7848_row2_col1\" class=\"data row2 col1\" >Default series</td>\n",
       "      <td id=\"T_d7848_row2_col2\" class=\"data row2 col2\" >3</td>\n",
       "      <td id=\"T_d7848_row2_col3\" class=\"data row2 col3\" >#ffbe00</td>\n",
       "      <td id=\"T_d7848_row2_col4\" class=\"data row2 col4\" >3</td>\n",
       "    </tr>\n",
       "    <tr>\n",
       "      <th id=\"T_d7848_level0_row3\" class=\"row_heading level0 row3\" >3</th>\n",
       "      <td id=\"T_d7848_row3_col0\" class=\"data row3 col0\" >Fault1</td>\n",
       "      <td id=\"T_d7848_row3_col1\" class=\"data row3 col1\" >Default series</td>\n",
       "      <td id=\"T_d7848_row3_col2\" class=\"data row3 col2\" >4</td>\n",
       "      <td id=\"T_d7848_row3_col3\" class=\"data row3 col3\" >#728f02</td>\n",
       "      <td id=\"T_d7848_row3_col4\" class=\"data row3 col4\" >4</td>\n",
       "    </tr>\n",
       "    <tr>\n",
       "      <th id=\"T_d7848_level0_row4\" class=\"row_heading level0 row4\" >4</th>\n",
       "      <td id=\"T_d7848_row4_col0\" class=\"data row4 col0\" >Fault2</td>\n",
       "      <td id=\"T_d7848_row4_col1\" class=\"data row4 col1\" >Default series</td>\n",
       "      <td id=\"T_d7848_row4_col2\" class=\"data row4 col2\" >5</td>\n",
       "      <td id=\"T_d7848_row4_col3\" class=\"data row4 col3\" >#443988</td>\n",
       "      <td id=\"T_d7848_row4_col4\" class=\"data row4 col4\" >5</td>\n",
       "    </tr>\n",
       "  </tbody>\n",
       "</table>\n"
      ],
      "text/plain": [
       "  surface          series  order_surfaces    color  id\n",
       "0  Layer1  Default series               1  #015482   1\n",
       "1  Layer2  Default series               2  #9f0052   2\n",
       "2  Layer3  Default series               3  #ffbe00   3\n",
       "3  Fault1  Default series               4  #728f02   4\n",
       "4  Fault2  Default series               5  #443988   5"
      ]
     },
     "execution_count": 12,
     "metadata": {},
     "output_type": "execute_result"
    }
   ],
   "source": [
    "geo_model.surfaces"
   ]
  },
  {
   "cell_type": "code",
   "execution_count": 13,
   "id": "ca6dfa3e",
   "metadata": {
    "ExecuteTime": {
     "end_time": "2022-07-10T16:23:37.073588Z",
     "start_time": "2022-07-10T16:23:36.681498Z"
    }
   },
   "outputs": [
    {
     "name": "stdout",
     "output_type": "stream",
     "text": [
      "Fault colors changed. If you do not like this behavior, set change_color to False.\n",
      "Fault colors changed. If you do not like this behavior, set change_color to False.\n"
     ]
    },
    {
     "data": {
      "text/html": [
       "<style type=\"text/css\">\n",
       "#T_bf980_row0_col3, #T_bf980_row1_col3 {\n",
       "  background-color: #527682;\n",
       "}\n",
       "#T_bf980_row2_col3 {\n",
       "  background-color: #ffbe00;\n",
       "}\n",
       "#T_bf980_row3_col3 {\n",
       "  background-color: #728f02;\n",
       "}\n",
       "#T_bf980_row4_col3 {\n",
       "  background-color: #443988;\n",
       "}\n",
       "#T_bf980_row5_col3 {\n",
       "  background-color: #ff3f20;\n",
       "}\n",
       "</style>\n",
       "<table id=\"T_bf980\">\n",
       "  <thead>\n",
       "    <tr>\n",
       "      <th class=\"blank level0\" >&nbsp;</th>\n",
       "      <th id=\"T_bf980_level0_col0\" class=\"col_heading level0 col0\" >surface</th>\n",
       "      <th id=\"T_bf980_level0_col1\" class=\"col_heading level0 col1\" >series</th>\n",
       "      <th id=\"T_bf980_level0_col2\" class=\"col_heading level0 col2\" >order_surfaces</th>\n",
       "      <th id=\"T_bf980_level0_col3\" class=\"col_heading level0 col3\" >color</th>\n",
       "      <th id=\"T_bf980_level0_col4\" class=\"col_heading level0 col4\" >id</th>\n",
       "    </tr>\n",
       "  </thead>\n",
       "  <tbody>\n",
       "    <tr>\n",
       "      <th id=\"T_bf980_level0_row0\" class=\"row_heading level0 row0\" >3</th>\n",
       "      <td id=\"T_bf980_row0_col0\" class=\"data row0 col0\" >Fault1</td>\n",
       "      <td id=\"T_bf980_row0_col1\" class=\"data row0 col1\" >Fault1</td>\n",
       "      <td id=\"T_bf980_row0_col2\" class=\"data row0 col2\" >1</td>\n",
       "      <td id=\"T_bf980_row0_col3\" class=\"data row0 col3\" >#527682</td>\n",
       "      <td id=\"T_bf980_row0_col4\" class=\"data row0 col4\" >1</td>\n",
       "    </tr>\n",
       "    <tr>\n",
       "      <th id=\"T_bf980_level0_row1\" class=\"row_heading level0 row1\" >4</th>\n",
       "      <td id=\"T_bf980_row1_col0\" class=\"data row1 col0\" >Fault2</td>\n",
       "      <td id=\"T_bf980_row1_col1\" class=\"data row1 col1\" >Fault2</td>\n",
       "      <td id=\"T_bf980_row1_col2\" class=\"data row1 col2\" >1</td>\n",
       "      <td id=\"T_bf980_row1_col3\" class=\"data row1 col3\" >#527682</td>\n",
       "      <td id=\"T_bf980_row1_col4\" class=\"data row1 col4\" >2</td>\n",
       "    </tr>\n",
       "    <tr>\n",
       "      <th id=\"T_bf980_level0_row2\" class=\"row_heading level0 row2\" >0</th>\n",
       "      <td id=\"T_bf980_row2_col0\" class=\"data row2 col0\" >Layer1</td>\n",
       "      <td id=\"T_bf980_row2_col1\" class=\"data row2 col1\" >Strata1</td>\n",
       "      <td id=\"T_bf980_row2_col2\" class=\"data row2 col2\" >1</td>\n",
       "      <td id=\"T_bf980_row2_col3\" class=\"data row2 col3\" >#ffbe00</td>\n",
       "      <td id=\"T_bf980_row2_col4\" class=\"data row2 col4\" >3</td>\n",
       "    </tr>\n",
       "    <tr>\n",
       "      <th id=\"T_bf980_level0_row3\" class=\"row_heading level0 row3\" >1</th>\n",
       "      <td id=\"T_bf980_row3_col0\" class=\"data row3 col0\" >Layer2</td>\n",
       "      <td id=\"T_bf980_row3_col1\" class=\"data row3 col1\" >Strata1</td>\n",
       "      <td id=\"T_bf980_row3_col2\" class=\"data row3 col2\" >2</td>\n",
       "      <td id=\"T_bf980_row3_col3\" class=\"data row3 col3\" >#728f02</td>\n",
       "      <td id=\"T_bf980_row3_col4\" class=\"data row3 col4\" >4</td>\n",
       "    </tr>\n",
       "    <tr>\n",
       "      <th id=\"T_bf980_level0_row4\" class=\"row_heading level0 row4\" >2</th>\n",
       "      <td id=\"T_bf980_row4_col0\" class=\"data row4 col0\" >Layer3</td>\n",
       "      <td id=\"T_bf980_row4_col1\" class=\"data row4 col1\" >Strata1</td>\n",
       "      <td id=\"T_bf980_row4_col2\" class=\"data row4 col2\" >3</td>\n",
       "      <td id=\"T_bf980_row4_col3\" class=\"data row4 col3\" >#443988</td>\n",
       "      <td id=\"T_bf980_row4_col4\" class=\"data row4 col4\" >5</td>\n",
       "    </tr>\n",
       "    <tr>\n",
       "      <th id=\"T_bf980_level0_row5\" class=\"row_heading level0 row5\" >5</th>\n",
       "      <td id=\"T_bf980_row5_col0\" class=\"data row5 col0\" >Basement</td>\n",
       "      <td id=\"T_bf980_row5_col1\" class=\"data row5 col1\" >Strata1</td>\n",
       "      <td id=\"T_bf980_row5_col2\" class=\"data row5 col2\" >4</td>\n",
       "      <td id=\"T_bf980_row5_col3\" class=\"data row5 col3\" >#ff3f20</td>\n",
       "      <td id=\"T_bf980_row5_col4\" class=\"data row5 col4\" >6</td>\n",
       "    </tr>\n",
       "  </tbody>\n",
       "</table>\n"
      ],
      "text/plain": [
       "    surface   series  order_surfaces    color  id\n",
       "3    Fault1   Fault1               1  #527682   1\n",
       "4    Fault2   Fault2               1  #527682   2\n",
       "0    Layer1  Strata1               1  #ffbe00   3\n",
       "1    Layer2  Strata1               2  #728f02   4\n",
       "2    Layer3  Strata1               3  #443988   5\n",
       "5  Basement  Strata1               4  #ff3f20   6"
      ]
     },
     "execution_count": 13,
     "metadata": {},
     "output_type": "execute_result"
    }
   ],
   "source": [
    "gp.map_stack_to_surfaces(geo_model,\n",
    "                         {\n",
    "                          'Fault1': ('Fault1'),\n",
    "                          'Fault2': ('Fault2'),\n",
    "                          'Strata1': ('Layer1', 'Layer2', 'Layer3'),                          \n",
    "                         },\n",
    "                         remove_unused_series=True)\n",
    "geo_model.add_surfaces('Basement')\n",
    "geo_model.set_is_fault(['Fault1', 'Fault2'])\n",
    "geo_model.surfaces"
   ]
  },
  {
   "cell_type": "code",
   "execution_count": 14,
   "id": "fe77ff3f",
   "metadata": {
    "ExecuteTime": {
     "end_time": "2022-07-10T16:23:40.554833Z",
     "start_time": "2022-07-10T16:23:37.171618Z"
    }
   },
   "outputs": [
    {
     "name": "stdout",
     "output_type": "stream",
     "text": [
      "[-120.    0.]\n",
      "Active grids: ['regular' 'topography']\n"
     ]
    },
    {
     "data": {
      "text/plain": [
       "Grid Object. Values: \n",
       "array([[  10.        ,   10.        , -594.        ],\n",
       "       [  10.        ,   10.        , -582.        ],\n",
       "       [  10.        ,   10.        , -570.        ],\n",
       "       ...,\n",
       "       [1000.        ,  959.18367347,  -48.98763452],\n",
       "       [1000.        ,  979.59183673,  -56.49305639],\n",
       "       [1000.        , 1000.        ,  -61.62003486]])"
      ]
     },
     "execution_count": 14,
     "metadata": {},
     "output_type": "execute_result"
    }
   ],
   "source": [
    "geo_model.set_topography(source='random')"
   ]
  },
  {
   "cell_type": "code",
   "execution_count": 15,
   "id": "lyric-sequence",
   "metadata": {
    "ExecuteTime": {
     "end_time": "2022-07-10T16:23:41.231568Z",
     "start_time": "2022-07-10T16:23:41.202546Z"
    }
   },
   "outputs": [
    {
     "data": {
      "text/html": [
       "<style type=\"text/css\">\n",
       "#T_36d5f_row0_col3, #T_36d5f_row1_col3 {\n",
       "  background-color: #527682;\n",
       "}\n",
       "#T_36d5f_row2_col3 {\n",
       "  background-color: #ffbe00;\n",
       "}\n",
       "#T_36d5f_row3_col3 {\n",
       "  background-color: #728f02;\n",
       "}\n",
       "#T_36d5f_row4_col3 {\n",
       "  background-color: #443988;\n",
       "}\n",
       "#T_36d5f_row5_col3 {\n",
       "  background-color: #ff3f20;\n",
       "}\n",
       "</style>\n",
       "<table id=\"T_36d5f\">\n",
       "  <thead>\n",
       "    <tr>\n",
       "      <th class=\"blank level0\" >&nbsp;</th>\n",
       "      <th id=\"T_36d5f_level0_col0\" class=\"col_heading level0 col0\" >surface</th>\n",
       "      <th id=\"T_36d5f_level0_col1\" class=\"col_heading level0 col1\" >series</th>\n",
       "      <th id=\"T_36d5f_level0_col2\" class=\"col_heading level0 col2\" >order_surfaces</th>\n",
       "      <th id=\"T_36d5f_level0_col3\" class=\"col_heading level0 col3\" >color</th>\n",
       "      <th id=\"T_36d5f_level0_col4\" class=\"col_heading level0 col4\" >id</th>\n",
       "    </tr>\n",
       "  </thead>\n",
       "  <tbody>\n",
       "    <tr>\n",
       "      <th id=\"T_36d5f_level0_row0\" class=\"row_heading level0 row0\" >3</th>\n",
       "      <td id=\"T_36d5f_row0_col0\" class=\"data row0 col0\" >Fault1</td>\n",
       "      <td id=\"T_36d5f_row0_col1\" class=\"data row0 col1\" >Fault1</td>\n",
       "      <td id=\"T_36d5f_row0_col2\" class=\"data row0 col2\" >1</td>\n",
       "      <td id=\"T_36d5f_row0_col3\" class=\"data row0 col3\" >#527682</td>\n",
       "      <td id=\"T_36d5f_row0_col4\" class=\"data row0 col4\" >1</td>\n",
       "    </tr>\n",
       "    <tr>\n",
       "      <th id=\"T_36d5f_level0_row1\" class=\"row_heading level0 row1\" >4</th>\n",
       "      <td id=\"T_36d5f_row1_col0\" class=\"data row1 col0\" >Fault2</td>\n",
       "      <td id=\"T_36d5f_row1_col1\" class=\"data row1 col1\" >Fault2</td>\n",
       "      <td id=\"T_36d5f_row1_col2\" class=\"data row1 col2\" >1</td>\n",
       "      <td id=\"T_36d5f_row1_col3\" class=\"data row1 col3\" >#527682</td>\n",
       "      <td id=\"T_36d5f_row1_col4\" class=\"data row1 col4\" >2</td>\n",
       "    </tr>\n",
       "    <tr>\n",
       "      <th id=\"T_36d5f_level0_row2\" class=\"row_heading level0 row2\" >0</th>\n",
       "      <td id=\"T_36d5f_row2_col0\" class=\"data row2 col0\" >Layer1</td>\n",
       "      <td id=\"T_36d5f_row2_col1\" class=\"data row2 col1\" >Strata1</td>\n",
       "      <td id=\"T_36d5f_row2_col2\" class=\"data row2 col2\" >1</td>\n",
       "      <td id=\"T_36d5f_row2_col3\" class=\"data row2 col3\" >#ffbe00</td>\n",
       "      <td id=\"T_36d5f_row2_col4\" class=\"data row2 col4\" >3</td>\n",
       "    </tr>\n",
       "    <tr>\n",
       "      <th id=\"T_36d5f_level0_row3\" class=\"row_heading level0 row3\" >1</th>\n",
       "      <td id=\"T_36d5f_row3_col0\" class=\"data row3 col0\" >Layer2</td>\n",
       "      <td id=\"T_36d5f_row3_col1\" class=\"data row3 col1\" >Strata1</td>\n",
       "      <td id=\"T_36d5f_row3_col2\" class=\"data row3 col2\" >2</td>\n",
       "      <td id=\"T_36d5f_row3_col3\" class=\"data row3 col3\" >#728f02</td>\n",
       "      <td id=\"T_36d5f_row3_col4\" class=\"data row3 col4\" >4</td>\n",
       "    </tr>\n",
       "    <tr>\n",
       "      <th id=\"T_36d5f_level0_row4\" class=\"row_heading level0 row4\" >2</th>\n",
       "      <td id=\"T_36d5f_row4_col0\" class=\"data row4 col0\" >Layer3</td>\n",
       "      <td id=\"T_36d5f_row4_col1\" class=\"data row4 col1\" >Strata1</td>\n",
       "      <td id=\"T_36d5f_row4_col2\" class=\"data row4 col2\" >3</td>\n",
       "      <td id=\"T_36d5f_row4_col3\" class=\"data row4 col3\" >#443988</td>\n",
       "      <td id=\"T_36d5f_row4_col4\" class=\"data row4 col4\" >5</td>\n",
       "    </tr>\n",
       "    <tr>\n",
       "      <th id=\"T_36d5f_level0_row5\" class=\"row_heading level0 row5\" >5</th>\n",
       "      <td id=\"T_36d5f_row5_col0\" class=\"data row5 col0\" >Basement</td>\n",
       "      <td id=\"T_36d5f_row5_col1\" class=\"data row5 col1\" >Strata1</td>\n",
       "      <td id=\"T_36d5f_row5_col2\" class=\"data row5 col2\" >4</td>\n",
       "      <td id=\"T_36d5f_row5_col3\" class=\"data row5 col3\" >#ff3f20</td>\n",
       "      <td id=\"T_36d5f_row5_col4\" class=\"data row5 col4\" >6</td>\n",
       "    </tr>\n",
       "  </tbody>\n",
       "</table>\n"
      ],
      "text/plain": [
       "    surface   series  order_surfaces    color  id\n",
       "3    Fault1   Fault1               1  #527682   1\n",
       "4    Fault2   Fault2               1  #527682   2\n",
       "0    Layer1  Strata1               1  #ffbe00   3\n",
       "1    Layer2  Strata1               2  #728f02   4\n",
       "2    Layer3  Strata1               3  #443988   5\n",
       "5  Basement  Strata1               4  #ff3f20   6"
      ]
     },
     "execution_count": 15,
     "metadata": {},
     "output_type": "execute_result"
    }
   ],
   "source": [
    "geo_model.surfaces"
   ]
  },
  {
   "cell_type": "code",
   "execution_count": 16,
   "id": "6751531a",
   "metadata": {
    "ExecuteTime": {
     "end_time": "2022-07-10T16:23:42.152463Z",
     "start_time": "2022-07-10T16:23:41.328128Z"
    }
   },
   "outputs": [
    {
     "data": {
      "application/vnd.jupyter.widget-view+json": {
       "model_id": "048714d990f347bfbacb7751365c6b11",
       "version_major": 2,
       "version_minor": 0
      },
      "text/plain": [
       "Widget(value=\"<iframe src='http://localhost:57216/index.html?ui=P_0x1b00e903100_0&reconnect=auto' style='width…"
      ]
     },
     "metadata": {},
     "output_type": "display_data"
    },
    {
     "data": {
      "text/plain": [
       "<gempy.plot.vista.GemPyToVista at 0x1b0112cb5e0>"
      ]
     },
     "execution_count": 16,
     "metadata": {},
     "output_type": "execute_result"
    }
   ],
   "source": [
    "gp.plot_3d(geo_model, image=False, plotter_type='basic', notebook=True)"
   ]
  },
  {
   "cell_type": "code",
   "execution_count": 17,
   "id": "8e27b70d",
   "metadata": {
    "ExecuteTime": {
     "end_time": "2022-07-10T16:23:46.644247Z",
     "start_time": "2022-07-10T16:23:42.285341Z"
    }
   },
   "outputs": [
    {
     "name": "stdout",
     "output_type": "stream",
     "text": [
      "Compiling aesara function...\n",
      "Level of Optimization:  fast_compile\n",
      "Device:  cpu\n",
      "Precision:  float64\n",
      "Number of faults:  2\n",
      "Compilation Done!\n",
      "Kriging values: \n",
      "                     values\n",
      "range              1536.23\n",
      "$C_o$             56190.48\n",
      "drift equations  [3, 3, 3]\n"
     ]
    },
    {
     "data": {
      "text/plain": [
       "<gempy.core.interpolator.InterpolatorModel at 0x1b0112cbe50>"
      ]
     },
     "execution_count": 17,
     "metadata": {},
     "output_type": "execute_result"
    }
   ],
   "source": [
    "gp.set_interpolator(geo_model,\n",
    "                    compile_theano=True,\n",
    "                    theano_optimizer='fast_compile',\n",
    "                    verbose=[],\n",
    "                    update_kriging=False\n",
    "                    )"
   ]
  },
  {
   "cell_type": "code",
   "execution_count": 18,
   "id": "5b7b2377",
   "metadata": {
    "ExecuteTime": {
     "end_time": "2022-07-10T16:24:27.468449Z",
     "start_time": "2022-07-10T16:23:46.725299Z"
    }
   },
   "outputs": [],
   "source": [
    "sol = gp.compute_model(geo_model, compute_mesh=True)"
   ]
  },
  {
   "cell_type": "code",
   "execution_count": 19,
   "id": "43e38934",
   "metadata": {},
   "outputs": [
    {
     "data": {
      "application/vnd.jupyter.widget-view+json": {
       "model_id": "af5fbea2f1314af39e2b2c1219740c88",
       "version_major": 2,
       "version_minor": 0
      },
      "text/plain": [
       "Widget(value=\"<iframe src='http://localhost:57216/index.html?ui=P_0x1b024d4c880_1&reconnect=auto' style='width…"
      ]
     },
     "metadata": {},
     "output_type": "display_data"
    },
    {
     "data": {
      "text/plain": [
       "<gempy.plot.vista.GemPyToVista at 0x1b024d4c130>"
      ]
     },
     "execution_count": 19,
     "metadata": {},
     "output_type": "execute_result"
    }
   ],
   "source": [
    "gp.plot_3d(geo_model, notebook=True)"
   ]
  },
  {
   "cell_type": "markdown",
   "id": "f8757c7c",
   "metadata": {},
   "source": [
    "## Extracting Depth Maps from GemPy Model\n",
    "\n",
    "We now extract the depth maps from the GemPy Model which will then be rotated using Py"
   ]
  },
  {
   "cell_type": "code",
   "execution_count": 20,
   "id": "f1ee002c",
   "metadata": {},
   "outputs": [
    {
     "data": {
      "text/plain": [
       "{'Layer2': [PolyData (0x1b024dab9a0)\n",
       "    N Cells:    7938\n",
       "    N Points:   4100\n",
       "    N Strips:   0\n",
       "    X Bounds:   1.000e+01, 9.900e+02\n",
       "    Y Bounds:   1.000e+01, 9.900e+02\n",
       "    Z Bounds:   -4.000e+02, -2.000e+02\n",
       "    N Arrays:   1,\n",
       "  '#728f02'],\n",
       " 'Fault1': [PolyData (0x1b024da8160)\n",
       "    N Cells:    5820\n",
       "    N Points:   3038\n",
       "    N Strips:   0\n",
       "    X Bounds:   2.096e+02, 5.352e+02\n",
       "    Y Bounds:   1.000e+01, 9.900e+02\n",
       "    Z Bounds:   -5.940e+02, -3.000e+01\n",
       "    N Arrays:   1,\n",
       "  '#527682'],\n",
       " 'Fault2': [PolyData (0x1b024da9240)\n",
       "    N Cells:    5720\n",
       "    N Points:   2990\n",
       "    N Strips:   0\n",
       "    X Bounds:   4.648e+02, 7.904e+02\n",
       "    Y Bounds:   1.000e+01, 9.900e+02\n",
       "    Z Bounds:   -5.940e+02, -3.000e+01\n",
       "    N Arrays:   1,\n",
       "  '#527682']}"
      ]
     },
     "execution_count": 20,
     "metadata": {},
     "output_type": "execute_result"
    }
   ],
   "source": [
    "meshes = gg.visualization.create_depth_maps_from_gempy(geo_model, surfaces=['Layer2', 'Fault1', 'Fault2'])\n",
    "meshes"
   ]
  },
  {
   "cell_type": "markdown",
   "id": "6e81b5b6",
   "metadata": {},
   "source": [
    "## Rotating Meshes\n",
    "\n",
    "The meshes will be rotated around the center of the extent to reach their original position. "
   ]
  },
  {
   "cell_type": "code",
   "execution_count": 22,
   "id": "1e002524",
   "metadata": {},
   "outputs": [
    {
     "data": {
      "text/plain": [
       "(500.00000000000006, 500.00000000000006)"
      ]
     },
     "execution_count": 22,
     "metadata": {},
     "output_type": "execute_result"
    }
   ],
   "source": [
    "x,y = list(extent_gdf.iloc[0]['geometry'].centroid.coords)[0][0], list(extent_gdf.iloc[0]['geometry'].centroid.coords)[0][1]\n",
    "x,y"
   ]
  },
  {
   "cell_type": "code",
   "execution_count": 23,
   "id": "4c09b4db",
   "metadata": {},
   "outputs": [],
   "source": [
    "mesh_layer2 = meshes['Layer2'][0].rotate_z(angle=33, point=(x,y,0))\n",
    "mesh_fault1 = meshes['Fault1'][0].rotate_z(angle=33, point=(x,y,0))\n",
    "mesh_fault2 = meshes['Fault2'][0].rotate_z(angle=33, point=(x,y,0))"
   ]
  },
  {
   "cell_type": "markdown",
   "id": "7a2f05bb",
   "metadata": {},
   "source": [
    "## Plotting the rotates Meshes\n",
    "\n",
    "Rotating the meshes will result in the original position of the layers. The meshes/surfaces can now be used for further calculations and computations or exported to a GIS System."
   ]
  },
  {
   "cell_type": "code",
   "execution_count": 24,
   "id": "5248e39e",
   "metadata": {},
   "outputs": [
    {
     "data": {
      "application/vnd.jupyter.widget-view+json": {
       "model_id": "4589c21dddd1486db9ed58c7af96d22e",
       "version_major": 2,
       "version_minor": 0
      },
      "text/plain": [
       "Widget(value=\"<iframe src='http://localhost:57216/index.html?ui=P_0x1b02de3ac20_2&reconnect=auto' style='width…"
      ]
     },
     "metadata": {},
     "output_type": "display_data"
    }
   ],
   "source": [
    "p = pv.Plotter(notebook=True)\n",
    "\n",
    "p.add_mesh(mesh_layer2, color= meshes['Layer2'][1])\n",
    "\n",
    "p.add_mesh(mesh_fault1, color= meshes['Fault1'][1])\n",
    "\n",
    "p.add_mesh(mesh_fault2, color= meshes['Fault2'][1])\n",
    "\n",
    "p.set_background('white')\n",
    "p.show_grid(color='black')\n",
    "p.show()"
   ]
  }
 ],
 "metadata": {
  "kernelspec": {
   "display_name": "Python 3 (ipykernel)",
   "language": "python",
   "name": "python3"
  },
  "language_info": {
   "codemirror_mode": {
    "name": "ipython",
    "version": 3
   },
   "file_extension": ".py",
   "mimetype": "text/x-python",
   "name": "python",
   "nbconvert_exporter": "python",
   "pygments_lexer": "ipython3",
   "version": "3.10.11"
  }
 },
 "nbformat": 4,
 "nbformat_minor": 5
}
