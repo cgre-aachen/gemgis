{
 "cells": [
  {
   "cell_type": "markdown",
   "metadata": {},
   "source": [
    "# Notebook 1 - Extracting XY Coordinates from Vector Data\n",
    "`GemGIS` is a Python-based, open-source geographic information processing library.\n",
    "It is capable of preprocessing spatial data such as vector data (shape files, geojson files,\n",
    "geopackages), raster data (tif, png,...), data obtained from web services (WMS, WFS, WCS) or XML/KML\n",
    "files. Preprocessed data can be stored in a dedicated Data Class to be passed to the geomodeling package\n",
    "`GemPy` (https://github.com/cgre-aachen/gempy) in order to accelerate to model building process. In addition, enhanced 3D visualization of data is\n",
    "powered by the `PyVista` (https://github.com/pyvista/pyvista) package.\n",
    "\n",
    "# Content\n",
    "\n",
    "[Overview](#overview) <br>\n",
    "[Load Libraries](#libraries) <br>\n",
    "[What are GeoDataFrames?](#gdfs) <br>\n",
    "[Example 1 - Point Data](#ex1) <br>\n",
    "[Example 2 - LineString Data](#ex2) <br>\n",
    "[Example 3 - Polygon Data](#ex3) <br>\n",
    "[Example 4 - Extract Data from any type of Geometry](#ex4) <br>\n",
    "[Summary](#summary) <br>\n",
    "\n",
    "\n",
    "<a id='overview'></a>\n",
    "# Overview\n",
    "\n",
    "This notebook will present how to extract X and Y coordinates from vector data (shape files, geojsons, geopackages) loaded as GeoDataFrame using `GeoPandas` (https://github.com/geopandas/geopandas). This vector data consists of either `Point` data, `LineString` data, `MultiLineString` data or `Polygon` data. We will use a sample geological map to introduce the functionality of the different functions. The data was prepared in QGIS as shown below. \n",
    "\n",
    "<img src=\"../data/Images/qgis.png\" width=\"600\">\n",
    "\n",
    "The aim of this and the upcoming tutorials is to demonstrate how to prepare spatial data for geomodeling with `GemPy` to get a geological model like shown below. \n",
    "\n",
    "<img src=\"../data/Images/cover.png\" width=\"600\">\n",
    "\n",
    "<a id='libraries'></a>\n",
    "# Load Libraries\n",
    "\n",
    "Firstly, we import the necessary libraries that we need for the extraction of X and Y coordinates. This includes the `GemGIS` library, `GeoPandas` to work with vector data and `Matplotlib` (https://github.com/matplotlib/matplotlib) for plotting. `Pandas` (https://github.com/pandas-dev/pandas) is needed for the manipulation of tables. "
   ]
  },
  {
   "cell_type": "code",
   "execution_count": 1,
   "metadata": {},
   "outputs": [
    {
     "name": "stderr",
     "output_type": "stream",
     "text": [
      "WARNING (theano.configdefaults): g++ not available, if using conda: `conda install m2w64-toolchain`\n",
      "C:\\Users\\ale93371\\Anaconda3\\envs\\test_gempy\\lib\\site-packages\\theano\\configdefaults.py:560: UserWarning: DeprecationWarning: there is no c++ compiler.This is deprecated and with Theano 0.11 a c++ compiler will be mandatory\n",
      "  warnings.warn(\"DeprecationWarning: there is no c++ compiler.\"\n",
      "WARNING (theano.configdefaults): g++ not detected ! Theano will be unable to execute optimized C-implementations (for both CPU and GPU) and will default to Python implementations. Performance will be severely degraded. To remove this warning, set Theano flags cxx to an empty string.\n",
      "WARNING (theano.tensor.blas): Using NumPy C-API based implementation for BLAS functions.\n"
     ]
    },
    {
     "name": "stdout",
     "output_type": "stream",
     "text": [
      "0.2.0\n"
     ]
    }
   ],
   "source": [
    "import pandas as pd\n",
    "import geopandas as gpd\n",
    "import matplotlib.pyplot as plt\n",
    "\n",
    "import sys\n",
    "sys.path.append('../../gemgis')\n",
    "import gemgis as gg\n",
    "print(gg.__version__)"
   ]
  },
  {
   "cell_type": "markdown",
   "metadata": {},
   "source": [
    "<a id='gdfs'></a>\n",
    "# What are GeoDataFrames? \n",
    "\n",
    "GeoDataFrames are Pandas DataFrames with an additional `geometry` column. This geometry column is also called a `GeoSeries`. It is a vector where each entry in the vector is a set of shapes corresponding to one observation. An entry may consist of only one shape (like a single polygon) or multiple shapes that are meant to be thought of as one observation (like the many polygons that make up the State of Hawaii or a country like Indonesia).\n",
    "\n",
    "`GeoPandas` has three basic classes of geometric objects (which are actually `shapely` objects):\n",
    "\n",
    "- Points / Multi-Points\n",
    "- Lines / Multi-Lines\n",
    "- Polygons / Multi-Polygons\n",
    "\n",
    "Source: https://geopandas.org/data_structures.html"
   ]
  },
  {
   "cell_type": "code",
   "execution_count": 2,
   "metadata": {},
   "outputs": [
    {
     "data": {
      "text/html": [
       "<div>\n",
       "<style scoped>\n",
       "    .dataframe tbody tr th:only-of-type {\n",
       "        vertical-align: middle;\n",
       "    }\n",
       "\n",
       "    .dataframe tbody tr th {\n",
       "        vertical-align: top;\n",
       "    }\n",
       "\n",
       "    .dataframe thead th {\n",
       "        text-align: right;\n",
       "    }\n",
       "</style>\n",
       "<table border=\"1\" class=\"dataframe\">\n",
       "  <thead>\n",
       "    <tr style=\"text-align: right;\">\n",
       "      <th></th>\n",
       "      <th>id</th>\n",
       "      <th>formation</th>\n",
       "      <th>geometry</th>\n",
       "    </tr>\n",
       "  </thead>\n",
       "  <tbody>\n",
       "    <tr>\n",
       "      <th>0</th>\n",
       "      <td>None</td>\n",
       "      <td>Ton</td>\n",
       "      <td>POINT (19.150 293.313)</td>\n",
       "    </tr>\n",
       "    <tr>\n",
       "      <th>1</th>\n",
       "      <td>None</td>\n",
       "      <td>Ton</td>\n",
       "      <td>POINT (61.934 381.459)</td>\n",
       "    </tr>\n",
       "    <tr>\n",
       "      <th>2</th>\n",
       "      <td>None</td>\n",
       "      <td>Ton</td>\n",
       "      <td>POINT (109.358 480.946)</td>\n",
       "    </tr>\n",
       "    <tr>\n",
       "      <th>3</th>\n",
       "      <td>None</td>\n",
       "      <td>Ton</td>\n",
       "      <td>POINT (157.812 615.999)</td>\n",
       "    </tr>\n",
       "    <tr>\n",
       "      <th>4</th>\n",
       "      <td>None</td>\n",
       "      <td>Ton</td>\n",
       "      <td>POINT (191.318 719.094)</td>\n",
       "    </tr>\n",
       "  </tbody>\n",
       "</table>\n",
       "</div>"
      ],
      "text/plain": [
       "     id formation                 geometry\n",
       "0  None       Ton   POINT (19.150 293.313)\n",
       "1  None       Ton   POINT (61.934 381.459)\n",
       "2  None       Ton  POINT (109.358 480.946)\n",
       "3  None       Ton  POINT (157.812 615.999)\n",
       "4  None       Ton  POINT (191.318 719.094)"
      ]
     },
     "execution_count": 2,
     "metadata": {},
     "output_type": "execute_result"
    }
   ],
   "source": [
    "gdf = gpd.read_file('../data/Test1/interfaces1.shp')\n",
    "gdf.head()"
   ]
  },
  {
   "cell_type": "markdown",
   "metadata": {},
   "source": [
    "A `GeoDataFrame` has many different attributes. The most important ones are shown below."
   ]
  },
  {
   "cell_type": "code",
   "execution_count": 3,
   "metadata": {},
   "outputs": [
    {
     "data": {
      "text/plain": [
       "<Geographic 2D CRS: EPSG:4326>\n",
       "Name: WGS 84\n",
       "Axis Info [ellipsoidal]:\n",
       "- Lat[north]: Geodetic latitude (degree)\n",
       "- Lon[east]: Geodetic longitude (degree)\n",
       "Area of Use:\n",
       "- name: World\n",
       "- bounds: (-180.0, -90.0, 180.0, 90.0)\n",
       "Datum: World Geodetic System 1984\n",
       "- Ellipsoid: WGS 84\n",
       "- Prime Meridian: Greenwich"
      ]
     },
     "execution_count": 3,
     "metadata": {},
     "output_type": "execute_result"
    }
   ],
   "source": [
    "gdf.crs"
   ]
  },
  {
   "cell_type": "code",
   "execution_count": null,
   "metadata": {},
   "outputs": [],
   "source": [
    "gdf.geometry[:5]"
   ]
  },
  {
   "cell_type": "code",
   "execution_count": 4,
   "metadata": {},
   "outputs": [
    {
     "data": {
      "text/plain": [
       "0    Point\n",
       "1    Point\n",
       "2    Point\n",
       "3    Point\n",
       "4    Point\n",
       "dtype: object"
      ]
     },
     "execution_count": 4,
     "metadata": {},
     "output_type": "execute_result"
    }
   ],
   "source": [
    "gdf.geom_type[:5]"
   ]
  },
  {
   "cell_type": "code",
   "execution_count": 5,
   "metadata": {},
   "outputs": [
    {
     "data": {
      "text/html": [
       "<div>\n",
       "<style scoped>\n",
       "    .dataframe tbody tr th:only-of-type {\n",
       "        vertical-align: middle;\n",
       "    }\n",
       "\n",
       "    .dataframe tbody tr th {\n",
       "        vertical-align: top;\n",
       "    }\n",
       "\n",
       "    .dataframe thead th {\n",
       "        text-align: right;\n",
       "    }\n",
       "</style>\n",
       "<table border=\"1\" class=\"dataframe\">\n",
       "  <thead>\n",
       "    <tr style=\"text-align: right;\">\n",
       "      <th></th>\n",
       "      <th>minx</th>\n",
       "      <th>miny</th>\n",
       "      <th>maxx</th>\n",
       "      <th>maxy</th>\n",
       "    </tr>\n",
       "  </thead>\n",
       "  <tbody>\n",
       "    <tr>\n",
       "      <th>0</th>\n",
       "      <td>19.15</td>\n",
       "      <td>293.31</td>\n",
       "      <td>19.15</td>\n",
       "      <td>293.31</td>\n",
       "    </tr>\n",
       "    <tr>\n",
       "      <th>1</th>\n",
       "      <td>61.93</td>\n",
       "      <td>381.46</td>\n",
       "      <td>61.93</td>\n",
       "      <td>381.46</td>\n",
       "    </tr>\n",
       "    <tr>\n",
       "      <th>2</th>\n",
       "      <td>109.36</td>\n",
       "      <td>480.95</td>\n",
       "      <td>109.36</td>\n",
       "      <td>480.95</td>\n",
       "    </tr>\n",
       "    <tr>\n",
       "      <th>3</th>\n",
       "      <td>157.81</td>\n",
       "      <td>616.00</td>\n",
       "      <td>157.81</td>\n",
       "      <td>616.00</td>\n",
       "    </tr>\n",
       "    <tr>\n",
       "      <th>4</th>\n",
       "      <td>191.32</td>\n",
       "      <td>719.09</td>\n",
       "      <td>191.32</td>\n",
       "      <td>719.09</td>\n",
       "    </tr>\n",
       "  </tbody>\n",
       "</table>\n",
       "</div>"
      ],
      "text/plain": [
       "    minx   miny   maxx   maxy\n",
       "0  19.15 293.31  19.15 293.31\n",
       "1  61.93 381.46  61.93 381.46\n",
       "2 109.36 480.95 109.36 480.95\n",
       "3 157.81 616.00 157.81 616.00\n",
       "4 191.32 719.09 191.32 719.09"
      ]
     },
     "execution_count": 5,
     "metadata": {},
     "output_type": "execute_result"
    }
   ],
   "source": [
    "gdf.bounds.head()"
   ]
  },
  {
   "cell_type": "code",
   "execution_count": 6,
   "metadata": {},
   "outputs": [
    {
     "data": {
      "text/plain": [
       "array([   8.84067296,  164.9607695 ,  966.07357798, 1045.38823411])"
      ]
     },
     "execution_count": 6,
     "metadata": {},
     "output_type": "execute_result"
    }
   ],
   "source": [
    "gdf.total_bounds"
   ]
  },
  {
   "cell_type": "code",
   "execution_count": 7,
   "metadata": {},
   "outputs": [
    {
     "data": {
      "text/plain": [
       "0    True\n",
       "1    True\n",
       "2    True\n",
       "3    True\n",
       "4    True\n",
       "dtype: bool"
      ]
     },
     "execution_count": 7,
     "metadata": {},
     "output_type": "execute_result"
    }
   ],
   "source": [
    "gdf.is_valid[:5]"
   ]
  },
  {
   "cell_type": "markdown",
   "metadata": {},
   "source": [
    "As mentioned above, every entry of the `GeoDataFrame` is basically a shapely object, in this case a point:"
   ]
  },
  {
   "cell_type": "code",
   "execution_count": 8,
   "metadata": {},
   "outputs": [
    {
     "data": {
      "image/svg+xml": [
       "<svg xmlns=\"http://www.w3.org/2000/svg\" xmlns:xlink=\"http://www.w3.org/1999/xlink\" width=\"100.0\" height=\"100.0\" viewBox=\"18.150128045807676 292.313485355882 2.0 2.0\" preserveAspectRatio=\"xMinYMin meet\"><g transform=\"matrix(1,0,0,-1,0,586.626970711764)\"><circle cx=\"19.150128045807676\" cy=\"293.313485355882\" r=\"0.06\" stroke=\"#555555\" stroke-width=\"0.02\" fill=\"#66cc99\" opacity=\"0.6\" /></g></svg>"
      ],
      "text/plain": [
       "<shapely.geometry.point.Point at 0x1e62c38e6d0>"
      ]
     },
     "execution_count": 8,
     "metadata": {},
     "output_type": "execute_result"
    }
   ],
   "source": [
    "gdf.loc[0].geometry"
   ]
  },
  {
   "cell_type": "code",
   "execution_count": 9,
   "metadata": {},
   "outputs": [
    {
     "data": {
      "text/plain": [
       "shapely.geometry.point.Point"
      ]
     },
     "execution_count": 9,
     "metadata": {},
     "output_type": "execute_result"
    }
   ],
   "source": [
    "type(gdf.loc[0].geometry)"
   ]
  },
  {
   "cell_type": "markdown",
   "metadata": {},
   "source": [
    "Depending on the geometry types in your GeoDataFrame other attributes may be available such as `gdf.length` to return the lengths of LineStrings or `gdf.area` to return the area of Polygons."
   ]
  },
  {
   "cell_type": "markdown",
   "metadata": {},
   "source": [
    "<a id='ex1'></a>\n",
    "# Example 1 - Point Data\n",
    "\n",
    "## Load Data\n",
    "\n",
    "As a first example to show how to extract X and Y coordinates from vector data, we are loading a shape file containing point information. Additional columns are `id`, which was not recorded when digitizing the data and `formation` indicating the base of the formation that was encountered at a particular point. This will become important in future tutorials. The term `Ton` is German for clay and indicates in this example the boundary between a sandstone layer and a claystone layer. "
   ]
  },
  {
   "cell_type": "code",
   "execution_count": 10,
   "metadata": {},
   "outputs": [
    {
     "data": {
      "text/html": [
       "<div>\n",
       "<style scoped>\n",
       "    .dataframe tbody tr th:only-of-type {\n",
       "        vertical-align: middle;\n",
       "    }\n",
       "\n",
       "    .dataframe tbody tr th {\n",
       "        vertical-align: top;\n",
       "    }\n",
       "\n",
       "    .dataframe thead th {\n",
       "        text-align: right;\n",
       "    }\n",
       "</style>\n",
       "<table border=\"1\" class=\"dataframe\">\n",
       "  <thead>\n",
       "    <tr style=\"text-align: right;\">\n",
       "      <th></th>\n",
       "      <th>id</th>\n",
       "      <th>formation</th>\n",
       "      <th>geometry</th>\n",
       "    </tr>\n",
       "  </thead>\n",
       "  <tbody>\n",
       "    <tr>\n",
       "      <th>0</th>\n",
       "      <td>None</td>\n",
       "      <td>Ton</td>\n",
       "      <td>POINT (19.150 293.313)</td>\n",
       "    </tr>\n",
       "    <tr>\n",
       "      <th>1</th>\n",
       "      <td>None</td>\n",
       "      <td>Ton</td>\n",
       "      <td>POINT (61.934 381.459)</td>\n",
       "    </tr>\n",
       "    <tr>\n",
       "      <th>2</th>\n",
       "      <td>None</td>\n",
       "      <td>Ton</td>\n",
       "      <td>POINT (109.358 480.946)</td>\n",
       "    </tr>\n",
       "    <tr>\n",
       "      <th>3</th>\n",
       "      <td>None</td>\n",
       "      <td>Ton</td>\n",
       "      <td>POINT (157.812 615.999)</td>\n",
       "    </tr>\n",
       "    <tr>\n",
       "      <th>4</th>\n",
       "      <td>None</td>\n",
       "      <td>Ton</td>\n",
       "      <td>POINT (191.318 719.094)</td>\n",
       "    </tr>\n",
       "  </tbody>\n",
       "</table>\n",
       "</div>"
      ],
      "text/plain": [
       "     id formation                 geometry\n",
       "0  None       Ton   POINT (19.150 293.313)\n",
       "1  None       Ton   POINT (61.934 381.459)\n",
       "2  None       Ton  POINT (109.358 480.946)\n",
       "3  None       Ton  POINT (157.812 615.999)\n",
       "4  None       Ton  POINT (191.318 719.094)"
      ]
     },
     "execution_count": 10,
     "metadata": {},
     "output_type": "execute_result"
    }
   ],
   "source": [
    "gdf = gpd.read_file('../data/Test1/interfaces1.shp')\n",
    "gdf.head()"
   ]
  },
  {
   "cell_type": "markdown",
   "metadata": {},
   "source": [
    "## Inspecting the Data\n",
    "\n",
    "Firstly, we can inspect the data that we have loaded."
   ]
  },
  {
   "cell_type": "code",
   "execution_count": 11,
   "metadata": {},
   "outputs": [
    {
     "data": {
      "text/plain": [
       "<Geographic 2D CRS: EPSG:4326>\n",
       "Name: WGS 84\n",
       "Axis Info [ellipsoidal]:\n",
       "- Lat[north]: Geodetic latitude (degree)\n",
       "- Lon[east]: Geodetic longitude (degree)\n",
       "Area of Use:\n",
       "- name: World\n",
       "- bounds: (-180.0, -90.0, 180.0, 90.0)\n",
       "Datum: World Geodetic System 1984\n",
       "- Ellipsoid: WGS 84\n",
       "- Prime Meridian: Greenwich"
      ]
     },
     "execution_count": 11,
     "metadata": {},
     "output_type": "execute_result"
    }
   ],
   "source": [
    "gdf.crs"
   ]
  },
  {
   "cell_type": "code",
   "execution_count": 12,
   "metadata": {},
   "outputs": [
    {
     "data": {
      "text/plain": [
       "41"
      ]
     },
     "execution_count": 12,
     "metadata": {},
     "output_type": "execute_result"
    }
   ],
   "source": [
    "len(gdf)"
   ]
  },
  {
   "cell_type": "code",
   "execution_count": null,
   "metadata": {},
   "outputs": [],
   "source": [
    "gdf.geometry[:5]"
   ]
  },
  {
   "cell_type": "code",
   "execution_count": 13,
   "metadata": {},
   "outputs": [
    {
     "data": {
      "text/plain": [
       "0    Point\n",
       "1    Point\n",
       "2    Point\n",
       "3    Point\n",
       "4    Point\n",
       "dtype: object"
      ]
     },
     "execution_count": 13,
     "metadata": {},
     "output_type": "execute_result"
    }
   ],
   "source": [
    "gdf.geom_type[:5]"
   ]
  },
  {
   "cell_type": "code",
   "execution_count": 14,
   "metadata": {},
   "outputs": [
    {
     "data": {
      "text/html": [
       "<div>\n",
       "<style scoped>\n",
       "    .dataframe tbody tr th:only-of-type {\n",
       "        vertical-align: middle;\n",
       "    }\n",
       "\n",
       "    .dataframe tbody tr th {\n",
       "        vertical-align: top;\n",
       "    }\n",
       "\n",
       "    .dataframe thead th {\n",
       "        text-align: right;\n",
       "    }\n",
       "</style>\n",
       "<table border=\"1\" class=\"dataframe\">\n",
       "  <thead>\n",
       "    <tr style=\"text-align: right;\">\n",
       "      <th></th>\n",
       "      <th>minx</th>\n",
       "      <th>miny</th>\n",
       "      <th>maxx</th>\n",
       "      <th>maxy</th>\n",
       "    </tr>\n",
       "  </thead>\n",
       "  <tbody>\n",
       "    <tr>\n",
       "      <th>0</th>\n",
       "      <td>19.15</td>\n",
       "      <td>293.31</td>\n",
       "      <td>19.15</td>\n",
       "      <td>293.31</td>\n",
       "    </tr>\n",
       "    <tr>\n",
       "      <th>1</th>\n",
       "      <td>61.93</td>\n",
       "      <td>381.46</td>\n",
       "      <td>61.93</td>\n",
       "      <td>381.46</td>\n",
       "    </tr>\n",
       "    <tr>\n",
       "      <th>2</th>\n",
       "      <td>109.36</td>\n",
       "      <td>480.95</td>\n",
       "      <td>109.36</td>\n",
       "      <td>480.95</td>\n",
       "    </tr>\n",
       "    <tr>\n",
       "      <th>3</th>\n",
       "      <td>157.81</td>\n",
       "      <td>616.00</td>\n",
       "      <td>157.81</td>\n",
       "      <td>616.00</td>\n",
       "    </tr>\n",
       "    <tr>\n",
       "      <th>4</th>\n",
       "      <td>191.32</td>\n",
       "      <td>719.09</td>\n",
       "      <td>191.32</td>\n",
       "      <td>719.09</td>\n",
       "    </tr>\n",
       "  </tbody>\n",
       "</table>\n",
       "</div>"
      ],
      "text/plain": [
       "    minx   miny   maxx   maxy\n",
       "0  19.15 293.31  19.15 293.31\n",
       "1  61.93 381.46  61.93 381.46\n",
       "2 109.36 480.95 109.36 480.95\n",
       "3 157.81 616.00 157.81 616.00\n",
       "4 191.32 719.09 191.32 719.09"
      ]
     },
     "execution_count": 14,
     "metadata": {},
     "output_type": "execute_result"
    }
   ],
   "source": [
    "gdf.bounds.head()"
   ]
  },
  {
   "cell_type": "code",
   "execution_count": 15,
   "metadata": {},
   "outputs": [
    {
     "data": {
      "text/plain": [
       "array([   8.84067296,  164.9607695 ,  966.07357798, 1045.38823411])"
      ]
     },
     "execution_count": 15,
     "metadata": {},
     "output_type": "execute_result"
    }
   ],
   "source": [
    "gdf.total_bounds"
   ]
  },
  {
   "cell_type": "code",
   "execution_count": 16,
   "metadata": {},
   "outputs": [
    {
     "data": {
      "text/plain": [
       "0    True\n",
       "1    True\n",
       "2    True\n",
       "3    True\n",
       "4    True\n",
       "dtype: bool"
      ]
     },
     "execution_count": 16,
     "metadata": {},
     "output_type": "execute_result"
    }
   ],
   "source": [
    "gdf.is_valid[:5]"
   ]
  },
  {
   "cell_type": "markdown",
   "metadata": {},
   "source": [
    "As mentioned above, every entry of the `GeoDataFrame` is basically a shapely object, in this case a point:"
   ]
  },
  {
   "cell_type": "code",
   "execution_count": 17,
   "metadata": {},
   "outputs": [
    {
     "data": {
      "image/svg+xml": [
       "<svg xmlns=\"http://www.w3.org/2000/svg\" xmlns:xlink=\"http://www.w3.org/1999/xlink\" width=\"100.0\" height=\"100.0\" viewBox=\"18.150128045807676 292.313485355882 2.0 2.0\" preserveAspectRatio=\"xMinYMin meet\"><g transform=\"matrix(1,0,0,-1,0,586.626970711764)\"><circle cx=\"19.150128045807676\" cy=\"293.313485355882\" r=\"0.06\" stroke=\"#555555\" stroke-width=\"0.02\" fill=\"#66cc99\" opacity=\"0.6\" /></g></svg>"
      ],
      "text/plain": [
       "<shapely.geometry.point.Point at 0x1e655360760>"
      ]
     },
     "execution_count": 17,
     "metadata": {},
     "output_type": "execute_result"
    }
   ],
   "source": [
    "gdf.loc[0].geometry"
   ]
  },
  {
   "cell_type": "code",
   "execution_count": 18,
   "metadata": {},
   "outputs": [
    {
     "data": {
      "text/plain": [
       "shapely.geometry.point.Point"
      ]
     },
     "execution_count": 18,
     "metadata": {},
     "output_type": "execute_result"
    }
   ],
   "source": [
    "type(gdf.loc[0].geometry)"
   ]
  },
  {
   "cell_type": "markdown",
   "metadata": {},
   "source": [
    "## Plotting Data\n",
    "\n",
    "The data can be plotted using the built-in `GeoPandas` plotting functions and by adding additional `Matplotlib` commands like grids or axes labels."
   ]
  },
  {
   "cell_type": "code",
   "execution_count": 19,
   "metadata": {},
   "outputs": [
    {
     "data": {
      "text/plain": [
       "Text(130.36971370023429, 0.5, 'Y [m]')"
      ]
     },
     "execution_count": 19,
     "metadata": {},
     "output_type": "execute_result"
    },
    {
     "data": {
      "image/png": "[encoded data removed]",
      "text/plain": [
       "<Figure size 748.8x514.8 with 1 Axes>"
      ]
     },
     "metadata": {},
     "output_type": "display_data"
    }
   ],
   "source": [
    "gdf.plot(aspect='equal')\n",
    "plt.grid()\n",
    "plt.xlabel('X [m]')\n",
    "plt.ylabel('Y [m]')"
   ]
  },
  {
   "cell_type": "markdown",
   "metadata": {},
   "source": [
    "## Extracting XY Coordinates\n",
    "\n",
    "For the geomodeling with `GemPy` or other packages, the X and Y coordinates of the `shapely` points need to be extracted. The extraction of the X and Y values for points is relatively straight forward. The X and Y coordinates for points can be accessed using `gdf.geometry.x` and `gdf.geometry.y`. This functionality is also combined in the function `extract_xy_points`. \n",
    "\n",
    "The signature of the function is shown below:\n",
    "\n",
    "```Signature:\n",
    "gg.vector.extract_xy_points(\n",
    "    gdf: geopandas.geodataframe.GeoDataFrame,\n",
    "    reset_index: bool = True,\n",
    "    drop_id: bool = True,\n",
    "    drop_index: bool = True,\n",
    "    overwrite_xy: bool = False,\n",
    "    target_crs: str = None,\n",
    "    bbox: Union[Sequence[float], NoneType] = None,\n",
    ") -> geopandas.geodataframe.GeoDataFrame\n",
    "Docstring:\n",
    "Extracting x,y coordinates from a GeoDataFrame (Points) and returning a GeoDataFrame with x,y\n",
    "coordinates as additional columns\n",
    "Args:\n",
    "    gdf (gpd.geodataframe.GeoDataFrame): GeoDataFrame created from vector data containing elements of geom_type Point\n",
    "    reset_index (bool): Variable to reset the index of the resulting GeoDataFrame, default True\n",
    "    drop_id (bool): Variable to drop the id column, default True\n",
    "    drop_index (bool): Variable to drop the index column, default True\n",
    "    overwrite_xy (bool): Variable to overwrite existing X and Y values, default False\n",
    "    target_crs (str, pyproj.crs.crs.CRS): Name of the CRS provided to reproject coordinates of the GeoDataFrame\n",
    "    bbox (list): Values (minx, maxx, miny, maxy) to limit the extent of the data\n",
    "Return:\n",
    "    gdf (gpd.geodataframe.GeoDataFrame): GeoDataFrame with appended x,y columns and optional columns```"
   ]
  },
  {
   "cell_type": "raw",
   "metadata": {},
   "source": [
    "gg.vector.extract_xy_points?"
   ]
  },
  {
   "cell_type": "code",
   "execution_count": 20,
   "metadata": {},
   "outputs": [
    {
     "data": {
      "text/plain": [
       "0    19.15\n",
       "1    61.93\n",
       "2   109.36\n",
       "3   157.81\n",
       "4   191.32\n",
       "dtype: float64"
      ]
     },
     "execution_count": 20,
     "metadata": {},
     "output_type": "execute_result"
    }
   ],
   "source": [
    "gdf.geometry.x[:5]"
   ]
  },
  {
   "cell_type": "code",
   "execution_count": 21,
   "metadata": {},
   "outputs": [
    {
     "data": {
      "text/plain": [
       "0   293.31\n",
       "1   381.46\n",
       "2   480.95\n",
       "3   616.00\n",
       "4   719.09\n",
       "dtype: float64"
      ]
     },
     "execution_count": 21,
     "metadata": {},
     "output_type": "execute_result"
    }
   ],
   "source": [
    "gdf.geometry.y[:5]"
   ]
  },
  {
   "cell_type": "markdown",
   "metadata": {},
   "source": [
    "## Extracting X and Y coordinates using GemGIS"
   ]
  },
  {
   "cell_type": "markdown",
   "metadata": {},
   "source": [
    "In its simplest version, `extract_xy_points` will return a `GeoDataFrame` with Points as geometry type, an additional `X` and `Y`column and the remaining columns of the original `gdf`. The `id` column will be dropped by default as it is usally not used when creating the data in your GIS software."
   ]
  },
  {
   "cell_type": "code",
   "execution_count": 22,
   "metadata": {},
   "outputs": [
    {
     "data": {
      "text/html": [
       "<div>\n",
       "<style scoped>\n",
       "    .dataframe tbody tr th:only-of-type {\n",
       "        vertical-align: middle;\n",
       "    }\n",
       "\n",
       "    .dataframe tbody tr th {\n",
       "        vertical-align: top;\n",
       "    }\n",
       "\n",
       "    .dataframe thead th {\n",
       "        text-align: right;\n",
       "    }\n",
       "</style>\n",
       "<table border=\"1\" class=\"dataframe\">\n",
       "  <thead>\n",
       "    <tr style=\"text-align: right;\">\n",
       "      <th></th>\n",
       "      <th>formation</th>\n",
       "      <th>geometry</th>\n",
       "      <th>X</th>\n",
       "      <th>Y</th>\n",
       "    </tr>\n",
       "  </thead>\n",
       "  <tbody>\n",
       "    <tr>\n",
       "      <th>0</th>\n",
       "      <td>Ton</td>\n",
       "      <td>POINT (19.150 293.313)</td>\n",
       "      <td>19.15</td>\n",
       "      <td>293.31</td>\n",
       "    </tr>\n",
       "    <tr>\n",
       "      <th>1</th>\n",
       "      <td>Ton</td>\n",
       "      <td>POINT (61.934 381.459)</td>\n",
       "      <td>61.93</td>\n",
       "      <td>381.46</td>\n",
       "    </tr>\n",
       "    <tr>\n",
       "      <th>2</th>\n",
       "      <td>Ton</td>\n",
       "      <td>POINT (109.358 480.946)</td>\n",
       "      <td>109.36</td>\n",
       "      <td>480.95</td>\n",
       "    </tr>\n",
       "    <tr>\n",
       "      <th>3</th>\n",
       "      <td>Ton</td>\n",
       "      <td>POINT (157.812 615.999)</td>\n",
       "      <td>157.81</td>\n",
       "      <td>616.00</td>\n",
       "    </tr>\n",
       "    <tr>\n",
       "      <th>4</th>\n",
       "      <td>Ton</td>\n",
       "      <td>POINT (191.318 719.094)</td>\n",
       "      <td>191.32</td>\n",
       "      <td>719.09</td>\n",
       "    </tr>\n",
       "  </tbody>\n",
       "</table>\n",
       "</div>"
      ],
      "text/plain": [
       "  formation                 geometry      X      Y\n",
       "0       Ton   POINT (19.150 293.313)  19.15 293.31\n",
       "1       Ton   POINT (61.934 381.459)  61.93 381.46\n",
       "2       Ton  POINT (109.358 480.946) 109.36 480.95\n",
       "3       Ton  POINT (157.812 615.999) 157.81 616.00\n",
       "4       Ton  POINT (191.318 719.094) 191.32 719.09"
      ]
     },
     "execution_count": 22,
     "metadata": {},
     "output_type": "execute_result"
    }
   ],
   "source": [
    "gdf_coordinates = gg.vector.extract_xy_points(gdf)\n",
    "gdf_coordinates.head()"
   ]
  },
  {
   "cell_type": "markdown",
   "metadata": {},
   "source": [
    "An argument `reset_index=False` can be passed to prevent resetting the index. However, this will have no effect on `extract_xy_points` unless the data is cropped as shown below."
   ]
  },
  {
   "cell_type": "code",
   "execution_count": 23,
   "metadata": {},
   "outputs": [
    {
     "data": {
      "text/html": [
       "<div>\n",
       "<style scoped>\n",
       "    .dataframe tbody tr th:only-of-type {\n",
       "        vertical-align: middle;\n",
       "    }\n",
       "\n",
       "    .dataframe tbody tr th {\n",
       "        vertical-align: top;\n",
       "    }\n",
       "\n",
       "    .dataframe thead th {\n",
       "        text-align: right;\n",
       "    }\n",
       "</style>\n",
       "<table border=\"1\" class=\"dataframe\">\n",
       "  <thead>\n",
       "    <tr style=\"text-align: right;\">\n",
       "      <th></th>\n",
       "      <th>formation</th>\n",
       "      <th>geometry</th>\n",
       "      <th>X</th>\n",
       "      <th>Y</th>\n",
       "    </tr>\n",
       "  </thead>\n",
       "  <tbody>\n",
       "    <tr>\n",
       "      <th>0</th>\n",
       "      <td>Ton</td>\n",
       "      <td>POINT (19.150 293.313)</td>\n",
       "      <td>19.15</td>\n",
       "      <td>293.31</td>\n",
       "    </tr>\n",
       "    <tr>\n",
       "      <th>1</th>\n",
       "      <td>Ton</td>\n",
       "      <td>POINT (61.934 381.459)</td>\n",
       "      <td>61.93</td>\n",
       "      <td>381.46</td>\n",
       "    </tr>\n",
       "    <tr>\n",
       "      <th>2</th>\n",
       "      <td>Ton</td>\n",
       "      <td>POINT (109.358 480.946)</td>\n",
       "      <td>109.36</td>\n",
       "      <td>480.95</td>\n",
       "    </tr>\n",
       "    <tr>\n",
       "      <th>3</th>\n",
       "      <td>Ton</td>\n",
       "      <td>POINT (157.812 615.999)</td>\n",
       "      <td>157.81</td>\n",
       "      <td>616.00</td>\n",
       "    </tr>\n",
       "    <tr>\n",
       "      <th>4</th>\n",
       "      <td>Ton</td>\n",
       "      <td>POINT (191.318 719.094)</td>\n",
       "      <td>191.32</td>\n",
       "      <td>719.09</td>\n",
       "    </tr>\n",
       "  </tbody>\n",
       "</table>\n",
       "</div>"
      ],
      "text/plain": [
       "  formation                 geometry      X      Y\n",
       "0       Ton   POINT (19.150 293.313)  19.15 293.31\n",
       "1       Ton   POINT (61.934 381.459)  61.93 381.46\n",
       "2       Ton  POINT (109.358 480.946) 109.36 480.95\n",
       "3       Ton  POINT (157.812 615.999) 157.81 616.00\n",
       "4       Ton  POINT (191.318 719.094) 191.32 719.09"
      ]
     },
     "execution_count": 23,
     "metadata": {},
     "output_type": "execute_result"
    }
   ],
   "source": [
    "gdf_coordinates = gg.vector.extract_xy_points(gdf, reset_index=False)\n",
    "gdf_coordinates.head()"
   ]
  },
  {
   "cell_type": "markdown",
   "metadata": {},
   "source": [
    "An argument `drop_id=False` can be passed to prevent dropping the `id` column if it is needed for further processing."
   ]
  },
  {
   "cell_type": "code",
   "execution_count": 24,
   "metadata": {},
   "outputs": [
    {
     "data": {
      "text/html": [
       "<div>\n",
       "<style scoped>\n",
       "    .dataframe tbody tr th:only-of-type {\n",
       "        vertical-align: middle;\n",
       "    }\n",
       "\n",
       "    .dataframe tbody tr th {\n",
       "        vertical-align: top;\n",
       "    }\n",
       "\n",
       "    .dataframe thead th {\n",
       "        text-align: right;\n",
       "    }\n",
       "</style>\n",
       "<table border=\"1\" class=\"dataframe\">\n",
       "  <thead>\n",
       "    <tr style=\"text-align: right;\">\n",
       "      <th></th>\n",
       "      <th>id</th>\n",
       "      <th>formation</th>\n",
       "      <th>geometry</th>\n",
       "      <th>X</th>\n",
       "      <th>Y</th>\n",
       "    </tr>\n",
       "  </thead>\n",
       "  <tbody>\n",
       "    <tr>\n",
       "      <th>0</th>\n",
       "      <td>None</td>\n",
       "      <td>Ton</td>\n",
       "      <td>POINT (19.150 293.313)</td>\n",
       "      <td>19.15</td>\n",
       "      <td>293.31</td>\n",
       "    </tr>\n",
       "    <tr>\n",
       "      <th>1</th>\n",
       "      <td>None</td>\n",
       "      <td>Ton</td>\n",
       "      <td>POINT (61.934 381.459)</td>\n",
       "      <td>61.93</td>\n",
       "      <td>381.46</td>\n",
       "    </tr>\n",
       "    <tr>\n",
       "      <th>2</th>\n",
       "      <td>None</td>\n",
       "      <td>Ton</td>\n",
       "      <td>POINT (109.358 480.946)</td>\n",
       "      <td>109.36</td>\n",
       "      <td>480.95</td>\n",
       "    </tr>\n",
       "    <tr>\n",
       "      <th>3</th>\n",
       "      <td>None</td>\n",
       "      <td>Ton</td>\n",
       "      <td>POINT (157.812 615.999)</td>\n",
       "      <td>157.81</td>\n",
       "      <td>616.00</td>\n",
       "    </tr>\n",
       "    <tr>\n",
       "      <th>4</th>\n",
       "      <td>None</td>\n",
       "      <td>Ton</td>\n",
       "      <td>POINT (191.318 719.094)</td>\n",
       "      <td>191.32</td>\n",
       "      <td>719.09</td>\n",
       "    </tr>\n",
       "  </tbody>\n",
       "</table>\n",
       "</div>"
      ],
      "text/plain": [
       "     id formation                 geometry      X      Y\n",
       "0  None       Ton   POINT (19.150 293.313)  19.15 293.31\n",
       "1  None       Ton   POINT (61.934 381.459)  61.93 381.46\n",
       "2  None       Ton  POINT (109.358 480.946) 109.36 480.95\n",
       "3  None       Ton  POINT (157.812 615.999) 157.81 616.00\n",
       "4  None       Ton  POINT (191.318 719.094) 191.32 719.09"
      ]
     },
     "execution_count": 24,
     "metadata": {},
     "output_type": "execute_result"
    }
   ],
   "source": [
    "gdf_coordinates = gg.vector.extract_xy_points(gdf, drop_id=False)\n",
    "gdf_coordinates.head()"
   ]
  },
  {
   "cell_type": "markdown",
   "metadata": {},
   "source": [
    "A `target_crs` can be provided with an EPSG code as string or a pyproj CRS object (https://pyproj4.github.io/pyproj/dev/api/crs/crs.html) to reproject the current coordinates into a different Coordinate Reference System (=CRS). As we deal with a Long/Lat coordinate system here, the reprojection will fail. Therefore, we pass the original CRS again."
   ]
  },
  {
   "cell_type": "code",
   "execution_count": 25,
   "metadata": {},
   "outputs": [
    {
     "data": {
      "text/plain": [
       "<Geographic 2D CRS: EPSG:4326>\n",
       "Name: WGS 84\n",
       "Axis Info [ellipsoidal]:\n",
       "- Lat[north]: Geodetic latitude (degree)\n",
       "- Lon[east]: Geodetic longitude (degree)\n",
       "Area of Use:\n",
       "- name: World\n",
       "- bounds: (-180.0, -90.0, 180.0, 90.0)\n",
       "Datum: World Geodetic System 1984\n",
       "- Ellipsoid: WGS 84\n",
       "- Prime Meridian: Greenwich"
      ]
     },
     "execution_count": 25,
     "metadata": {},
     "output_type": "execute_result"
    }
   ],
   "source": [
    "gdf.crs"
   ]
  },
  {
   "cell_type": "code",
   "execution_count": 26,
   "metadata": {},
   "outputs": [
    {
     "data": {
      "text/html": [
       "<div>\n",
       "<style scoped>\n",
       "    .dataframe tbody tr th:only-of-type {\n",
       "        vertical-align: middle;\n",
       "    }\n",
       "\n",
       "    .dataframe tbody tr th {\n",
       "        vertical-align: top;\n",
       "    }\n",
       "\n",
       "    .dataframe thead th {\n",
       "        text-align: right;\n",
       "    }\n",
       "</style>\n",
       "<table border=\"1\" class=\"dataframe\">\n",
       "  <thead>\n",
       "    <tr style=\"text-align: right;\">\n",
       "      <th></th>\n",
       "      <th>formation</th>\n",
       "      <th>geometry</th>\n",
       "      <th>X</th>\n",
       "      <th>Y</th>\n",
       "    </tr>\n",
       "  </thead>\n",
       "  <tbody>\n",
       "    <tr>\n",
       "      <th>0</th>\n",
       "      <td>Ton</td>\n",
       "      <td>POINT (19.150 293.313)</td>\n",
       "      <td>19.15</td>\n",
       "      <td>293.31</td>\n",
       "    </tr>\n",
       "    <tr>\n",
       "      <th>1</th>\n",
       "      <td>Ton</td>\n",
       "      <td>POINT (61.934 381.459)</td>\n",
       "      <td>61.93</td>\n",
       "      <td>381.46</td>\n",
       "    </tr>\n",
       "    <tr>\n",
       "      <th>2</th>\n",
       "      <td>Ton</td>\n",
       "      <td>POINT (109.358 480.946)</td>\n",
       "      <td>109.36</td>\n",
       "      <td>480.95</td>\n",
       "    </tr>\n",
       "    <tr>\n",
       "      <th>3</th>\n",
       "      <td>Ton</td>\n",
       "      <td>POINT (157.812 615.999)</td>\n",
       "      <td>157.81</td>\n",
       "      <td>616.00</td>\n",
       "    </tr>\n",
       "    <tr>\n",
       "      <th>4</th>\n",
       "      <td>Ton</td>\n",
       "      <td>POINT (191.318 719.094)</td>\n",
       "      <td>191.32</td>\n",
       "      <td>719.09</td>\n",
       "    </tr>\n",
       "  </tbody>\n",
       "</table>\n",
       "</div>"
      ],
      "text/plain": [
       "  formation                 geometry      X      Y\n",
       "0       Ton   POINT (19.150 293.313)  19.15 293.31\n",
       "1       Ton   POINT (61.934 381.459)  61.93 381.46\n",
       "2       Ton  POINT (109.358 480.946) 109.36 480.95\n",
       "3       Ton  POINT (157.812 615.999) 157.81 616.00\n",
       "4       Ton  POINT (191.318 719.094) 191.32 719.09"
      ]
     },
     "execution_count": 26,
     "metadata": {},
     "output_type": "execute_result"
    }
   ],
   "source": [
    "gdf_coordinates = gg.vector.extract_xy_points(gdf, target_crs='EPSG:4326')\n",
    "gdf_coordinates.head()"
   ]
  },
  {
   "cell_type": "markdown",
   "metadata": {},
   "source": [
    "A bounding box (`bbox`) containing `minx`, `maxx`, `miny`, `maxy` values can be provided to limit the extent of the data. The original `gdf` consists of 41 elements, the cropped `gdf_coordinates` of only 11 elements. Please notice, that the index was automatically reset. Passing `reset_index=False` will prevent resetting the index.\n",
    "\n",
    "A clipping of the data can also be performed the same way for LineStrings, MultiLineStrings and Polygons but the demonstration of the feature will be limited to Point data here."
   ]
  },
  {
   "cell_type": "code",
   "execution_count": 27,
   "metadata": {},
   "outputs": [
    {
     "data": {
      "text/plain": [
       "41"
      ]
     },
     "execution_count": 27,
     "metadata": {},
     "output_type": "execute_result"
    }
   ],
   "source": [
    "len(gdf)"
   ]
  },
  {
   "cell_type": "code",
   "execution_count": 28,
   "metadata": {},
   "outputs": [
    {
     "data": {
      "text/html": [
       "<div>\n",
       "<style scoped>\n",
       "    .dataframe tbody tr th:only-of-type {\n",
       "        vertical-align: middle;\n",
       "    }\n",
       "\n",
       "    .dataframe tbody tr th {\n",
       "        vertical-align: top;\n",
       "    }\n",
       "\n",
       "    .dataframe thead th {\n",
       "        text-align: right;\n",
       "    }\n",
       "</style>\n",
       "<table border=\"1\" class=\"dataframe\">\n",
       "  <thead>\n",
       "    <tr style=\"text-align: right;\">\n",
       "      <th></th>\n",
       "      <th>formation</th>\n",
       "      <th>geometry</th>\n",
       "      <th>X</th>\n",
       "      <th>Y</th>\n",
       "    </tr>\n",
       "  </thead>\n",
       "  <tbody>\n",
       "    <tr>\n",
       "      <th>0</th>\n",
       "      <td>Ton</td>\n",
       "      <td>POINT (638.748 641.773)</td>\n",
       "      <td>638.75</td>\n",
       "      <td>641.77</td>\n",
       "    </tr>\n",
       "    <tr>\n",
       "      <th>1</th>\n",
       "      <td>Ton</td>\n",
       "      <td>POINT (674.831 563.421)</td>\n",
       "      <td>674.83</td>\n",
       "      <td>563.42</td>\n",
       "    </tr>\n",
       "    <tr>\n",
       "      <th>2</th>\n",
       "      <td>Ton</td>\n",
       "      <td>POINT (734.111 426.305)</td>\n",
       "      <td>734.11</td>\n",
       "      <td>426.31</td>\n",
       "    </tr>\n",
       "    <tr>\n",
       "      <th>3</th>\n",
       "      <td>Ton</td>\n",
       "      <td>POINT (771.740 327.335)</td>\n",
       "      <td>771.74</td>\n",
       "      <td>327.33</td>\n",
       "    </tr>\n",
       "    <tr>\n",
       "      <th>4</th>\n",
       "      <td>Ton</td>\n",
       "      <td>POINT (795.968 245.890)</td>\n",
       "      <td>795.97</td>\n",
       "      <td>245.89</td>\n",
       "    </tr>\n",
       "    <tr>\n",
       "      <th>5</th>\n",
       "      <td>Ton</td>\n",
       "      <td>POINT (818.648 185.580)</td>\n",
       "      <td>818.65</td>\n",
       "      <td>185.58</td>\n",
       "    </tr>\n",
       "    <tr>\n",
       "      <th>6</th>\n",
       "      <td>Ton</td>\n",
       "      <td>POINT (841.329 164.961)</td>\n",
       "      <td>841.33</td>\n",
       "      <td>164.96</td>\n",
       "    </tr>\n",
       "    <tr>\n",
       "      <th>7</th>\n",
       "      <td>Sand</td>\n",
       "      <td>POINT (723.286 693.836)</td>\n",
       "      <td>723.29</td>\n",
       "      <td>693.84</td>\n",
       "    </tr>\n",
       "    <tr>\n",
       "      <th>8</th>\n",
       "      <td>Sand</td>\n",
       "      <td>POINT (757.307 626.824)</td>\n",
       "      <td>757.31</td>\n",
       "      <td>626.82</td>\n",
       "    </tr>\n",
       "    <tr>\n",
       "      <th>9</th>\n",
       "      <td>Sand</td>\n",
       "      <td>POINT (790.297 583.525)</td>\n",
       "      <td>790.30</td>\n",
       "      <td>583.52</td>\n",
       "    </tr>\n",
       "    <tr>\n",
       "      <th>10</th>\n",
       "      <td>Sand</td>\n",
       "      <td>POINT (831.535 569.091)</td>\n",
       "      <td>831.54</td>\n",
       "      <td>569.09</td>\n",
       "    </tr>\n",
       "  </tbody>\n",
       "</table>\n",
       "</div>"
      ],
      "text/plain": [
       "   formation                 geometry      X      Y\n",
       "0        Ton  POINT (638.748 641.773) 638.75 641.77\n",
       "1        Ton  POINT (674.831 563.421) 674.83 563.42\n",
       "2        Ton  POINT (734.111 426.305) 734.11 426.31\n",
       "3        Ton  POINT (771.740 327.335) 771.74 327.33\n",
       "4        Ton  POINT (795.968 245.890) 795.97 245.89\n",
       "5        Ton  POINT (818.648 185.580) 818.65 185.58\n",
       "6        Ton  POINT (841.329 164.961) 841.33 164.96\n",
       "7       Sand  POINT (723.286 693.836) 723.29 693.84\n",
       "8       Sand  POINT (757.307 626.824) 757.31 626.82\n",
       "9       Sand  POINT (790.297 583.525) 790.30 583.52\n",
       "10      Sand  POINT (831.535 569.091) 831.54 569.09"
      ]
     },
     "execution_count": 28,
     "metadata": {},
     "output_type": "execute_result"
    }
   ],
   "source": [
    "gdf_coordinates = gg.vector.extract_xy_points(gdf, reset_index=True, bbox = [600,850,150,700])\n",
    "gdf_coordinates"
   ]
  },
  {
   "cell_type": "code",
   "execution_count": 29,
   "metadata": {},
   "outputs": [
    {
     "data": {
      "text/plain": [
       "11"
      ]
     },
     "execution_count": 29,
     "metadata": {},
     "output_type": "execute_result"
    }
   ],
   "source": [
    "len(gdf_coordinates)"
   ]
  },
  {
   "cell_type": "markdown",
   "metadata": {},
   "source": [
    "The original data and the cropped/clipped data can now be visualized. The red rectangle marks the area that is being kept after the clipping. "
   ]
  },
  {
   "cell_type": "code",
   "execution_count": 30,
   "metadata": {},
   "outputs": [
    {
     "data": {
      "text/plain": [
       "Text(432.7400645933013, 0.5, 'Y [m]')"
      ]
     },
     "execution_count": 30,
     "metadata": {},
     "output_type": "execute_result"
    },
    {
     "data": {
      "image/png": "[encoded data removed]",
      "text/plain": [
       "<Figure size 748.8x514.8 with 2 Axes>"
      ]
     },
     "metadata": {},
     "output_type": "display_data"
    }
   ],
   "source": [
    "fig, (ax1, ax2) = plt.subplots(1, 2)\n",
    "gdf.plot(ax=ax1, aspect='equal')\n",
    "ax1.set_xlim(0,1000)\n",
    "ax1.set_ylim(0,1100)\n",
    "ax1.grid()\n",
    "\n",
    "ax1.axhline(700, c='red')\n",
    "ax1.axhline(150, c='red')\n",
    "ax1.axvline(600, c='red')\n",
    "ax1.axvline(850, c='red')\n",
    "ax1.set_xlabel('X [m]')\n",
    "ax1.set_ylabel('Y [m]')\n",
    "\n",
    "gdf_coordinates.plot(ax=ax2, aspect='equal')\n",
    "ax2.set_xlim(0,1000)\n",
    "ax2.set_ylim(0,1100)\n",
    "ax2.grid()\n",
    "\n",
    "ax2.axhline(700, c='red')\n",
    "ax2.axhline(150, c='red')\n",
    "ax2.axvline(600, c='red')\n",
    "ax2.axvline(850, c='red')\n",
    "ax2.set_xlabel('X [m]')\n",
    "ax2.set_ylabel('Y [m]')"
   ]
  },
  {
   "cell_type": "markdown",
   "metadata": {},
   "source": [
    "The index can also be reset but the old `index` column can be kept if needed for further processing."
   ]
  },
  {
   "cell_type": "code",
   "execution_count": 31,
   "metadata": {},
   "outputs": [
    {
     "data": {
      "text/html": [
       "<div>\n",
       "<style scoped>\n",
       "    .dataframe tbody tr th:only-of-type {\n",
       "        vertical-align: middle;\n",
       "    }\n",
       "\n",
       "    .dataframe tbody tr th {\n",
       "        vertical-align: top;\n",
       "    }\n",
       "\n",
       "    .dataframe thead th {\n",
       "        text-align: right;\n",
       "    }\n",
       "</style>\n",
       "<table border=\"1\" class=\"dataframe\">\n",
       "  <thead>\n",
       "    <tr style=\"text-align: right;\">\n",
       "      <th></th>\n",
       "      <th>index</th>\n",
       "      <th>formation</th>\n",
       "      <th>geometry</th>\n",
       "      <th>X</th>\n",
       "      <th>Y</th>\n",
       "    </tr>\n",
       "  </thead>\n",
       "  <tbody>\n",
       "    <tr>\n",
       "      <th>0</th>\n",
       "      <td>13</td>\n",
       "      <td>Ton</td>\n",
       "      <td>POINT (638.748 641.773)</td>\n",
       "      <td>638.75</td>\n",
       "      <td>641.77</td>\n",
       "    </tr>\n",
       "    <tr>\n",
       "      <th>1</th>\n",
       "      <td>14</td>\n",
       "      <td>Ton</td>\n",
       "      <td>POINT (674.831 563.421)</td>\n",
       "      <td>674.83</td>\n",
       "      <td>563.42</td>\n",
       "    </tr>\n",
       "    <tr>\n",
       "      <th>2</th>\n",
       "      <td>15</td>\n",
       "      <td>Ton</td>\n",
       "      <td>POINT (734.111 426.305)</td>\n",
       "      <td>734.11</td>\n",
       "      <td>426.31</td>\n",
       "    </tr>\n",
       "    <tr>\n",
       "      <th>3</th>\n",
       "      <td>16</td>\n",
       "      <td>Ton</td>\n",
       "      <td>POINT (771.740 327.335)</td>\n",
       "      <td>771.74</td>\n",
       "      <td>327.33</td>\n",
       "    </tr>\n",
       "    <tr>\n",
       "      <th>4</th>\n",
       "      <td>17</td>\n",
       "      <td>Ton</td>\n",
       "      <td>POINT (795.968 245.890)</td>\n",
       "      <td>795.97</td>\n",
       "      <td>245.89</td>\n",
       "    </tr>\n",
       "    <tr>\n",
       "      <th>5</th>\n",
       "      <td>18</td>\n",
       "      <td>Ton</td>\n",
       "      <td>POINT (818.648 185.580)</td>\n",
       "      <td>818.65</td>\n",
       "      <td>185.58</td>\n",
       "    </tr>\n",
       "    <tr>\n",
       "      <th>6</th>\n",
       "      <td>19</td>\n",
       "      <td>Ton</td>\n",
       "      <td>POINT (841.329 164.961)</td>\n",
       "      <td>841.33</td>\n",
       "      <td>164.96</td>\n",
       "    </tr>\n",
       "    <tr>\n",
       "      <th>7</th>\n",
       "      <td>33</td>\n",
       "      <td>Sand</td>\n",
       "      <td>POINT (723.286 693.836)</td>\n",
       "      <td>723.29</td>\n",
       "      <td>693.84</td>\n",
       "    </tr>\n",
       "    <tr>\n",
       "      <th>8</th>\n",
       "      <td>34</td>\n",
       "      <td>Sand</td>\n",
       "      <td>POINT (757.307 626.824)</td>\n",
       "      <td>757.31</td>\n",
       "      <td>626.82</td>\n",
       "    </tr>\n",
       "    <tr>\n",
       "      <th>9</th>\n",
       "      <td>35</td>\n",
       "      <td>Sand</td>\n",
       "      <td>POINT (790.297 583.525)</td>\n",
       "      <td>790.30</td>\n",
       "      <td>583.52</td>\n",
       "    </tr>\n",
       "    <tr>\n",
       "      <th>10</th>\n",
       "      <td>36</td>\n",
       "      <td>Sand</td>\n",
       "      <td>POINT (831.535 569.091)</td>\n",
       "      <td>831.54</td>\n",
       "      <td>569.09</td>\n",
       "    </tr>\n",
       "  </tbody>\n",
       "</table>\n",
       "</div>"
      ],
      "text/plain": [
       "    index formation                 geometry      X      Y\n",
       "0      13       Ton  POINT (638.748 641.773) 638.75 641.77\n",
       "1      14       Ton  POINT (674.831 563.421) 674.83 563.42\n",
       "2      15       Ton  POINT (734.111 426.305) 734.11 426.31\n",
       "3      16       Ton  POINT (771.740 327.335) 771.74 327.33\n",
       "4      17       Ton  POINT (795.968 245.890) 795.97 245.89\n",
       "5      18       Ton  POINT (818.648 185.580) 818.65 185.58\n",
       "6      19       Ton  POINT (841.329 164.961) 841.33 164.96\n",
       "7      33      Sand  POINT (723.286 693.836) 723.29 693.84\n",
       "8      34      Sand  POINT (757.307 626.824) 757.31 626.82\n",
       "9      35      Sand  POINT (790.297 583.525) 790.30 583.52\n",
       "10     36      Sand  POINT (831.535 569.091) 831.54 569.09"
      ]
     },
     "execution_count": 31,
     "metadata": {},
     "output_type": "execute_result"
    }
   ],
   "source": [
    "gdf_coordinates = gg.vector.extract_xy_points(gdf, reset_index=True, drop_index=False, bbox = [600,850,0,700])\n",
    "gdf_coordinates"
   ]
  },
  {
   "cell_type": "markdown",
   "metadata": {},
   "source": [
    "The index can also be kept when setting `reset_index=False`. "
   ]
  },
  {
   "cell_type": "code",
   "execution_count": 32,
   "metadata": {},
   "outputs": [
    {
     "data": {
      "text/html": [
       "<div>\n",
       "<style scoped>\n",
       "    .dataframe tbody tr th:only-of-type {\n",
       "        vertical-align: middle;\n",
       "    }\n",
       "\n",
       "    .dataframe tbody tr th {\n",
       "        vertical-align: top;\n",
       "    }\n",
       "\n",
       "    .dataframe thead th {\n",
       "        text-align: right;\n",
       "    }\n",
       "</style>\n",
       "<table border=\"1\" class=\"dataframe\">\n",
       "  <thead>\n",
       "    <tr style=\"text-align: right;\">\n",
       "      <th></th>\n",
       "      <th>formation</th>\n",
       "      <th>geometry</th>\n",
       "      <th>X</th>\n",
       "      <th>Y</th>\n",
       "    </tr>\n",
       "  </thead>\n",
       "  <tbody>\n",
       "    <tr>\n",
       "      <th>13</th>\n",
       "      <td>Ton</td>\n",
       "      <td>POINT (638.748 641.773)</td>\n",
       "      <td>638.75</td>\n",
       "      <td>641.77</td>\n",
       "    </tr>\n",
       "    <tr>\n",
       "      <th>14</th>\n",
       "      <td>Ton</td>\n",
       "      <td>POINT (674.831 563.421)</td>\n",
       "      <td>674.83</td>\n",
       "      <td>563.42</td>\n",
       "    </tr>\n",
       "    <tr>\n",
       "      <th>15</th>\n",
       "      <td>Ton</td>\n",
       "      <td>POINT (734.111 426.305)</td>\n",
       "      <td>734.11</td>\n",
       "      <td>426.31</td>\n",
       "    </tr>\n",
       "    <tr>\n",
       "      <th>16</th>\n",
       "      <td>Ton</td>\n",
       "      <td>POINT (771.740 327.335)</td>\n",
       "      <td>771.74</td>\n",
       "      <td>327.33</td>\n",
       "    </tr>\n",
       "    <tr>\n",
       "      <th>17</th>\n",
       "      <td>Ton</td>\n",
       "      <td>POINT (795.968 245.890)</td>\n",
       "      <td>795.97</td>\n",
       "      <td>245.89</td>\n",
       "    </tr>\n",
       "    <tr>\n",
       "      <th>18</th>\n",
       "      <td>Ton</td>\n",
       "      <td>POINT (818.648 185.580)</td>\n",
       "      <td>818.65</td>\n",
       "      <td>185.58</td>\n",
       "    </tr>\n",
       "    <tr>\n",
       "      <th>19</th>\n",
       "      <td>Ton</td>\n",
       "      <td>POINT (841.329 164.961)</td>\n",
       "      <td>841.33</td>\n",
       "      <td>164.96</td>\n",
       "    </tr>\n",
       "    <tr>\n",
       "      <th>33</th>\n",
       "      <td>Sand</td>\n",
       "      <td>POINT (723.286 693.836)</td>\n",
       "      <td>723.29</td>\n",
       "      <td>693.84</td>\n",
       "    </tr>\n",
       "    <tr>\n",
       "      <th>34</th>\n",
       "      <td>Sand</td>\n",
       "      <td>POINT (757.307 626.824)</td>\n",
       "      <td>757.31</td>\n",
       "      <td>626.82</td>\n",
       "    </tr>\n",
       "    <tr>\n",
       "      <th>35</th>\n",
       "      <td>Sand</td>\n",
       "      <td>POINT (790.297 583.525)</td>\n",
       "      <td>790.30</td>\n",
       "      <td>583.52</td>\n",
       "    </tr>\n",
       "    <tr>\n",
       "      <th>36</th>\n",
       "      <td>Sand</td>\n",
       "      <td>POINT (831.535 569.091)</td>\n",
       "      <td>831.54</td>\n",
       "      <td>569.09</td>\n",
       "    </tr>\n",
       "  </tbody>\n",
       "</table>\n",
       "</div>"
      ],
      "text/plain": [
       "   formation                 geometry      X      Y\n",
       "13       Ton  POINT (638.748 641.773) 638.75 641.77\n",
       "14       Ton  POINT (674.831 563.421) 674.83 563.42\n",
       "15       Ton  POINT (734.111 426.305) 734.11 426.31\n",
       "16       Ton  POINT (771.740 327.335) 771.74 327.33\n",
       "17       Ton  POINT (795.968 245.890) 795.97 245.89\n",
       "18       Ton  POINT (818.648 185.580) 818.65 185.58\n",
       "19       Ton  POINT (841.329 164.961) 841.33 164.96\n",
       "33      Sand  POINT (723.286 693.836) 723.29 693.84\n",
       "34      Sand  POINT (757.307 626.824) 757.31 626.82\n",
       "35      Sand  POINT (790.297 583.525) 790.30 583.52\n",
       "36      Sand  POINT (831.535 569.091) 831.54 569.09"
      ]
     },
     "execution_count": 32,
     "metadata": {},
     "output_type": "execute_result"
    }
   ],
   "source": [
    "gdf_coordinates = gg.vector.extract_xy_points(gdf, reset_index=False, bbox = [600,850,0,700])\n",
    "gdf_coordinates"
   ]
  },
  {
   "cell_type": "markdown",
   "metadata": {},
   "source": [
    "<a id='ex2'></a>\n",
    "# Example 2 - LineString Data\n",
    "\n",
    "## Load Data\n",
    "\n",
    "As a second example, we are loading a shape file containing line information. Additional columns are `id`, which was not recorded when digitizing the data and `formation` indicating the base of the formation that was encountered at a particular point. This will become important in future tutorials. The term `Ton` is German for clay and indicates in this example the boundary between a sandstone layer and a claystone layer. In this example, the previously mentioned `Sand1` is also present. The same attributes can be inspected again as before. "
   ]
  },
  {
   "cell_type": "code",
   "execution_count": 33,
   "metadata": {},
   "outputs": [
    {
     "data": {
      "text/html": [
       "<div>\n",
       "<style scoped>\n",
       "    .dataframe tbody tr th:only-of-type {\n",
       "        vertical-align: middle;\n",
       "    }\n",
       "\n",
       "    .dataframe tbody tr th {\n",
       "        vertical-align: top;\n",
       "    }\n",
       "\n",
       "    .dataframe thead th {\n",
       "        text-align: right;\n",
       "    }\n",
       "</style>\n",
       "<table border=\"1\" class=\"dataframe\">\n",
       "  <thead>\n",
       "    <tr style=\"text-align: right;\">\n",
       "      <th></th>\n",
       "      <th>id</th>\n",
       "      <th>formation</th>\n",
       "      <th>geometry</th>\n",
       "    </tr>\n",
       "  </thead>\n",
       "  <tbody>\n",
       "    <tr>\n",
       "      <th>0</th>\n",
       "      <td>None</td>\n",
       "      <td>Sand1</td>\n",
       "      <td>LINESTRING (0.256 264.862, 10.593 276.734, 17....</td>\n",
       "    </tr>\n",
       "    <tr>\n",
       "      <th>1</th>\n",
       "      <td>None</td>\n",
       "      <td>Ton</td>\n",
       "      <td>LINESTRING (0.188 495.787, 8.841 504.142, 41.0...</td>\n",
       "    </tr>\n",
       "    <tr>\n",
       "      <th>2</th>\n",
       "      <td>None</td>\n",
       "      <td>Ton</td>\n",
       "      <td>LINESTRING (970.677 833.053, 959.372 800.023, ...</td>\n",
       "    </tr>\n",
       "  </tbody>\n",
       "</table>\n",
       "</div>"
      ],
      "text/plain": [
       "     id formation                                           geometry\n",
       "0  None     Sand1  LINESTRING (0.256 264.862, 10.593 276.734, 17....\n",
       "1  None       Ton  LINESTRING (0.188 495.787, 8.841 504.142, 41.0...\n",
       "2  None       Ton  LINESTRING (970.677 833.053, 959.372 800.023, ..."
      ]
     },
     "execution_count": 33,
     "metadata": {},
     "output_type": "execute_result"
    }
   ],
   "source": [
    "gdf = gpd.read_file('../data/Test1/interfaces1_lines.shp')\n",
    "gdf.head()"
   ]
  },
  {
   "cell_type": "code",
   "execution_count": 34,
   "metadata": {},
   "outputs": [
    {
     "name": "stderr",
     "output_type": "stream",
     "text": [
      "<ipython-input-34-621be3730c8a>:1: UserWarning: Geometry is in a geographic CRS. Results from 'length' are likely incorrect. Use 'GeoSeries.to_crs()' to re-project geometries to a projected CRS before this operation.\n",
      "\n",
      "  gdf.length\n"
     ]
    },
    {
     "data": {
      "text/plain": [
       "0   2144.71\n",
       "1    638.63\n",
       "2    910.15\n",
       "dtype: float64"
      ]
     },
     "execution_count": 34,
     "metadata": {},
     "output_type": "execute_result"
    }
   ],
   "source": [
    "gdf.length"
   ]
  },
  {
   "cell_type": "code",
   "execution_count": 35,
   "metadata": {},
   "outputs": [
    {
     "data": {
      "text/plain": [
       "<Geographic 2D CRS: EPSG:4326>\n",
       "Name: WGS 84\n",
       "Axis Info [ellipsoidal]:\n",
       "- Lat[north]: Geodetic latitude (degree)\n",
       "- Lon[east]: Geodetic longitude (degree)\n",
       "Area of Use:\n",
       "- name: World\n",
       "- bounds: (-180.0, -90.0, 180.0, 90.0)\n",
       "Datum: World Geodetic System 1984\n",
       "- Ellipsoid: WGS 84\n",
       "- Prime Meridian: Greenwich"
      ]
     },
     "execution_count": 35,
     "metadata": {},
     "output_type": "execute_result"
    }
   ],
   "source": [
    "gdf.crs"
   ]
  },
  {
   "cell_type": "code",
   "execution_count": 36,
   "metadata": {},
   "outputs": [
    {
     "data": {
      "text/plain": [
       "3"
      ]
     },
     "execution_count": 36,
     "metadata": {},
     "output_type": "execute_result"
    }
   ],
   "source": [
    "len(gdf)"
   ]
  },
  {
   "cell_type": "code",
   "execution_count": null,
   "metadata": {},
   "outputs": [],
   "source": [
    "gdf.geometry[:5]"
   ]
  },
  {
   "cell_type": "code",
   "execution_count": 37,
   "metadata": {},
   "outputs": [
    {
     "data": {
      "text/plain": [
       "0    LineString\n",
       "1    LineString\n",
       "2    LineString\n",
       "dtype: object"
      ]
     },
     "execution_count": 37,
     "metadata": {},
     "output_type": "execute_result"
    }
   ],
   "source": [
    "gdf.geom_type"
   ]
  },
  {
   "cell_type": "code",
   "execution_count": 38,
   "metadata": {},
   "outputs": [
    {
     "data": {
      "text/html": [
       "<div>\n",
       "<style scoped>\n",
       "    .dataframe tbody tr th:only-of-type {\n",
       "        vertical-align: middle;\n",
       "    }\n",
       "\n",
       "    .dataframe tbody tr th {\n",
       "        vertical-align: top;\n",
       "    }\n",
       "\n",
       "    .dataframe thead th {\n",
       "        text-align: right;\n",
       "    }\n",
       "</style>\n",
       "<table border=\"1\" class=\"dataframe\">\n",
       "  <thead>\n",
       "    <tr style=\"text-align: right;\">\n",
       "      <th></th>\n",
       "      <th>minx</th>\n",
       "      <th>miny</th>\n",
       "      <th>maxx</th>\n",
       "      <th>maxy</th>\n",
       "    </tr>\n",
       "  </thead>\n",
       "  <tbody>\n",
       "    <tr>\n",
       "      <th>0</th>\n",
       "      <td>0.26</td>\n",
       "      <td>164.96</td>\n",
       "      <td>970.55</td>\n",
       "      <td>957.29</td>\n",
       "    </tr>\n",
       "    <tr>\n",
       "      <th>1</th>\n",
       "      <td>0.19</td>\n",
       "      <td>495.79</td>\n",
       "      <td>277.81</td>\n",
       "      <td>1067.49</td>\n",
       "    </tr>\n",
       "    <tr>\n",
       "      <th>2</th>\n",
       "      <td>512.24</td>\n",
       "      <td>569.09</td>\n",
       "      <td>970.68</td>\n",
       "      <td>1067.95</td>\n",
       "    </tr>\n",
       "  </tbody>\n",
       "</table>\n",
       "</div>"
      ],
      "text/plain": [
       "    minx   miny   maxx    maxy\n",
       "0   0.26 164.96 970.55  957.29\n",
       "1   0.19 495.79 277.81 1067.49\n",
       "2 512.24 569.09 970.68 1067.95"
      ]
     },
     "execution_count": 38,
     "metadata": {},
     "output_type": "execute_result"
    }
   ],
   "source": [
    "gdf.bounds.head()"
   ]
  },
  {
   "cell_type": "code",
   "execution_count": 39,
   "metadata": {},
   "outputs": [
    {
     "data": {
      "text/plain": [
       "array([1.88186862e-01, 1.64960769e+02, 9.70676625e+02, 1.06795083e+03])"
      ]
     },
     "execution_count": 39,
     "metadata": {},
     "output_type": "execute_result"
    }
   ],
   "source": [
    "gdf.total_bounds"
   ]
  },
  {
   "cell_type": "code",
   "execution_count": 40,
   "metadata": {},
   "outputs": [
    {
     "data": {
      "text/plain": [
       "0    True\n",
       "1    True\n",
       "2    True\n",
       "dtype: bool"
      ]
     },
     "execution_count": 40,
     "metadata": {},
     "output_type": "execute_result"
    }
   ],
   "source": [
    "gdf.is_valid"
   ]
  },
  {
   "cell_type": "markdown",
   "metadata": {},
   "source": [
    "As mentioned above, every entry of the `GeoDataFrame` is basically a shapely object, in this case a LineString:"
   ]
  },
  {
   "cell_type": "code",
   "execution_count": 41,
   "metadata": {},
   "outputs": [
    {
     "data": {
      "image/svg+xml": [
       "<svg xmlns=\"http://www.w3.org/2000/svg\" xmlns:xlink=\"http://www.w3.org/1999/xlink\" width=\"300\" height=\"300\" viewBox=\"-38.555224795605895 126.14921750500065 1047.9119037579974 869.9514073432517\" preserveAspectRatio=\"xMinYMin meet\"><g transform=\"matrix(1,0,0,-1,0,1122.249842353253)\"><polyline fill=\"none\" stroke=\"#66cc99\" stroke-width=\"6.986079358386649\" points=\"0.256327195431048,264.86214748436396 10.59346813871597,276.73370778641777 17.134940141888464,289.089821570188 19.150128045807676,293.313485355882 27.79511673965105,310.571692592952 34.41734765644295,324.13919008101345 40.7165429187572,338.5142767052691 49.27698776241503,352.56632767504703 55.33390628387104,364.1148523226231 60.98703023722999,376.30944827915454 61.93436666575576,381.4593263680641 74.31225098443318,404.8981037004269 89.49492674488292,440.43202569296886 100.8011746516008,465.62880674222583 109.35786007581868,480.9455679783049 122.12152784712598,511.49986967805273 134.7199183717545,543.1573638168628 146.02616627847237,575.1378936101505 154.748128949369,602.2728885862734 157.81229899479604,615.9994296460927 170.2538403642964,655.5737715750863 179.944909998626,686.9082300594188 191.31802803451436,719.0939805375339 200.61919188519585,750.2232183370392 210.95633282848075,774.7739280773408 224.82375707423273,798.4767847239435 240.67561304042493,822.9062405945112 255.21221749191938,846.1648077169024 264.903287126249,861.9935547863074 272.76272323875287,874.2512796291529 291.3922107934166,899.788726360193 308.8361361352099,915.9405090840756 323.27905317555906,927.3449733382452 341.462737237453,937.9069335885562 355.03023472551445,947.2749675684081 366.0632917955071,952.6031383066481 384.7495149374586,957.2890728572154 394.44058457178824,955.9969302393048 407.8165849065408,950.0257745343622 423.1907578202995,941.4603257878103 441.2807544710481,929.1849709176595 456.27102382551817,917.5509910035582 474.5534268822465,900.757833323626 490.05913829717383,879.4374801281008 503.94967143971303,861.3474834773522 515.0349178336396,847.9621691518354 530.7616307613583,821.9371336310784 545.6212708673304,798.3555308542095 559.8348396643472,775.7430350407737 575.3452301051327,753.6306550861667 592.1384051121127,724.0573303243491 604.0907243277858,703.706084092257 617.9812574703249,678.1862673885223 629.6105410315205,658.804128119863 638.748378903369,641.7730673689532 651.2539298815232,612.9330651840361 660.6219638613752,594.1969972243322 669.3439265322719,575.4609292646282 674.8314717153735,563.4212086914579 685.4957092561546,542.18825685343 698.7401710897384,515.053261877307 710.6924903054116,486.9491599377511 720.0605242852636,462.39845019744945 727.4903443382495,442.3702396198349 734.1108384779523,426.30545600584105 745.9033766434759,391.3306062123655 759.1478384770597,360.3191833825108 767.5467654934788,341.5831154228068 771.7403495533283,327.3346871500575 779.1760490546743,305.080086466832 785.3137264897498,279.23723410861965 795.967569012817,245.88999194581893 805.9880083763195,216.89135279443246 812.4487214658725,198.47832048920617 818.648370208934,185.5796796743258 826.9853259173669,173.92761074890447 841.329171405051,164.96076949603759 857.0276417837888,173.60457509442682 867.1028091279114,188.15704344661185 874.1485314711044,203.323855306371 886.7469219957329,240.14991991682354 893.8537063942413,268.25402185637944 900.3144194837944,285.69794719817276 903.701374694373,295.89084912816793 909.6824534636465,319.6166909183264 916.4662022076773,337.70668756907503 920.1965028370037,355.17021589074665 929.3876283867835,383.2547148504243 936.1713771308141,409.09756720863663 945.539411110666,440.75506134744666 950.0939225955215,453.11003923761575 955.5535163994733,474.35076941312263 962.6603007979818,497.60933653551376 966.0735779836949,510.32751498236564 970.5451269713545,529.8471006128257\" opacity=\"0.8\" /></g></svg>"
      ],
      "text/plain": [
       "<shapely.geometry.linestring.LineString at 0x1e65550ef70>"
      ]
     },
     "execution_count": 41,
     "metadata": {},
     "output_type": "execute_result"
    }
   ],
   "source": [
    "gdf.loc[0].geometry"
   ]
  },
  {
   "cell_type": "code",
   "execution_count": 42,
   "metadata": {},
   "outputs": [
    {
     "data": {
      "text/plain": [
       "shapely.geometry.linestring.LineString"
      ]
     },
     "execution_count": 42,
     "metadata": {},
     "output_type": "execute_result"
    }
   ],
   "source": [
    "type(gdf.loc[0].geometry)"
   ]
  },
  {
   "cell_type": "markdown",
   "metadata": {},
   "source": [
    "## Plotting Data\n",
    "\n",
    "The data can be plotted using the built-in `GeoPandas` plotting functions and by adding additional `Matplotlib` commands like grids or axes labels."
   ]
  },
  {
   "cell_type": "code",
   "execution_count": 43,
   "metadata": {},
   "outputs": [
    {
     "data": {
      "text/plain": [
       "Text(132.79633672939792, 0.5, 'Y [m]')"
      ]
     },
     "execution_count": 43,
     "metadata": {},
     "output_type": "execute_result"
    },
    {
     "data": {
      "image/png": "[encoded data removed]",
      "text/plain": [
       "<Figure size 748.8x514.8 with 1 Axes>"
      ]
     },
     "metadata": {},
     "output_type": "display_data"
    }
   ],
   "source": [
    "gdf.plot(aspect='equal')\n",
    "plt.grid()\n",
    "plt.xlabel('X [m]')\n",
    "plt.ylabel('Y [m]')"
   ]
  },
  {
   "cell_type": "markdown",
   "metadata": {},
   "source": [
    "## Extracting XY Coordinates\n",
    "\n",
    "For the geomodeling with `GemPy` or other packages, the X and Y coordinates of the `shapely` LineStrings need to be extracted. The extraction of the X and Y values for LineStrings is done using list comprehension and the built-in `Pandas` `explode()` method. The functionality of extracting the X and Y coordinates is also combined in the function `extract_xy_linestrings`. \n",
    "\n",
    "The signature of the function is shown below:\n",
    "\n",
    "```Signature:\n",
    "gg.vector.extract_xy_linestrings(\n",
    "    gdf: geopandas.geodataframe.GeoDataFrame,\n",
    "    reset_index: bool = True,\n",
    "    drop_id: bool = True,\n",
    "    drop_index: bool = True,\n",
    "    drop_points: bool = True,\n",
    "    overwrite_xy: bool = False,\n",
    "    target_crs: str = None,\n",
    "    bbox: Union[Sequence[float], NoneType] = None,\n",
    ") -> geopandas.geodataframe.GeoDataFrame\n",
    "Docstring:\n",
    "Extracting x,y coordinates from a GeoDataFrame (LineStrings) and returning a GeoDataFrame with x,y\n",
    "coordinates as additional columns\n",
    "Args:\n",
    "    gdf (gpd.geodataframe.GeoDataFrame): GeoDataFrame created from vector data containing elements of geom_type\n",
    "    LineString\n",
    "    reset_index (bool): Variable to reset the index of the resulting GeoDataFrame, default True\n",
    "    drop_id (bool): Variable to drop the id column, default True\n",
    "    drop_index (bool): Variable to drop the index column, default True\n",
    "    drop_points (bool): Variable to drop the points column, default True\n",
    "    overwrite_xy (bool): Variable to overwrite existing X and Y values, default False\n",
    "    target_crs (str, pyproj.crs.crs.CRS): Name of the CRS provided to reproject coordinates of the GeoDataFrame\n",
    "    bbox (list): Values (minx, maxx, miny, maxy) to limit the extent of the data\n",
    "Return:\n",
    "    gdf (gpd.geodataframe.GeoDataFrame): GeoDataFrame with appended x,y columns and optional columns```"
   ]
  },
  {
   "cell_type": "raw",
   "metadata": {},
   "source": [
    "gg.vector.extract_xy_linestrings?"
   ]
  },
  {
   "cell_type": "markdown",
   "metadata": {},
   "source": [
    "First, we are using list comprehension to create a `Pandas` `series` containing list of tuples containing the X and Y position of each vertex in each line. "
   ]
  },
  {
   "cell_type": "code",
   "execution_count": 44,
   "metadata": {},
   "outputs": [
    {
     "name": "stdout",
     "output_type": "stream",
     "text": [
      "<class 'pandas.core.series.Series'>\n"
     ]
    },
    {
     "data": {
      "text/plain": [
       "0    [(0.256327195431048, 264.86214748436396), (10....\n",
       "1    [(0.1881868620686138, 495.787213546976), (8.84...\n",
       "2    [(970.6766251230017, 833.052616499831), (959.3...\n",
       "Name: points, dtype: object"
      ]
     },
     "execution_count": 44,
     "metadata": {},
     "output_type": "execute_result"
    }
   ],
   "source": [
    "gdf['points'] = [list(i.coords) for i in gdf.geometry]\n",
    "print(type(gdf['points']))\n",
    "gdf['points']"
   ]
  },
  {
   "cell_type": "code",
   "execution_count": 45,
   "metadata": {},
   "outputs": [
    {
     "data": {
      "text/plain": [
       "[(0.256327195431048, 264.86214748436396),\n",
       " (10.59346813871597, 276.73370778641777),\n",
       " (17.134940141888464, 289.089821570188),\n",
       " (19.150128045807676, 293.313485355882),\n",
       " (27.79511673965105, 310.571692592952)]"
      ]
     },
     "execution_count": 45,
     "metadata": {},
     "output_type": "execute_result"
    }
   ],
   "source": [
    "gdf['points'][0][:5]"
   ]
  },
  {
   "cell_type": "markdown",
   "metadata": {},
   "source": [
    "The lists within each row of `gdf['points']` now need to be exploded into single rows. In the `geometry` column, each row is now represented by a LineString which will be changed later to a Point object. The exploded point tuples are now present as additional rows."
   ]
  },
  {
   "cell_type": "code",
   "execution_count": 46,
   "metadata": {},
   "outputs": [
    {
     "data": {
      "text/html": [
       "<div>\n",
       "<style scoped>\n",
       "    .dataframe tbody tr th:only-of-type {\n",
       "        vertical-align: middle;\n",
       "    }\n",
       "\n",
       "    .dataframe tbody tr th {\n",
       "        vertical-align: top;\n",
       "    }\n",
       "\n",
       "    .dataframe thead th {\n",
       "        text-align: right;\n",
       "    }\n",
       "</style>\n",
       "<table border=\"1\" class=\"dataframe\">\n",
       "  <thead>\n",
       "    <tr style=\"text-align: right;\">\n",
       "      <th></th>\n",
       "      <th>id</th>\n",
       "      <th>formation</th>\n",
       "      <th>geometry</th>\n",
       "      <th>points</th>\n",
       "    </tr>\n",
       "  </thead>\n",
       "  <tbody>\n",
       "    <tr>\n",
       "      <th>0</th>\n",
       "      <td>None</td>\n",
       "      <td>Sand1</td>\n",
       "      <td>LINESTRING (0.256 264.862, 10.593 276.734, 17....</td>\n",
       "      <td>(0.256327195431048, 264.86214748436396)</td>\n",
       "    </tr>\n",
       "    <tr>\n",
       "      <th>0</th>\n",
       "      <td>None</td>\n",
       "      <td>Sand1</td>\n",
       "      <td>LINESTRING (0.256 264.862, 10.593 276.734, 17....</td>\n",
       "      <td>(10.59346813871597, 276.73370778641777)</td>\n",
       "    </tr>\n",
       "    <tr>\n",
       "      <th>0</th>\n",
       "      <td>None</td>\n",
       "      <td>Sand1</td>\n",
       "      <td>LINESTRING (0.256 264.862, 10.593 276.734, 17....</td>\n",
       "      <td>(17.134940141888464, 289.089821570188)</td>\n",
       "    </tr>\n",
       "    <tr>\n",
       "      <th>0</th>\n",
       "      <td>None</td>\n",
       "      <td>Sand1</td>\n",
       "      <td>LINESTRING (0.256 264.862, 10.593 276.734, 17....</td>\n",
       "      <td>(19.150128045807676, 293.313485355882)</td>\n",
       "    </tr>\n",
       "    <tr>\n",
       "      <th>0</th>\n",
       "      <td>None</td>\n",
       "      <td>Sand1</td>\n",
       "      <td>LINESTRING (0.256 264.862, 10.593 276.734, 17....</td>\n",
       "      <td>(27.79511673965105, 310.571692592952)</td>\n",
       "    </tr>\n",
       "    <tr>\n",
       "      <th>0</th>\n",
       "      <td>None</td>\n",
       "      <td>Sand1</td>\n",
       "      <td>LINESTRING (0.256 264.862, 10.593 276.734, 17....</td>\n",
       "      <td>(34.41734765644295, 324.13919008101345)</td>\n",
       "    </tr>\n",
       "    <tr>\n",
       "      <th>0</th>\n",
       "      <td>None</td>\n",
       "      <td>Sand1</td>\n",
       "      <td>LINESTRING (0.256 264.862, 10.593 276.734, 17....</td>\n",
       "      <td>(40.7165429187572, 338.5142767052691)</td>\n",
       "    </tr>\n",
       "    <tr>\n",
       "      <th>0</th>\n",
       "      <td>None</td>\n",
       "      <td>Sand1</td>\n",
       "      <td>LINESTRING (0.256 264.862, 10.593 276.734, 17....</td>\n",
       "      <td>(49.27698776241503, 352.56632767504703)</td>\n",
       "    </tr>\n",
       "    <tr>\n",
       "      <th>0</th>\n",
       "      <td>None</td>\n",
       "      <td>Sand1</td>\n",
       "      <td>LINESTRING (0.256 264.862, 10.593 276.734, 17....</td>\n",
       "      <td>(55.33390628387104, 364.1148523226231)</td>\n",
       "    </tr>\n",
       "    <tr>\n",
       "      <th>0</th>\n",
       "      <td>None</td>\n",
       "      <td>Sand1</td>\n",
       "      <td>LINESTRING (0.256 264.862, 10.593 276.734, 17....</td>\n",
       "      <td>(60.98703023722999, 376.30944827915454)</td>\n",
       "    </tr>\n",
       "  </tbody>\n",
       "</table>\n",
       "</div>"
      ],
      "text/plain": [
       "     id formation                                           geometry  \\\n",
       "0  None     Sand1  LINESTRING (0.256 264.862, 10.593 276.734, 17....   \n",
       "0  None     Sand1  LINESTRING (0.256 264.862, 10.593 276.734, 17....   \n",
       "0  None     Sand1  LINESTRING (0.256 264.862, 10.593 276.734, 17....   \n",
       "0  None     Sand1  LINESTRING (0.256 264.862, 10.593 276.734, 17....   \n",
       "0  None     Sand1  LINESTRING (0.256 264.862, 10.593 276.734, 17....   \n",
       "0  None     Sand1  LINESTRING (0.256 264.862, 10.593 276.734, 17....   \n",
       "0  None     Sand1  LINESTRING (0.256 264.862, 10.593 276.734, 17....   \n",
       "0  None     Sand1  LINESTRING (0.256 264.862, 10.593 276.734, 17....   \n",
       "0  None     Sand1  LINESTRING (0.256 264.862, 10.593 276.734, 17....   \n",
       "0  None     Sand1  LINESTRING (0.256 264.862, 10.593 276.734, 17....   \n",
       "\n",
       "                                    points  \n",
       "0  (0.256327195431048, 264.86214748436396)  \n",
       "0  (10.59346813871597, 276.73370778641777)  \n",
       "0   (17.134940141888464, 289.089821570188)  \n",
       "0   (19.150128045807676, 293.313485355882)  \n",
       "0    (27.79511673965105, 310.571692592952)  \n",
       "0  (34.41734765644295, 324.13919008101345)  \n",
       "0    (40.7165429187572, 338.5142767052691)  \n",
       "0  (49.27698776241503, 352.56632767504703)  \n",
       "0   (55.33390628387104, 364.1148523226231)  \n",
       "0  (60.98703023722999, 376.30944827915454)  "
      ]
     },
     "execution_count": 46,
     "metadata": {},
     "output_type": "execute_result"
    }
   ],
   "source": [
    "df = pd.DataFrame(gdf).explode('points')\n",
    "df.head(10)"
   ]
  },
  {
   "cell_type": "markdown",
   "metadata": {},
   "source": [
    "The `points` column is now converted into `X` and `Y` columns. "
   ]
  },
  {
   "cell_type": "code",
   "execution_count": 47,
   "metadata": {},
   "outputs": [
    {
     "data": {
      "text/html": [
       "<div>\n",
       "<style scoped>\n",
       "    .dataframe tbody tr th:only-of-type {\n",
       "        vertical-align: middle;\n",
       "    }\n",
       "\n",
       "    .dataframe tbody tr th {\n",
       "        vertical-align: top;\n",
       "    }\n",
       "\n",
       "    .dataframe thead th {\n",
       "        text-align: right;\n",
       "    }\n",
       "</style>\n",
       "<table border=\"1\" class=\"dataframe\">\n",
       "  <thead>\n",
       "    <tr style=\"text-align: right;\">\n",
       "      <th></th>\n",
       "      <th>id</th>\n",
       "      <th>formation</th>\n",
       "      <th>geometry</th>\n",
       "      <th>points</th>\n",
       "      <th>X</th>\n",
       "      <th>Y</th>\n",
       "    </tr>\n",
       "  </thead>\n",
       "  <tbody>\n",
       "    <tr>\n",
       "      <th>0</th>\n",
       "      <td>None</td>\n",
       "      <td>Sand1</td>\n",
       "      <td>LINESTRING (0.256 264.862, 10.593 276.734, 17....</td>\n",
       "      <td>(0.256327195431048, 264.86214748436396)</td>\n",
       "      <td>0.26</td>\n",
       "      <td>264.86</td>\n",
       "    </tr>\n",
       "    <tr>\n",
       "      <th>0</th>\n",
       "      <td>None</td>\n",
       "      <td>Sand1</td>\n",
       "      <td>LINESTRING (0.256 264.862, 10.593 276.734, 17....</td>\n",
       "      <td>(10.59346813871597, 276.73370778641777)</td>\n",
       "      <td>10.59</td>\n",
       "      <td>276.73</td>\n",
       "    </tr>\n",
       "    <tr>\n",
       "      <th>0</th>\n",
       "      <td>None</td>\n",
       "      <td>Sand1</td>\n",
       "      <td>LINESTRING (0.256 264.862, 10.593 276.734, 17....</td>\n",
       "      <td>(17.134940141888464, 289.089821570188)</td>\n",
       "      <td>17.13</td>\n",
       "      <td>289.09</td>\n",
       "    </tr>\n",
       "    <tr>\n",
       "      <th>0</th>\n",
       "      <td>None</td>\n",
       "      <td>Sand1</td>\n",
       "      <td>LINESTRING (0.256 264.862, 10.593 276.734, 17....</td>\n",
       "      <td>(19.150128045807676, 293.313485355882)</td>\n",
       "      <td>19.15</td>\n",
       "      <td>293.31</td>\n",
       "    </tr>\n",
       "    <tr>\n",
       "      <th>0</th>\n",
       "      <td>None</td>\n",
       "      <td>Sand1</td>\n",
       "      <td>LINESTRING (0.256 264.862, 10.593 276.734, 17....</td>\n",
       "      <td>(27.79511673965105, 310.571692592952)</td>\n",
       "      <td>27.80</td>\n",
       "      <td>310.57</td>\n",
       "    </tr>\n",
       "    <tr>\n",
       "      <th>0</th>\n",
       "      <td>None</td>\n",
       "      <td>Sand1</td>\n",
       "      <td>LINESTRING (0.256 264.862, 10.593 276.734, 17....</td>\n",
       "      <td>(34.41734765644295, 324.13919008101345)</td>\n",
       "      <td>34.42</td>\n",
       "      <td>324.14</td>\n",
       "    </tr>\n",
       "    <tr>\n",
       "      <th>0</th>\n",
       "      <td>None</td>\n",
       "      <td>Sand1</td>\n",
       "      <td>LINESTRING (0.256 264.862, 10.593 276.734, 17....</td>\n",
       "      <td>(40.7165429187572, 338.5142767052691)</td>\n",
       "      <td>40.72</td>\n",
       "      <td>338.51</td>\n",
       "    </tr>\n",
       "    <tr>\n",
       "      <th>0</th>\n",
       "      <td>None</td>\n",
       "      <td>Sand1</td>\n",
       "      <td>LINESTRING (0.256 264.862, 10.593 276.734, 17....</td>\n",
       "      <td>(49.27698776241503, 352.56632767504703)</td>\n",
       "      <td>49.28</td>\n",
       "      <td>352.57</td>\n",
       "    </tr>\n",
       "    <tr>\n",
       "      <th>0</th>\n",
       "      <td>None</td>\n",
       "      <td>Sand1</td>\n",
       "      <td>LINESTRING (0.256 264.862, 10.593 276.734, 17....</td>\n",
       "      <td>(55.33390628387104, 364.1148523226231)</td>\n",
       "      <td>55.33</td>\n",
       "      <td>364.11</td>\n",
       "    </tr>\n",
       "    <tr>\n",
       "      <th>0</th>\n",
       "      <td>None</td>\n",
       "      <td>Sand1</td>\n",
       "      <td>LINESTRING (0.256 264.862, 10.593 276.734, 17....</td>\n",
       "      <td>(60.98703023722999, 376.30944827915454)</td>\n",
       "      <td>60.99</td>\n",
       "      <td>376.31</td>\n",
       "    </tr>\n",
       "  </tbody>\n",
       "</table>\n",
       "</div>"
      ],
      "text/plain": [
       "     id formation                                           geometry  \\\n",
       "0  None     Sand1  LINESTRING (0.256 264.862, 10.593 276.734, 17....   \n",
       "0  None     Sand1  LINESTRING (0.256 264.862, 10.593 276.734, 17....   \n",
       "0  None     Sand1  LINESTRING (0.256 264.862, 10.593 276.734, 17....   \n",
       "0  None     Sand1  LINESTRING (0.256 264.862, 10.593 276.734, 17....   \n",
       "0  None     Sand1  LINESTRING (0.256 264.862, 10.593 276.734, 17....   \n",
       "0  None     Sand1  LINESTRING (0.256 264.862, 10.593 276.734, 17....   \n",
       "0  None     Sand1  LINESTRING (0.256 264.862, 10.593 276.734, 17....   \n",
       "0  None     Sand1  LINESTRING (0.256 264.862, 10.593 276.734, 17....   \n",
       "0  None     Sand1  LINESTRING (0.256 264.862, 10.593 276.734, 17....   \n",
       "0  None     Sand1  LINESTRING (0.256 264.862, 10.593 276.734, 17....   \n",
       "\n",
       "                                    points     X      Y  \n",
       "0  (0.256327195431048, 264.86214748436396)  0.26 264.86  \n",
       "0  (10.59346813871597, 276.73370778641777) 10.59 276.73  \n",
       "0   (17.134940141888464, 289.089821570188) 17.13 289.09  \n",
       "0   (19.150128045807676, 293.313485355882) 19.15 293.31  \n",
       "0    (27.79511673965105, 310.571692592952) 27.80 310.57  \n",
       "0  (34.41734765644295, 324.13919008101345) 34.42 324.14  \n",
       "0    (40.7165429187572, 338.5142767052691) 40.72 338.51  \n",
       "0  (49.27698776241503, 352.56632767504703) 49.28 352.57  \n",
       "0   (55.33390628387104, 364.1148523226231) 55.33 364.11  \n",
       "0  (60.98703023722999, 376.30944827915454) 60.99 376.31  "
      ]
     },
     "execution_count": 47,
     "metadata": {},
     "output_type": "execute_result"
    }
   ],
   "source": [
    "df[['X', 'Y']] = pd.DataFrame(df['points'].tolist(), index=df.index)\n",
    "df.head(10)"
   ]
  },
  {
   "cell_type": "markdown",
   "metadata": {},
   "source": [
    "Finally, the Pandas `DataFrame` is converted to a GeoPandas `GeoDataFrame`. The geometry column now consists of points instead of lines and is matching the `X` and `Y` columns. `id` and `index` columns as well as the `points` column are also present."
   ]
  },
  {
   "cell_type": "code",
   "execution_count": 48,
   "metadata": {},
   "outputs": [
    {
     "data": {
      "text/html": [
       "<div>\n",
       "<style scoped>\n",
       "    .dataframe tbody tr th:only-of-type {\n",
       "        vertical-align: middle;\n",
       "    }\n",
       "\n",
       "    .dataframe tbody tr th {\n",
       "        vertical-align: top;\n",
       "    }\n",
       "\n",
       "    .dataframe thead th {\n",
       "        text-align: right;\n",
       "    }\n",
       "</style>\n",
       "<table border=\"1\" class=\"dataframe\">\n",
       "  <thead>\n",
       "    <tr style=\"text-align: right;\">\n",
       "      <th></th>\n",
       "      <th>id</th>\n",
       "      <th>formation</th>\n",
       "      <th>geometry</th>\n",
       "      <th>points</th>\n",
       "      <th>X</th>\n",
       "      <th>Y</th>\n",
       "    </tr>\n",
       "  </thead>\n",
       "  <tbody>\n",
       "    <tr>\n",
       "      <th>0</th>\n",
       "      <td>None</td>\n",
       "      <td>Sand1</td>\n",
       "      <td>POINT (0.256 264.862)</td>\n",
       "      <td>(0.256327195431048, 264.86214748436396)</td>\n",
       "      <td>0.26</td>\n",
       "      <td>264.86</td>\n",
       "    </tr>\n",
       "    <tr>\n",
       "      <th>0</th>\n",
       "      <td>None</td>\n",
       "      <td>Sand1</td>\n",
       "      <td>POINT (10.593 276.734)</td>\n",
       "      <td>(10.59346813871597, 276.73370778641777)</td>\n",
       "      <td>10.59</td>\n",
       "      <td>276.73</td>\n",
       "    </tr>\n",
       "    <tr>\n",
       "      <th>0</th>\n",
       "      <td>None</td>\n",
       "      <td>Sand1</td>\n",
       "      <td>POINT (17.135 289.090)</td>\n",
       "      <td>(17.134940141888464, 289.089821570188)</td>\n",
       "      <td>17.13</td>\n",
       "      <td>289.09</td>\n",
       "    </tr>\n",
       "    <tr>\n",
       "      <th>0</th>\n",
       "      <td>None</td>\n",
       "      <td>Sand1</td>\n",
       "      <td>POINT (19.150 293.313)</td>\n",
       "      <td>(19.150128045807676, 293.313485355882)</td>\n",
       "      <td>19.15</td>\n",
       "      <td>293.31</td>\n",
       "    </tr>\n",
       "    <tr>\n",
       "      <th>0</th>\n",
       "      <td>None</td>\n",
       "      <td>Sand1</td>\n",
       "      <td>POINT (27.795 310.572)</td>\n",
       "      <td>(27.79511673965105, 310.571692592952)</td>\n",
       "      <td>27.80</td>\n",
       "      <td>310.57</td>\n",
       "    </tr>\n",
       "  </tbody>\n",
       "</table>\n",
       "</div>"
      ],
      "text/plain": [
       "     id formation                geometry  \\\n",
       "0  None     Sand1   POINT (0.256 264.862)   \n",
       "0  None     Sand1  POINT (10.593 276.734)   \n",
       "0  None     Sand1  POINT (17.135 289.090)   \n",
       "0  None     Sand1  POINT (19.150 293.313)   \n",
       "0  None     Sand1  POINT (27.795 310.572)   \n",
       "\n",
       "                                    points     X      Y  \n",
       "0  (0.256327195431048, 264.86214748436396)  0.26 264.86  \n",
       "0  (10.59346813871597, 276.73370778641777) 10.59 276.73  \n",
       "0   (17.134940141888464, 289.089821570188) 17.13 289.09  \n",
       "0   (19.150128045807676, 293.313485355882) 19.15 293.31  \n",
       "0    (27.79511673965105, 310.571692592952) 27.80 310.57  "
      ]
     },
     "execution_count": 48,
     "metadata": {},
     "output_type": "execute_result"
    }
   ],
   "source": [
    "gdf = gpd.GeoDataFrame(df, geometry=gpd.points_from_xy(df.X, df.Y), crs=gdf.crs)\n",
    "gdf.head()"
   ]
  },
  {
   "cell_type": "code",
   "execution_count": 49,
   "metadata": {},
   "outputs": [
    {
     "data": {
      "text/html": [
       "<div>\n",
       "<style scoped>\n",
       "    .dataframe tbody tr th:only-of-type {\n",
       "        vertical-align: middle;\n",
       "    }\n",
       "\n",
       "    .dataframe tbody tr th {\n",
       "        vertical-align: top;\n",
       "    }\n",
       "\n",
       "    .dataframe thead th {\n",
       "        text-align: right;\n",
       "    }\n",
       "</style>\n",
       "<table border=\"1\" class=\"dataframe\">\n",
       "  <thead>\n",
       "    <tr style=\"text-align: right;\">\n",
       "      <th></th>\n",
       "      <th>index</th>\n",
       "      <th>id</th>\n",
       "      <th>formation</th>\n",
       "      <th>geometry</th>\n",
       "      <th>points</th>\n",
       "      <th>X</th>\n",
       "      <th>Y</th>\n",
       "    </tr>\n",
       "  </thead>\n",
       "  <tbody>\n",
       "    <tr>\n",
       "      <th>0</th>\n",
       "      <td>0</td>\n",
       "      <td>None</td>\n",
       "      <td>Sand1</td>\n",
       "      <td>POINT (0.256 264.862)</td>\n",
       "      <td>(0.256327195431048, 264.86214748436396)</td>\n",
       "      <td>0.26</td>\n",
       "      <td>264.86</td>\n",
       "    </tr>\n",
       "    <tr>\n",
       "      <th>1</th>\n",
       "      <td>0</td>\n",
       "      <td>None</td>\n",
       "      <td>Sand1</td>\n",
       "      <td>POINT (10.593 276.734)</td>\n",
       "      <td>(10.59346813871597, 276.73370778641777)</td>\n",
       "      <td>10.59</td>\n",
       "      <td>276.73</td>\n",
       "    </tr>\n",
       "    <tr>\n",
       "      <th>2</th>\n",
       "      <td>0</td>\n",
       "      <td>None</td>\n",
       "      <td>Sand1</td>\n",
       "      <td>POINT (17.135 289.090)</td>\n",
       "      <td>(17.134940141888464, 289.089821570188)</td>\n",
       "      <td>17.13</td>\n",
       "      <td>289.09</td>\n",
       "    </tr>\n",
       "    <tr>\n",
       "      <th>3</th>\n",
       "      <td>0</td>\n",
       "      <td>None</td>\n",
       "      <td>Sand1</td>\n",
       "      <td>POINT (19.150 293.313)</td>\n",
       "      <td>(19.150128045807676, 293.313485355882)</td>\n",
       "      <td>19.15</td>\n",
       "      <td>293.31</td>\n",
       "    </tr>\n",
       "    <tr>\n",
       "      <th>4</th>\n",
       "      <td>0</td>\n",
       "      <td>None</td>\n",
       "      <td>Sand1</td>\n",
       "      <td>POINT (27.795 310.572)</td>\n",
       "      <td>(27.79511673965105, 310.571692592952)</td>\n",
       "      <td>27.80</td>\n",
       "      <td>310.57</td>\n",
       "    </tr>\n",
       "    <tr>\n",
       "      <th>...</th>\n",
       "      <td>...</td>\n",
       "      <td>...</td>\n",
       "      <td>...</td>\n",
       "      <td>...</td>\n",
       "      <td>...</td>\n",
       "      <td>...</td>\n",
       "      <td>...</td>\n",
       "    </tr>\n",
       "    <tr>\n",
       "      <th>126</th>\n",
       "      <td>2</td>\n",
       "      <td>None</td>\n",
       "      <td>Ton</td>\n",
       "      <td>POINT (636.023 859.788)</td>\n",
       "      <td>(636.0233035161142, 859.787826958076)</td>\n",
       "      <td>636.02</td>\n",
       "      <td>859.79</td>\n",
       "    </tr>\n",
       "    <tr>\n",
       "      <th>127</th>\n",
       "      <td>2</td>\n",
       "      <td>None</td>\n",
       "      <td>Ton</td>\n",
       "      <td>POINT (608.851 912.396)</td>\n",
       "      <td>(608.8509591448512, 912.3962634589865)</td>\n",
       "      <td>608.85</td>\n",
       "      <td>912.40</td>\n",
       "    </tr>\n",
       "    <tr>\n",
       "      <th>128</th>\n",
       "      <td>2</td>\n",
       "      <td>None</td>\n",
       "      <td>Ton</td>\n",
       "      <td>POINT (560.110 990.617)</td>\n",
       "      <td>(560.1099247138658, 990.6172670215257)</td>\n",
       "      <td>560.11</td>\n",
       "      <td>990.62</td>\n",
       "    </tr>\n",
       "    <tr>\n",
       "      <th>129</th>\n",
       "      <td>2</td>\n",
       "      <td>None</td>\n",
       "      <td>Ton</td>\n",
       "      <td>POINT (526.375 1045.388)</td>\n",
       "      <td>(526.3753184316984, 1045.3882341089457)</td>\n",
       "      <td>526.38</td>\n",
       "      <td>1045.39</td>\n",
       "    </tr>\n",
       "    <tr>\n",
       "      <th>130</th>\n",
       "      <td>2</td>\n",
       "      <td>None</td>\n",
       "      <td>Ton</td>\n",
       "      <td>POINT (512.240 1067.951)</td>\n",
       "      <td>(512.239649401046, 1067.9508285278182)</td>\n",
       "      <td>512.24</td>\n",
       "      <td>1067.95</td>\n",
       "    </tr>\n",
       "  </tbody>\n",
       "</table>\n",
       "<p>131 rows × 7 columns</p>\n",
       "</div>"
      ],
      "text/plain": [
       "     index    id formation                  geometry  \\\n",
       "0        0  None     Sand1     POINT (0.256 264.862)   \n",
       "1        0  None     Sand1    POINT (10.593 276.734)   \n",
       "2        0  None     Sand1    POINT (17.135 289.090)   \n",
       "3        0  None     Sand1    POINT (19.150 293.313)   \n",
       "4        0  None     Sand1    POINT (27.795 310.572)   \n",
       "..     ...   ...       ...                       ...   \n",
       "126      2  None       Ton   POINT (636.023 859.788)   \n",
       "127      2  None       Ton   POINT (608.851 912.396)   \n",
       "128      2  None       Ton   POINT (560.110 990.617)   \n",
       "129      2  None       Ton  POINT (526.375 1045.388)   \n",
       "130      2  None       Ton  POINT (512.240 1067.951)   \n",
       "\n",
       "                                      points      X       Y  \n",
       "0    (0.256327195431048, 264.86214748436396)   0.26  264.86  \n",
       "1    (10.59346813871597, 276.73370778641777)  10.59  276.73  \n",
       "2     (17.134940141888464, 289.089821570188)  17.13  289.09  \n",
       "3     (19.150128045807676, 293.313485355882)  19.15  293.31  \n",
       "4      (27.79511673965105, 310.571692592952)  27.80  310.57  \n",
       "..                                       ...    ...     ...  \n",
       "126    (636.0233035161142, 859.787826958076) 636.02  859.79  \n",
       "127   (608.8509591448512, 912.3962634589865) 608.85  912.40  \n",
       "128   (560.1099247138658, 990.6172670215257) 560.11  990.62  \n",
       "129  (526.3753184316984, 1045.3882341089457) 526.38 1045.39  \n",
       "130   (512.239649401046, 1067.9508285278182) 512.24 1067.95  \n",
       "\n",
       "[131 rows x 7 columns]"
      ]
     },
     "execution_count": 49,
     "metadata": {},
     "output_type": "execute_result"
    }
   ],
   "source": [
    "gdf.reset_index()"
   ]
  },
  {
   "cell_type": "markdown",
   "metadata": {},
   "source": [
    "## Extracting X and Y coordinates using GemGIS\n",
    "All the steps above including the dropping of the additional columns are summarized in the function `extract_xy_linestrings`. The index is reset by default. This needs to be set to `False` for some applications introduced later. The `id`, `index` and `points` columns are dropped by default but arguments can also be set to false. The coordinates can also be reprojected as before by passing a `target_crs`. The extracted points can also be clipped by providing a `bbox`. "
   ]
  },
  {
   "cell_type": "code",
   "execution_count": 50,
   "metadata": {},
   "outputs": [
    {
     "data": {
      "text/html": [
       "<div>\n",
       "<style scoped>\n",
       "    .dataframe tbody tr th:only-of-type {\n",
       "        vertical-align: middle;\n",
       "    }\n",
       "\n",
       "    .dataframe tbody tr th {\n",
       "        vertical-align: top;\n",
       "    }\n",
       "\n",
       "    .dataframe thead th {\n",
       "        text-align: right;\n",
       "    }\n",
       "</style>\n",
       "<table border=\"1\" class=\"dataframe\">\n",
       "  <thead>\n",
       "    <tr style=\"text-align: right;\">\n",
       "      <th></th>\n",
       "      <th>id</th>\n",
       "      <th>formation</th>\n",
       "      <th>geometry</th>\n",
       "    </tr>\n",
       "  </thead>\n",
       "  <tbody>\n",
       "    <tr>\n",
       "      <th>0</th>\n",
       "      <td>None</td>\n",
       "      <td>Sand1</td>\n",
       "      <td>LINESTRING (0.256 264.862, 10.593 276.734, 17....</td>\n",
       "    </tr>\n",
       "    <tr>\n",
       "      <th>1</th>\n",
       "      <td>None</td>\n",
       "      <td>Ton</td>\n",
       "      <td>LINESTRING (0.188 495.787, 8.841 504.142, 41.0...</td>\n",
       "    </tr>\n",
       "    <tr>\n",
       "      <th>2</th>\n",
       "      <td>None</td>\n",
       "      <td>Ton</td>\n",
       "      <td>LINESTRING (970.677 833.053, 959.372 800.023, ...</td>\n",
       "    </tr>\n",
       "  </tbody>\n",
       "</table>\n",
       "</div>"
      ],
      "text/plain": [
       "     id formation                                           geometry\n",
       "0  None     Sand1  LINESTRING (0.256 264.862, 10.593 276.734, 17....\n",
       "1  None       Ton  LINESTRING (0.188 495.787, 8.841 504.142, 41.0...\n",
       "2  None       Ton  LINESTRING (970.677 833.053, 959.372 800.023, ..."
      ]
     },
     "execution_count": 50,
     "metadata": {},
     "output_type": "execute_result"
    }
   ],
   "source": [
    "gdf = gpd.read_file('../data/Test1/interfaces1_lines.shp')\n",
    "gdf.head()"
   ]
  },
  {
   "cell_type": "code",
   "execution_count": 51,
   "metadata": {},
   "outputs": [
    {
     "data": {
      "text/html": [
       "<div>\n",
       "<style scoped>\n",
       "    .dataframe tbody tr th:only-of-type {\n",
       "        vertical-align: middle;\n",
       "    }\n",
       "\n",
       "    .dataframe tbody tr th {\n",
       "        vertical-align: top;\n",
       "    }\n",
       "\n",
       "    .dataframe thead th {\n",
       "        text-align: right;\n",
       "    }\n",
       "</style>\n",
       "<table border=\"1\" class=\"dataframe\">\n",
       "  <thead>\n",
       "    <tr style=\"text-align: right;\">\n",
       "      <th></th>\n",
       "      <th>formation</th>\n",
       "      <th>geometry</th>\n",
       "      <th>X</th>\n",
       "      <th>Y</th>\n",
       "    </tr>\n",
       "  </thead>\n",
       "  <tbody>\n",
       "    <tr>\n",
       "      <th>0</th>\n",
       "      <td>Sand1</td>\n",
       "      <td>POINT (0.256 264.862)</td>\n",
       "      <td>0.26</td>\n",
       "      <td>264.86</td>\n",
       "    </tr>\n",
       "    <tr>\n",
       "      <th>1</th>\n",
       "      <td>Sand1</td>\n",
       "      <td>POINT (10.593 276.734)</td>\n",
       "      <td>10.59</td>\n",
       "      <td>276.73</td>\n",
       "    </tr>\n",
       "    <tr>\n",
       "      <th>2</th>\n",
       "      <td>Sand1</td>\n",
       "      <td>POINT (17.135 289.090)</td>\n",
       "      <td>17.13</td>\n",
       "      <td>289.09</td>\n",
       "    </tr>\n",
       "    <tr>\n",
       "      <th>3</th>\n",
       "      <td>Sand1</td>\n",
       "      <td>POINT (19.150 293.313)</td>\n",
       "      <td>19.15</td>\n",
       "      <td>293.31</td>\n",
       "    </tr>\n",
       "    <tr>\n",
       "      <th>4</th>\n",
       "      <td>Sand1</td>\n",
       "      <td>POINT (27.795 310.572)</td>\n",
       "      <td>27.80</td>\n",
       "      <td>310.57</td>\n",
       "    </tr>\n",
       "  </tbody>\n",
       "</table>\n",
       "</div>"
      ],
      "text/plain": [
       "  formation                geometry     X      Y\n",
       "0     Sand1   POINT (0.256 264.862)  0.26 264.86\n",
       "1     Sand1  POINT (10.593 276.734) 10.59 276.73\n",
       "2     Sand1  POINT (17.135 289.090) 17.13 289.09\n",
       "3     Sand1  POINT (19.150 293.313) 19.15 293.31\n",
       "4     Sand1  POINT (27.795 310.572) 27.80 310.57"
      ]
     },
     "execution_count": 51,
     "metadata": {},
     "output_type": "execute_result"
    }
   ],
   "source": [
    "gdf_coordinates = gg.vector.extract_xy_linestrings(gdf)\n",
    "gdf_coordinates.head()"
   ]
  },
  {
   "cell_type": "markdown",
   "metadata": {},
   "source": [
    "<a id='ex3'></a>\n",
    "# Example 3 - Polygon Data -> MultiLineStrings -> LineStrings\n",
    "\n",
    "## Load Data\n",
    "\n",
    "As a third and last example, we are loading a shape file containing polygon information. Additional columns are `id`, which was not recorded when digitizing the data and `formation` indicating the base of the formation that was encountered at a particular point. This will become important in future tutorials. The term `Ton` is German for clay and indicates in this example the boundary between a sandstone layer and a claystone layer. In this example, the previously mentioned `Sand1` is also present as well as `Sand2`. The same attributes can be inspected again as before. "
   ]
  },
  {
   "cell_type": "code",
   "execution_count": 73,
   "metadata": {},
   "outputs": [
    {
     "data": {
      "text/html": [
       "<div>\n",
       "<style scoped>\n",
       "    .dataframe tbody tr th:only-of-type {\n",
       "        vertical-align: middle;\n",
       "    }\n",
       "\n",
       "    .dataframe tbody tr th {\n",
       "        vertical-align: top;\n",
       "    }\n",
       "\n",
       "    .dataframe thead th {\n",
       "        text-align: right;\n",
       "    }\n",
       "</style>\n",
       "<table border=\"1\" class=\"dataframe\">\n",
       "  <thead>\n",
       "    <tr style=\"text-align: right;\">\n",
       "      <th></th>\n",
       "      <th>id</th>\n",
       "      <th>formation</th>\n",
       "      <th>geometry</th>\n",
       "    </tr>\n",
       "  </thead>\n",
       "  <tbody>\n",
       "    <tr>\n",
       "      <th>0</th>\n",
       "      <td>None</td>\n",
       "      <td>Sand1</td>\n",
       "      <td>POLYGON ((0.256 264.862, 10.593 276.734, 17.13...</td>\n",
       "    </tr>\n",
       "    <tr>\n",
       "      <th>1</th>\n",
       "      <td>None</td>\n",
       "      <td>Ton</td>\n",
       "      <td>POLYGON ((0.256 264.862, 0.188 495.787, 8.841 ...</td>\n",
       "    </tr>\n",
       "    <tr>\n",
       "      <th>2</th>\n",
       "      <td>None</td>\n",
       "      <td>Sand2</td>\n",
       "      <td>POLYGON ((0.188 495.787, 0.249 1068.760, 278.5...</td>\n",
       "    </tr>\n",
       "    <tr>\n",
       "      <th>3</th>\n",
       "      <td>None</td>\n",
       "      <td>Sand2</td>\n",
       "      <td>POLYGON ((511.675 1068.852, 971.698 1068.800, ...</td>\n",
       "    </tr>\n",
       "  </tbody>\n",
       "</table>\n",
       "</div>"
      ],
      "text/plain": [
       "     id formation                                           geometry\n",
       "0  None     Sand1  POLYGON ((0.256 264.862, 10.593 276.734, 17.13...\n",
       "1  None       Ton  POLYGON ((0.256 264.862, 0.188 495.787, 8.841 ...\n",
       "2  None     Sand2  POLYGON ((0.188 495.787, 0.249 1068.760, 278.5...\n",
       "3  None     Sand2  POLYGON ((511.675 1068.852, 971.698 1068.800, ..."
      ]
     },
     "execution_count": 73,
     "metadata": {},
     "output_type": "execute_result"
    }
   ],
   "source": [
    "gdf = gpd.read_file('../data/Test1/geolmap1.shp')\n",
    "gdf.head()"
   ]
  },
  {
   "cell_type": "code",
   "execution_count": 53,
   "metadata": {},
   "outputs": [
    {
     "name": "stderr",
     "output_type": "stream",
     "text": [
      "<ipython-input-53-cdb4e6e609bd>:1: UserWarning: Geometry is in a geographic CRS. Results from 'area' are likely incorrect. Use 'GeoSeries.to_crs()' to re-project geometries to a projected CRS before this operation.\n",
      "\n",
      "  gdf.area\n"
     ]
    },
    {
     "data": {
      "text/plain": [
       "0   592558.74\n",
       "1   216444.17\n",
       "2    86209.91\n",
       "3   143225.61\n",
       "dtype: float64"
      ]
     },
     "execution_count": 53,
     "metadata": {},
     "output_type": "execute_result"
    }
   ],
   "source": [
    "gdf.area"
   ]
  },
  {
   "cell_type": "code",
   "execution_count": 54,
   "metadata": {},
   "outputs": [
    {
     "data": {
      "text/plain": [
       "<Geographic 2D CRS: EPSG:4326>\n",
       "Name: WGS 84\n",
       "Axis Info [ellipsoidal]:\n",
       "- Lat[north]: Geodetic latitude (degree)\n",
       "- Lon[east]: Geodetic longitude (degree)\n",
       "Area of Use:\n",
       "- name: World\n",
       "- bounds: (-180.0, -90.0, 180.0, 90.0)\n",
       "Datum: World Geodetic System 1984\n",
       "- Ellipsoid: WGS 84\n",
       "- Prime Meridian: Greenwich"
      ]
     },
     "execution_count": 54,
     "metadata": {},
     "output_type": "execute_result"
    }
   ],
   "source": [
    "gdf.crs"
   ]
  },
  {
   "cell_type": "code",
   "execution_count": 55,
   "metadata": {},
   "outputs": [
    {
     "data": {
      "text/plain": [
       "4"
      ]
     },
     "execution_count": 55,
     "metadata": {},
     "output_type": "execute_result"
    }
   ],
   "source": [
    "len(gdf)"
   ]
  },
  {
   "cell_type": "code",
   "execution_count": null,
   "metadata": {},
   "outputs": [],
   "source": [
    "gdf.geometry[:5]"
   ]
  },
  {
   "cell_type": "code",
   "execution_count": 56,
   "metadata": {},
   "outputs": [
    {
     "data": {
      "text/plain": [
       "0    Polygon\n",
       "1    Polygon\n",
       "2    Polygon\n",
       "3    Polygon\n",
       "dtype: object"
      ]
     },
     "execution_count": 56,
     "metadata": {},
     "output_type": "execute_result"
    }
   ],
   "source": [
    "gdf.geom_type"
   ]
  },
  {
   "cell_type": "code",
   "execution_count": 57,
   "metadata": {},
   "outputs": [
    {
     "data": {
      "text/html": [
       "<div>\n",
       "<style scoped>\n",
       "    .dataframe tbody tr th:only-of-type {\n",
       "        vertical-align: middle;\n",
       "    }\n",
       "\n",
       "    .dataframe tbody tr th {\n",
       "        vertical-align: top;\n",
       "    }\n",
       "\n",
       "    .dataframe thead th {\n",
       "        text-align: right;\n",
       "    }\n",
       "</style>\n",
       "<table border=\"1\" class=\"dataframe\">\n",
       "  <thead>\n",
       "    <tr style=\"text-align: right;\">\n",
       "      <th></th>\n",
       "      <th>minx</th>\n",
       "      <th>miny</th>\n",
       "      <th>maxx</th>\n",
       "      <th>maxy</th>\n",
       "    </tr>\n",
       "  </thead>\n",
       "  <tbody>\n",
       "    <tr>\n",
       "      <th>0</th>\n",
       "      <td>0.24</td>\n",
       "      <td>-0.01</td>\n",
       "      <td>972.09</td>\n",
       "      <td>957.29</td>\n",
       "    </tr>\n",
       "    <tr>\n",
       "      <th>1</th>\n",
       "      <td>0.19</td>\n",
       "      <td>164.96</td>\n",
       "      <td>972.09</td>\n",
       "      <td>1068.85</td>\n",
       "    </tr>\n",
       "    <tr>\n",
       "      <th>2</th>\n",
       "      <td>0.19</td>\n",
       "      <td>495.79</td>\n",
       "      <td>278.52</td>\n",
       "      <td>1068.77</td>\n",
       "    </tr>\n",
       "    <tr>\n",
       "      <th>3</th>\n",
       "      <td>511.67</td>\n",
       "      <td>569.09</td>\n",
       "      <td>971.74</td>\n",
       "      <td>1068.85</td>\n",
       "    </tr>\n",
       "  </tbody>\n",
       "</table>\n",
       "</div>"
      ],
      "text/plain": [
       "    minx   miny   maxx    maxy\n",
       "0   0.24  -0.01 972.09  957.29\n",
       "1   0.19 164.96 972.09 1068.85\n",
       "2   0.19 495.79 278.52 1068.77\n",
       "3 511.67 569.09 971.74 1068.85"
      ]
     },
     "execution_count": 57,
     "metadata": {},
     "output_type": "execute_result"
    }
   ],
   "source": [
    "gdf.bounds.head()"
   ]
  },
  {
   "cell_type": "code",
   "execution_count": 58,
   "metadata": {},
   "outputs": [
    {
     "data": {
      "text/plain": [
       "array([ 1.88186862e-01, -6.89945891e-03,  9.72088904e+02,  1.06885246e+03])"
      ]
     },
     "execution_count": 58,
     "metadata": {},
     "output_type": "execute_result"
    }
   ],
   "source": [
    "gdf.total_bounds"
   ]
  },
  {
   "cell_type": "code",
   "execution_count": 59,
   "metadata": {},
   "outputs": [
    {
     "data": {
      "text/plain": [
       "0    True\n",
       "1    True\n",
       "2    True\n",
       "3    True\n",
       "dtype: bool"
      ]
     },
     "execution_count": 59,
     "metadata": {},
     "output_type": "execute_result"
    }
   ],
   "source": [
    "gdf.is_valid"
   ]
  },
  {
   "cell_type": "markdown",
   "metadata": {},
   "source": [
    "As mentioned above, every entry of the `GeoDataFrame` is basically a shapely object, in this case a Polygon:"
   ]
  },
  {
   "cell_type": "code",
   "execution_count": 60,
   "metadata": {},
   "outputs": [
    {
     "data": {
      "image/svg+xml": [
       "<svg xmlns=\"http://www.w3.org/2000/svg\" xmlns:xlink=\"http://www.w3.org/1999/xlink\" width=\"300\" height=\"300\" viewBox=\"-38.63797319281102 -38.8810101187466 1049.6009878157 1035.0441936358027\" preserveAspectRatio=\"xMinYMin meet\"><g transform=\"matrix(1,0,0,-1,0,957.2821733983095)\"><path fill-rule=\"evenodd\" fill=\"#66cc99\" stroke=\"#555555\" stroke-width=\"6.997339918771333\" opacity=\"0.6\" d=\"M 0.256327195431048,264.86214748436396 L 10.59346813871597,276.73370778641777 L 17.134940141888464,289.089821570188 L 19.150128045807676,293.313485355882 L 27.79511673965105,310.571692592952 L 34.41734765644295,324.13919008101345 L 40.7165429187572,338.5142767052691 L 49.27698776241503,352.56632767504703 L 55.33390628387104,364.1148523226231 L 60.98703023722999,376.30944827915454 L 61.93436666575576,381.4593263680641 L 74.31225098443318,404.8981037004269 L 89.49492674488292,440.43202569296886 L 100.8011746516008,465.62880674222583 L 109.35786007581868,480.9455679783049 L 122.12152784712598,511.49986967805273 L 134.7199183717545,543.1573638168628 L 146.02616627847237,575.1378936101505 L 154.748128949369,602.2728885862734 L 157.81229899479604,615.9994296460927 L 170.2538403642964,655.5737715750863 L 179.944909998626,686.9082300594188 L 191.31802803451436,719.0939805375339 L 200.61919188519585,750.2232183370392 L 210.95633282848075,774.7739280773408 L 224.82375707423273,798.4767847239435 L 240.67561304042493,822.9062405945112 L 255.21221749191938,846.1648077169024 L 264.903287126249,861.9935547863074 L 264.903287126249,861.9935547863074 L 272.76272323875287,874.2512796291529 L 291.3922107934166,899.788726360193 L 308.8361361352099,915.9405090840756 L 323.27905317555906,927.3449733382452 L 341.462737237453,937.9069335885562 L 355.03023472551445,947.2749675684081 L 366.0632917955071,952.6031383066481 L 384.7495149374586,957.2890728572154 L 394.44058457178824,955.9969302393048 L 407.8165849065408,950.0257745343622 L 423.1907578202995,941.4603257878103 L 441.2807544710481,929.1849709176595 L 456.27102382551817,917.5509910035582 L 474.5534268822465,900.757833323626 L 490.05913829717383,879.4374801281008 L 503.94967143971303,861.3474834773522 L 515.0349178336396,847.9621691518354 L 530.7616307613583,821.9371336310784 L 545.6212708673304,798.3555308542095 L 559.8348396643472,775.7430350407737 L 575.3452301051327,753.6306550861667 L 592.1384051121127,724.0573303243491 L 604.0907243277858,703.706084092257 L 617.9812574703249,678.1862673885223 L 629.6105410315205,658.804128119863 L 638.748378903369,641.7730673689532 L 651.2539298815232,612.9330651840361 L 660.6219638613752,594.1969972243322 L 669.3439265322719,575.4609292646282 L 674.8314717153735,563.4212086914579 L 685.4957092561546,542.18825685343 L 698.7401710897384,515.053261877307 L 710.6924903054116,486.9491599377511 L 720.0605242852636,462.39845019744945 L 727.4903443382495,442.3702396198349 L 734.1108384779523,426.30545600584105 L 745.9033766434759,391.3306062123655 L 759.1478384770597,360.3191833825108 L 767.5467654934788,341.5831154228068 L 771.7403495533283,327.3346871500575 L 779.1760490546743,305.080086466832 L 785.3137264897498,279.23723410861965 L 795.967569012817,245.88999194581893 L 805.9880083763195,216.89135279443246 L 812.4487214658725,198.47832048920617 L 818.648370208934,185.5796796743258 L 826.9853259173669,173.92761074890447 L 841.329171405051,164.96076949603759 L 857.0276417837888,173.60457509442682 L 867.1028091279114,188.15704344661185 L 874.1485314711044,203.323855306371 L 886.7469219957329,240.14991991682354 L 893.8537063942413,268.25402185637944 L 900.3144194837944,285.69794719817276 L 903.701374694373,295.89084912816793 L 909.6824534636465,319.6166909183264 L 916.4662022076773,337.70668756907503 L 920.1965028370037,355.17021589074665 L 929.3876283867835,383.2547148504243 L 936.1713771308141,409.09756720863663 L 945.539411110666,440.75506134744666 L 950.0939225955215,453.11003923761575 L 955.5535163994733,474.35076941312263 L 962.6603007979818,497.60933653551376 L 966.0735779836949,510.32751498236564 L 972.0889039630482,529.79176361285 L 971.8062477653798,-0.006899458905866851 L 0.23613746702971916,0.15461836833298648 L 0.256327195431048,264.86214748436396 z\" /></g></svg>"
      ],
      "text/plain": [
       "<shapely.geometry.polygon.Polygon at 0x1e6569b3d00>"
      ]
     },
     "execution_count": 60,
     "metadata": {},
     "output_type": "execute_result"
    }
   ],
   "source": [
    "gdf.loc[0].geometry"
   ]
  },
  {
   "cell_type": "code",
   "execution_count": 61,
   "metadata": {},
   "outputs": [
    {
     "data": {
      "text/plain": [
       "shapely.geometry.polygon.Polygon"
      ]
     },
     "execution_count": 61,
     "metadata": {},
     "output_type": "execute_result"
    }
   ],
   "source": [
    "type(gdf.loc[0].geometry)"
   ]
  },
  {
   "cell_type": "markdown",
   "metadata": {},
   "source": [
    "## Plotting Data\n",
    "\n",
    "The data can be plotted using the built-in `GeoPandas` plotting functions and by adding additional `Matplotlib` commands like grids or axes labels. By passing the argument `column='formation'`, we can color the different Polygons according to their associated formation."
   ]
  },
  {
   "cell_type": "code",
   "execution_count": 62,
   "metadata": {},
   "outputs": [
    {
     "data": {
      "text/plain": [
       "Text(164.95174818311068, 0.5, 'Y [m]')"
      ]
     },
     "execution_count": 62,
     "metadata": {},
     "output_type": "execute_result"
    },
    {
     "data": {
      "image/png": "[encoded data removed]",
      "text/plain": [
       "<Figure size 748.8x514.8 with 1 Axes>"
      ]
     },
     "metadata": {},
     "output_type": "display_data"
    }
   ],
   "source": [
    "gdf.plot(aspect='equal', column='formation')\n",
    "plt.grid()\n",
    "plt.xlabel('X [m]')\n",
    "plt.ylabel('Y [m]')"
   ]
  },
  {
   "cell_type": "markdown",
   "metadata": {},
   "source": [
    "## Extracting XY Coordinates\n",
    "\n",
    "For the geomodeling with `GemPy` or other packages, the X and Y coordinates of the `shapely` polygons need to be extracted. The extraction of the X and Y values for polygons consists of several steps:\n",
    "\n",
    "- Exploding Polygons to MultiLineStrings and LineStrings\n",
    "- Exploding MultiLineStrings to LineStrings\n",
    "- Extracting Coordinates from LineStrings\n",
    "\n",
    "Each step will now be introduced."
   ]
  },
  {
   "cell_type": "markdown",
   "metadata": {},
   "source": [
    "## Exploding Polygons to MultiLineStrings and LineStrings\n",
    "\n",
    "The first step is to explode the Polygons to MultiLineStrings and LineStrings. Since the original data does not contain any MultiLineStrings, a MultiLineString is created manually from the two LineStrings belonging to the formation `Sand2`."
   ]
  },
  {
   "cell_type": "code",
   "execution_count": 63,
   "metadata": {},
   "outputs": [
    {
     "data": {
      "text/html": [
       "<div>\n",
       "<style scoped>\n",
       "    .dataframe tbody tr th:only-of-type {\n",
       "        vertical-align: middle;\n",
       "    }\n",
       "\n",
       "    .dataframe tbody tr th {\n",
       "        vertical-align: top;\n",
       "    }\n",
       "\n",
       "    .dataframe thead th {\n",
       "        text-align: right;\n",
       "    }\n",
       "</style>\n",
       "<table border=\"1\" class=\"dataframe\">\n",
       "  <thead>\n",
       "    <tr style=\"text-align: right;\">\n",
       "      <th></th>\n",
       "      <th>id</th>\n",
       "      <th>formation</th>\n",
       "      <th>geometry</th>\n",
       "    </tr>\n",
       "  </thead>\n",
       "  <tbody>\n",
       "    <tr>\n",
       "      <th>0</th>\n",
       "      <td>None</td>\n",
       "      <td>Sand1</td>\n",
       "      <td>LINESTRING (0.256 264.862, 10.593 276.734, 17....</td>\n",
       "    </tr>\n",
       "    <tr>\n",
       "      <th>1</th>\n",
       "      <td>None</td>\n",
       "      <td>Ton</td>\n",
       "      <td>LINESTRING (0.256 264.862, 0.188 495.787, 8.84...</td>\n",
       "    </tr>\n",
       "    <tr>\n",
       "      <th>2</th>\n",
       "      <td>None</td>\n",
       "      <td>Sand2</td>\n",
       "      <td>LINESTRING (0.188 495.787, 0.249 1068.760, 278...</td>\n",
       "    </tr>\n",
       "    <tr>\n",
       "      <th>3</th>\n",
       "      <td>None</td>\n",
       "      <td>Sand2</td>\n",
       "      <td>LINESTRING (511.675 1068.852, 971.698 1068.800...</td>\n",
       "    </tr>\n",
       "  </tbody>\n",
       "</table>\n",
       "</div>"
      ],
      "text/plain": [
       "     id formation                                           geometry\n",
       "0  None     Sand1  LINESTRING (0.256 264.862, 10.593 276.734, 17....\n",
       "1  None       Ton  LINESTRING (0.256 264.862, 0.188 495.787, 8.84...\n",
       "2  None     Sand2  LINESTRING (0.188 495.787, 0.249 1068.760, 278...\n",
       "3  None     Sand2  LINESTRING (511.675 1068.852, 971.698 1068.800..."
      ]
     },
     "execution_count": 63,
     "metadata": {},
     "output_type": "execute_result"
    }
   ],
   "source": [
    "gdf_linestrings = gpd.GeoDataFrame(gdf.drop('geometry', axis=1), geometry=gdf.boundary, crs=gdf.crs)\n",
    "gdf_linestrings"
   ]
  },
  {
   "cell_type": "markdown",
   "metadata": {},
   "source": [
    "A new GeoDataFrame with a MultiLineString is created."
   ]
  },
  {
   "cell_type": "code",
   "execution_count": 64,
   "metadata": {},
   "outputs": [
    {
     "data": {
      "text/html": [
       "<div>\n",
       "<style scoped>\n",
       "    .dataframe tbody tr th:only-of-type {\n",
       "        vertical-align: middle;\n",
       "    }\n",
       "\n",
       "    .dataframe tbody tr th {\n",
       "        vertical-align: top;\n",
       "    }\n",
       "\n",
       "    .dataframe thead th {\n",
       "        text-align: right;\n",
       "    }\n",
       "</style>\n",
       "<table border=\"1\" class=\"dataframe\">\n",
       "  <thead>\n",
       "    <tr style=\"text-align: right;\">\n",
       "      <th></th>\n",
       "      <th>geometry</th>\n",
       "      <th>formation</th>\n",
       "      <th>id</th>\n",
       "    </tr>\n",
       "  </thead>\n",
       "  <tbody>\n",
       "    <tr>\n",
       "      <th>0</th>\n",
       "      <td>MULTILINESTRING ((0.188 495.787, 0.249 1068.76...</td>\n",
       "      <td>Sand2</td>\n",
       "      <td>None</td>\n",
       "    </tr>\n",
       "  </tbody>\n",
       "</table>\n",
       "</div>"
      ],
      "text/plain": [
       "                                            geometry formation    id\n",
       "0  MULTILINESTRING ((0.188 495.787, 0.249 1068.76...     Sand2  None"
      ]
     },
     "execution_count": 64,
     "metadata": {},
     "output_type": "execute_result"
    }
   ],
   "source": [
    "from shapely.geometry import MultiLineString\n",
    "gdf2 = gpd.GeoSeries(data = MultiLineString([gdf_linestrings.loc[2].geometry,gdf_linestrings.loc[3].geometry])).to_frame()\n",
    "gdf2['formation']='Sand2'\n",
    "gdf2['id'] = None\n",
    "gdf2.columns = ['geometry','formation', 'id' ]\n",
    "gdf2"
   ]
  },
  {
   "cell_type": "markdown",
   "metadata": {},
   "source": [
    "The original and the new GeoDataFrame are concated."
   ]
  },
  {
   "cell_type": "code",
   "execution_count": 65,
   "metadata": {},
   "outputs": [
    {
     "data": {
      "text/html": [
       "<div>\n",
       "<style scoped>\n",
       "    .dataframe tbody tr th:only-of-type {\n",
       "        vertical-align: middle;\n",
       "    }\n",
       "\n",
       "    .dataframe tbody tr th {\n",
       "        vertical-align: top;\n",
       "    }\n",
       "\n",
       "    .dataframe thead th {\n",
       "        text-align: right;\n",
       "    }\n",
       "</style>\n",
       "<table border=\"1\" class=\"dataframe\">\n",
       "  <thead>\n",
       "    <tr style=\"text-align: right;\">\n",
       "      <th></th>\n",
       "      <th>index</th>\n",
       "      <th>id</th>\n",
       "      <th>formation</th>\n",
       "      <th>geometry</th>\n",
       "    </tr>\n",
       "  </thead>\n",
       "  <tbody>\n",
       "    <tr>\n",
       "      <th>0</th>\n",
       "      <td>0</td>\n",
       "      <td>None</td>\n",
       "      <td>Sand1</td>\n",
       "      <td>LINESTRING (0.256 264.862, 10.593 276.734, 17....</td>\n",
       "    </tr>\n",
       "    <tr>\n",
       "      <th>1</th>\n",
       "      <td>1</td>\n",
       "      <td>None</td>\n",
       "      <td>Ton</td>\n",
       "      <td>LINESTRING (0.256 264.862, 0.188 495.787, 8.84...</td>\n",
       "    </tr>\n",
       "    <tr>\n",
       "      <th>2</th>\n",
       "      <td>2</td>\n",
       "      <td>None</td>\n",
       "      <td>Sand2</td>\n",
       "      <td>LINESTRING (0.188 495.787, 0.249 1068.760, 278...</td>\n",
       "    </tr>\n",
       "    <tr>\n",
       "      <th>3</th>\n",
       "      <td>3</td>\n",
       "      <td>None</td>\n",
       "      <td>Sand2</td>\n",
       "      <td>LINESTRING (511.675 1068.852, 971.698 1068.800...</td>\n",
       "    </tr>\n",
       "    <tr>\n",
       "      <th>4</th>\n",
       "      <td>0</td>\n",
       "      <td>None</td>\n",
       "      <td>Sand2</td>\n",
       "      <td>MULTILINESTRING ((0.188 495.787, 0.249 1068.76...</td>\n",
       "    </tr>\n",
       "  </tbody>\n",
       "</table>\n",
       "</div>"
      ],
      "text/plain": [
       "   index    id formation                                           geometry\n",
       "0      0  None     Sand1  LINESTRING (0.256 264.862, 10.593 276.734, 17....\n",
       "1      1  None       Ton  LINESTRING (0.256 264.862, 0.188 495.787, 8.84...\n",
       "2      2  None     Sand2  LINESTRING (0.188 495.787, 0.249 1068.760, 278...\n",
       "3      3  None     Sand2  LINESTRING (511.675 1068.852, 971.698 1068.800...\n",
       "4      0  None     Sand2  MULTILINESTRING ((0.188 495.787, 0.249 1068.76..."
      ]
     },
     "execution_count": 65,
     "metadata": {},
     "output_type": "execute_result"
    }
   ],
   "source": [
    "gdf_linestring = pd.concat([gdf_linestrings, gdf2]).reset_index()\n",
    "gdf_linestring"
   ]
  },
  {
   "cell_type": "markdown",
   "metadata": {},
   "source": [
    "The two duplicated rows for the formation `Sand2` are dropped. "
   ]
  },
  {
   "cell_type": "code",
   "execution_count": 66,
   "metadata": {},
   "outputs": [
    {
     "data": {
      "text/html": [
       "<div>\n",
       "<style scoped>\n",
       "    .dataframe tbody tr th:only-of-type {\n",
       "        vertical-align: middle;\n",
       "    }\n",
       "\n",
       "    .dataframe tbody tr th {\n",
       "        vertical-align: top;\n",
       "    }\n",
       "\n",
       "    .dataframe thead th {\n",
       "        text-align: right;\n",
       "    }\n",
       "</style>\n",
       "<table border=\"1\" class=\"dataframe\">\n",
       "  <thead>\n",
       "    <tr style=\"text-align: right;\">\n",
       "      <th></th>\n",
       "      <th>geometry</th>\n",
       "      <th>formation</th>\n",
       "      <th>id</th>\n",
       "    </tr>\n",
       "  </thead>\n",
       "  <tbody>\n",
       "    <tr>\n",
       "      <th>0</th>\n",
       "      <td>LINESTRING (0.256 264.862, 10.593 276.734, 17....</td>\n",
       "      <td>Sand1</td>\n",
       "      <td>None</td>\n",
       "    </tr>\n",
       "    <tr>\n",
       "      <th>1</th>\n",
       "      <td>LINESTRING (0.256 264.862, 0.188 495.787, 8.84...</td>\n",
       "      <td>Ton</td>\n",
       "      <td>None</td>\n",
       "    </tr>\n",
       "    <tr>\n",
       "      <th>2</th>\n",
       "      <td>MULTILINESTRING ((0.188 495.787, 0.249 1068.76...</td>\n",
       "      <td>Sand2</td>\n",
       "      <td>None</td>\n",
       "    </tr>\n",
       "  </tbody>\n",
       "</table>\n",
       "</div>"
      ],
      "text/plain": [
       "                                            geometry formation    id\n",
       "0  LINESTRING (0.256 264.862, 10.593 276.734, 17....     Sand1  None\n",
       "1  LINESTRING (0.256 264.862, 0.188 495.787, 8.84...       Ton  None\n",
       "2  MULTILINESTRING ((0.188 495.787, 0.249 1068.76...     Sand2  None"
      ]
     },
     "execution_count": 66,
     "metadata": {},
     "output_type": "execute_result"
    }
   ],
   "source": [
    "gdf_linestring = gdf_linestring.drop(gdf_linestring.index[[2,3]]).reset_index()\n",
    "gdf_linestring = gdf_linestring[['geometry','formation', 'id']]\n",
    "gdf_linestring "
   ]
  },
  {
   "cell_type": "markdown",
   "metadata": {},
   "source": [
    "This step can also be done with the function `explode_polygons`, which will return in our case only LineStrings as indicated before."
   ]
  },
  {
   "cell_type": "code",
   "execution_count": 67,
   "metadata": {},
   "outputs": [
    {
     "data": {
      "text/html": [
       "<div>\n",
       "<style scoped>\n",
       "    .dataframe tbody tr th:only-of-type {\n",
       "        vertical-align: middle;\n",
       "    }\n",
       "\n",
       "    .dataframe tbody tr th {\n",
       "        vertical-align: top;\n",
       "    }\n",
       "\n",
       "    .dataframe thead th {\n",
       "        text-align: right;\n",
       "    }\n",
       "</style>\n",
       "<table border=\"1\" class=\"dataframe\">\n",
       "  <thead>\n",
       "    <tr style=\"text-align: right;\">\n",
       "      <th></th>\n",
       "      <th>id</th>\n",
       "      <th>formation</th>\n",
       "      <th>geometry</th>\n",
       "    </tr>\n",
       "  </thead>\n",
       "  <tbody>\n",
       "    <tr>\n",
       "      <th>0</th>\n",
       "      <td>None</td>\n",
       "      <td>Sand1</td>\n",
       "      <td>LINESTRING (0.256 264.862, 10.593 276.734, 17....</td>\n",
       "    </tr>\n",
       "    <tr>\n",
       "      <th>1</th>\n",
       "      <td>None</td>\n",
       "      <td>Ton</td>\n",
       "      <td>LINESTRING (0.256 264.862, 0.188 495.787, 8.84...</td>\n",
       "    </tr>\n",
       "    <tr>\n",
       "      <th>2</th>\n",
       "      <td>None</td>\n",
       "      <td>Sand2</td>\n",
       "      <td>LINESTRING (0.188 495.787, 0.249 1068.760, 278...</td>\n",
       "    </tr>\n",
       "    <tr>\n",
       "      <th>3</th>\n",
       "      <td>None</td>\n",
       "      <td>Sand2</td>\n",
       "      <td>LINESTRING (511.675 1068.852, 971.698 1068.800...</td>\n",
       "    </tr>\n",
       "  </tbody>\n",
       "</table>\n",
       "</div>"
      ],
      "text/plain": [
       "     id formation                                           geometry\n",
       "0  None     Sand1  LINESTRING (0.256 264.862, 10.593 276.734, 17....\n",
       "1  None       Ton  LINESTRING (0.256 264.862, 0.188 495.787, 8.84...\n",
       "2  None     Sand2  LINESTRING (0.188 495.787, 0.249 1068.760, 278...\n",
       "3  None     Sand2  LINESTRING (511.675 1068.852, 971.698 1068.800..."
      ]
     },
     "execution_count": 67,
     "metadata": {},
     "output_type": "execute_result"
    }
   ],
   "source": [
    "gdf_exploded = gg.vector.explode_polygons(gdf)\n",
    "gdf_exploded"
   ]
  },
  {
   "cell_type": "markdown",
   "metadata": {},
   "source": [
    "## Exploding MultiLineStrings to LineStrings\n",
    "\n",
    "The second step is to explode MultiLineStrings to LineStrings. Therefore, we will use the manually created GeoDataFrame containing one MultiLineString to demonstrate the functionality. This can easily be done using the built-in `explode()` method of Pandas. However, when doing that, we will get two index columns."
   ]
  },
  {
   "cell_type": "code",
   "execution_count": 68,
   "metadata": {},
   "outputs": [
    {
     "data": {
      "text/html": [
       "<div>\n",
       "<style scoped>\n",
       "    .dataframe tbody tr th:only-of-type {\n",
       "        vertical-align: middle;\n",
       "    }\n",
       "\n",
       "    .dataframe tbody tr th {\n",
       "        vertical-align: top;\n",
       "    }\n",
       "\n",
       "    .dataframe thead th {\n",
       "        text-align: right;\n",
       "    }\n",
       "</style>\n",
       "<table border=\"1\" class=\"dataframe\">\n",
       "  <thead>\n",
       "    <tr style=\"text-align: right;\">\n",
       "      <th></th>\n",
       "      <th></th>\n",
       "      <th>formation</th>\n",
       "      <th>id</th>\n",
       "      <th>geometry</th>\n",
       "    </tr>\n",
       "  </thead>\n",
       "  <tbody>\n",
       "    <tr>\n",
       "      <th>0</th>\n",
       "      <th>0</th>\n",
       "      <td>Sand1</td>\n",
       "      <td>None</td>\n",
       "      <td>LINESTRING (0.256 264.862, 10.593 276.734, 17....</td>\n",
       "    </tr>\n",
       "    <tr>\n",
       "      <th>1</th>\n",
       "      <th>0</th>\n",
       "      <td>Ton</td>\n",
       "      <td>None</td>\n",
       "      <td>LINESTRING (0.256 264.862, 0.188 495.787, 8.84...</td>\n",
       "    </tr>\n",
       "    <tr>\n",
       "      <th rowspan=\"2\" valign=\"top\">2</th>\n",
       "      <th>0</th>\n",
       "      <td>Sand2</td>\n",
       "      <td>None</td>\n",
       "      <td>LINESTRING (0.188 495.787, 0.249 1068.760, 278...</td>\n",
       "    </tr>\n",
       "    <tr>\n",
       "      <th>1</th>\n",
       "      <td>Sand2</td>\n",
       "      <td>None</td>\n",
       "      <td>LINESTRING (511.675 1068.852, 971.698 1068.800...</td>\n",
       "    </tr>\n",
       "  </tbody>\n",
       "</table>\n",
       "</div>"
      ],
      "text/plain": [
       "    formation    id                                           geometry\n",
       "0 0     Sand1  None  LINESTRING (0.256 264.862, 10.593 276.734, 17....\n",
       "1 0       Ton  None  LINESTRING (0.256 264.862, 0.188 495.787, 8.84...\n",
       "2 0     Sand2  None  LINESTRING (0.188 495.787, 0.249 1068.760, 278...\n",
       "  1     Sand2  None  LINESTRING (511.675 1068.852, 971.698 1068.800..."
      ]
     },
     "execution_count": 68,
     "metadata": {},
     "output_type": "execute_result"
    }
   ],
   "source": [
    "gdf_linestrings_exploded = gdf_linestring.explode()\n",
    "gdf_linestrings_exploded"
   ]
  },
  {
   "cell_type": "markdown",
   "metadata": {},
   "source": [
    "Using `explode_multilinestrings` will automatically explode all LineStrings and reset the index by default. "
   ]
  },
  {
   "cell_type": "code",
   "execution_count": 69,
   "metadata": {},
   "outputs": [
    {
     "data": {
      "text/html": [
       "<div>\n",
       "<style scoped>\n",
       "    .dataframe tbody tr th:only-of-type {\n",
       "        vertical-align: middle;\n",
       "    }\n",
       "\n",
       "    .dataframe tbody tr th {\n",
       "        vertical-align: top;\n",
       "    }\n",
       "\n",
       "    .dataframe thead th {\n",
       "        text-align: right;\n",
       "    }\n",
       "</style>\n",
       "<table border=\"1\" class=\"dataframe\">\n",
       "  <thead>\n",
       "    <tr style=\"text-align: right;\">\n",
       "      <th></th>\n",
       "      <th>formation</th>\n",
       "      <th>id</th>\n",
       "      <th>geometry</th>\n",
       "    </tr>\n",
       "  </thead>\n",
       "  <tbody>\n",
       "    <tr>\n",
       "      <th>0</th>\n",
       "      <td>Sand1</td>\n",
       "      <td>None</td>\n",
       "      <td>LINESTRING (0.256 264.862, 10.593 276.734, 17....</td>\n",
       "    </tr>\n",
       "    <tr>\n",
       "      <th>1</th>\n",
       "      <td>Ton</td>\n",
       "      <td>None</td>\n",
       "      <td>LINESTRING (0.256 264.862, 0.188 495.787, 8.84...</td>\n",
       "    </tr>\n",
       "    <tr>\n",
       "      <th>2</th>\n",
       "      <td>Sand2</td>\n",
       "      <td>None</td>\n",
       "      <td>LINESTRING (0.188 495.787, 0.249 1068.760, 278...</td>\n",
       "    </tr>\n",
       "    <tr>\n",
       "      <th>3</th>\n",
       "      <td>Sand2</td>\n",
       "      <td>None</td>\n",
       "      <td>LINESTRING (511.675 1068.852, 971.698 1068.800...</td>\n",
       "    </tr>\n",
       "  </tbody>\n",
       "</table>\n",
       "</div>"
      ],
      "text/plain": [
       "  formation    id                                           geometry\n",
       "0     Sand1  None  LINESTRING (0.256 264.862, 10.593 276.734, 17....\n",
       "1       Ton  None  LINESTRING (0.256 264.862, 0.188 495.787, 8.84...\n",
       "2     Sand2  None  LINESTRING (0.188 495.787, 0.249 1068.760, 278...\n",
       "3     Sand2  None  LINESTRING (511.675 1068.852, 971.698 1068.800..."
      ]
     },
     "execution_count": 69,
     "metadata": {},
     "output_type": "execute_result"
    }
   ],
   "source": [
    "gdf_linestrings_exploded = gg.vector.explode_multilinestrings(gdf_linestring)\n",
    "gdf_linestrings_exploded"
   ]
  },
  {
   "cell_type": "markdown",
   "metadata": {},
   "source": [
    "Setting `reset_index=False` will create the table as shown above."
   ]
  },
  {
   "cell_type": "code",
   "execution_count": 70,
   "metadata": {},
   "outputs": [
    {
     "data": {
      "text/html": [
       "<div>\n",
       "<style scoped>\n",
       "    .dataframe tbody tr th:only-of-type {\n",
       "        vertical-align: middle;\n",
       "    }\n",
       "\n",
       "    .dataframe tbody tr th {\n",
       "        vertical-align: top;\n",
       "    }\n",
       "\n",
       "    .dataframe thead th {\n",
       "        text-align: right;\n",
       "    }\n",
       "</style>\n",
       "<table border=\"1\" class=\"dataframe\">\n",
       "  <thead>\n",
       "    <tr style=\"text-align: right;\">\n",
       "      <th></th>\n",
       "      <th></th>\n",
       "      <th>formation</th>\n",
       "      <th>id</th>\n",
       "      <th>geometry</th>\n",
       "    </tr>\n",
       "  </thead>\n",
       "  <tbody>\n",
       "    <tr>\n",
       "      <th>0</th>\n",
       "      <th>0</th>\n",
       "      <td>Sand1</td>\n",
       "      <td>None</td>\n",
       "      <td>LINESTRING (0.256 264.862, 10.593 276.734, 17....</td>\n",
       "    </tr>\n",
       "    <tr>\n",
       "      <th>1</th>\n",
       "      <th>0</th>\n",
       "      <td>Ton</td>\n",
       "      <td>None</td>\n",
       "      <td>LINESTRING (0.256 264.862, 0.188 495.787, 8.84...</td>\n",
       "    </tr>\n",
       "    <tr>\n",
       "      <th rowspan=\"2\" valign=\"top\">2</th>\n",
       "      <th>0</th>\n",
       "      <td>Sand2</td>\n",
       "      <td>None</td>\n",
       "      <td>LINESTRING (0.188 495.787, 0.249 1068.760, 278...</td>\n",
       "    </tr>\n",
       "    <tr>\n",
       "      <th>1</th>\n",
       "      <td>Sand2</td>\n",
       "      <td>None</td>\n",
       "      <td>LINESTRING (511.675 1068.852, 971.698 1068.800...</td>\n",
       "    </tr>\n",
       "  </tbody>\n",
       "</table>\n",
       "</div>"
      ],
      "text/plain": [
       "    formation    id                                           geometry\n",
       "0 0     Sand1  None  LINESTRING (0.256 264.862, 10.593 276.734, 17....\n",
       "1 0       Ton  None  LINESTRING (0.256 264.862, 0.188 495.787, 8.84...\n",
       "2 0     Sand2  None  LINESTRING (0.188 495.787, 0.249 1068.760, 278...\n",
       "  1     Sand2  None  LINESTRING (511.675 1068.852, 971.698 1068.800..."
      ]
     },
     "execution_count": 70,
     "metadata": {},
     "output_type": "execute_result"
    }
   ],
   "source": [
    "gdf_linestrings_exploded = gg.vector.explode_multilinestrings(gdf_linestring, reset_index=False)\n",
    "gdf_linestrings_exploded"
   ]
  },
  {
   "cell_type": "markdown",
   "metadata": {},
   "source": [
    "By default, the additionally created columns `level0` and `level1` when resetting the index are dropped. However, they can also be kept."
   ]
  },
  {
   "cell_type": "code",
   "execution_count": 71,
   "metadata": {},
   "outputs": [
    {
     "data": {
      "text/html": [
       "<div>\n",
       "<style scoped>\n",
       "    .dataframe tbody tr th:only-of-type {\n",
       "        vertical-align: middle;\n",
       "    }\n",
       "\n",
       "    .dataframe tbody tr th {\n",
       "        vertical-align: top;\n",
       "    }\n",
       "\n",
       "    .dataframe thead th {\n",
       "        text-align: right;\n",
       "    }\n",
       "</style>\n",
       "<table border=\"1\" class=\"dataframe\">\n",
       "  <thead>\n",
       "    <tr style=\"text-align: right;\">\n",
       "      <th></th>\n",
       "      <th>level_0</th>\n",
       "      <th>level_1</th>\n",
       "      <th>formation</th>\n",
       "      <th>id</th>\n",
       "      <th>geometry</th>\n",
       "    </tr>\n",
       "  </thead>\n",
       "  <tbody>\n",
       "    <tr>\n",
       "      <th>0</th>\n",
       "      <td>0</td>\n",
       "      <td>0</td>\n",
       "      <td>Sand1</td>\n",
       "      <td>None</td>\n",
       "      <td>LINESTRING (0.256 264.862, 10.593 276.734, 17....</td>\n",
       "    </tr>\n",
       "    <tr>\n",
       "      <th>1</th>\n",
       "      <td>1</td>\n",
       "      <td>0</td>\n",
       "      <td>Ton</td>\n",
       "      <td>None</td>\n",
       "      <td>LINESTRING (0.256 264.862, 0.188 495.787, 8.84...</td>\n",
       "    </tr>\n",
       "    <tr>\n",
       "      <th>2</th>\n",
       "      <td>2</td>\n",
       "      <td>0</td>\n",
       "      <td>Sand2</td>\n",
       "      <td>None</td>\n",
       "      <td>LINESTRING (0.188 495.787, 0.249 1068.760, 278...</td>\n",
       "    </tr>\n",
       "    <tr>\n",
       "      <th>3</th>\n",
       "      <td>2</td>\n",
       "      <td>1</td>\n",
       "      <td>Sand2</td>\n",
       "      <td>None</td>\n",
       "      <td>LINESTRING (511.675 1068.852, 971.698 1068.800...</td>\n",
       "    </tr>\n",
       "  </tbody>\n",
       "</table>\n",
       "</div>"
      ],
      "text/plain": [
       "   level_0  level_1 formation    id  \\\n",
       "0        0        0     Sand1  None   \n",
       "1        1        0       Ton  None   \n",
       "2        2        0     Sand2  None   \n",
       "3        2        1     Sand2  None   \n",
       "\n",
       "                                            geometry  \n",
       "0  LINESTRING (0.256 264.862, 10.593 276.734, 17....  \n",
       "1  LINESTRING (0.256 264.862, 0.188 495.787, 8.84...  \n",
       "2  LINESTRING (0.188 495.787, 0.249 1068.760, 278...  \n",
       "3  LINESTRING (511.675 1068.852, 971.698 1068.800...  "
      ]
     },
     "execution_count": 71,
     "metadata": {},
     "output_type": "execute_result"
    }
   ],
   "source": [
    "gdf_linestrings_exploded = gg.vector.explode_multilinestrings(gdf_linestring, reset_index=True, drop_level0=False, drop_level1=False)\n",
    "gdf_linestrings_exploded"
   ]
  },
  {
   "cell_type": "markdown",
   "metadata": {},
   "source": [
    "Now that we only have LineStrings in the GeoDataFrame, we can use the function `extract_xy_linestrings` to extract the X and Y coordinates. By default, the `level0` and `level1` columns are dropped but can be kept setting the dropping arguments to `False`. "
   ]
  },
  {
   "cell_type": "code",
   "execution_count": 72,
   "metadata": {},
   "outputs": [
    {
     "data": {
      "text/html": [
       "<div>\n",
       "<style scoped>\n",
       "    .dataframe tbody tr th:only-of-type {\n",
       "        vertical-align: middle;\n",
       "    }\n",
       "\n",
       "    .dataframe tbody tr th {\n",
       "        vertical-align: top;\n",
       "    }\n",
       "\n",
       "    .dataframe thead th {\n",
       "        text-align: right;\n",
       "    }\n",
       "</style>\n",
       "<table border=\"1\" class=\"dataframe\">\n",
       "  <thead>\n",
       "    <tr style=\"text-align: right;\">\n",
       "      <th></th>\n",
       "      <th>formation</th>\n",
       "      <th>geometry</th>\n",
       "      <th>X</th>\n",
       "      <th>Y</th>\n",
       "    </tr>\n",
       "  </thead>\n",
       "  <tbody>\n",
       "    <tr>\n",
       "      <th>0</th>\n",
       "      <td>Sand1</td>\n",
       "      <td>POINT (0.256 264.862)</td>\n",
       "      <td>0.26</td>\n",
       "      <td>264.86</td>\n",
       "    </tr>\n",
       "    <tr>\n",
       "      <th>1</th>\n",
       "      <td>Sand1</td>\n",
       "      <td>POINT (10.593 276.734)</td>\n",
       "      <td>10.59</td>\n",
       "      <td>276.73</td>\n",
       "    </tr>\n",
       "    <tr>\n",
       "      <th>2</th>\n",
       "      <td>Sand1</td>\n",
       "      <td>POINT (17.135 289.090)</td>\n",
       "      <td>17.13</td>\n",
       "      <td>289.09</td>\n",
       "    </tr>\n",
       "    <tr>\n",
       "      <th>3</th>\n",
       "      <td>Sand1</td>\n",
       "      <td>POINT (19.150 293.313)</td>\n",
       "      <td>19.15</td>\n",
       "      <td>293.31</td>\n",
       "    </tr>\n",
       "    <tr>\n",
       "      <th>4</th>\n",
       "      <td>Sand1</td>\n",
       "      <td>POINT (27.795 310.572)</td>\n",
       "      <td>27.80</td>\n",
       "      <td>310.57</td>\n",
       "    </tr>\n",
       "    <tr>\n",
       "      <th>...</th>\n",
       "      <td>...</td>\n",
       "      <td>...</td>\n",
       "      <td>...</td>\n",
       "      <td>...</td>\n",
       "    </tr>\n",
       "    <tr>\n",
       "      <th>264</th>\n",
       "      <td>Sand2</td>\n",
       "      <td>POINT (636.023 859.788)</td>\n",
       "      <td>636.02</td>\n",
       "      <td>859.79</td>\n",
       "    </tr>\n",
       "    <tr>\n",
       "      <th>265</th>\n",
       "      <td>Sand2</td>\n",
       "      <td>POINT (608.851 912.396)</td>\n",
       "      <td>608.85</td>\n",
       "      <td>912.40</td>\n",
       "    </tr>\n",
       "    <tr>\n",
       "      <th>266</th>\n",
       "      <td>Sand2</td>\n",
       "      <td>POINT (560.110 990.617)</td>\n",
       "      <td>560.11</td>\n",
       "      <td>990.62</td>\n",
       "    </tr>\n",
       "    <tr>\n",
       "      <th>267</th>\n",
       "      <td>Sand2</td>\n",
       "      <td>POINT (526.375 1045.388)</td>\n",
       "      <td>526.38</td>\n",
       "      <td>1045.39</td>\n",
       "    </tr>\n",
       "    <tr>\n",
       "      <th>268</th>\n",
       "      <td>Sand2</td>\n",
       "      <td>POINT (511.675 1068.852)</td>\n",
       "      <td>511.67</td>\n",
       "      <td>1068.85</td>\n",
       "    </tr>\n",
       "  </tbody>\n",
       "</table>\n",
       "<p>269 rows × 4 columns</p>\n",
       "</div>"
      ],
      "text/plain": [
       "    formation                  geometry      X       Y\n",
       "0       Sand1     POINT (0.256 264.862)   0.26  264.86\n",
       "1       Sand1    POINT (10.593 276.734)  10.59  276.73\n",
       "2       Sand1    POINT (17.135 289.090)  17.13  289.09\n",
       "3       Sand1    POINT (19.150 293.313)  19.15  293.31\n",
       "4       Sand1    POINT (27.795 310.572)  27.80  310.57\n",
       "..        ...                       ...    ...     ...\n",
       "264     Sand2   POINT (636.023 859.788) 636.02  859.79\n",
       "265     Sand2   POINT (608.851 912.396) 608.85  912.40\n",
       "266     Sand2   POINT (560.110 990.617) 560.11  990.62\n",
       "267     Sand2  POINT (526.375 1045.388) 526.38 1045.39\n",
       "268     Sand2  POINT (511.675 1068.852) 511.67 1068.85\n",
       "\n",
       "[269 rows x 4 columns]"
      ]
     },
     "execution_count": 72,
     "metadata": {},
     "output_type": "execute_result"
    }
   ],
   "source": [
    "gdf_xy = gg.vector.extract_xy_linestrings(gdf_linestrings_exploded)\n",
    "gdf_xy"
   ]
  },
  {
   "cell_type": "markdown",
   "metadata": {},
   "source": [
    "<a id='ex4'></a>\n",
    "# Extract XY from any type of Geometry\n",
    "\n",
    "**All introduced functions are combined to the function `extract_xy(...)` taking the loaded vector data as GeoDataFrame as input and the introduced arguments to drop columns, reproject the coordinates or clip the coordinates with a bounding box.**"
   ]
  },
  {
   "cell_type": "markdown",
   "metadata": {},
   "source": [
    "<a id='summary'></a>\n",
    "# Summary\n",
    "\n",
    "In this tutorial it was shown how to \n",
    "- Extract XY coordinates from points using `extract_xy_points()`\n",
    "- Extract XY coordinates from linestrings using `extract_xy_linestrings()`\n",
    "- Explode Polygons using `explode_polygons()`\n",
    "- Explode MultiLineStrings using `explode_multilinestrings()`\n",
    "- Explode all types of Geometry using `extract_xy()`\n",
    "\n",
    "In the next tutorial, the functionality to extract height information from a raster will be introduced.\n"
   ]
  },
  {
   "cell_type": "code",
   "execution_count": 77,
   "metadata": {},
   "outputs": [
    {
     "data": {
      "text/plain": [
       "(0.23613746702971916,\n",
       " -0.006899458905866851,\n",
       " 972.0889039630482,\n",
       " 957.2890728572154)"
      ]
     },
     "execution_count": 77,
     "metadata": {},
     "output_type": "execute_result"
    }
   ],
   "source": [
    "gdf.loc[0].geometry.bounds"
   ]
  }
 ],
 "metadata": {
  "kernelspec": {
   "display_name": "Python 3",
   "language": "python",
   "name": "python3"
  },
  "language_info": {
   "codemirror_mode": {
    "name": "ipython",
    "version": 3
   },
   "file_extension": ".py",
   "mimetype": "text/x-python",
   "name": "python",
   "nbconvert_exporter": "python",
   "pygments_lexer": "ipython3",
   "version": "3.8.5"
  }
 },
 "nbformat": 4,
 "nbformat_minor": 4
}
