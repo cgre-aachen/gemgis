{
 "cells": [
  {
   "cell_type": "markdown",
   "metadata": {},
   "source": [
    "# 16 Extracting Interfaces from Geological Maps\n",
    "\n",
    "Geological Maps nowadays are usually available in a vector format consisting of connected polygons. These polygons consist of single vertices and hence, boundaries between younger and older stratigraphic units can be used for modeling. However, these specific vertices need to be kept while removing all unnecessary ones. The following will introduce how that works in GemGIS. \n",
    "\n",
    "<img src=\"../images/tutorial16_cover.png\">"
   ]
  },
  {
   "cell_type": "markdown",
   "metadata": {},
   "source": [
    "## Set File Paths and download Tutorial Data\n",
    "\n",
    "If you downloaded the latest `GemGIS` version from the Github repository, append the path so that the package can be imported successfully. Otherwise, it is recommended to install `GemGIS` via `pip install gemgis` and import `GemGIS` using `import gemgis as gg`. In addition, the file path to the folder where the data is being stored is set. The tutorial data is downloaded using Pooch (https://www.fatiando.org/pooch/latest/index.html) and stored in the specified folder. Use `pip install pooch` if Pooch is not installed on your system yet."
   ]
  },
  {
   "cell_type": "code",
   "execution_count": 1,
   "metadata": {
    "ExecuteTime": {
     "end_time": "2021-03-17T11:11:44.835933Z",
     "start_time": "2021-03-17T11:11:42.598151Z"
    }
   },
   "outputs": [
    {
     "name": "stderr",
     "output_type": "stream",
     "text": [
      "WARNING (theano.configdefaults): g++ not available, if using conda: `conda install m2w64-toolchain`\n",
      "C:\\Users\\ale93371\\Anaconda3\\envs\\test_gempy\\lib\\site-packages\\theano\\configdefaults.py:560: UserWarning: DeprecationWarning: there is no c++ compiler.This is deprecated and with Theano 0.11 a c++ compiler will be mandatory\n",
      "  warnings.warn(\"DeprecationWarning: there is no c++ compiler.\"\n",
      "WARNING (theano.configdefaults): g++ not detected ! Theano will be unable to execute optimized C-implementations (for both CPU and GPU) and will default to Python implementations. Performance will be severely degraded. To remove this warning, set Theano flags cxx to an empty string.\n",
      "WARNING (theano.tensor.blas): Using NumPy C-API based implementation for BLAS functions.\n"
     ]
    }
   ],
   "source": [
    "import gemgis as gg\n",
    "\n",
    "file_path ='data/16_extracting_interfaces_from_geological_maps/'"
   ]
  },
  {
   "cell_type": "code",
   "execution_count": 2,
   "metadata": {
    "ExecuteTime": {
     "end_time": "2021-03-17T11:11:44.913801Z",
     "start_time": "2021-03-17T11:11:44.884672Z"
    }
   },
   "outputs": [],
   "source": [
    "gg.download_gemgis_data.download_tutorial_data(filename=\"16_extracting_interfaces_from_geological_maps.zip\", dirpath=file_path)"
   ]
  },
  {
   "cell_type": "markdown",
   "metadata": {},
   "source": [
    "## Loading Data\n",
    "\n",
    "A simple geological map will be used to demonstrate the feature."
   ]
  },
  {
   "cell_type": "code",
   "execution_count": 2,
   "metadata": {
    "ExecuteTime": {
     "end_time": "2020-12-06T16:34:41.978556Z",
     "start_time": "2020-12-06T16:34:36.350088Z"
    }
   },
   "outputs": [
    {
     "name": "stderr",
     "output_type": "stream",
     "text": [
      "WARNING (theano.configdefaults): g++ not available, if using conda: `conda install m2w64-toolchain`\n",
      "C:\\Users\\ale93371\\Anaconda3\\envs\\test_gempy\\lib\\site-packages\\theano\\configdefaults.py:560: UserWarning: DeprecationWarning: there is no c++ compiler.This is deprecated and with Theano 0.11 a c++ compiler will be mandatory\n",
      "  warnings.warn(\"DeprecationWarning: there is no c++ compiler.\"\n",
      "WARNING (theano.configdefaults): g++ not detected ! Theano will be unable to execute optimized C-implementations (for both CPU and GPU) and will default to Python implementations. Performance will be severely degraded. To remove this warning, set Theano flags cxx to an empty string.\n",
      "WARNING (theano.tensor.blas): Using NumPy C-API based implementation for BLAS functions.\n"
     ]
    },
    {
     "data": {
      "text/html": [
       "<div>\n",
       "<style scoped>\n",
       "    .dataframe tbody tr th:only-of-type {\n",
       "        vertical-align: middle;\n",
       "    }\n",
       "\n",
       "    .dataframe tbody tr th {\n",
       "        vertical-align: top;\n",
       "    }\n",
       "\n",
       "    .dataframe thead th {\n",
       "        text-align: right;\n",
       "    }\n",
       "</style>\n",
       "<table border=\"1\" class=\"dataframe\">\n",
       "  <thead>\n",
       "    <tr style=\"text-align: right;\">\n",
       "      <th></th>\n",
       "      <th>id</th>\n",
       "      <th>formation</th>\n",
       "      <th>geometry</th>\n",
       "    </tr>\n",
       "  </thead>\n",
       "  <tbody>\n",
       "    <tr>\n",
       "      <th>0</th>\n",
       "      <td>None</td>\n",
       "      <td>Sand1</td>\n",
       "      <td>POLYGON ((0.256 264.862, 10.593 276.734, 17.13...</td>\n",
       "    </tr>\n",
       "    <tr>\n",
       "      <th>1</th>\n",
       "      <td>None</td>\n",
       "      <td>Ton</td>\n",
       "      <td>POLYGON ((0.256 264.862, 0.188 495.787, 8.841 ...</td>\n",
       "    </tr>\n",
       "    <tr>\n",
       "      <th>2</th>\n",
       "      <td>None</td>\n",
       "      <td>Sand2</td>\n",
       "      <td>POLYGON ((0.188 495.787, 0.249 1068.760, 278.5...</td>\n",
       "    </tr>\n",
       "    <tr>\n",
       "      <th>3</th>\n",
       "      <td>None</td>\n",
       "      <td>Sand2</td>\n",
       "      <td>POLYGON ((511.675 1068.852, 971.698 1068.800, ...</td>\n",
       "    </tr>\n",
       "  </tbody>\n",
       "</table>\n",
       "</div>"
      ],
      "text/plain": [
       "     id formation                                           geometry\n",
       "0  None     Sand1  POLYGON ((0.256 264.862, 10.593 276.734, 17.13...\n",
       "1  None       Ton  POLYGON ((0.256 264.862, 0.188 495.787, 8.841 ...\n",
       "2  None     Sand2  POLYGON ((0.188 495.787, 0.249 1068.760, 278.5...\n",
       "3  None     Sand2  POLYGON ((511.675 1068.852, 971.698 1068.800, ..."
      ]
     },
     "execution_count": 2,
     "metadata": {},
     "output_type": "execute_result"
    }
   ],
   "source": [
    "import geopandas as gpd\n",
    "\n",
    "gmap = gpd.read_file(file_path + 'interfaces_polygons.shp')\n",
    "gmap"
   ]
  },
  {
   "cell_type": "code",
   "execution_count": 3,
   "metadata": {
    "ExecuteTime": {
     "end_time": "2020-12-06T16:34:42.343553Z",
     "start_time": "2020-12-06T16:34:41.985074Z"
    }
   },
   "outputs": [
    {
     "data": {
      "image/png": "[encoded data removed]",
      "text/plain": [
       "<Figure size 748.8x514.8 with 1 Axes>"
      ]
     },
     "metadata": {},
     "output_type": "display_data"
    }
   ],
   "source": [
    "import matplotlib.pyplot as plt\n",
    "\n",
    "gmap.plot(column='formation', aspect='equal', legend=True)\n",
    "plt.grid()"
   ]
  },
  {
   "cell_type": "markdown",
   "metadata": {},
   "source": [
    "## Sorting the GeoDataFrame by stratigraphic age\n",
    "\n",
    "The probably most important step of this workflow is to sort the stratigraphic units according to their age. This can be done using the function ``sort_by_stratigraphy(..)`` and by providing a list with the formations in stratigraphic order from young to old.\n",
    "\n"
   ]
  },
  {
   "cell_type": "code",
   "execution_count": 4,
   "metadata": {
    "ExecuteTime": {
     "end_time": "2020-12-06T16:34:42.391072Z",
     "start_time": "2020-12-06T16:34:42.348556Z"
    }
   },
   "outputs": [
    {
     "data": {
      "text/html": [
       "<div>\n",
       "<style scoped>\n",
       "    .dataframe tbody tr th:only-of-type {\n",
       "        vertical-align: middle;\n",
       "    }\n",
       "\n",
       "    .dataframe tbody tr th {\n",
       "        vertical-align: top;\n",
       "    }\n",
       "\n",
       "    .dataframe thead th {\n",
       "        text-align: right;\n",
       "    }\n",
       "</style>\n",
       "<table border=\"1\" class=\"dataframe\">\n",
       "  <thead>\n",
       "    <tr style=\"text-align: right;\">\n",
       "      <th></th>\n",
       "      <th>id</th>\n",
       "      <th>formation</th>\n",
       "      <th>geometry</th>\n",
       "    </tr>\n",
       "  </thead>\n",
       "  <tbody>\n",
       "    <tr>\n",
       "      <th>0</th>\n",
       "      <td>None</td>\n",
       "      <td>Sand2</td>\n",
       "      <td>POLYGON ((0.188 495.787, 0.249 1068.760, 278.5...</td>\n",
       "    </tr>\n",
       "    <tr>\n",
       "      <th>1</th>\n",
       "      <td>None</td>\n",
       "      <td>Sand2</td>\n",
       "      <td>POLYGON ((511.675 1068.852, 971.698 1068.800, ...</td>\n",
       "    </tr>\n",
       "    <tr>\n",
       "      <th>2</th>\n",
       "      <td>None</td>\n",
       "      <td>Ton</td>\n",
       "      <td>POLYGON ((0.256 264.862, 0.188 495.787, 8.841 ...</td>\n",
       "    </tr>\n",
       "    <tr>\n",
       "      <th>3</th>\n",
       "      <td>None</td>\n",
       "      <td>Sand1</td>\n",
       "      <td>POLYGON ((0.256 264.862, 10.593 276.734, 17.13...</td>\n",
       "    </tr>\n",
       "  </tbody>\n",
       "</table>\n",
       "</div>"
      ],
      "text/plain": [
       "     id formation                                           geometry\n",
       "0  None     Sand2  POLYGON ((0.188 495.787, 0.249 1068.760, 278.5...\n",
       "1  None     Sand2  POLYGON ((511.675 1068.852, 971.698 1068.800, ...\n",
       "2  None       Ton  POLYGON ((0.256 264.862, 0.188 495.787, 8.841 ...\n",
       "3  None     Sand1  POLYGON ((0.256 264.862, 10.593 276.734, 17.13..."
      ]
     },
     "execution_count": 4,
     "metadata": {},
     "output_type": "execute_result"
    }
   ],
   "source": [
    "stratigraphy = ['Sand2', 'Ton', 'Sand1']\n",
    "\n",
    "gmap_sorted = gg.vector.sort_by_stratigraphy(gdf=gmap,\n",
    "                                             stratigraphy=stratigraphy)\n",
    "\n",
    "gmap_sorted"
   ]
  },
  {
   "cell_type": "markdown",
   "metadata": {},
   "source": [
    "## Extracting Intersections from Polygons\n",
    "\n",
    "The functionality is mainly based on the intersections between Shapely Polygons which will be demonstrated below. "
   ]
  },
  {
   "cell_type": "markdown",
   "metadata": {},
   "source": [
    "### Intersections between two polygons"
   ]
  },
  {
   "cell_type": "code",
   "execution_count": 5,
   "metadata": {
    "ExecuteTime": {
     "end_time": "2020-12-06T16:34:42.438208Z",
     "start_time": "2020-12-06T16:34:42.394480Z"
    }
   },
   "outputs": [
    {
     "data": {
      "image/svg+xml": [
       "<svg xmlns=\"http://www.w3.org/2000/svg\" xmlns:xlink=\"http://www.w3.org/1999/xlink\" width=\"300\" height=\"300\" viewBox=\"-38.63797319281102 -38.8810101187466 1049.6009878157 1035.0441936358027\" preserveAspectRatio=\"xMinYMin meet\"><g transform=\"matrix(1,0,0,-1,0,957.2821733983095)\"><path fill-rule=\"evenodd\" fill=\"#66cc99\" stroke=\"#555555\" stroke-width=\"6.997339918771333\" opacity=\"0.6\" d=\"M 0.256327195431048,264.86214748436396 L 10.59346813871597,276.73370778641777 L 17.134940141888464,289.089821570188 L 19.150128045807676,293.313485355882 L 27.79511673965105,310.571692592952 L 34.41734765644295,324.13919008101345 L 40.7165429187572,338.5142767052691 L 49.27698776241503,352.56632767504703 L 55.33390628387104,364.1148523226231 L 60.98703023722999,376.30944827915454 L 61.93436666575576,381.4593263680641 L 74.31225098443318,404.8981037004269 L 89.49492674488292,440.43202569296886 L 100.8011746516008,465.62880674222583 L 109.35786007581868,480.9455679783049 L 122.12152784712598,511.49986967805273 L 134.7199183717545,543.1573638168628 L 146.02616627847237,575.1378936101505 L 154.748128949369,602.2728885862734 L 157.81229899479604,615.9994296460927 L 170.2538403642964,655.5737715750863 L 179.944909998626,686.9082300594188 L 191.31802803451436,719.0939805375339 L 200.61919188519585,750.2232183370392 L 210.95633282848075,774.7739280773408 L 224.82375707423273,798.4767847239435 L 240.67561304042493,822.9062405945112 L 255.21221749191938,846.1648077169024 L 264.903287126249,861.9935547863074 L 264.903287126249,861.9935547863074 L 272.76272323875287,874.2512796291529 L 291.3922107934166,899.788726360193 L 308.8361361352099,915.9405090840756 L 323.27905317555906,927.3449733382452 L 341.462737237453,937.9069335885562 L 355.03023472551445,947.2749675684081 L 366.0632917955071,952.6031383066481 L 384.7495149374586,957.2890728572154 L 394.44058457178824,955.9969302393048 L 407.8165849065408,950.0257745343622 L 423.1907578202995,941.4603257878103 L 441.2807544710481,929.1849709176595 L 456.27102382551817,917.5509910035582 L 474.5534268822465,900.757833323626 L 490.05913829717383,879.4374801281008 L 503.94967143971303,861.3474834773522 L 515.0349178336396,847.9621691518354 L 530.7616307613583,821.9371336310784 L 545.6212708673304,798.3555308542095 L 559.8348396643472,775.7430350407737 L 575.3452301051327,753.6306550861667 L 592.1384051121127,724.0573303243491 L 604.0907243277858,703.706084092257 L 617.9812574703249,678.1862673885223 L 629.6105410315205,658.804128119863 L 638.748378903369,641.7730673689532 L 651.2539298815232,612.9330651840361 L 660.6219638613752,594.1969972243322 L 669.3439265322719,575.4609292646282 L 674.8314717153735,563.4212086914579 L 685.4957092561546,542.18825685343 L 698.7401710897384,515.053261877307 L 710.6924903054116,486.9491599377511 L 720.0605242852636,462.39845019744945 L 727.4903443382495,442.3702396198349 L 734.1108384779523,426.30545600584105 L 745.9033766434759,391.3306062123655 L 759.1478384770597,360.3191833825108 L 767.5467654934788,341.5831154228068 L 771.7403495533283,327.3346871500575 L 779.1760490546743,305.080086466832 L 785.3137264897498,279.23723410861965 L 795.967569012817,245.88999194581893 L 805.9880083763195,216.89135279443246 L 812.4487214658725,198.47832048920617 L 818.648370208934,185.5796796743258 L 826.9853259173669,173.92761074890447 L 841.329171405051,164.96076949603759 L 857.0276417837888,173.60457509442682 L 867.1028091279114,188.15704344661185 L 874.1485314711044,203.323855306371 L 886.7469219957329,240.14991991682354 L 893.8537063942413,268.25402185637944 L 900.3144194837944,285.69794719817276 L 903.701374694373,295.89084912816793 L 909.6824534636465,319.6166909183264 L 916.4662022076773,337.70668756907503 L 920.1965028370037,355.17021589074665 L 929.3876283867835,383.2547148504243 L 936.1713771308141,409.09756720863663 L 945.539411110666,440.75506134744666 L 950.0939225955215,453.11003923761575 L 955.5535163994733,474.35076941312263 L 962.6603007979818,497.60933653551376 L 966.0735779836949,510.32751498236564 L 972.0889039630482,529.79176361285 L 971.8062477653798,-0.006899458905866851 L 0.23613746702971916,0.15461836833298648 L 0.256327195431048,264.86214748436396 z\" /></g></svg>"
      ],
      "text/plain": [
       "<shapely.geometry.polygon.Polygon at 0x2074eb904f0>"
      ]
     },
     "execution_count": 5,
     "metadata": {},
     "output_type": "execute_result"
    }
   ],
   "source": [
    "gmap_sorted.loc[3].geometry"
   ]
  },
  {
   "cell_type": "code",
   "execution_count": 6,
   "metadata": {
    "ExecuteTime": {
     "end_time": "2020-12-06T16:34:42.454212Z",
     "start_time": "2020-12-06T16:34:42.442212Z"
    }
   },
   "outputs": [
    {
     "data": {
      "image/svg+xml": [
       "<svg xmlns=\"http://www.w3.org/2000/svg\" xmlns:xlink=\"http://www.w3.org/1999/xlink\" width=\"300\" height=\"300\" viewBox=\"-38.68784182197057 126.0847408119984 1049.652774469058 981.6437524623735\" preserveAspectRatio=\"xMinYMin meet\"><g transform=\"matrix(1,0,0,-1,0,1233.8132340863704)\"><path fill-rule=\"evenodd\" fill=\"#66cc99\" stroke=\"#555555\" stroke-width=\"6.997685163127053\" opacity=\"0.6\" d=\"M 0.256327195431048,264.86214748436396 L 0.1881868620686138,495.787213546976 L 8.840672956663411,504.1418419288791 L 41.09257661030145,546.423052386348 L 71.7283490004425,604.1435562935771 L 87.60971085508348,626.535894696806 L 116.35988410359462,686.6205264296495 L 140.8016980977082,751.568764068338 L 181.61308630808054,848.1383536684762 L 223.27733881086107,950.5412472888196 L 238.4673614961476,988.0127920572999 L 253.1747585693791,1022.7074329128286 L 265.6023564722704,1045.513138554322 L 278.5237826513765,1068.7717056767128 L 511.67476627062274,1068.8524645903326 L 526.3753184316984,1045.3882341089457 L 560.1099247138658,990.6172670215257 L 608.8509591448512,912.3962634589865 L 636.0233035161142,859.787826958076 L 677.9243082421169,782.4971293357705 L 700.6304344116447,739.6185634923892 L 723.285910634351,693.8358155691311 L 740.0407842579184,658.5366142184982 L 757.3071124285267,626.8243574896944 L 772.6673853601612,603.6205529572973 L 790.2973687137878,583.524646115289 L 810.139521279569,572.9321657819203 L 831.5351890703644,569.0914089904873 L 852.4571920161416,577.4546649446074 L 869.6801729001976,594.8650467133475 L 882.8225435370409,621.7105496080459 L 898.5466471498011,648.474213176897 L 908.0193245862978,675.9805395602916 L 925.3512303815758,711.3618892206762 L 941.2919969974961,754.801239252839 L 959.3724321757514,800.0232029873156 L 971.7381074320145,832.9758676364308 L 972.0889039630482,529.79176361285 L 966.0735779836949,510.32751498236564 L 962.6603007979818,497.60933653551376 L 955.5535163994733,474.35076941312263 L 950.0939225955215,453.11003923761575 L 945.539411110666,440.75506134744666 L 936.1713771308141,409.09756720863663 L 929.3876283867835,383.2547148504243 L 920.1965028370037,355.17021589074665 L 916.4662022076773,337.70668756907503 L 909.6824534636465,319.6166909183264 L 903.701374694373,295.89084912816793 L 900.3144194837944,285.69794719817276 L 893.8537063942413,268.25402185637944 L 886.7469219957329,240.14991991682354 L 874.1485314711044,203.323855306371 L 867.1028091279114,188.15704344661185 L 857.0276417837888,173.60457509442682 L 841.329171405051,164.96076949603759 L 826.9853259173669,173.92761074890447 L 818.648370208934,185.5796796743258 L 812.4487214658725,198.47832048920617 L 805.9880083763195,216.89135279443246 L 795.967569012817,245.88999194581893 L 785.3137264897498,279.23723410861965 L 779.1760490546743,305.080086466832 L 771.7403495533283,327.3346871500575 L 767.5467654934788,341.5831154228068 L 759.1478384770597,360.3191833825108 L 745.9033766434759,391.3306062123655 L 734.1108384779523,426.30545600584105 L 727.4903443382495,442.3702396198349 L 720.0605242852636,462.39845019744945 L 710.6924903054116,486.9491599377511 L 698.7401710897384,515.053261877307 L 685.4957092561546,542.18825685343 L 674.8314717153735,563.4212086914579 L 669.3439265322719,575.4609292646282 L 660.6219638613752,594.1969972243322 L 651.2539298815232,612.9330651840361 L 638.748378903369,641.7730673689532 L 629.6105410315205,658.804128119863 L 617.9812574703249,678.1862673885223 L 604.0907243277858,703.706084092257 L 592.1384051121127,724.0573303243491 L 575.3452301051327,753.6306550861667 L 559.8348396643472,775.7430350407737 L 545.6212708673304,798.3555308542095 L 530.7616307613583,821.9371336310784 L 515.0349178336396,847.9621691518354 L 503.94967143971303,861.3474834773522 L 490.05913829717383,879.4374801281008 L 474.5534268822465,900.757833323626 L 456.27102382551817,917.5509910035582 L 441.2807544710481,929.1849709176595 L 423.1907578202995,941.4603257878103 L 407.8165849065408,950.0257745343622 L 394.44058457178824,955.9969302393048 L 384.7495149374586,957.2890728572154 L 366.0632917955071,952.6031383066481 L 355.03023472551445,947.2749675684081 L 341.462737237453,937.9069335885562 L 323.27905317555906,927.3449733382452 L 308.8361361352099,915.9405090840756 L 291.3922107934166,899.788726360193 L 291.3922107934166,899.788726360193 L 272.76272323875287,874.2512796291529 L 264.903287126249,861.9935547863074 L 255.21221749191938,846.1648077169024 L 240.67561304042493,822.9062405945112 L 224.82375707423273,798.4767847239435 L 210.95633282848075,774.7739280773408 L 200.61919188519585,750.2232183370392 L 191.31802803451436,719.0939805375339 L 179.944909998626,686.9082300594188 L 170.2538403642964,655.5737715750863 L 157.81229899479604,615.9994296460927 L 154.748128949369,602.2728885862734 L 146.02616627847237,575.1378936101505 L 134.7199183717545,543.1573638168628 L 122.12152784712598,511.49986967805273 L 109.35786007581868,480.9455679783049 L 100.8011746516008,465.62880674222583 L 89.49492674488292,440.43202569296886 L 74.31225098443318,404.8981037004269 L 61.93436666575576,381.4593263680641 L 60.98703023722999,376.30944827915454 L 55.33390628387104,364.1148523226231 L 49.27698776241503,352.56632767504703 L 40.7165429187572,338.5142767052691 L 34.41734765644295,324.13919008101345 L 27.79511673965105,310.571692592952 L 19.150128045807676,293.313485355882 L 17.134940141888464,289.089821570188 L 10.59346813871597,276.73370778641777 L 0.256327195431048,264.86214748436396 z\" /></g></svg>"
      ],
      "text/plain": [
       "<shapely.geometry.polygon.Polygon at 0x20723257490>"
      ]
     },
     "execution_count": 6,
     "metadata": {},
     "output_type": "execute_result"
    }
   ],
   "source": [
    "gmap_sorted.loc[2].geometry"
   ]
  },
  {
   "cell_type": "code",
   "execution_count": 7,
   "metadata": {
    "ExecuteTime": {
     "end_time": "2020-12-06T16:34:42.486220Z",
     "start_time": "2020-12-06T16:34:42.459214Z"
    }
   },
   "outputs": [
    {
     "data": {
      "image/svg+xml": [
       "<svg xmlns=\"http://www.w3.org/2000/svg\" xmlns:xlink=\"http://www.w3.org/1999/xlink\" width=\"300\" height=\"300\" viewBox=\"-38.61697587527364 126.0874664253329 1049.5791829090265 870.0749095025872\" preserveAspectRatio=\"xMinYMin meet\"><g transform=\"matrix(1,0,0,-1,0,1122.249842353253)\"><g><polyline fill=\"none\" stroke=\"#66cc99\" stroke-width=\"6.997194552726843\" points=\"0.256327195431048,264.86214748436396 10.59346813871597,276.73370778641777\" opacity=\"0.8\" /><polyline fill=\"none\" stroke=\"#66cc99\" stroke-width=\"6.997194552726843\" points=\"10.59346813871597,276.73370778641777 17.134940141888464,289.089821570188\" opacity=\"0.8\" /><polyline fill=\"none\" stroke=\"#66cc99\" stroke-width=\"6.997194552726843\" points=\"17.134940141888464,289.089821570188 19.150128045807676,293.313485355882\" opacity=\"0.8\" /><polyline fill=\"none\" stroke=\"#66cc99\" stroke-width=\"6.997194552726843\" points=\"19.150128045807676,293.313485355882 27.79511673965105,310.571692592952\" opacity=\"0.8\" /><polyline fill=\"none\" stroke=\"#66cc99\" stroke-width=\"6.997194552726843\" points=\"27.79511673965105,310.571692592952 34.41734765644295,324.13919008101345\" opacity=\"0.8\" /><polyline fill=\"none\" stroke=\"#66cc99\" stroke-width=\"6.997194552726843\" points=\"34.41734765644295,324.13919008101345 40.7165429187572,338.5142767052691\" opacity=\"0.8\" /><polyline fill=\"none\" stroke=\"#66cc99\" stroke-width=\"6.997194552726843\" points=\"40.7165429187572,338.5142767052691 49.27698776241503,352.56632767504703\" opacity=\"0.8\" /><polyline fill=\"none\" stroke=\"#66cc99\" stroke-width=\"6.997194552726843\" points=\"49.27698776241503,352.56632767504703 55.33390628387104,364.1148523226231\" opacity=\"0.8\" /><polyline fill=\"none\" stroke=\"#66cc99\" stroke-width=\"6.997194552726843\" points=\"55.33390628387104,364.1148523226231 60.98703023722999,376.30944827915454\" opacity=\"0.8\" /><polyline fill=\"none\" stroke=\"#66cc99\" stroke-width=\"6.997194552726843\" points=\"60.98703023722999,376.30944827915454 61.93436666575576,381.4593263680641\" opacity=\"0.8\" /><polyline fill=\"none\" stroke=\"#66cc99\" stroke-width=\"6.997194552726843\" points=\"61.93436666575576,381.4593263680641 74.31225098443318,404.8981037004269\" opacity=\"0.8\" /><polyline fill=\"none\" stroke=\"#66cc99\" stroke-width=\"6.997194552726843\" points=\"74.31225098443318,404.8981037004269 89.49492674488292,440.43202569296886\" opacity=\"0.8\" /><polyline fill=\"none\" stroke=\"#66cc99\" stroke-width=\"6.997194552726843\" points=\"89.49492674488292,440.43202569296886 100.8011746516008,465.62880674222583\" opacity=\"0.8\" /><polyline fill=\"none\" stroke=\"#66cc99\" stroke-width=\"6.997194552726843\" points=\"100.8011746516008,465.62880674222583 109.35786007581868,480.9455679783049\" opacity=\"0.8\" /><polyline fill=\"none\" stroke=\"#66cc99\" stroke-width=\"6.997194552726843\" points=\"109.35786007581868,480.9455679783049 122.12152784712598,511.49986967805273\" opacity=\"0.8\" /><polyline fill=\"none\" stroke=\"#66cc99\" stroke-width=\"6.997194552726843\" points=\"122.12152784712598,511.49986967805273 134.7199183717545,543.1573638168628\" opacity=\"0.8\" /><polyline fill=\"none\" stroke=\"#66cc99\" stroke-width=\"6.997194552726843\" points=\"134.7199183717545,543.1573638168628 146.02616627847237,575.1378936101505\" opacity=\"0.8\" /><polyline fill=\"none\" stroke=\"#66cc99\" stroke-width=\"6.997194552726843\" points=\"146.02616627847237,575.1378936101505 154.748128949369,602.2728885862734\" opacity=\"0.8\" /><polyline fill=\"none\" stroke=\"#66cc99\" stroke-width=\"6.997194552726843\" points=\"154.748128949369,602.2728885862734 157.81229899479604,615.9994296460927\" opacity=\"0.8\" /><polyline fill=\"none\" stroke=\"#66cc99\" stroke-width=\"6.997194552726843\" points=\"157.81229899479604,615.9994296460927 170.2538403642964,655.5737715750863\" opacity=\"0.8\" /><polyline fill=\"none\" stroke=\"#66cc99\" stroke-width=\"6.997194552726843\" points=\"170.2538403642964,655.5737715750863 179.944909998626,686.9082300594188\" opacity=\"0.8\" /><polyline fill=\"none\" stroke=\"#66cc99\" stroke-width=\"6.997194552726843\" points=\"179.944909998626,686.9082300594188 191.31802803451436,719.0939805375339\" opacity=\"0.8\" /><polyline fill=\"none\" stroke=\"#66cc99\" stroke-width=\"6.997194552726843\" points=\"191.31802803451436,719.0939805375339 200.61919188519585,750.2232183370392\" opacity=\"0.8\" /><polyline fill=\"none\" stroke=\"#66cc99\" stroke-width=\"6.997194552726843\" points=\"200.61919188519585,750.2232183370392 210.95633282848075,774.7739280773408\" opacity=\"0.8\" /><polyline fill=\"none\" stroke=\"#66cc99\" stroke-width=\"6.997194552726843\" points=\"210.95633282848075,774.7739280773408 224.82375707423273,798.4767847239435\" opacity=\"0.8\" /><polyline fill=\"none\" stroke=\"#66cc99\" stroke-width=\"6.997194552726843\" points=\"224.82375707423273,798.4767847239435 240.67561304042493,822.9062405945112\" opacity=\"0.8\" /><polyline fill=\"none\" stroke=\"#66cc99\" stroke-width=\"6.997194552726843\" points=\"240.67561304042493,822.9062405945112 255.21221749191938,846.1648077169024\" opacity=\"0.8\" /><polyline fill=\"none\" stroke=\"#66cc99\" stroke-width=\"6.997194552726843\" points=\"255.21221749191938,846.1648077169024 264.903287126249,861.9935547863074\" opacity=\"0.8\" /><polyline fill=\"none\" stroke=\"#66cc99\" stroke-width=\"6.997194552726843\" points=\"264.903287126249,861.9935547863074 272.76272323875287,874.2512796291529\" opacity=\"0.8\" /><polyline fill=\"none\" stroke=\"#66cc99\" stroke-width=\"6.997194552726843\" points=\"272.76272323875287,874.2512796291529 291.3922107934166,899.788726360193\" opacity=\"0.8\" /><polyline fill=\"none\" stroke=\"#66cc99\" stroke-width=\"6.997194552726843\" points=\"291.3922107934166,899.788726360193 308.8361361352099,915.9405090840756\" opacity=\"0.8\" /><polyline fill=\"none\" stroke=\"#66cc99\" stroke-width=\"6.997194552726843\" points=\"308.8361361352099,915.9405090840756 323.27905317555906,927.3449733382452\" opacity=\"0.8\" /><polyline fill=\"none\" stroke=\"#66cc99\" stroke-width=\"6.997194552726843\" points=\"323.27905317555906,927.3449733382452 341.462737237453,937.9069335885562\" opacity=\"0.8\" /><polyline fill=\"none\" stroke=\"#66cc99\" stroke-width=\"6.997194552726843\" points=\"341.462737237453,937.9069335885562 355.03023472551445,947.2749675684081\" opacity=\"0.8\" /><polyline fill=\"none\" stroke=\"#66cc99\" stroke-width=\"6.997194552726843\" points=\"355.03023472551445,947.2749675684081 366.0632917955071,952.6031383066481\" opacity=\"0.8\" /><polyline fill=\"none\" stroke=\"#66cc99\" stroke-width=\"6.997194552726843\" points=\"366.0632917955071,952.6031383066481 384.7495149374586,957.2890728572154\" opacity=\"0.8\" /><polyline fill=\"none\" stroke=\"#66cc99\" stroke-width=\"6.997194552726843\" points=\"384.7495149374586,957.2890728572154 394.44058457178824,955.9969302393048\" opacity=\"0.8\" /><polyline fill=\"none\" stroke=\"#66cc99\" stroke-width=\"6.997194552726843\" points=\"394.44058457178824,955.9969302393048 407.8165849065408,950.0257745343622\" opacity=\"0.8\" /><polyline fill=\"none\" stroke=\"#66cc99\" stroke-width=\"6.997194552726843\" points=\"407.8165849065408,950.0257745343622 423.1907578202995,941.4603257878103\" opacity=\"0.8\" /><polyline fill=\"none\" stroke=\"#66cc99\" stroke-width=\"6.997194552726843\" points=\"423.1907578202995,941.4603257878103 441.2807544710481,929.1849709176595\" opacity=\"0.8\" /><polyline fill=\"none\" stroke=\"#66cc99\" stroke-width=\"6.997194552726843\" points=\"441.2807544710481,929.1849709176595 456.27102382551817,917.5509910035582\" opacity=\"0.8\" /><polyline fill=\"none\" stroke=\"#66cc99\" stroke-width=\"6.997194552726843\" points=\"456.27102382551817,917.5509910035582 474.5534268822465,900.757833323626\" opacity=\"0.8\" /><polyline fill=\"none\" stroke=\"#66cc99\" stroke-width=\"6.997194552726843\" points=\"474.5534268822465,900.757833323626 490.05913829717383,879.4374801281008\" opacity=\"0.8\" /><polyline fill=\"none\" stroke=\"#66cc99\" stroke-width=\"6.997194552726843\" points=\"490.05913829717383,879.4374801281008 503.94967143971303,861.3474834773522\" opacity=\"0.8\" /><polyline fill=\"none\" stroke=\"#66cc99\" stroke-width=\"6.997194552726843\" points=\"503.94967143971303,861.3474834773522 515.0349178336396,847.9621691518354\" opacity=\"0.8\" /><polyline fill=\"none\" stroke=\"#66cc99\" stroke-width=\"6.997194552726843\" points=\"515.0349178336396,847.9621691518354 530.7616307613583,821.9371336310784\" opacity=\"0.8\" /><polyline fill=\"none\" stroke=\"#66cc99\" stroke-width=\"6.997194552726843\" points=\"530.7616307613583,821.9371336310784 545.6212708673304,798.3555308542095\" opacity=\"0.8\" /><polyline fill=\"none\" stroke=\"#66cc99\" stroke-width=\"6.997194552726843\" points=\"545.6212708673304,798.3555308542095 559.8348396643472,775.7430350407737\" opacity=\"0.8\" /><polyline fill=\"none\" stroke=\"#66cc99\" stroke-width=\"6.997194552726843\" points=\"559.8348396643472,775.7430350407737 575.3452301051327,753.6306550861667\" opacity=\"0.8\" /><polyline fill=\"none\" stroke=\"#66cc99\" stroke-width=\"6.997194552726843\" points=\"575.3452301051327,753.6306550861667 592.1384051121127,724.0573303243491\" opacity=\"0.8\" /><polyline fill=\"none\" stroke=\"#66cc99\" stroke-width=\"6.997194552726843\" points=\"592.1384051121127,724.0573303243491 604.0907243277858,703.706084092257\" opacity=\"0.8\" /><polyline fill=\"none\" stroke=\"#66cc99\" stroke-width=\"6.997194552726843\" points=\"604.0907243277858,703.706084092257 617.9812574703249,678.1862673885223\" opacity=\"0.8\" /><polyline fill=\"none\" stroke=\"#66cc99\" stroke-width=\"6.997194552726843\" points=\"617.9812574703249,678.1862673885223 629.6105410315205,658.804128119863\" opacity=\"0.8\" /><polyline fill=\"none\" stroke=\"#66cc99\" stroke-width=\"6.997194552726843\" points=\"629.6105410315205,658.804128119863 638.748378903369,641.7730673689532\" opacity=\"0.8\" /><polyline fill=\"none\" stroke=\"#66cc99\" stroke-width=\"6.997194552726843\" points=\"638.748378903369,641.7730673689532 651.2539298815232,612.9330651840361\" opacity=\"0.8\" /><polyline fill=\"none\" stroke=\"#66cc99\" stroke-width=\"6.997194552726843\" points=\"651.2539298815232,612.9330651840361 660.6219638613752,594.1969972243322\" opacity=\"0.8\" /><polyline fill=\"none\" stroke=\"#66cc99\" stroke-width=\"6.997194552726843\" points=\"660.6219638613752,594.1969972243322 669.3439265322719,575.4609292646282\" opacity=\"0.8\" /><polyline fill=\"none\" stroke=\"#66cc99\" stroke-width=\"6.997194552726843\" points=\"669.3439265322719,575.4609292646282 674.8314717153735,563.4212086914579\" opacity=\"0.8\" /><polyline fill=\"none\" stroke=\"#66cc99\" stroke-width=\"6.997194552726843\" points=\"674.8314717153735,563.4212086914579 685.4957092561546,542.18825685343\" opacity=\"0.8\" /><polyline fill=\"none\" stroke=\"#66cc99\" stroke-width=\"6.997194552726843\" points=\"685.4957092561546,542.18825685343 698.7401710897384,515.053261877307\" opacity=\"0.8\" /><polyline fill=\"none\" stroke=\"#66cc99\" stroke-width=\"6.997194552726843\" points=\"698.7401710897384,515.053261877307 710.6924903054116,486.9491599377511\" opacity=\"0.8\" /><polyline fill=\"none\" stroke=\"#66cc99\" stroke-width=\"6.997194552726843\" points=\"710.6924903054116,486.9491599377511 720.0605242852636,462.39845019744945\" opacity=\"0.8\" /><polyline fill=\"none\" stroke=\"#66cc99\" stroke-width=\"6.997194552726843\" points=\"720.0605242852636,462.39845019744945 727.4903443382495,442.3702396198349\" opacity=\"0.8\" /><polyline fill=\"none\" stroke=\"#66cc99\" stroke-width=\"6.997194552726843\" points=\"727.4903443382495,442.3702396198349 734.1108384779523,426.30545600584105\" opacity=\"0.8\" /><polyline fill=\"none\" stroke=\"#66cc99\" stroke-width=\"6.997194552726843\" points=\"734.1108384779523,426.30545600584105 745.9033766434759,391.3306062123655\" opacity=\"0.8\" /><polyline fill=\"none\" stroke=\"#66cc99\" stroke-width=\"6.997194552726843\" points=\"745.9033766434759,391.3306062123655 759.1478384770597,360.3191833825108\" opacity=\"0.8\" /><polyline fill=\"none\" stroke=\"#66cc99\" stroke-width=\"6.997194552726843\" points=\"759.1478384770597,360.3191833825108 767.5467654934788,341.5831154228068\" opacity=\"0.8\" /><polyline fill=\"none\" stroke=\"#66cc99\" stroke-width=\"6.997194552726843\" points=\"767.5467654934788,341.5831154228068 771.7403495533283,327.3346871500575\" opacity=\"0.8\" /><polyline fill=\"none\" stroke=\"#66cc99\" stroke-width=\"6.997194552726843\" points=\"771.7403495533283,327.3346871500575 779.1760490546743,305.080086466832\" opacity=\"0.8\" /><polyline fill=\"none\" stroke=\"#66cc99\" stroke-width=\"6.997194552726843\" points=\"779.1760490546743,305.080086466832 785.3137264897498,279.23723410861965\" opacity=\"0.8\" /><polyline fill=\"none\" stroke=\"#66cc99\" stroke-width=\"6.997194552726843\" points=\"785.3137264897498,279.23723410861965 795.967569012817,245.88999194581893\" opacity=\"0.8\" /><polyline fill=\"none\" stroke=\"#66cc99\" stroke-width=\"6.997194552726843\" points=\"795.967569012817,245.88999194581893 805.9880083763195,216.89135279443246\" opacity=\"0.8\" /><polyline fill=\"none\" stroke=\"#66cc99\" stroke-width=\"6.997194552726843\" points=\"805.9880083763195,216.89135279443246 812.4487214658725,198.47832048920617\" opacity=\"0.8\" /><polyline fill=\"none\" stroke=\"#66cc99\" stroke-width=\"6.997194552726843\" points=\"812.4487214658725,198.47832048920617 818.648370208934,185.5796796743258\" opacity=\"0.8\" /><polyline fill=\"none\" stroke=\"#66cc99\" stroke-width=\"6.997194552726843\" points=\"818.648370208934,185.5796796743258 826.9853259173669,173.92761074890447\" opacity=\"0.8\" /><polyline fill=\"none\" stroke=\"#66cc99\" stroke-width=\"6.997194552726843\" points=\"826.9853259173669,173.92761074890447 841.329171405051,164.96076949603759\" opacity=\"0.8\" /><polyline fill=\"none\" stroke=\"#66cc99\" stroke-width=\"6.997194552726843\" points=\"841.329171405051,164.96076949603759 857.0276417837888,173.60457509442682\" opacity=\"0.8\" /><polyline fill=\"none\" stroke=\"#66cc99\" stroke-width=\"6.997194552726843\" points=\"857.0276417837888,173.60457509442682 867.1028091279114,188.15704344661185\" opacity=\"0.8\" /><polyline fill=\"none\" stroke=\"#66cc99\" stroke-width=\"6.997194552726843\" points=\"867.1028091279114,188.15704344661185 874.1485314711044,203.323855306371\" opacity=\"0.8\" /><polyline fill=\"none\" stroke=\"#66cc99\" stroke-width=\"6.997194552726843\" points=\"874.1485314711044,203.323855306371 886.7469219957329,240.14991991682354\" opacity=\"0.8\" /><polyline fill=\"none\" stroke=\"#66cc99\" stroke-width=\"6.997194552726843\" points=\"886.7469219957329,240.14991991682354 893.8537063942413,268.25402185637944\" opacity=\"0.8\" /><polyline fill=\"none\" stroke=\"#66cc99\" stroke-width=\"6.997194552726843\" points=\"893.8537063942413,268.25402185637944 900.3144194837944,285.69794719817276\" opacity=\"0.8\" /><polyline fill=\"none\" stroke=\"#66cc99\" stroke-width=\"6.997194552726843\" points=\"900.3144194837944,285.69794719817276 903.701374694373,295.89084912816793\" opacity=\"0.8\" /><polyline fill=\"none\" stroke=\"#66cc99\" stroke-width=\"6.997194552726843\" points=\"903.701374694373,295.89084912816793 909.6824534636465,319.6166909183264\" opacity=\"0.8\" /><polyline fill=\"none\" stroke=\"#66cc99\" stroke-width=\"6.997194552726843\" points=\"909.6824534636465,319.6166909183264 916.4662022076773,337.70668756907503\" opacity=\"0.8\" /><polyline fill=\"none\" stroke=\"#66cc99\" stroke-width=\"6.997194552726843\" points=\"916.4662022076773,337.70668756907503 920.1965028370037,355.17021589074665\" opacity=\"0.8\" /><polyline fill=\"none\" stroke=\"#66cc99\" stroke-width=\"6.997194552726843\" points=\"920.1965028370037,355.17021589074665 929.3876283867835,383.2547148504243\" opacity=\"0.8\" /><polyline fill=\"none\" stroke=\"#66cc99\" stroke-width=\"6.997194552726843\" points=\"929.3876283867835,383.2547148504243 936.1713771308141,409.09756720863663\" opacity=\"0.8\" /><polyline fill=\"none\" stroke=\"#66cc99\" stroke-width=\"6.997194552726843\" points=\"936.1713771308141,409.09756720863663 945.539411110666,440.75506134744666\" opacity=\"0.8\" /><polyline fill=\"none\" stroke=\"#66cc99\" stroke-width=\"6.997194552726843\" points=\"945.539411110666,440.75506134744666 950.0939225955215,453.11003923761575\" opacity=\"0.8\" /><polyline fill=\"none\" stroke=\"#66cc99\" stroke-width=\"6.997194552726843\" points=\"950.0939225955215,453.11003923761575 955.5535163994733,474.35076941312263\" opacity=\"0.8\" /><polyline fill=\"none\" stroke=\"#66cc99\" stroke-width=\"6.997194552726843\" points=\"955.5535163994733,474.35076941312263 962.6603007979818,497.60933653551376\" opacity=\"0.8\" /><polyline fill=\"none\" stroke=\"#66cc99\" stroke-width=\"6.997194552726843\" points=\"962.6603007979818,497.60933653551376 966.0735779836949,510.32751498236564\" opacity=\"0.8\" /><polyline fill=\"none\" stroke=\"#66cc99\" stroke-width=\"6.997194552726843\" points=\"966.0735779836949,510.32751498236564 972.0889039630482,529.79176361285\" opacity=\"0.8\" /></g></g></svg>"
      ],
      "text/plain": [
       "<shapely.geometry.multilinestring.MultiLineString at 0x2072316f940>"
      ]
     },
     "execution_count": 7,
     "metadata": {},
     "output_type": "execute_result"
    }
   ],
   "source": [
    "intersection = gg.vector.intersection_polygon_polygon(polygon1=gmap_sorted.loc[3].geometry,\n",
    "                                                      polygon2=gmap_sorted.loc[2].geometry)\n",
    "intersection"
   ]
  },
  {
   "cell_type": "markdown",
   "metadata": {},
   "source": [
    "### Intersections between a polygon and polygons"
   ]
  },
  {
   "cell_type": "code",
   "execution_count": 8,
   "metadata": {
    "ExecuteTime": {
     "end_time": "2020-12-06T16:34:42.502422Z",
     "start_time": "2020-12-06T16:34:42.489220Z"
    }
   },
   "outputs": [
    {
     "data": {
      "image/svg+xml": [
       "<svg xmlns=\"http://www.w3.org/2000/svg\" xmlns:xlink=\"http://www.w3.org/1999/xlink\" width=\"300\" height=\"300\" viewBox=\"-38.68784182197057 126.0847408119984 1049.652774469058 981.6437524623735\" preserveAspectRatio=\"xMinYMin meet\"><g transform=\"matrix(1,0,0,-1,0,1233.8132340863704)\"><path fill-rule=\"evenodd\" fill=\"#66cc99\" stroke=\"#555555\" stroke-width=\"6.997685163127053\" opacity=\"0.6\" d=\"M 0.256327195431048,264.86214748436396 L 0.1881868620686138,495.787213546976 L 8.840672956663411,504.1418419288791 L 41.09257661030145,546.423052386348 L 71.7283490004425,604.1435562935771 L 87.60971085508348,626.535894696806 L 116.35988410359462,686.6205264296495 L 140.8016980977082,751.568764068338 L 181.61308630808054,848.1383536684762 L 223.27733881086107,950.5412472888196 L 238.4673614961476,988.0127920572999 L 253.1747585693791,1022.7074329128286 L 265.6023564722704,1045.513138554322 L 278.5237826513765,1068.7717056767128 L 511.67476627062274,1068.8524645903326 L 526.3753184316984,1045.3882341089457 L 560.1099247138658,990.6172670215257 L 608.8509591448512,912.3962634589865 L 636.0233035161142,859.787826958076 L 677.9243082421169,782.4971293357705 L 700.6304344116447,739.6185634923892 L 723.285910634351,693.8358155691311 L 740.0407842579184,658.5366142184982 L 757.3071124285267,626.8243574896944 L 772.6673853601612,603.6205529572973 L 790.2973687137878,583.524646115289 L 810.139521279569,572.9321657819203 L 831.5351890703644,569.0914089904873 L 852.4571920161416,577.4546649446074 L 869.6801729001976,594.8650467133475 L 882.8225435370409,621.7105496080459 L 898.5466471498011,648.474213176897 L 908.0193245862978,675.9805395602916 L 925.3512303815758,711.3618892206762 L 941.2919969974961,754.801239252839 L 959.3724321757514,800.0232029873156 L 971.7381074320145,832.9758676364308 L 972.0889039630482,529.79176361285 L 966.0735779836949,510.32751498236564 L 962.6603007979818,497.60933653551376 L 955.5535163994733,474.35076941312263 L 950.0939225955215,453.11003923761575 L 945.539411110666,440.75506134744666 L 936.1713771308141,409.09756720863663 L 929.3876283867835,383.2547148504243 L 920.1965028370037,355.17021589074665 L 916.4662022076773,337.70668756907503 L 909.6824534636465,319.6166909183264 L 903.701374694373,295.89084912816793 L 900.3144194837944,285.69794719817276 L 893.8537063942413,268.25402185637944 L 886.7469219957329,240.14991991682354 L 874.1485314711044,203.323855306371 L 867.1028091279114,188.15704344661185 L 857.0276417837888,173.60457509442682 L 841.329171405051,164.96076949603759 L 826.9853259173669,173.92761074890447 L 818.648370208934,185.5796796743258 L 812.4487214658725,198.47832048920617 L 805.9880083763195,216.89135279443246 L 795.967569012817,245.88999194581893 L 785.3137264897498,279.23723410861965 L 779.1760490546743,305.080086466832 L 771.7403495533283,327.3346871500575 L 767.5467654934788,341.5831154228068 L 759.1478384770597,360.3191833825108 L 745.9033766434759,391.3306062123655 L 734.1108384779523,426.30545600584105 L 727.4903443382495,442.3702396198349 L 720.0605242852636,462.39845019744945 L 710.6924903054116,486.9491599377511 L 698.7401710897384,515.053261877307 L 685.4957092561546,542.18825685343 L 674.8314717153735,563.4212086914579 L 669.3439265322719,575.4609292646282 L 660.6219638613752,594.1969972243322 L 651.2539298815232,612.9330651840361 L 638.748378903369,641.7730673689532 L 629.6105410315205,658.804128119863 L 617.9812574703249,678.1862673885223 L 604.0907243277858,703.706084092257 L 592.1384051121127,724.0573303243491 L 575.3452301051327,753.6306550861667 L 559.8348396643472,775.7430350407737 L 545.6212708673304,798.3555308542095 L 530.7616307613583,821.9371336310784 L 515.0349178336396,847.9621691518354 L 503.94967143971303,861.3474834773522 L 490.05913829717383,879.4374801281008 L 474.5534268822465,900.757833323626 L 456.27102382551817,917.5509910035582 L 441.2807544710481,929.1849709176595 L 423.1907578202995,941.4603257878103 L 407.8165849065408,950.0257745343622 L 394.44058457178824,955.9969302393048 L 384.7495149374586,957.2890728572154 L 366.0632917955071,952.6031383066481 L 355.03023472551445,947.2749675684081 L 341.462737237453,937.9069335885562 L 323.27905317555906,927.3449733382452 L 308.8361361352099,915.9405090840756 L 291.3922107934166,899.788726360193 L 291.3922107934166,899.788726360193 L 272.76272323875287,874.2512796291529 L 264.903287126249,861.9935547863074 L 255.21221749191938,846.1648077169024 L 240.67561304042493,822.9062405945112 L 224.82375707423273,798.4767847239435 L 210.95633282848075,774.7739280773408 L 200.61919188519585,750.2232183370392 L 191.31802803451436,719.0939805375339 L 179.944909998626,686.9082300594188 L 170.2538403642964,655.5737715750863 L 157.81229899479604,615.9994296460927 L 154.748128949369,602.2728885862734 L 146.02616627847237,575.1378936101505 L 134.7199183717545,543.1573638168628 L 122.12152784712598,511.49986967805273 L 109.35786007581868,480.9455679783049 L 100.8011746516008,465.62880674222583 L 89.49492674488292,440.43202569296886 L 74.31225098443318,404.8981037004269 L 61.93436666575576,381.4593263680641 L 60.98703023722999,376.30944827915454 L 55.33390628387104,364.1148523226231 L 49.27698776241503,352.56632767504703 L 40.7165429187572,338.5142767052691 L 34.41734765644295,324.13919008101345 L 27.79511673965105,310.571692592952 L 19.150128045807676,293.313485355882 L 17.134940141888464,289.089821570188 L 10.59346813871597,276.73370778641777 L 0.256327195431048,264.86214748436396 z\" /></g></svg>"
      ],
      "text/plain": [
       "<shapely.geometry.polygon.Polygon at 0x20723257490>"
      ]
     },
     "execution_count": 8,
     "metadata": {},
     "output_type": "execute_result"
    }
   ],
   "source": [
    "gmap_sorted.loc[2].geometry"
   ]
  },
  {
   "cell_type": "code",
   "execution_count": 9,
   "metadata": {
    "ExecuteTime": {
     "end_time": "2020-12-06T16:34:42.518226Z",
     "start_time": "2020-12-06T16:34:42.505224Z"
    }
   },
   "outputs": [
    {
     "data": {
      "text/plain": [
       "[<shapely.geometry.polygon.Polygon at 0x207232571f0>,\n",
       " <shapely.geometry.polygon.Polygon at 0x207232574f0>]"
      ]
     },
     "execution_count": 9,
     "metadata": {},
     "output_type": "execute_result"
    }
   ],
   "source": [
    "poly_list=[gmap_sorted.loc[1].geometry, gmap_sorted.loc[0].geometry]\n",
    "poly_list"
   ]
  },
  {
   "cell_type": "code",
   "execution_count": 13,
   "metadata": {
    "ExecuteTime": {
     "end_time": "2020-12-06T16:35:42.303554Z",
     "start_time": "2020-12-06T16:35:42.282988Z"
    }
   },
   "outputs": [
    {
     "data": {
      "text/html": [
       "<div>\n",
       "<style scoped>\n",
       "    .dataframe tbody tr th:only-of-type {\n",
       "        vertical-align: middle;\n",
       "    }\n",
       "\n",
       "    .dataframe tbody tr th {\n",
       "        vertical-align: top;\n",
       "    }\n",
       "\n",
       "    .dataframe thead th {\n",
       "        text-align: right;\n",
       "    }\n",
       "</style>\n",
       "<table border=\"1\" class=\"dataframe\">\n",
       "  <thead>\n",
       "    <tr style=\"text-align: right;\">\n",
       "      <th></th>\n",
       "      <th>geometry</th>\n",
       "    </tr>\n",
       "  </thead>\n",
       "  <tbody>\n",
       "    <tr>\n",
       "      <th>0</th>\n",
       "      <td>MULTILINESTRING ((511.675 1068.852, 526.375 10...</td>\n",
       "    </tr>\n",
       "    <tr>\n",
       "      <th>1</th>\n",
       "      <td>MULTILINESTRING ((0.188 495.787, 8.841 504.142...</td>\n",
       "    </tr>\n",
       "  </tbody>\n",
       "</table>\n",
       "</div>"
      ],
      "text/plain": [
       "                                            geometry\n",
       "0  MULTILINESTRING ((511.675 1068.852, 526.375 10...\n",
       "1  MULTILINESTRING ((0.188 495.787, 8.841 504.142..."
      ]
     },
     "execution_count": 13,
     "metadata": {},
     "output_type": "execute_result"
    }
   ],
   "source": [
    "intersection = gg.vector.intersections_polygon_polygons(polygon1=gmap_sorted.loc[2].geometry,\n",
    "                                                        polygons2=poly_list)\n",
    "intersection_gdf = gpd.GeoDataFrame(geometry=intersection)\n",
    "intersection_gdf"
   ]
  },
  {
   "cell_type": "code",
   "execution_count": 14,
   "metadata": {
    "ExecuteTime": {
     "end_time": "2020-12-06T16:35:43.529978Z",
     "start_time": "2020-12-06T16:35:43.293795Z"
    }
   },
   "outputs": [
    {
     "data": {
      "image/png": "[encoded data removed]",
      "text/plain": [
       "<Figure size 748.8x514.8 with 1 Axes>"
      ]
     },
     "metadata": {},
     "output_type": "display_data"
    }
   ],
   "source": [
    "intersection_gdf.plot()\n",
    "plt.grid()"
   ]
  },
  {
   "cell_type": "markdown",
   "metadata": {},
   "source": [
    "### Intersections between polygons and polygons"
   ]
  },
  {
   "cell_type": "code",
   "execution_count": 15,
   "metadata": {
    "ExecuteTime": {
     "end_time": "2020-12-06T16:35:46.393486Z",
     "start_time": "2020-12-06T16:35:46.376121Z"
    }
   },
   "outputs": [
    {
     "data": {
      "text/html": [
       "<div>\n",
       "<style scoped>\n",
       "    .dataframe tbody tr th:only-of-type {\n",
       "        vertical-align: middle;\n",
       "    }\n",
       "\n",
       "    .dataframe tbody tr th {\n",
       "        vertical-align: top;\n",
       "    }\n",
       "\n",
       "    .dataframe thead th {\n",
       "        text-align: right;\n",
       "    }\n",
       "</style>\n",
       "<table border=\"1\" class=\"dataframe\">\n",
       "  <thead>\n",
       "    <tr style=\"text-align: right;\">\n",
       "      <th></th>\n",
       "      <th>geometry</th>\n",
       "    </tr>\n",
       "  </thead>\n",
       "  <tbody>\n",
       "    <tr>\n",
       "      <th>0</th>\n",
       "      <td>POLYGON ((0.256 264.862, 0.188 495.787, 8.841 ...</td>\n",
       "    </tr>\n",
       "  </tbody>\n",
       "</table>\n",
       "</div>"
      ],
      "text/plain": [
       "                                            geometry\n",
       "0  POLYGON ((0.256 264.862, 0.188 495.787, 8.841 ..."
      ]
     },
     "execution_count": 15,
     "metadata": {},
     "output_type": "execute_result"
    }
   ],
   "source": [
    "gdf1 = gpd.GeoDataFrame(geometry=[gmap_sorted.loc[2].geometry])\n",
    "gdf1"
   ]
  },
  {
   "cell_type": "code",
   "execution_count": 16,
   "metadata": {
    "ExecuteTime": {
     "end_time": "2020-12-06T16:35:47.394428Z",
     "start_time": "2020-12-06T16:35:47.365255Z"
    }
   },
   "outputs": [
    {
     "data": {
      "text/html": [
       "<div>\n",
       "<style scoped>\n",
       "    .dataframe tbody tr th:only-of-type {\n",
       "        vertical-align: middle;\n",
       "    }\n",
       "\n",
       "    .dataframe tbody tr th {\n",
       "        vertical-align: top;\n",
       "    }\n",
       "\n",
       "    .dataframe thead th {\n",
       "        text-align: right;\n",
       "    }\n",
       "</style>\n",
       "<table border=\"1\" class=\"dataframe\">\n",
       "  <thead>\n",
       "    <tr style=\"text-align: right;\">\n",
       "      <th></th>\n",
       "      <th>geometry</th>\n",
       "    </tr>\n",
       "  </thead>\n",
       "  <tbody>\n",
       "    <tr>\n",
       "      <th>0</th>\n",
       "      <td>POLYGON ((511.675 1068.852, 971.698 1068.800, ...</td>\n",
       "    </tr>\n",
       "    <tr>\n",
       "      <th>1</th>\n",
       "      <td>POLYGON ((0.188 495.787, 0.249 1068.760, 278.5...</td>\n",
       "    </tr>\n",
       "  </tbody>\n",
       "</table>\n",
       "</div>"
      ],
      "text/plain": [
       "                                            geometry\n",
       "0  POLYGON ((511.675 1068.852, 971.698 1068.800, ...\n",
       "1  POLYGON ((0.188 495.787, 0.249 1068.760, 278.5..."
      ]
     },
     "execution_count": 16,
     "metadata": {},
     "output_type": "execute_result"
    }
   ],
   "source": [
    "gdf2 = gpd.GeoDataFrame(geometry=[gmap_sorted.loc[1].geometry, gmap_sorted.loc[0].geometry])\n",
    "gdf2"
   ]
  },
  {
   "cell_type": "code",
   "execution_count": 17,
   "metadata": {
    "ExecuteTime": {
     "end_time": "2020-12-06T16:35:48.308616Z",
     "start_time": "2020-12-06T16:35:48.276533Z"
    }
   },
   "outputs": [
    {
     "data": {
      "text/html": [
       "<div>\n",
       "<style scoped>\n",
       "    .dataframe tbody tr th:only-of-type {\n",
       "        vertical-align: middle;\n",
       "    }\n",
       "\n",
       "    .dataframe tbody tr th {\n",
       "        vertical-align: top;\n",
       "    }\n",
       "\n",
       "    .dataframe thead th {\n",
       "        text-align: right;\n",
       "    }\n",
       "</style>\n",
       "<table border=\"1\" class=\"dataframe\">\n",
       "  <thead>\n",
       "    <tr style=\"text-align: right;\">\n",
       "      <th></th>\n",
       "      <th>geometry</th>\n",
       "    </tr>\n",
       "  </thead>\n",
       "  <tbody>\n",
       "    <tr>\n",
       "      <th>0</th>\n",
       "      <td>MULTILINESTRING ((511.675 1068.852, 526.375 10...</td>\n",
       "    </tr>\n",
       "    <tr>\n",
       "      <th>1</th>\n",
       "      <td>MULTILINESTRING ((0.188 495.787, 8.841 504.142...</td>\n",
       "    </tr>\n",
       "  </tbody>\n",
       "</table>\n",
       "</div>"
      ],
      "text/plain": [
       "                                            geometry\n",
       "0  MULTILINESTRING ((511.675 1068.852, 526.375 10...\n",
       "1  MULTILINESTRING ((0.188 495.787, 8.841 504.142..."
      ]
     },
     "execution_count": 17,
     "metadata": {},
     "output_type": "execute_result"
    }
   ],
   "source": [
    "intersection = gg.vector.intersections_polygons_polygons(polygons1=gdf1,\n",
    "                                                         polygons2=gdf2)\n",
    "\n",
    "intersection_gdf = gpd.GeoDataFrame(geometry=intersection)\n",
    "intersection_gdf"
   ]
  },
  {
   "cell_type": "code",
   "execution_count": 18,
   "metadata": {
    "ExecuteTime": {
     "end_time": "2020-12-06T16:35:49.364609Z",
     "start_time": "2020-12-06T16:35:49.084541Z"
    }
   },
   "outputs": [
    {
     "data": {
      "image/png": "[encoded data removed]",
      "text/plain": [
       "<Figure size 748.8x514.8 with 1 Axes>"
      ]
     },
     "metadata": {},
     "output_type": "display_data"
    }
   ],
   "source": [
    "intersection_gdf.plot()\n",
    "plt.grid()"
   ]
  },
  {
   "cell_type": "markdown",
   "metadata": {},
   "source": [
    "## Extracting Interfaces from Geological Map\n",
    "\n",
    "The final step is to use the entire GeoDataFrame for the extraction of the intersections. The resulting GeoDataFrame only contains interfaces of formations that also have a base. Therefore, interfaces of ``Sand1`` are missing as this formation represents the basement of the stratigraphy."
   ]
  },
  {
   "cell_type": "code",
   "execution_count": 19,
   "metadata": {
    "ExecuteTime": {
     "end_time": "2020-12-06T16:35:50.281792Z",
     "start_time": "2020-12-06T16:35:50.161744Z"
    }
   },
   "outputs": [
    {
     "data": {
      "text/html": [
       "<div>\n",
       "<style scoped>\n",
       "    .dataframe tbody tr th:only-of-type {\n",
       "        vertical-align: middle;\n",
       "    }\n",
       "\n",
       "    .dataframe tbody tr th {\n",
       "        vertical-align: top;\n",
       "    }\n",
       "\n",
       "    .dataframe thead th {\n",
       "        text-align: right;\n",
       "    }\n",
       "</style>\n",
       "<table border=\"1\" class=\"dataframe\">\n",
       "  <thead>\n",
       "    <tr style=\"text-align: right;\">\n",
       "      <th></th>\n",
       "      <th>index</th>\n",
       "      <th>id</th>\n",
       "      <th>formation</th>\n",
       "      <th>geometry</th>\n",
       "    </tr>\n",
       "  </thead>\n",
       "  <tbody>\n",
       "    <tr>\n",
       "      <th>0</th>\n",
       "      <td>0</td>\n",
       "      <td>None</td>\n",
       "      <td>Sand2</td>\n",
       "      <td>MULTILINESTRING ((278.524 1068.772, 265.602 10...</td>\n",
       "    </tr>\n",
       "    <tr>\n",
       "      <th>1</th>\n",
       "      <td>2</td>\n",
       "      <td>None</td>\n",
       "      <td>Sand2</td>\n",
       "      <td>MULTILINESTRING ((971.738 832.976, 959.372 800...</td>\n",
       "    </tr>\n",
       "    <tr>\n",
       "      <th>2</th>\n",
       "      <td>4</td>\n",
       "      <td>None</td>\n",
       "      <td>Ton</td>\n",
       "      <td>MULTILINESTRING ((972.089 529.792, 966.074 510...</td>\n",
       "    </tr>\n",
       "  </tbody>\n",
       "</table>\n",
       "</div>"
      ],
      "text/plain": [
       "   index    id formation                                           geometry\n",
       "0      0  None     Sand2  MULTILINESTRING ((278.524 1068.772, 265.602 10...\n",
       "1      2  None     Sand2  MULTILINESTRING ((971.738 832.976, 959.372 800...\n",
       "2      4  None       Ton  MULTILINESTRING ((972.089 529.792, 966.074 510..."
      ]
     },
     "execution_count": 19,
     "metadata": {},
     "output_type": "execute_result"
    }
   ],
   "source": [
    "intersection = gg.vector.extract_xy_from_polygon_intersections(gdf=gmap_sorted)\n",
    "\n",
    "intersection"
   ]
  },
  {
   "cell_type": "markdown",
   "metadata": {},
   "source": [
    "When plotting the data, it can be seen that there are three different boundaries. First, there is the base of ``Ton`` and then twice the base of ``Sand2``. "
   ]
  },
  {
   "cell_type": "code",
   "execution_count": 20,
   "metadata": {
    "ExecuteTime": {
     "end_time": "2020-12-06T16:35:51.499708Z",
     "start_time": "2020-12-06T16:35:51.172541Z"
    }
   },
   "outputs": [
    {
     "data": {
      "image/png": "[encoded data removed]",
      "text/plain": [
       "<Figure size 748.8x514.8 with 1 Axes>"
      ]
     },
     "metadata": {},
     "output_type": "display_data"
    }
   ],
   "source": [
    "intersection.plot(column='formation', aspect='equal', legend=True)\n",
    "plt.grid()"
   ]
  },
  {
   "cell_type": "code",
   "execution_count": null,
   "metadata": {},
   "outputs": [],
   "source": []
  }
 ],
 "metadata": {
  "hide_input": false,
  "kernelspec": {
   "display_name": "Python 3",
   "language": "python",
   "name": "python3"
  },
  "language_info": {
   "codemirror_mode": {
    "name": "ipython",
    "version": 3
   },
   "file_extension": ".py",
   "mimetype": "text/x-python",
   "name": "python",
   "nbconvert_exporter": "python",
   "pygments_lexer": "ipython3",
   "version": "3.9.2"
  },
  "varInspector": {
   "cols": {
    "lenName": 16,
    "lenType": 16,
    "lenVar": 40
   },
   "kernels_config": {
    "python": {
     "delete_cmd_postfix": "",
     "delete_cmd_prefix": "del ",
     "library": "var_list.py",
     "varRefreshCmd": "print(var_dic_list())"
    },
    "r": {
     "delete_cmd_postfix": ") ",
     "delete_cmd_prefix": "rm(",
     "library": "var_list.r",
     "varRefreshCmd": "cat(var_dic_list()) "
    }
   },
   "types_to_exclude": [
    "module",
    "function",
    "builtin_function_or_method",
    "instance",
    "_Feature"
   ],
   "window_display": false
  }
 },
 "nbformat": 4,
 "nbformat_minor": 4
}
