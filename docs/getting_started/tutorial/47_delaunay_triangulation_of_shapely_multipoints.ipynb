{
 "cells": [
  {
   "cell_type": "markdown",
   "metadata": {},
   "source": [
    "# 47 Delaunay Triangulation of Shapely Multipoints\n",
    "\n",
    "Similar to the Delaunay triangulation for GeoDataFrames to return a PolyData dataset, the triangulation can also be performed on Shapely MultiPoints. \n",
    "\n",
    "<img src=\"../images/tutorial47_cover.png\">"
   ]
  },
  {
   "cell_type": "markdown",
   "metadata": {},
   "source": [
    "## Set File Paths and download Tutorial Data\n",
    "\n",
    "If you downloaded the latest `GemGIS` version from the Github repository, append the path so that the package can be imported successfully. Otherwise, it is recommended to install `GemGIS` via `pip install gemgis` and import `GemGIS` using `import gemgis as gg`. In addition, the file path to the folder where the data is being stored is set. The tutorial data is downloaded using Pooch (https://www.fatiando.org/pooch/latest/index.html) and stored in the specified folder. Use `pip install pooch` if Pooch is not installed on your system yet."
   ]
  },
  {
   "cell_type": "code",
   "execution_count": 1,
   "metadata": {
    "ExecuteTime": {
     "end_time": "2021-03-17T12:13:27.437254Z",
     "start_time": "2021-03-17T12:13:25.303274Z"
    }
   },
   "outputs": [
    {
     "name": "stderr",
     "output_type": "stream",
     "text": [
      "WARNING (theano.configdefaults): g++ not available, if using conda: `conda install m2w64-toolchain`\n",
      "C:\\Users\\ale93371\\Anaconda3\\envs\\test_gempy\\lib\\site-packages\\theano\\configdefaults.py:560: UserWarning: DeprecationWarning: there is no c++ compiler.This is deprecated and with Theano 0.11 a c++ compiler will be mandatory\n",
      "  warnings.warn(\"DeprecationWarning: there is no c++ compiler.\"\n",
      "WARNING (theano.configdefaults): g++ not detected ! Theano will be unable to execute optimized C-implementations (for both CPU and GPU) and will default to Python implementations. Performance will be severely degraded. To remove this warning, set Theano flags cxx to an empty string.\n",
      "WARNING (theano.tensor.blas): Using NumPy C-API based implementation for BLAS functions.\n"
     ]
    }
   ],
   "source": [
    "import gemgis as gg\n",
    "\n",
    "file_path ='data/47_delaunay_triangulation_of_shapely_multipoints/'"
   ]
  },
  {
   "cell_type": "markdown",
   "metadata": {},
   "source": [
    "## Create Shapely Multipoint\n",
    "\n",
    "A multipoint object is created from two NumPy arrays consisting of random coordinate pairs to demonstrate the delaunay triangulation of Shapely."
   ]
  },
  {
   "cell_type": "code",
   "execution_count": 2,
   "metadata": {
    "ExecuteTime": {
     "end_time": "2021-01-13T19:07:49.326612Z",
     "start_time": "2021-01-13T19:07:45.227862Z"
    }
   },
   "outputs": [
    {
     "name": "stderr",
     "output_type": "stream",
     "text": [
      "WARNING (theano.configdefaults): g++ not available, if using conda: `conda install m2w64-toolchain`\n",
      "C:\\Users\\ale93371\\Anaconda3\\envs\\test_gempy\\lib\\site-packages\\theano\\configdefaults.py:560: UserWarning: DeprecationWarning: there is no c++ compiler.This is deprecated and with Theano 0.11 a c++ compiler will be mandatory\n",
      "  warnings.warn(\"DeprecationWarning: there is no c++ compiler.\"\n",
      "WARNING (theano.configdefaults): g++ not detected ! Theano will be unable to execute optimized C-implementations (for both CPU and GPU) and will default to Python implementations. Performance will be severely degraded. To remove this warning, set Theano flags cxx to an empty string.\n",
      "WARNING (theano.tensor.blas): Using NumPy C-API based implementation for BLAS functions.\n"
     ]
    },
    {
     "data": {
      "image/svg+xml": [
       "<svg xmlns=\"http://www.w3.org/2000/svg\" xmlns:xlink=\"http://www.w3.org/1999/xlink\" width=\"100.0\" height=\"100.0\" viewBox=\"0.6799999999999999 0.6799999999999999 8.64 8.64\" preserveAspectRatio=\"xMinYMin meet\"><g transform=\"matrix(1,0,0,-1,0,10.0)\"><g><circle cx=\"2.0\" cy=\"3.0\" r=\"0.2592\" stroke=\"#555555\" stroke-width=\"0.0864\" fill=\"#66cc99\" opacity=\"0.6\" /><circle cx=\"8.0\" cy=\"7.0\" r=\"0.2592\" stroke=\"#555555\" stroke-width=\"0.0864\" fill=\"#66cc99\" opacity=\"0.6\" /><circle cx=\"1.0\" cy=\"4.0\" r=\"0.2592\" stroke=\"#555555\" stroke-width=\"0.0864\" fill=\"#66cc99\" opacity=\"0.6\" /><circle cx=\"6.0\" cy=\"8.0\" r=\"0.2592\" stroke=\"#555555\" stroke-width=\"0.0864\" fill=\"#66cc99\" opacity=\"0.6\" /><circle cx=\"4.0\" cy=\"4.0\" r=\"0.2592\" stroke=\"#555555\" stroke-width=\"0.0864\" fill=\"#66cc99\" opacity=\"0.6\" /><circle cx=\"9.0\" cy=\"1.0\" r=\"0.2592\" stroke=\"#555555\" stroke-width=\"0.0864\" fill=\"#66cc99\" opacity=\"0.6\" /><circle cx=\"8.0\" cy=\"4.0\" r=\"0.2592\" stroke=\"#555555\" stroke-width=\"0.0864\" fill=\"#66cc99\" opacity=\"0.6\" /><circle cx=\"6.0\" cy=\"9.0\" r=\"0.2592\" stroke=\"#555555\" stroke-width=\"0.0864\" fill=\"#66cc99\" opacity=\"0.6\" /><circle cx=\"6.0\" cy=\"3.0\" r=\"0.2592\" stroke=\"#555555\" stroke-width=\"0.0864\" fill=\"#66cc99\" opacity=\"0.6\" /><circle cx=\"4.0\" cy=\"2.0\" r=\"0.2592\" stroke=\"#555555\" stroke-width=\"0.0864\" fill=\"#66cc99\" opacity=\"0.6\" /><circle cx=\"8.0\" cy=\"6.0\" r=\"0.2592\" stroke=\"#555555\" stroke-width=\"0.0864\" fill=\"#66cc99\" opacity=\"0.6\" /></g></g></svg>"
      ],
      "text/plain": [
       "<shapely.geometry.multipoint.MultiPoint at 0x28036e03910>"
      ]
     },
     "execution_count": 2,
     "metadata": {},
     "output_type": "execute_result"
    }
   ],
   "source": [
    "import gemgis as gg\n",
    "from shapely.geometry import MultiPoint\n",
    "import numpy as np\n",
    "\n",
    "x = np.random.randint(0,10,11)\n",
    "y = np.random.randint(0,10,11)\n",
    "\n",
    "points = np.array([x,y])\n",
    "\n",
    "multipoints = MultiPoint(points.T)\n",
    "multipoints"
   ]
  },
  {
   "cell_type": "markdown",
   "metadata": {},
   "source": [
    "## Performing the Triangulation\n",
    "\n",
    "The function ``triangulate(..)`` of the shapely.ops module is used to perform the triangulation. The result is a list of polygons consisting of three vertices. "
   ]
  },
  {
   "cell_type": "code",
   "execution_count": 3,
   "metadata": {
    "ExecuteTime": {
     "end_time": "2021-01-13T19:07:49.342307Z",
     "start_time": "2021-01-13T19:07:49.328597Z"
    }
   },
   "outputs": [
    {
     "data": {
      "text/plain": [
       "[<shapely.geometry.polygon.Polygon at 0x28036efb280>,\n",
       " <shapely.geometry.polygon.Polygon at 0x28036efb190>,\n",
       " <shapely.geometry.polygon.Polygon at 0x28036efb0d0>,\n",
       " <shapely.geometry.polygon.Polygon at 0x28036efb520>,\n",
       " <shapely.geometry.polygon.Polygon at 0x28036efb580>,\n",
       " <shapely.geometry.polygon.Polygon at 0x28036efb610>,\n",
       " <shapely.geometry.polygon.Polygon at 0x28036efb640>,\n",
       " <shapely.geometry.polygon.Polygon at 0x28036efb6a0>,\n",
       " <shapely.geometry.polygon.Polygon at 0x28036efb5e0>,\n",
       " <shapely.geometry.polygon.Polygon at 0x28036efb550>,\n",
       " <shapely.geometry.polygon.Polygon at 0x28036efb670>,\n",
       " <shapely.geometry.polygon.Polygon at 0x28036efb3d0>,\n",
       " <shapely.geometry.polygon.Polygon at 0x28036efb850>,\n",
       " <shapely.geometry.polygon.Polygon at 0x28036efb760>]"
      ]
     },
     "execution_count": 3,
     "metadata": {},
     "output_type": "execute_result"
    }
   ],
   "source": [
    "from shapely.ops import triangulate\n",
    "\n",
    "triangles = triangulate(multipoints)\n",
    "triangles"
   ]
  },
  {
   "cell_type": "markdown",
   "metadata": {},
   "source": [
    "## Creating GeoDataFrames\n",
    "\n",
    "A GeoDataFrame is created from the Polygons and MultiPoints for plotting. "
   ]
  },
  {
   "cell_type": "code",
   "execution_count": 4,
   "metadata": {
    "ExecuteTime": {
     "end_time": "2021-01-13T19:07:49.374250Z",
     "start_time": "2021-01-13T19:07:49.345225Z"
    }
   },
   "outputs": [
    {
     "data": {
      "text/html": [
       "<div>\n",
       "<style scoped>\n",
       "    .dataframe tbody tr th:only-of-type {\n",
       "        vertical-align: middle;\n",
       "    }\n",
       "\n",
       "    .dataframe tbody tr th {\n",
       "        vertical-align: top;\n",
       "    }\n",
       "\n",
       "    .dataframe thead th {\n",
       "        text-align: right;\n",
       "    }\n",
       "</style>\n",
       "<table border=\"1\" class=\"dataframe\">\n",
       "  <thead>\n",
       "    <tr style=\"text-align: right;\">\n",
       "      <th></th>\n",
       "      <th>geometry</th>\n",
       "    </tr>\n",
       "  </thead>\n",
       "  <tbody>\n",
       "    <tr>\n",
       "      <th>0</th>\n",
       "      <td>POLYGON ((1.00000 4.00000, 2.00000 3.00000, 4....</td>\n",
       "    </tr>\n",
       "    <tr>\n",
       "      <th>1</th>\n",
       "      <td>POLYGON ((1.00000 4.00000, 4.00000 4.00000, 6....</td>\n",
       "    </tr>\n",
       "    <tr>\n",
       "      <th>2</th>\n",
       "      <td>POLYGON ((1.00000 4.00000, 6.00000 8.00000, 6....</td>\n",
       "    </tr>\n",
       "    <tr>\n",
       "      <th>3</th>\n",
       "      <td>POLYGON ((6.00000 9.00000, 6.00000 8.00000, 8....</td>\n",
       "    </tr>\n",
       "    <tr>\n",
       "      <th>4</th>\n",
       "      <td>POLYGON ((8.00000 7.00000, 6.00000 8.00000, 8....</td>\n",
       "    </tr>\n",
       "    <tr>\n",
       "      <th>5</th>\n",
       "      <td>POLYGON ((8.00000 7.00000, 8.00000 6.00000, 9....</td>\n",
       "    </tr>\n",
       "    <tr>\n",
       "      <th>6</th>\n",
       "      <td>POLYGON ((9.00000 1.00000, 8.00000 6.00000, 8....</td>\n",
       "    </tr>\n",
       "    <tr>\n",
       "      <th>7</th>\n",
       "      <td>POLYGON ((9.00000 1.00000, 8.00000 4.00000, 6....</td>\n",
       "    </tr>\n",
       "    <tr>\n",
       "      <th>8</th>\n",
       "      <td>POLYGON ((9.00000 1.00000, 6.00000 3.00000, 4....</td>\n",
       "    </tr>\n",
       "    <tr>\n",
       "      <th>9</th>\n",
       "      <td>POLYGON ((4.00000 2.00000, 6.00000 3.00000, 4....</td>\n",
       "    </tr>\n",
       "    <tr>\n",
       "      <th>10</th>\n",
       "      <td>POLYGON ((4.00000 2.00000, 4.00000 4.00000, 2....</td>\n",
       "    </tr>\n",
       "    <tr>\n",
       "      <th>11</th>\n",
       "      <td>POLYGON ((4.00000 4.00000, 6.00000 3.00000, 8....</td>\n",
       "    </tr>\n",
       "    <tr>\n",
       "      <th>12</th>\n",
       "      <td>POLYGON ((4.00000 4.00000, 8.00000 6.00000, 6....</td>\n",
       "    </tr>\n",
       "    <tr>\n",
       "      <th>13</th>\n",
       "      <td>POLYGON ((8.00000 6.00000, 6.00000 3.00000, 8....</td>\n",
       "    </tr>\n",
       "  </tbody>\n",
       "</table>\n",
       "</div>"
      ],
      "text/plain": [
       "                                             geometry\n",
       "0   POLYGON ((1.00000 4.00000, 2.00000 3.00000, 4....\n",
       "1   POLYGON ((1.00000 4.00000, 4.00000 4.00000, 6....\n",
       "2   POLYGON ((1.00000 4.00000, 6.00000 8.00000, 6....\n",
       "3   POLYGON ((6.00000 9.00000, 6.00000 8.00000, 8....\n",
       "4   POLYGON ((8.00000 7.00000, 6.00000 8.00000, 8....\n",
       "5   POLYGON ((8.00000 7.00000, 8.00000 6.00000, 9....\n",
       "6   POLYGON ((9.00000 1.00000, 8.00000 6.00000, 8....\n",
       "7   POLYGON ((9.00000 1.00000, 8.00000 4.00000, 6....\n",
       "8   POLYGON ((9.00000 1.00000, 6.00000 3.00000, 4....\n",
       "9   POLYGON ((4.00000 2.00000, 6.00000 3.00000, 4....\n",
       "10  POLYGON ((4.00000 2.00000, 4.00000 4.00000, 2....\n",
       "11  POLYGON ((4.00000 4.00000, 6.00000 3.00000, 8....\n",
       "12  POLYGON ((4.00000 4.00000, 8.00000 6.00000, 6....\n",
       "13  POLYGON ((8.00000 6.00000, 6.00000 3.00000, 8...."
      ]
     },
     "execution_count": 4,
     "metadata": {},
     "output_type": "execute_result"
    }
   ],
   "source": [
    "import geopandas as gpd\n",
    "\n",
    "gdf = gpd.GeoDataFrame(geometry=triangles)\n",
    "gdf"
   ]
  },
  {
   "cell_type": "code",
   "execution_count": 5,
   "metadata": {
    "ExecuteTime": {
     "end_time": "2021-01-13T19:07:49.390236Z",
     "start_time": "2021-01-13T19:07:49.377233Z"
    }
   },
   "outputs": [
    {
     "data": {
      "text/html": [
       "<div>\n",
       "<style scoped>\n",
       "    .dataframe tbody tr th:only-of-type {\n",
       "        vertical-align: middle;\n",
       "    }\n",
       "\n",
       "    .dataframe tbody tr th {\n",
       "        vertical-align: top;\n",
       "    }\n",
       "\n",
       "    .dataframe thead th {\n",
       "        text-align: right;\n",
       "    }\n",
       "</style>\n",
       "<table border=\"1\" class=\"dataframe\">\n",
       "  <thead>\n",
       "    <tr style=\"text-align: right;\">\n",
       "      <th></th>\n",
       "      <th>geometry</th>\n",
       "    </tr>\n",
       "  </thead>\n",
       "  <tbody>\n",
       "    <tr>\n",
       "      <th>0</th>\n",
       "      <td>MULTIPOINT (2.00000 3.00000, 8.00000 7.00000, ...</td>\n",
       "    </tr>\n",
       "  </tbody>\n",
       "</table>\n",
       "</div>"
      ],
      "text/plain": [
       "                                            geometry\n",
       "0  MULTIPOINT (2.00000 3.00000, 8.00000 7.00000, ..."
      ]
     },
     "execution_count": 5,
     "metadata": {},
     "output_type": "execute_result"
    }
   ],
   "source": [
    "gdf_points = gpd.GeoDataFrame(geometry=[multipoints])\n",
    "gdf_points"
   ]
  },
  {
   "cell_type": "markdown",
   "metadata": {},
   "source": [
    "## Plotting the Results\n",
    "\n",
    "The result of the triangulation can be plotted. "
   ]
  },
  {
   "cell_type": "code",
   "execution_count": 6,
   "metadata": {
    "ExecuteTime": {
     "end_time": "2021-01-13T19:07:49.678298Z",
     "start_time": "2021-01-13T19:07:49.393236Z"
    }
   },
   "outputs": [
    {
     "data": {
      "image/png": "[encoded data removed]",
      "text/plain": [
       "<Figure size 748.8x514.8 with 1 Axes>"
      ]
     },
     "metadata": {},
     "output_type": "display_data"
    }
   ],
   "source": [
    "import matplotlib.pyplot as plt\n",
    "fig, ax = plt.subplots(1,1)\n",
    "\n",
    "gdf.plot(ax=ax, aspect='equal')\n",
    "gdf_points.plot(ax=ax, aspect='equal', color='orange')\n",
    "plt.grid()"
   ]
  },
  {
   "cell_type": "code",
   "execution_count": null,
   "metadata": {},
   "outputs": [],
   "source": []
  }
 ],
 "metadata": {
  "hide_input": false,
  "kernelspec": {
   "display_name": "Python 3",
   "language": "python",
   "name": "python3"
  },
  "language_info": {
   "codemirror_mode": {
    "name": "ipython",
    "version": 3
   },
   "file_extension": ".py",
   "mimetype": "text/x-python",
   "name": "python",
   "nbconvert_exporter": "python",
   "pygments_lexer": "ipython3",
   "version": "3.7.6"
  },
  "varInspector": {
   "cols": {
    "lenName": 16,
    "lenType": 16,
    "lenVar": 40
   },
   "kernels_config": {
    "python": {
     "delete_cmd_postfix": "",
     "delete_cmd_prefix": "del ",
     "library": "var_list.py",
     "varRefreshCmd": "print(var_dic_list())"
    },
    "r": {
     "delete_cmd_postfix": ") ",
     "delete_cmd_prefix": "rm(",
     "library": "var_list.r",
     "varRefreshCmd": "cat(var_dic_list()) "
    }
   },
   "types_to_exclude": [
    "module",
    "function",
    "builtin_function_or_method",
    "instance",
    "_Feature"
   ],
   "window_display": false
  }
 },
 "nbformat": 4,
 "nbformat_minor": 4
}
