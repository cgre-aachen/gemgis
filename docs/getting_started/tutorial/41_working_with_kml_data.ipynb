{
 "cells": [
  {
   "cell_type": "markdown",
   "metadata": {},
   "source": [
    "# 41 Working with KML data\n",
    "\n",
    "KML is a file format used to display geographic data in an Earth browser such as Google Earth. KML uses a tag-based structure with nested elements and attributes and is based on the XML standard.\n",
    "\n",
    "<img src=\"../images/tutorial41_cover.png\">\n",
    "\n",
    "Source: https://developers.google.com/kml/documentation/kml_tut"
   ]
  },
  {
   "cell_type": "markdown",
   "metadata": {},
   "source": [
    "## Set File Paths and download Tutorial Data\n",
    "\n",
    "If you downloaded the latest `GemGIS` version from the Github repository, append the path so that the package can be imported successfully. Otherwise, it is recommended to install `GemGIS` via `pip install gemgis` and import `GemGIS` using `import gemgis as gg`. In addition, the file path to the folder where the data is being stored is set. The tutorial data is downloaded using Pooch (https://www.fatiando.org/pooch/latest/index.html) and stored in the specified folder. Use `pip install pooch` if Pooch is not installed on your system yet."
   ]
  },
  {
   "cell_type": "code",
   "execution_count": 1,
   "metadata": {
    "ExecuteTime": {
     "end_time": "2021-03-17T12:04:26.053036Z",
     "start_time": "2021-03-17T12:04:22.652538Z"
    }
   },
   "outputs": [
    {
     "name": "stderr",
     "output_type": "stream",
     "text": [
      "WARNING (theano.configdefaults): g++ not available, if using conda: `conda install m2w64-toolchain`\n",
      "C:\\Users\\ale93371\\Anaconda3\\envs\\test_gempy\\lib\\site-packages\\theano\\configdefaults.py:560: UserWarning: DeprecationWarning: there is no c++ compiler.This is deprecated and with Theano 0.11 a c++ compiler will be mandatory\n",
      "  warnings.warn(\"DeprecationWarning: there is no c++ compiler.\"\n",
      "WARNING (theano.configdefaults): g++ not detected ! Theano will be unable to execute optimized C-implementations (for both CPU and GPU) and will default to Python implementations. Performance will be severely degraded. To remove this warning, set Theano flags cxx to an empty string.\n",
      "WARNING (theano.tensor.blas): Using NumPy C-API based implementation for BLAS functions.\n"
     ]
    }
   ],
   "source": [
    "import gemgis as gg\n",
    "\n",
    "file_path ='data/41_working_with_kml_data/'"
   ]
  },
  {
   "cell_type": "code",
   "execution_count": 2,
   "metadata": {
    "ExecuteTime": {
     "end_time": "2021-03-17T12:04:26.431180Z",
     "start_time": "2021-03-17T12:04:26.085042Z"
    }
   },
   "outputs": [
    {
     "name": "stderr",
     "output_type": "stream",
     "text": [
      "Downloading file '41_working_with_kml_data.zip' from 'https://rwth-aachen.sciebo.de/s/AfXRsZywYDbUF34/download?path=%2F41_working_with_kml_data.zip' to 'C:\\Users\\ale93371\\Documents\\gemgis\\docs\\getting_started\\tutorial\\data\\41_working_with_kml_data'.\n"
     ]
    }
   ],
   "source": [
    "gg.download_gemgis_data.download_tutorial_data(filename=\"41_working_with_kml_data.zip\", dirpath=file_path)"
   ]
  },
  {
   "cell_type": "markdown",
   "metadata": {},
   "source": [
    "## Loading the data\n",
    "\n",
    "The data used for demonstration purposes here was downloaded from https://developers.google.com/kml/documentation/KML_Samples.kml. The different layers the KML consists of can be listed using fionas ``listlayers(...)`` function. When using GeoPandas, the KML driver has to be activated using ``gpd.io.file.fiona.drvsupport.supported_drivers['KML'] = 'rw'``. When loading a layer with GeoPandas, the driver needs to be provided as well as the layer name. If no layer is provided, only the first element will be loaded."
   ]
  },
  {
   "cell_type": "code",
   "execution_count": 8,
   "metadata": {
    "ExecuteTime": {
     "end_time": "2021-01-06T16:19:40.752192Z",
     "start_time": "2021-01-06T16:19:40.740162Z"
    }
   },
   "outputs": [
    {
     "data": {
      "text/plain": [
       "['Placemarks',\n",
       " 'Highlighted Icon',\n",
       " 'Paths',\n",
       " 'Google Campus',\n",
       " 'Extruded Polygon',\n",
       " 'Absolute and Relative']"
      ]
     },
     "execution_count": 8,
     "metadata": {},
     "output_type": "execute_result"
    }
   ],
   "source": [
    "import geopandas as gpd\n",
    "import fiona\n",
    "\n",
    "gpd.io.file.fiona.drvsupport.supported_drivers['KML'] = 'rw'\n",
    "\n",
    "layer_list = fiona.listlayers(file_path + 'KML_Samples.kml')\n",
    "layer_list"
   ]
  },
  {
   "cell_type": "markdown",
   "metadata": {},
   "source": [
    "### Loading Placemarks"
   ]
  },
  {
   "cell_type": "code",
   "execution_count": 16,
   "metadata": {
    "ExecuteTime": {
     "end_time": "2021-01-06T16:23:21.024875Z",
     "start_time": "2021-01-06T16:23:20.982697Z"
    }
   },
   "outputs": [
    {
     "data": {
      "text/html": [
       "<div>\n",
       "<style scoped>\n",
       "    .dataframe tbody tr th:only-of-type {\n",
       "        vertical-align: middle;\n",
       "    }\n",
       "\n",
       "    .dataframe tbody tr th {\n",
       "        vertical-align: top;\n",
       "    }\n",
       "\n",
       "    .dataframe thead th {\n",
       "        text-align: right;\n",
       "    }\n",
       "</style>\n",
       "<table border=\"1\" class=\"dataframe\">\n",
       "  <thead>\n",
       "    <tr style=\"text-align: right;\">\n",
       "      <th></th>\n",
       "      <th>Name</th>\n",
       "      <th>Description</th>\n",
       "      <th>geometry</th>\n",
       "    </tr>\n",
       "  </thead>\n",
       "  <tbody>\n",
       "    <tr>\n",
       "      <th>0</th>\n",
       "      <td>Simple placemark</td>\n",
       "      <td>Attached to the ground. Intelligently places i...</td>\n",
       "      <td>POINT Z (-122.08220 37.42229 0.00000)</td>\n",
       "    </tr>\n",
       "    <tr>\n",
       "      <th>1</th>\n",
       "      <td>Floating placemark</td>\n",
       "      <td>Floats a defined distance above the ground.</td>\n",
       "      <td>POINT Z (-122.08407 37.42200 50.00000)</td>\n",
       "    </tr>\n",
       "    <tr>\n",
       "      <th>2</th>\n",
       "      <td>Extruded placemark</td>\n",
       "      <td>Tethered to the ground by a customizable \"tail\"</td>\n",
       "      <td>POINT Z (-122.08577 37.42157 50.00000)</td>\n",
       "    </tr>\n",
       "  </tbody>\n",
       "</table>\n",
       "</div>"
      ],
      "text/plain": [
       "                 Name                                        Description  \\\n",
       "0    Simple placemark  Attached to the ground. Intelligently places i...   \n",
       "1  Floating placemark        Floats a defined distance above the ground.   \n",
       "2  Extruded placemark    Tethered to the ground by a customizable \"tail\"   \n",
       "\n",
       "                                 geometry  \n",
       "0   POINT Z (-122.08220 37.42229 0.00000)  \n",
       "1  POINT Z (-122.08407 37.42200 50.00000)  \n",
       "2  POINT Z (-122.08577 37.42157 50.00000)  "
      ]
     },
     "execution_count": 16,
     "metadata": {},
     "output_type": "execute_result"
    }
   ],
   "source": [
    "gdf_placemarks = gpd.read_file(filename=file_path+'KML_Samples.kml', driver='KML' , layer='Placemarks')\n",
    "gdf_placemarks"
   ]
  },
  {
   "cell_type": "markdown",
   "metadata": {},
   "source": [
    "### Loading Icon"
   ]
  },
  {
   "cell_type": "code",
   "execution_count": 10,
   "metadata": {
    "ExecuteTime": {
     "end_time": "2021-01-06T16:20:10.038991Z",
     "start_time": "2021-01-06T16:20:09.997417Z"
    }
   },
   "outputs": [
    {
     "data": {
      "text/html": [
       "<div>\n",
       "<style scoped>\n",
       "    .dataframe tbody tr th:only-of-type {\n",
       "        vertical-align: middle;\n",
       "    }\n",
       "\n",
       "    .dataframe tbody tr th {\n",
       "        vertical-align: top;\n",
       "    }\n",
       "\n",
       "    .dataframe thead th {\n",
       "        text-align: right;\n",
       "    }\n",
       "</style>\n",
       "<table border=\"1\" class=\"dataframe\">\n",
       "  <thead>\n",
       "    <tr style=\"text-align: right;\">\n",
       "      <th></th>\n",
       "      <th>Name</th>\n",
       "      <th>Description</th>\n",
       "      <th>geometry</th>\n",
       "    </tr>\n",
       "  </thead>\n",
       "  <tbody>\n",
       "    <tr>\n",
       "      <th>0</th>\n",
       "      <td>Roll over this icon</td>\n",
       "      <td></td>\n",
       "      <td>POINT Z (-122.08565 37.42243 0.00000)</td>\n",
       "    </tr>\n",
       "  </tbody>\n",
       "</table>\n",
       "</div>"
      ],
      "text/plain": [
       "                  Name Description                               geometry\n",
       "0  Roll over this icon              POINT Z (-122.08565 37.42243 0.00000)"
      ]
     },
     "execution_count": 10,
     "metadata": {},
     "output_type": "execute_result"
    }
   ],
   "source": [
    "gdf_highlight = gpd.read_file(filename=file_path+'KML_Samples.kml', driver='KML' , layer='Highlighted Icon')\n",
    "gdf_highlight"
   ]
  },
  {
   "cell_type": "markdown",
   "metadata": {},
   "source": [
    "### Loading Paths"
   ]
  },
  {
   "cell_type": "code",
   "execution_count": 11,
   "metadata": {
    "ExecuteTime": {
     "end_time": "2021-01-06T16:20:32.262917Z",
     "start_time": "2021-01-06T16:20:32.227754Z"
    }
   },
   "outputs": [
    {
     "data": {
      "text/html": [
       "<div>\n",
       "<style scoped>\n",
       "    .dataframe tbody tr th:only-of-type {\n",
       "        vertical-align: middle;\n",
       "    }\n",
       "\n",
       "    .dataframe tbody tr th {\n",
       "        vertical-align: top;\n",
       "    }\n",
       "\n",
       "    .dataframe thead th {\n",
       "        text-align: right;\n",
       "    }\n",
       "</style>\n",
       "<table border=\"1\" class=\"dataframe\">\n",
       "  <thead>\n",
       "    <tr style=\"text-align: right;\">\n",
       "      <th></th>\n",
       "      <th>Name</th>\n",
       "      <th>Description</th>\n",
       "      <th>geometry</th>\n",
       "    </tr>\n",
       "  </thead>\n",
       "  <tbody>\n",
       "    <tr>\n",
       "      <th>0</th>\n",
       "      <td>Tessellated</td>\n",
       "      <td>If the &lt;tessellate&gt; tag has a value of 1, the ...</td>\n",
       "      <td>LINESTRING Z (-112.08142 36.10678 0.00000, -11...</td>\n",
       "    </tr>\n",
       "    <tr>\n",
       "      <th>1</th>\n",
       "      <td>Untessellated</td>\n",
       "      <td>If the &lt;tessellate&gt; tag has a value of 0, the ...</td>\n",
       "      <td>LINESTRING Z (-112.08062 36.10673 0.00000, -11...</td>\n",
       "    </tr>\n",
       "    <tr>\n",
       "      <th>2</th>\n",
       "      <td>Absolute</td>\n",
       "      <td>Transparent purple line</td>\n",
       "      <td>LINESTRING Z (-112.26565 36.09448 2357.00000, ...</td>\n",
       "    </tr>\n",
       "    <tr>\n",
       "      <th>3</th>\n",
       "      <td>Absolute Extruded</td>\n",
       "      <td>Transparent green wall with yellow outlines</td>\n",
       "      <td>LINESTRING Z (-112.25508 36.07955 2357.00000, ...</td>\n",
       "    </tr>\n",
       "    <tr>\n",
       "      <th>4</th>\n",
       "      <td>Relative</td>\n",
       "      <td>Black line (10 pixels wide), height tracks ter...</td>\n",
       "      <td>LINESTRING Z (-112.25328 36.09887 645.00000, -...</td>\n",
       "    </tr>\n",
       "    <tr>\n",
       "      <th>5</th>\n",
       "      <td>Relative Extruded</td>\n",
       "      <td>Opaque blue walls with red outline, height tra...</td>\n",
       "      <td>LINESTRING Z (-112.26566 36.09445 630.00000, -...</td>\n",
       "    </tr>\n",
       "  </tbody>\n",
       "</table>\n",
       "</div>"
      ],
      "text/plain": [
       "                Name                                        Description  \\\n",
       "0        Tessellated  If the <tessellate> tag has a value of 1, the ...   \n",
       "1      Untessellated  If the <tessellate> tag has a value of 0, the ...   \n",
       "2           Absolute                            Transparent purple line   \n",
       "3  Absolute Extruded        Transparent green wall with yellow outlines   \n",
       "4           Relative  Black line (10 pixels wide), height tracks ter...   \n",
       "5  Relative Extruded  Opaque blue walls with red outline, height tra...   \n",
       "\n",
       "                                            geometry  \n",
       "0  LINESTRING Z (-112.08142 36.10678 0.00000, -11...  \n",
       "1  LINESTRING Z (-112.08062 36.10673 0.00000, -11...  \n",
       "2  LINESTRING Z (-112.26565 36.09448 2357.00000, ...  \n",
       "3  LINESTRING Z (-112.25508 36.07955 2357.00000, ...  \n",
       "4  LINESTRING Z (-112.25328 36.09887 645.00000, -...  \n",
       "5  LINESTRING Z (-112.26566 36.09445 630.00000, -...  "
      ]
     },
     "execution_count": 11,
     "metadata": {},
     "output_type": "execute_result"
    }
   ],
   "source": [
    "gdf_paths = gpd.read_file(filename=file_path+'KML_Samples.kml', driver='KML' , layer='Paths')\n",
    "gdf_paths"
   ]
  },
  {
   "cell_type": "markdown",
   "metadata": {},
   "source": [
    "### Loading Google Campus"
   ]
  },
  {
   "cell_type": "code",
   "execution_count": 12,
   "metadata": {
    "ExecuteTime": {
     "end_time": "2021-01-06T16:21:07.619119Z",
     "start_time": "2021-01-06T16:21:07.566039Z"
    }
   },
   "outputs": [
    {
     "data": {
      "text/html": [
       "<div>\n",
       "<style scoped>\n",
       "    .dataframe tbody tr th:only-of-type {\n",
       "        vertical-align: middle;\n",
       "    }\n",
       "\n",
       "    .dataframe tbody tr th {\n",
       "        vertical-align: top;\n",
       "    }\n",
       "\n",
       "    .dataframe thead th {\n",
       "        text-align: right;\n",
       "    }\n",
       "</style>\n",
       "<table border=\"1\" class=\"dataframe\">\n",
       "  <thead>\n",
       "    <tr style=\"text-align: right;\">\n",
       "      <th></th>\n",
       "      <th>Name</th>\n",
       "      <th>Description</th>\n",
       "      <th>geometry</th>\n",
       "    </tr>\n",
       "  </thead>\n",
       "  <tbody>\n",
       "    <tr>\n",
       "      <th>0</th>\n",
       "      <td>Building 40</td>\n",
       "      <td></td>\n",
       "      <td>POLYGON Z ((-122.08489 37.42257 17.00000, -122...</td>\n",
       "    </tr>\n",
       "    <tr>\n",
       "      <th>1</th>\n",
       "      <td>Building 41</td>\n",
       "      <td></td>\n",
       "      <td>POLYGON Z ((-122.08574 37.42227 17.00000, -122...</td>\n",
       "    </tr>\n",
       "    <tr>\n",
       "      <th>2</th>\n",
       "      <td>Building 42</td>\n",
       "      <td></td>\n",
       "      <td>POLYGON Z ((-122.08579 37.42136 25.00000, -122...</td>\n",
       "    </tr>\n",
       "    <tr>\n",
       "      <th>3</th>\n",
       "      <td>Building 43</td>\n",
       "      <td></td>\n",
       "      <td>POLYGON Z ((-122.08444 37.42177 19.00000, -122...</td>\n",
       "    </tr>\n",
       "  </tbody>\n",
       "</table>\n",
       "</div>"
      ],
      "text/plain": [
       "          Name Description                                           geometry\n",
       "0  Building 40              POLYGON Z ((-122.08489 37.42257 17.00000, -122...\n",
       "1  Building 41              POLYGON Z ((-122.08574 37.42227 17.00000, -122...\n",
       "2  Building 42              POLYGON Z ((-122.08579 37.42136 25.00000, -122...\n",
       "3  Building 43              POLYGON Z ((-122.08444 37.42177 19.00000, -122..."
      ]
     },
     "execution_count": 12,
     "metadata": {},
     "output_type": "execute_result"
    }
   ],
   "source": [
    "gdf_campus = gpd.read_file(filename=file_path+'KML_Samples.kml', driver='KML' , layer='Google Campus')\n",
    "gdf_campus"
   ]
  },
  {
   "cell_type": "markdown",
   "metadata": {},
   "source": [
    "### Loading Polygon"
   ]
  },
  {
   "cell_type": "code",
   "execution_count": 13,
   "metadata": {
    "ExecuteTime": {
     "end_time": "2021-01-06T16:22:32.012860Z",
     "start_time": "2021-01-06T16:22:31.949178Z"
    }
   },
   "outputs": [
    {
     "data": {
      "text/html": [
       "<div>\n",
       "<style scoped>\n",
       "    .dataframe tbody tr th:only-of-type {\n",
       "        vertical-align: middle;\n",
       "    }\n",
       "\n",
       "    .dataframe tbody tr th {\n",
       "        vertical-align: top;\n",
       "    }\n",
       "\n",
       "    .dataframe thead th {\n",
       "        text-align: right;\n",
       "    }\n",
       "</style>\n",
       "<table border=\"1\" class=\"dataframe\">\n",
       "  <thead>\n",
       "    <tr style=\"text-align: right;\">\n",
       "      <th></th>\n",
       "      <th>Name</th>\n",
       "      <th>Description</th>\n",
       "      <th>geometry</th>\n",
       "    </tr>\n",
       "  </thead>\n",
       "  <tbody>\n",
       "    <tr>\n",
       "      <th>0</th>\n",
       "      <td>The Pentagon</td>\n",
       "      <td></td>\n",
       "      <td>POLYGON Z ((-77.05788 38.87253 100.00000, -77....</td>\n",
       "    </tr>\n",
       "  </tbody>\n",
       "</table>\n",
       "</div>"
      ],
      "text/plain": [
       "           Name Description                                           geometry\n",
       "0  The Pentagon              POLYGON Z ((-77.05788 38.87253 100.00000, -77...."
      ]
     },
     "execution_count": 13,
     "metadata": {},
     "output_type": "execute_result"
    }
   ],
   "source": [
    "gdf_polygon = gpd.read_file(filename=file_path+'KML_Samples.kml', driver='KML' , layer='Extruded Polygon')\n",
    "gdf_polygon"
   ]
  },
  {
   "cell_type": "markdown",
   "metadata": {},
   "source": [
    "### Loading Absolute and Relative"
   ]
  },
  {
   "cell_type": "code",
   "execution_count": 14,
   "metadata": {
    "ExecuteTime": {
     "end_time": "2021-01-06T16:22:56.470546Z",
     "start_time": "2021-01-06T16:22:56.436976Z"
    }
   },
   "outputs": [
    {
     "data": {
      "text/html": [
       "<div>\n",
       "<style scoped>\n",
       "    .dataframe tbody tr th:only-of-type {\n",
       "        vertical-align: middle;\n",
       "    }\n",
       "\n",
       "    .dataframe tbody tr th {\n",
       "        vertical-align: top;\n",
       "    }\n",
       "\n",
       "    .dataframe thead th {\n",
       "        text-align: right;\n",
       "    }\n",
       "</style>\n",
       "<table border=\"1\" class=\"dataframe\">\n",
       "  <thead>\n",
       "    <tr style=\"text-align: right;\">\n",
       "      <th></th>\n",
       "      <th>Name</th>\n",
       "      <th>Description</th>\n",
       "      <th>geometry</th>\n",
       "    </tr>\n",
       "  </thead>\n",
       "  <tbody>\n",
       "    <tr>\n",
       "      <th>0</th>\n",
       "      <td>Absolute</td>\n",
       "      <td></td>\n",
       "      <td>POLYGON Z ((-112.33725 36.14889 1784.00000, -1...</td>\n",
       "    </tr>\n",
       "    <tr>\n",
       "      <th>1</th>\n",
       "      <td>Absolute Extruded</td>\n",
       "      <td></td>\n",
       "      <td>POLYGON Z ((-112.33966 36.14638 1784.00000, -1...</td>\n",
       "    </tr>\n",
       "    <tr>\n",
       "      <th>2</th>\n",
       "      <td>Relative</td>\n",
       "      <td></td>\n",
       "      <td>POLYGON Z ((-112.33495 36.14989 100.00000, -11...</td>\n",
       "    </tr>\n",
       "    <tr>\n",
       "      <th>3</th>\n",
       "      <td>Relative Extruded</td>\n",
       "      <td></td>\n",
       "      <td>POLYGON Z ((-112.33488 36.15140 100.00000, -11...</td>\n",
       "    </tr>\n",
       "  </tbody>\n",
       "</table>\n",
       "</div>"
      ],
      "text/plain": [
       "                Name Description  \\\n",
       "0           Absolute               \n",
       "1  Absolute Extruded               \n",
       "2           Relative               \n",
       "3  Relative Extruded               \n",
       "\n",
       "                                            geometry  \n",
       "0  POLYGON Z ((-112.33725 36.14889 1784.00000, -1...  \n",
       "1  POLYGON Z ((-112.33966 36.14638 1784.00000, -1...  \n",
       "2  POLYGON Z ((-112.33495 36.14989 100.00000, -11...  \n",
       "3  POLYGON Z ((-112.33488 36.15140 100.00000, -11...  "
      ]
     },
     "execution_count": 14,
     "metadata": {},
     "output_type": "execute_result"
    }
   ],
   "source": [
    "gdf_absolute = gpd.read_file(filename=file_path+'KML_Samples.kml', driver='KML' , layer='Absolute and Relative')\n",
    "gdf_absolute"
   ]
  },
  {
   "cell_type": "markdown",
   "metadata": {},
   "source": [
    "## Plotting the Data\n",
    "\n",
    "The data was just simply plotted to visualize the content of the KML file."
   ]
  },
  {
   "cell_type": "code",
   "execution_count": 35,
   "metadata": {
    "ExecuteTime": {
     "end_time": "2021-01-06T16:28:59.893374Z",
     "start_time": "2021-01-06T16:28:59.758361Z"
    }
   },
   "outputs": [
    {
     "data": {
      "image/png": "[encoded data removed]",
      "text/plain": [
       "<Figure size 748.8x514.8 with 1 Axes>"
      ]
     },
     "metadata": {},
     "output_type": "display_data"
    }
   ],
   "source": [
    "import matplotlib.pyplot as plt\n",
    "\n",
    "gdf_placemarks.plot(aspect='equal')\n",
    "plt.grid()"
   ]
  },
  {
   "cell_type": "code",
   "execution_count": 34,
   "metadata": {
    "ExecuteTime": {
     "end_time": "2021-01-06T16:28:48.463011Z",
     "start_time": "2021-01-06T16:28:48.342288Z"
    }
   },
   "outputs": [
    {
     "data": {
      "image/png": "[encoded data removed]",
      "text/plain": [
       "<Figure size 748.8x514.8 with 1 Axes>"
      ]
     },
     "metadata": {},
     "output_type": "display_data"
    }
   ],
   "source": [
    "gdf_highlight.plot(aspect='equal')\n",
    "plt.grid()"
   ]
  },
  {
   "cell_type": "code",
   "execution_count": 33,
   "metadata": {
    "ExecuteTime": {
     "end_time": "2021-01-06T16:28:02.009817Z",
     "start_time": "2021-01-06T16:28:01.878674Z"
    }
   },
   "outputs": [
    {
     "data": {
      "image/png": "[encoded data removed]",
      "text/plain": [
       "<Figure size 748.8x514.8 with 1 Axes>"
      ]
     },
     "metadata": {},
     "output_type": "display_data"
    }
   ],
   "source": [
    "gdf_paths.plot(aspect='equal')\n",
    "plt.grid()"
   ]
  },
  {
   "cell_type": "code",
   "execution_count": 32,
   "metadata": {
    "ExecuteTime": {
     "end_time": "2021-01-06T16:27:39.987212Z",
     "start_time": "2021-01-06T16:27:39.838186Z"
    }
   },
   "outputs": [
    {
     "data": {
      "image/png": "[encoded data removed]",
      "text/plain": [
       "<Figure size 748.8x514.8 with 1 Axes>"
      ]
     },
     "metadata": {},
     "output_type": "display_data"
    }
   ],
   "source": [
    "gdf_campus.plot(aspect='equal')\n",
    "plt.grid()"
   ]
  },
  {
   "cell_type": "code",
   "execution_count": 30,
   "metadata": {
    "ExecuteTime": {
     "end_time": "2021-01-06T16:27:20.604322Z",
     "start_time": "2021-01-06T16:27:20.478399Z"
    }
   },
   "outputs": [
    {
     "data": {
      "image/png": "[encoded data removed]",
      "text/plain": [
       "<Figure size 748.8x514.8 with 1 Axes>"
      ]
     },
     "metadata": {},
     "output_type": "display_data"
    }
   ],
   "source": [
    "gdf_polygon.plot(aspect='equal')\n",
    "plt.grid()"
   ]
  },
  {
   "cell_type": "code",
   "execution_count": 27,
   "metadata": {
    "ExecuteTime": {
     "end_time": "2021-01-06T16:26:59.125709Z",
     "start_time": "2021-01-06T16:26:58.991338Z"
    }
   },
   "outputs": [
    {
     "data": {
      "image/png": "[encoded data removed]",
      "text/plain": [
       "<Figure size 748.8x514.8 with 1 Axes>"
      ]
     },
     "metadata": {},
     "output_type": "display_data"
    }
   ],
   "source": [
    "gdf_absolute.plot(aspect='equal')\n",
    "plt.grid()"
   ]
  },
  {
   "cell_type": "code",
   "execution_count": null,
   "metadata": {},
   "outputs": [],
   "source": []
  }
 ],
 "metadata": {
  "hide_input": false,
  "kernelspec": {
   "display_name": "Python 3",
   "language": "python",
   "name": "python3"
  },
  "language_info": {
   "codemirror_mode": {
    "name": "ipython",
    "version": 3
   },
   "file_extension": ".py",
   "mimetype": "text/x-python",
   "name": "python",
   "nbconvert_exporter": "python",
   "pygments_lexer": "ipython3",
   "version": "3.7.6"
  },
  "varInspector": {
   "cols": {
    "lenName": 16,
    "lenType": 16,
    "lenVar": 40
   },
   "kernels_config": {
    "python": {
     "delete_cmd_postfix": "",
     "delete_cmd_prefix": "del ",
     "library": "var_list.py",
     "varRefreshCmd": "print(var_dic_list())"
    },
    "r": {
     "delete_cmd_postfix": ") ",
     "delete_cmd_prefix": "rm(",
     "library": "var_list.r",
     "varRefreshCmd": "cat(var_dic_list()) "
    }
   },
   "types_to_exclude": [
    "module",
    "function",
    "builtin_function_or_method",
    "instance",
    "_Feature"
   ],
   "window_display": false
  }
 },
 "nbformat": 4,
 "nbformat_minor": 4
}
